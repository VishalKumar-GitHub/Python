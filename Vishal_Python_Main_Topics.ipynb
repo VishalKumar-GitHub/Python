{
  "cells": [
    {
      "cell_type": "markdown",
      "metadata": {
        "id": "_C1SWhBoIL3j"
      },
      "source": [
        "#Day 1-2: Python Basics\n",
        "\n",
        "✅ Install Python & Set up an IDE (VS Code, PyCharm, Jupyter Notebook, **Google colab**)\n",
        "\n",
        " ✅ Print statements (print())\n",
        "\n",
        " ✅ Variables & Data Types (int, float, str, bool)\n",
        "\n",
        " ✅ Basic Arithmetic Operations (+, -, *, /, %)\n",
        "\n",
        " ✅ Input from users (input())\n",
        "\n",
        " ✅ Comments (# single-line, \"\"\" multi-line \"\"\")"
      ]
    },
    {
      "cell_type": "markdown",
      "metadata": {
        "id": "VN0cb_DOJXfM"
      },
      "source": [
        "###✅ Print Statements:"
      ]
    },
    {
      "cell_type": "code",
      "execution_count": null,
      "metadata": {
        "colab": {
          "base_uri": "https://localhost:8080/"
        },
        "id": "N2pyDnl-IdWU",
        "outputId": "f0c5d9c2-6d12-45b9-b5ae-43e4e7cd3009"
      },
      "outputs": [
        {
          "name": "stdout",
          "output_type": "stream",
          "text": [
            "Ankit Rana\n"
          ]
        }
      ],
      "source": [
        "Text = \"Ankit Rana\"\n",
        "print(Text)"
      ]
    },
    {
      "cell_type": "markdown",
      "metadata": {
        "id": "ojQMv7PWJalP"
      },
      "source": [
        "###✅ Variables & Data Types:"
      ]
    },
    {
      "cell_type": "code",
      "execution_count": null,
      "metadata": {
        "colab": {
          "base_uri": "https://localhost:8080/"
        },
        "id": "hhdCt7h6IuDq",
        "outputId": "3d088dd0-3726-4429-9628-89fc29df21f1"
      },
      "outputs": [
        {
          "name": "stdout",
          "output_type": "stream",
          "text": [
            "Ankit 25 5.9 True\n"
          ]
        }
      ],
      "source": [
        "name = \"Ankit\" #string\n",
        "age = 25 #integer\n",
        "height = 5.9 #Float\n",
        "is_student = True #Boolean\n",
        "\n",
        "print(name, age, height, is_student)"
      ]
    },
    {
      "cell_type": "markdown",
      "metadata": {
        "id": "dUfLE0IgKhs8"
      },
      "source": [
        "###✅ Basic Arithmetic Operations:"
      ]
    },
    {
      "cell_type": "code",
      "execution_count": null,
      "metadata": {
        "colab": {
          "base_uri": "https://localhost:8080/"
        },
        "id": "3ZSRaUPtKKrT",
        "outputId": "28f56671-a835-488d-f1be-df5c9382b04d"
      },
      "outputs": [
        {
          "name": "stdout",
          "output_type": "stream",
          "text": [
            "12\n",
            "8\n",
            "20\n",
            "5.0\n",
            "0\n"
          ]
        }
      ],
      "source": [
        "a = 10\n",
        "b = 2\n",
        "\n",
        "print(a+b) #Addition\n",
        "print(a-b) #Subtraction\n",
        "print(a*b) #Multiplication\n",
        "print(a/b) #Division\n",
        "print(a%b) #Remainder(MOdulus)"
      ]
    },
    {
      "cell_type": "markdown",
      "metadata": {
        "id": "GZkBZCWRLqyc"
      },
      "source": [
        "###✅ User Input:"
      ]
    },
    {
      "cell_type": "code",
      "execution_count": null,
      "metadata": {
        "colab": {
          "base_uri": "https://localhost:8080/"
        },
        "id": "SQO2XSScMlmZ",
        "outputId": "fd317afd-95f5-454c-9345-66154e870da8"
      },
      "outputs": [
        {
          "name": "stdout",
          "output_type": "stream",
          "text": [
            "What is your name? Rohit\n",
            "How old are you? 22\n",
            "Hello, Rohit!You are 22 years old.\n"
          ]
        }
      ],
      "source": [
        "name = input(\"What is your name? \")\n",
        "age = input(\"How old are you? \")\n",
        "\n",
        "print(\"Hello, \" + name + \"!You are \" + age + \" years old.\")"
      ]
    },
    {
      "cell_type": "markdown",
      "metadata": {
        "id": "z9mOPvS0OFZ1"
      },
      "source": [
        "###✅ Comments in Python:"
      ]
    },
    {
      "cell_type": "code",
      "execution_count": null,
      "metadata": {
        "colab": {
          "base_uri": "https://localhost:8080/",
          "height": 36
        },
        "id": "OCeKkQRHNcDp",
        "outputId": "0d193eb8-a8dd-4633-8fe3-32855adabf21"
      },
      "outputs": [
        {
          "data": {
            "application/vnd.google.colaboratory.intrinsic+json": {
              "type": "string"
            },
            "text/plain": [
              "'This is a multiple-line comment'"
            ]
          },
          "execution_count": 21,
          "metadata": {},
          "output_type": "execute_result"
        }
      ],
      "source": [
        "#This is a single-line comment\n",
        "\n",
        "\"\"\"This is a multiple-line comment\"\"\""
      ]
    },
    {
      "cell_type": "markdown",
      "metadata": {
        "id": "TGg-OJ73O_D4"
      },
      "source": [
        "#Day 3-4: Conditional Statements & Loops\n",
        "\n",
        "✅ If-Else conditions (if, elif, else)\n",
        "\n",
        " ✅ Logical Operators (and, or, not)\n",
        "\n",
        " ✅ Loops (for, while)\n",
        "\n",
        " ✅ Loop control statements (break, continue, pass)\n",
        "\n",
        "🔹 Practice: Write a program that prints numbers from 1 to 20 but skips multiples of 3."
      ]
    },
    {
      "cell_type": "markdown",
      "metadata": {
        "id": "WxsnN2ErNmvD"
      },
      "source": [
        "###1️⃣ If-Else Conditions"
      ]
    },
    {
      "cell_type": "code",
      "execution_count": null,
      "metadata": {
        "colab": {
          "base_uri": "https://localhost:8080/"
        },
        "id": "Ac00x2m8OeiF",
        "outputId": "c6c0bdb3-16e2-418d-b9cb-4c4bf15cbfda"
      },
      "outputs": [
        {
          "name": "stdout",
          "output_type": "stream",
          "text": [
            "You are a minor\n"
          ]
        }
      ],
      "source": [
        "age = 18\n",
        "\n",
        "if age <= 11:\n",
        "  print(\"You are an adult\")\n",
        "else:\n",
        "  print(\"You are a minor\")"
      ]
    },
    {
      "cell_type": "markdown",
      "metadata": {
        "id": "aq36JYeAOzjk"
      },
      "source": [
        "###2️⃣ Logical Operators (and, or, not)\n",
        "\n",
        "You can use these to combine conditions:\n",
        "\n",
        "**and** – Returns True if both conditions are True.\n",
        "\n",
        "**or** – Returns True if at least one condition is True.\n",
        "\n",
        "**not** – Reverses the boolean value (True becomes False, and vice versa)."
      ]
    },
    {
      "cell_type": "code",
      "execution_count": null,
      "metadata": {
        "colab": {
          "base_uri": "https://localhost:8080/"
        },
        "id": "eQltJj_5OOpT",
        "outputId": "13350d51-0ce4-4fca-a0e4-34cd7058a1d5"
      },
      "outputs": [
        {
          "name": "stdout",
          "output_type": "stream",
          "text": [
            "Both condition are True\n"
          ]
        }
      ],
      "source": [
        "x = 10\n",
        "y = 5\n",
        "\n",
        "if x>5 and y<10:\n",
        "  print(\"Both condition are True\")"
      ]
    },
    {
      "cell_type": "code",
      "execution_count": null,
      "metadata": {
        "colab": {
          "base_uri": "https://localhost:8080/"
        },
        "id": "x9C_WKNeQQwI",
        "outputId": "e7aa953f-da86-4050-ebba-0bfb6a9c2ca5"
      },
      "outputs": [
        {
          "name": "stdout",
          "output_type": "stream",
          "text": [
            "Both condition are True\n"
          ]
        }
      ],
      "source": [
        "x = 10\n",
        "y = 5\n",
        "\n",
        "if x>5 or y<4:\n",
        "  print(\"Both condition are True\")"
      ]
    },
    {
      "cell_type": "code",
      "execution_count": null,
      "metadata": {
        "colab": {
          "base_uri": "https://localhost:8080/"
        },
        "id": "sPN9QgODj6o4",
        "outputId": "ade79607-f5f1-4e15-a9ac-1c8790235f8f"
      },
      "outputs": [
        {
          "name": "stdout",
          "output_type": "stream",
          "text": [
            "Take an umbrella\n"
          ]
        }
      ],
      "source": [
        "is_raining = True\n",
        "\n",
        "if not is_raining:  # When is_raining is False\n",
        "    print(\"You can go outside\")\n",
        "else:\n",
        "    print(\"Take an umbrella\")\n"
      ]
    },
    {
      "cell_type": "markdown",
      "metadata": {
        "id": "26oIIla_Rcno"
      },
      "source": [
        "###3️⃣ Loops:\n",
        "\n",
        "Loops allow you to repeat code multiple times.\n",
        "\n",
        "For Loop:\n",
        "\n",
        "It is used to go through a list, range, or similar things one by one."
      ]
    },
    {
      "cell_type": "code",
      "execution_count": null,
      "metadata": {
        "colab": {
          "base_uri": "https://localhost:8080/"
        },
        "id": "vSFnLaBGRSbm",
        "outputId": "d7bf45ec-458e-4311-9959-15e616f49c65"
      },
      "outputs": [
        {
          "name": "stdout",
          "output_type": "stream",
          "text": [
            "1\n",
            "2\n",
            "3\n",
            "4\n",
            "5\n",
            "6\n",
            "7\n"
          ]
        }
      ],
      "source": [
        "for i in range(1,8):\n",
        "  print(i)"
      ]
    },
    {
      "cell_type": "markdown",
      "metadata": {
        "id": "hSEkUd2ATMNO"
      },
      "source": [
        "While Loop:\n",
        "\n",
        "Used when you want to repeat as long as a condition is True."
      ]
    },
    {
      "cell_type": "code",
      "execution_count": null,
      "metadata": {
        "colab": {
          "base_uri": "https://localhost:8080/"
        },
        "id": "MaLOAfc5TuQp",
        "outputId": "abafee7d-186d-4022-a9e3-2c706e54bcb9"
      },
      "outputs": [
        {
          "name": "stdout",
          "output_type": "stream",
          "text": [
            "1\n",
            "2\n",
            "3\n",
            "4\n",
            "5\n"
          ]
        }
      ],
      "source": [
        "i = 1  # Start from 1\n",
        "\n",
        "while i <= 5:  # Loop runs while i is less than or equal to 5\n",
        "    print(i)\n",
        "    i += 1  # Increase i by 1 in each iteration\n"
      ]
    },
    {
      "cell_type": "markdown",
      "metadata": {
        "id": "YGMTLSIMVOOL"
      },
      "source": [
        "###4️⃣ Loop Control Statements:\n",
        "\n",
        "**break** – Exits the loop entirely.\n",
        "\n",
        "**continue** – Skips the current iteration and moves to the next.\n",
        "\n",
        "**pass** – Does nothing and is used as a placeholder."
      ]
    },
    {
      "cell_type": "code",
      "execution_count": null,
      "metadata": {
        "colab": {
          "base_uri": "https://localhost:8080/"
        },
        "id": "DpK3z6OGUHsU",
        "outputId": "7ac0c90b-fe6f-4b46-dcb3-e2a9a44bbbc6"
      },
      "outputs": [
        {
          "name": "stdout",
          "output_type": "stream",
          "text": [
            "1\n",
            "2\n"
          ]
        }
      ],
      "source": [
        "for i in range(1, 6):\n",
        "  if i == 3:\n",
        "    break\n",
        "\n",
        "  print(i)"
      ]
    },
    {
      "cell_type": "code",
      "execution_count": null,
      "metadata": {
        "colab": {
          "base_uri": "https://localhost:8080/"
        },
        "id": "3wnBiekGWgX-",
        "outputId": "6e10cfad-85c1-4537-d3d7-1425da9fdaa3"
      },
      "outputs": [
        {
          "name": "stdout",
          "output_type": "stream",
          "text": [
            "1\n",
            "2\n",
            "4\n",
            "5\n"
          ]
        }
      ],
      "source": [
        "for i in range(1, 6):\n",
        "  if i ==3:\n",
        "    continue\n",
        "\n",
        "  print(i)"
      ]
    },
    {
      "cell_type": "code",
      "execution_count": null,
      "metadata": {
        "colab": {
          "base_uri": "https://localhost:8080/"
        },
        "id": "qGRZNCxfXCxb",
        "outputId": "14cf1620-cf4b-46ef-b283-5c5f0976d962"
      },
      "outputs": [
        {
          "name": "stdout",
          "output_type": "stream",
          "text": [
            "1\n",
            "2\n",
            "3\n",
            "4\n",
            "5\n"
          ]
        }
      ],
      "source": [
        "for i in range(1, 6):\n",
        "  if i ==3:\n",
        "    pass\n",
        "\n",
        "  print(i)"
      ]
    },
    {
      "cell_type": "markdown",
      "metadata": {
        "id": "CkWtZgk7XXK6"
      },
      "source": [
        "🔹 Practice Task:\n",
        "\n",
        "Write a Python program that prints numbers from 1 to 20, but skips multiples of 3."
      ]
    },
    {
      "cell_type": "code",
      "execution_count": null,
      "metadata": {
        "colab": {
          "base_uri": "https://localhost:8080/"
        },
        "id": "LpjxRVQMXE05",
        "outputId": "43b167d0-4a7f-417d-8943-b1d5e630bb9b"
      },
      "outputs": [
        {
          "name": "stdout",
          "output_type": "stream",
          "text": [
            "1\n",
            "2\n",
            "4\n",
            "5\n",
            "7\n",
            "8\n",
            "10\n",
            "11\n",
            "13\n",
            "14\n",
            "16\n",
            "17\n",
            "19\n",
            "20\n"
          ]
        }
      ],
      "source": [
        "for i in range(1, 21):\n",
        "  if i % 3 == 0:\n",
        "     continue\n",
        "  print(i)"
      ]
    },
    {
      "cell_type": "markdown",
      "metadata": {
        "id": "bmIPsuWihvEB"
      },
      "source": [
        "#T..Tuples..........( ).......immutable\n",
        "#L...List...........[ ]\n",
        "#S....Sets..........{ }\n",
        "#D...Dictionaries...{ }"
      ]
    },
    {
      "cell_type": "code",
      "execution_count": null,
      "metadata": {
        "id": "4hZdXHaEjHp6"
      },
      "outputs": [],
      "source": [
        "#() → Parentheses (or round brackets)\n",
        "#{} → Braces (or curly brackets)\n",
        "#[] → Brackets (or square brackets)"
      ]
    },
    {
      "cell_type": "markdown",
      "metadata": {
        "id": "HOGp0g-GZOTj"
      },
      "source": [
        "#Day 5-6: Data Structures - Lists & Tuples\n",
        "\n",
        "✅ Lists ([ ], append(), remove(), pop())\n",
        "\n",
        "✅ List slicing & iteration\n",
        "\n",
        "✅ Tuples (( )) - Immutable lists\n",
        "\n",
        "✅ List comprehension\n",
        "\n",
        "🔹 Practice: Write a program that takes 5 numbers from the user and prints the sum."
      ]
    },
    {
      "cell_type": "markdown",
      "metadata": {
        "id": "5lILcR3TWb-y"
      },
      "source": [
        "###1️⃣ Lists in Python ([ ])\n",
        "\n",
        "A list is a collection of items that are ordered, changeable (mutable), and allow duplicates.\n",
        "\n",
        "✅ Creating a List"
      ]
    },
    {
      "cell_type": "code",
      "execution_count": null,
      "metadata": {
        "colab": {
          "base_uri": "https://localhost:8080/"
        },
        "id": "pQV4LskkfOcD",
        "outputId": "dac91b1d-f17b-4384-90d2-7ab01ae83df8"
      },
      "outputs": [
        {
          "name": "stdout",
          "output_type": "stream",
          "text": [
            "['apple', 'banana', 'cherry']\n"
          ]
        }
      ],
      "source": [
        "fruits = [\"apple\", \"banana\", \"cherry\"]\n",
        "print(fruits)"
      ]
    },
    {
      "cell_type": "markdown",
      "metadata": {
        "id": "vDiSf0qBfkEJ"
      },
      "source": [
        "#####✅ pop() – Remove and Get the Last Item"
      ]
    },
    {
      "cell_type": "code",
      "execution_count": null,
      "metadata": {
        "colab": {
          "base_uri": "https://localhost:8080/"
        },
        "id": "3IjZL5k2fo1A",
        "outputId": "97520b9c-2566-4bf4-8d9d-cc5a3e4a77ee"
      },
      "outputs": [
        {
          "name": "stdout",
          "output_type": "stream",
          "text": [
            "['apple', 'banana']\n",
            "Removed: cherry\n"
          ]
        }
      ],
      "source": [
        "last_fruit = fruits.pop()\n",
        "print(fruits)\n",
        "print(\"Removed:\", last_fruit)"
      ]
    },
    {
      "cell_type": "code",
      "execution_count": null,
      "metadata": {
        "colab": {
          "base_uri": "https://localhost:8080/"
        },
        "id": "rtaycN1AZR66",
        "outputId": "01c02683-674b-4327-c4e3-ba8ab5a3030c"
      },
      "outputs": [
        {
          "name": "stdout",
          "output_type": "stream",
          "text": [
            "[1, 2, 3, 4, 5]\n"
          ]
        }
      ],
      "source": [
        "numbers = [1, 2, 3, 4, 5]\n",
        "print(numbers)"
      ]
    },
    {
      "cell_type": "markdown",
      "metadata": {
        "id": "uiq6nGJSW5bq"
      },
      "source": [
        "#####✅ Adding & Removing Elements"
      ]
    },
    {
      "cell_type": "code",
      "execution_count": null,
      "metadata": {
        "colab": {
          "base_uri": "https://localhost:8080/"
        },
        "id": "WtL6kupGW17a",
        "outputId": "5feb905f-bcd7-4231-9671-d9a15af5a384"
      },
      "outputs": [
        {
          "name": "stdout",
          "output_type": "stream",
          "text": [
            "[1, 2, 4, 5, 6]\n"
          ]
        }
      ],
      "source": [
        "numbers.append(6)\n",
        "numbers.remove(3)\n",
        "print(numbers)"
      ]
    },
    {
      "cell_type": "markdown",
      "metadata": {
        "id": "aZJuohE4g0yO"
      },
      "source": [
        "####✅ pop() – Remove and Get the Last Item"
      ]
    },
    {
      "cell_type": "code",
      "execution_count": null,
      "metadata": {
        "colab": {
          "base_uri": "https://localhost:8080/"
        },
        "id": "w3u8WOF0gnxi",
        "outputId": "b554259d-fcb3-45e9-ce38-aa0380280094"
      },
      "outputs": [
        {
          "name": "stdout",
          "output_type": "stream",
          "text": [
            "[1, 2, 4, 5]\n",
            "Removed: 6\n"
          ]
        }
      ],
      "source": [
        "last_number = numbers.pop()\n",
        "\n",
        "print(numbers)  # Output: [1, 3]\n",
        "print(\"Removed:\", last_number)  # Output: Removed: 4"
      ]
    },
    {
      "cell_type": "markdown",
      "metadata": {
        "id": "Z7ebmlVyX7XR"
      },
      "source": [
        "#####✅ List Slicing"
      ]
    },
    {
      "cell_type": "code",
      "execution_count": null,
      "metadata": {
        "colab": {
          "base_uri": "https://localhost:8080/"
        },
        "id": "35nLXDPtXYTB",
        "outputId": "79195fd7-d49a-417f-b94c-bbe69e8b3014"
      },
      "outputs": [
        {
          "name": "stdout",
          "output_type": "stream",
          "text": [
            "[20, 30, 40]\n"
          ]
        }
      ],
      "source": [
        "numbers = [10, 20, 30, 40, 50]\n",
        "print(numbers[1:4])"
      ]
    },
    {
      "cell_type": "markdown",
      "metadata": {
        "id": "iFX1hXdEYyzW"
      },
      "source": [
        "#####✅ Iterating Over a List"
      ]
    },
    {
      "cell_type": "code",
      "execution_count": null,
      "metadata": {
        "colab": {
          "base_uri": "https://localhost:8080/"
        },
        "id": "3qMvFbbmYKJH",
        "outputId": "635a019f-5b88-42a9-b4ce-ce1bd60e9fac"
      },
      "outputs": [
        {
          "name": "stdout",
          "output_type": "stream",
          "text": [
            "10\n",
            "20\n",
            "30\n",
            "40\n",
            "50\n"
          ]
        }
      ],
      "source": [
        "for num in numbers:\n",
        "  print(num) # Prints each number one by one"
      ]
    },
    {
      "cell_type": "markdown",
      "metadata": {
        "id": "n3SfW80FZkTf"
      },
      "source": [
        "###2️⃣ Tuples in Python (( ))\n",
        "A tuple is like a list but immutable (cannot be changed).\n",
        "\n",
        "✅ Creating a Tuple"
      ]
    },
    {
      "cell_type": "code",
      "execution_count": null,
      "metadata": {
        "colab": {
          "base_uri": "https://localhost:8080/"
        },
        "id": "Lim_8gJdZFY7",
        "outputId": "d0f1ccf1-b585-47c4-99a2-266a6a76ddc2"
      },
      "outputs": [
        {
          "name": "stdout",
          "output_type": "stream",
          "text": [
            "(12, 24, 36)\n"
          ]
        }
      ],
      "source": [
        "tuples = (12, 24, 36)\n",
        "print(tuples)"
      ]
    },
    {
      "cell_type": "markdown",
      "metadata": {
        "id": "enZmIak8alN6"
      },
      "source": [
        "######Note: You cannot modify a tuple (e.g., tuples.append(48) will give an error).\n",
        "\n"
      ]
    },
    {
      "cell_type": "markdown",
      "metadata": {
        "id": "16FyzVBga75D"
      },
      "source": [
        "####3️⃣ List Comprehension\n",
        "List comprehension is a shorter way to create a new list.\n",
        "\n",
        "✅ Example: Create a List of Squares"
      ]
    },
    {
      "cell_type": "code",
      "execution_count": null,
      "metadata": {
        "colab": {
          "base_uri": "https://localhost:8080/"
        },
        "id": "HcZsrSR-bXyf",
        "outputId": "91d99043-dea0-46ba-80a5-3bd625a73f45"
      },
      "outputs": [
        {
          "name": "stdout",
          "output_type": "stream",
          "text": [
            "1\n",
            "2\n",
            "3\n",
            "4\n",
            "5\n"
          ]
        }
      ],
      "source": [
        "for x in range(1, 6):\n",
        "  print(x)"
      ]
    },
    {
      "cell_type": "code",
      "execution_count": null,
      "metadata": {
        "colab": {
          "base_uri": "https://localhost:8080/"
        },
        "id": "FSfH9NJxaatj",
        "outputId": "ad039a86-7074-460a-e9a5-84cbae84ff96"
      },
      "outputs": [
        {
          "output_type": "stream",
          "name": "stdout",
          "text": [
            "[1, 4, 9, 16, 25]\n"
          ]
        }
      ],
      "source": [
        "squares = [x**2 for x in range (1, 6)]\n",
        "print(squares)"
      ]
    },
    {
      "cell_type": "markdown",
      "metadata": {
        "id": "_htVbqlgcOaX"
      },
      "source": [
        "####🔹 Practice Task: Sum of 5 User-Input Numbers\n",
        "Write a program that asks the user for 5 numbers, stores them in a list, and prints their sum.\n",
        "\n"
      ]
    },
    {
      "cell_type": "code",
      "execution_count": null,
      "metadata": {
        "colab": {
          "base_uri": "https://localhost:8080/"
        },
        "id": "FUk2dP-3dQ83",
        "outputId": "80093854-b18b-4298-90e1-3dd9a6366df8"
      },
      "outputs": [
        {
          "name": "stdout",
          "output_type": "stream",
          "text": [
            "Enter number 1: 3\n",
            "Enter number 2: 5\n",
            "Enter number 3: 7\n",
            "Enter number 4: 8\n",
            "Enter number 5: 9\n",
            "The sum of the numbers is: 32\n"
          ]
        }
      ],
      "source": [
        "numbers = []  # Empty list to store user input\n",
        "\n",
        "# Taking 5 numbers as input\n",
        "for i in range(5):\n",
        "    num = int(input(f\"Enter number {i+1}: \"))\n",
        "    numbers.append(num)\n",
        "\n",
        "# Calculating sum\n",
        "total = sum(numbers)\n",
        "\n",
        "print(f\"The sum of the numbers is: {total}\")"
      ]
    },
    {
      "cell_type": "markdown",
      "metadata": {
        "id": "pzUSZx_3hQ6b"
      },
      "source": [
        "#Day 7-8: Data Structures - Dictionaries & Sets\n",
        "\n",
        "✅ Dictionaries ({key: value}, .get( ), .keys( ), .values( ))\n",
        "\n",
        "✅ Sets (set( ), add( ), remove( ), union( ), intersection( ))\n",
        "\n",
        "🔹 Practice: Create a dictionary to store student names & their marks, and print the highest-scoring student."
      ]
    },
    {
      "cell_type": "markdown",
      "metadata": {
        "id": "vnEKnJlVpZLx"
      },
      "source": [
        "##1️⃣ Dictionaries in Python { }\n",
        "\n",
        "A dictionary stores data in key-value pairs.\n",
        "\n",
        "Each key is unique, and values can be any data type.\n",
        "\n",
        "✅ Creating a Dictionary"
      ]
    },
    {
      "cell_type": "code",
      "execution_count": null,
      "metadata": {
        "colab": {
          "base_uri": "https://localhost:8080/"
        },
        "id": "LbBWoBUpelHT",
        "outputId": "019b3169-c6a4-4058-fa88-3354c05a6523"
      },
      "outputs": [
        {
          "name": "stdout",
          "output_type": "stream",
          "text": [
            "{'Rohit': 85, 'Ankit': 90, 'Vishal': 91}\n"
          ]
        }
      ],
      "source": [
        "student_marks = {\"Rohit\": 85, \"Ankit\": 90, \"Vishal\":91}\n",
        "print(student_marks)"
      ]
    },
    {
      "cell_type": "markdown",
      "metadata": {
        "id": "7v1f5NfYqxht"
      },
      "source": [
        "#####✅ Accessing Values (.get())\n",
        "\n",
        "🔹 Why use .get()? It avoids errors if the key doesn’t exist."
      ]
    },
    {
      "cell_type": "code",
      "execution_count": null,
      "metadata": {
        "colab": {
          "base_uri": "https://localhost:8080/"
        },
        "id": "pozAUY2qqUW8",
        "outputId": "b174b4fc-1ce1-44b4-9e14-b2cb7d17e441"
      },
      "outputs": [
        {
          "name": "stdout",
          "output_type": "stream",
          "text": [
            "90\n"
          ]
        }
      ],
      "source": [
        "print(student_marks.get(\"Ankit\"))"
      ]
    },
    {
      "cell_type": "markdown",
      "metadata": {
        "id": "AN63dmnlr_a1"
      },
      "source": [
        "####✅ Getting Keys & Values (.keys(), .values())\n"
      ]
    },
    {
      "cell_type": "code",
      "execution_count": null,
      "metadata": {
        "colab": {
          "base_uri": "https://localhost:8080/"
        },
        "id": "oWQImxxDq8tn",
        "outputId": "623812f3-2336-48ed-9609-12fbc50dcc5f"
      },
      "outputs": [
        {
          "name": "stdout",
          "output_type": "stream",
          "text": [
            "dict_keys(['Rohit', 'Ankit', 'Vishal'])\n",
            "dict_values([85, 90, 91])\n"
          ]
        }
      ],
      "source": [
        "print(student_marks.keys())\n",
        "print(student_marks.values())"
      ]
    },
    {
      "cell_type": "markdown",
      "metadata": {
        "id": "y3s82-kAsoy8"
      },
      "source": [
        "##2️⃣ Sets in Python { }\n",
        "\n",
        "A set is an unordered collection of unique items.\n",
        "\n",
        "✅ Creating a Set\n",
        "\n",
        "You can create **a set using curly brackets { }** or the **set( )** function:"
      ]
    },
    {
      "cell_type": "code",
      "execution_count": null,
      "metadata": {
        "colab": {
          "base_uri": "https://localhost:8080/"
        },
        "id": "f1Gt7LIEsL7z",
        "outputId": "9929225f-a03d-48c5-f9bd-61ff050e29d8"
      },
      "outputs": [
        {
          "name": "stdout",
          "output_type": "stream",
          "text": [
            "{'cherry', 'banana', 'apple'}\n"
          ]
        }
      ],
      "source": [
        "fruits = {\"apple\", \"banana\", \"cherry\"}\n",
        "print(fruits)"
      ]
    },
    {
      "cell_type": "markdown",
      "metadata": {
        "id": "xLJXpu-juNDS"
      },
      "source": [
        "####✅ Adding & Removing Elements (add(), remove())"
      ]
    },
    {
      "cell_type": "code",
      "execution_count": null,
      "metadata": {
        "colab": {
          "base_uri": "https://localhost:8080/"
        },
        "id": "zBsewYNUuIBT",
        "outputId": "1ce0d4ce-4a15-4bda-ae58-808fe6d14e80"
      },
      "outputs": [
        {
          "name": "stdout",
          "output_type": "stream",
          "text": [
            "{'cherry', 'banana', 'mango'}\n"
          ]
        }
      ],
      "source": [
        "fruits.add(\"mango\")\n",
        "fruits.remove(\"apple\")\n",
        "print(fruits)"
      ]
    },
    {
      "cell_type": "markdown",
      "metadata": {
        "id": "BrkkjRrWvAqT"
      },
      "source": [
        "###✅ Set Operations (union(), intersection())\n",
        "\n",
        "🔹 **union( )** combines both sets.\n",
        "\n",
        "🔹 **intersection( )** gives common elements."
      ]
    },
    {
      "cell_type": "code",
      "execution_count": null,
      "metadata": {
        "colab": {
          "base_uri": "https://localhost:8080/"
        },
        "id": "2u11yHpuvDMo",
        "outputId": "3fcc2250-115c-4d0b-a7c3-fc678fd7ce1f"
      },
      "outputs": [
        {
          "name": "stdout",
          "output_type": "stream",
          "text": [
            "{1, 2, 3, 4, 5}\n",
            "{3}\n"
          ]
        }
      ],
      "source": [
        "set1 = {1, 2, 3}\n",
        "set2 = {3, 4, 5}\n",
        "\n",
        "print(set1.union(set2))\n",
        "print(set1.intersection(set2))"
      ]
    },
    {
      "cell_type": "markdown",
      "metadata": {
        "id": "cNWusBhHwOhO"
      },
      "source": [
        "###🔹 Practice Task: Find the Highest-Scoring Student"
      ]
    },
    {
      "cell_type": "code",
      "execution_count": null,
      "metadata": {
        "colab": {
          "base_uri": "https://localhost:8080/"
        },
        "id": "ZltxIdSTveOL",
        "outputId": "386eb365-445d-4c2d-f68f-97172b673a6f"
      },
      "outputs": [
        {
          "name": "stdout",
          "output_type": "stream",
          "text": [
            "Top student: Kavita with 98 marks.\n"
          ]
        }
      ],
      "source": [
        "students = {\n",
        "    \"Rohit\": 85, \"Ankit\": 90, \"Vishal\": 91, \"Neha\": 88, \"Pooja\": 92,\n",
        "    \"Amit\": 76, \"Rahul\": 89, \"Kiran\": 95, \"Suman\": 87, \"Raj\": 78,\n",
        "    \"Priya\": 94, \"Nikhil\": 81, \"Sonia\": 86, \"Manoj\": 79, \"Deepak\": 84,\n",
        "    \"Swati\": 90, \"Arjun\": 82, \"Kavita\": 98, \"Sameer\": 88, \"Meera\": 93\n",
        "}\n",
        "\n",
        "highest_student = max(students, key = students.get)\n",
        "highest_marks = students[highest_student]\n",
        "\n",
        "print(f\"Top student: {highest_student} with {highest_marks} marks.\")"
      ]
    },
    {
      "cell_type": "markdown",
      "metadata": {
        "id": "Od_rJpUYx2M6"
      },
      "source": [
        "#Day 9-10: Functions & Modules\n",
        "\n",
        "✅ Defining functions (`def function_name()`:)\n",
        "\n",
        "✅ Function arguments & return values\n",
        "\n",
        "✅ Importing & using Python modules (math, random, datetime)\n",
        "\n",
        "✅ Writing your own modules\n",
        "\n",
        "🔹 Practice: Write a function that takes two numbers and returns their sum."
      ]
    },
    {
      "cell_type": "markdown",
      "metadata": {
        "id": "N0ztX_HdsKNw"
      },
      "source": [
        "####1️⃣ Functions in Python\n",
        "A function is a block of reusable code that performs a specific task.\n",
        "\n",
        "####✅ Defining a Function (def)"
      ]
    },
    {
      "cell_type": "code",
      "execution_count": null,
      "metadata": {
        "colab": {
          "base_uri": "https://localhost:8080/"
        },
        "id": "0AP2n-OTx6cY",
        "outputId": "026684e4-a7d9-4915-9cc9-50526c0a9fbd"
      },
      "outputs": [
        {
          "name": "stdout",
          "output_type": "stream",
          "text": [
            "Hello! Welcome to Python.\n"
          ]
        }
      ],
      "source": [
        "def greet():\n",
        "  print(\"Hello! Welcome to Python.\")\n",
        "\n",
        "greet()"
      ]
    },
    {
      "cell_type": "markdown",
      "metadata": {
        "id": "KUgl6tm5s8OF"
      },
      "source": [
        "####✅ Function with Arguments"
      ]
    },
    {
      "cell_type": "code",
      "execution_count": null,
      "metadata": {
        "colab": {
          "base_uri": "https://localhost:8080/"
        },
        "id": "_e-u6AYVso1n",
        "outputId": "6b30b907-7246-4ce7-e77b-fbab11293d41"
      },
      "outputs": [
        {
          "name": "stdout",
          "output_type": "stream",
          "text": [
            "Hello, Ankit!\n"
          ]
        }
      ],
      "source": [
        "def greet_user(name):\n",
        "  print(f\"Hello, {name}!\")\n",
        "\n",
        "greet_user(\"Ankit\")"
      ]
    },
    {
      "cell_type": "markdown",
      "metadata": {
        "id": "NQV-IzEXtq7e"
      },
      "source": [
        "####✅ Function with Return Value"
      ]
    },
    {
      "cell_type": "code",
      "execution_count": null,
      "metadata": {
        "colab": {
          "base_uri": "https://localhost:8080/"
        },
        "id": "GwhLusAutt0T",
        "outputId": "2c44ce7c-cd5d-4023-e684-fd7e0cac0945"
      },
      "outputs": [
        {
          "name": "stdout",
          "output_type": "stream",
          "text": [
            "36\n"
          ]
        }
      ],
      "source": [
        "def square(num):\n",
        "  return num * num\n",
        "\n",
        "result = square(6)\n",
        "print(result)"
      ]
    },
    {
      "cell_type": "markdown",
      "metadata": {
        "id": "2YO7eGIeunYX"
      },
      "source": [
        "##2️⃣ Practice Task: Function to Add Two Numbers"
      ]
    },
    {
      "cell_type": "code",
      "execution_count": null,
      "metadata": {
        "colab": {
          "base_uri": "https://localhost:8080/"
        },
        "id": "f44czKRBudAW",
        "outputId": "ab96f7c0-316a-49ab-9e3e-02cc1a8681c5"
      },
      "outputs": [
        {
          "name": "stdout",
          "output_type": "stream",
          "text": [
            "Enter first number:12\n",
            "Enter second number:13\n",
            "The sum is: 25\n"
          ]
        }
      ],
      "source": [
        "def add_numbers(a, b):\n",
        "  return a + b\n",
        "\n",
        "num1 = int(input(\"Enter first number:\"))\n",
        "num2 = int(input(\"Enter second number:\"))\n",
        "\n",
        "sum_result = add_numbers(num1, num2)\n",
        "print(f\"The sum is: {sum_result}\")"
      ]
    },
    {
      "cell_type": "markdown",
      "metadata": {
        "id": "88X5_VC1wJgc"
      },
      "source": [
        "###3️⃣ Python Modules\n",
        "Modules are files that contain Python code (functions, classes, variables) that you can import and use.\n",
        "\n",
        "✅ Importing Built-in Modules"
      ]
    },
    {
      "cell_type": "code",
      "execution_count": null,
      "metadata": {
        "colab": {
          "base_uri": "https://localhost:8080/"
        },
        "id": "q9rTuN6iv4d0",
        "outputId": "271c2def-4857-4d5f-b818-5b148a646239"
      },
      "outputs": [
        {
          "name": "stdout",
          "output_type": "stream",
          "text": [
            "5.0\n",
            "3.141592653589793\n"
          ]
        }
      ],
      "source": [
        "import math\n",
        "\n",
        "print(math.sqrt(25))\n",
        "print(math.pi)"
      ]
    },
    {
      "cell_type": "code",
      "execution_count": null,
      "metadata": {
        "colab": {
          "base_uri": "https://localhost:8080/"
        },
        "id": "K1O2K8xWwwvx",
        "outputId": "7be38dd3-dc77-4696-eed6-76ca88a0ee3c"
      },
      "outputs": [
        {
          "name": "stdout",
          "output_type": "stream",
          "text": [
            "91\n"
          ]
        }
      ],
      "source": [
        "import random\n",
        "\n",
        "print(random.randint(1, 100))"
      ]
    },
    {
      "cell_type": "code",
      "execution_count": 1,
      "metadata": {
        "colab": {
          "base_uri": "https://localhost:8080/"
        },
        "id": "ABOCm7kUxMlP",
        "outputId": "a686a33c-988d-4d23-9b9b-2d1f5baeb849"
      },
      "outputs": [
        {
          "output_type": "stream",
          "name": "stdout",
          "text": [
            "2025-03-27 06:54:06.350177\n"
          ]
        }
      ],
      "source": [
        "import datetime\n",
        "\n",
        "now = datetime.datetime.now()\n",
        "print(now)"
      ]
    },
    {
      "cell_type": "markdown",
      "metadata": {
        "id": "i8LMUbIFx9qA"
      },
      "source": [
        "####4️⃣ Writing Your Own Module\n",
        "1️⃣ Create a Python file called my_module.py:\n"
      ]
    },
    {
      "cell_type": "code",
      "execution_count": null,
      "metadata": {
        "id": "lZ2sJgpfxqOd"
      },
      "outputs": [],
      "source": [
        "def multiply(a, b):\n",
        "  return a * b"
      ]
    },
    {
      "cell_type": "markdown",
      "metadata": {
        "id": "IwTxFjmdyYGN"
      },
      "source": [
        "#####2️⃣ Import and Use it in Another File:"
      ]
    },
    {
      "cell_type": "code",
      "execution_count": null,
      "metadata": {
        "id": "ubMGrvco016j"
      },
      "outputs": [],
      "source": [
        "import my_module\n",
        "\n",
        "result = my_module.multiply(3, 4)\n",
        "print(result)  # Output: 12"
      ]
    },
    {
      "cell_type": "markdown",
      "metadata": {
        "id": "hTTKIjz40-i7"
      },
      "source": [
        "#Day 11-12: File Handling & Exception Handling\n",
        "\n",
        "✅ Read & write files (open( ), read( ), write( ), close( ))\n",
        "\n",
        "✅ Exception Handling (try, except, finally)\n",
        "\n",
        "🔹 Practice: Write a program that reads a text file and prints its contents."
      ]
    },
    {
      "cell_type": "markdown",
      "metadata": {
        "id": "4kHGtDWh1kWk"
      },
      "source": [
        "####1️⃣ File Handling in Python\n",
        "\n",
        "File handling allows us to read from and write to files using Python.\n",
        "\n",
        "✅ Writing to a File (`write( )`)"
      ]
    },
    {
      "cell_type": "code",
      "execution_count": null,
      "metadata": {
        "id": "eymZpgDP1wQa"
      },
      "outputs": [],
      "source": [
        "file = open(\"example.txt\", \"w\")       #Open a file in write mode (\"w\") and write text\n",
        "file.write(\"Hello, this is a test file.\\nPython is fun!\\n Ankit is a Handsome boy.\")\n",
        "file.close()    #Always close the file after writing"
      ]
    },
    {
      "cell_type": "markdown",
      "metadata": {
        "id": "2WwGYyOG46KW"
      },
      "source": [
        "####✅ Reading from a File (`read( )`)"
      ]
    },
    {
      "cell_type": "code",
      "execution_count": null,
      "metadata": {
        "colab": {
          "base_uri": "https://localhost:8080/"
        },
        "id": "uXGeC4464kYN",
        "outputId": "ed587632-0b2a-4a5d-9b43-fc9af70f72d9"
      },
      "outputs": [
        {
          "name": "stdout",
          "output_type": "stream",
          "text": [
            "Hello, this is a test file.\n",
            "Python is fun!\n",
            " Ankit is a Handsome boy.\n"
          ]
        }
      ],
      "source": [
        "file = open(\"example.txt\", \"r\")  # Open file in read mode('r') and print contents\n",
        "content = file.read()\n",
        "print(content)\n",
        "file.close()"
      ]
    },
    {
      "cell_type": "markdown",
      "metadata": {
        "id": "VjlXf_An6Pu3"
      },
      "source": [
        "####✅ Using `with` (Best Practice)\n",
        "\n",
        "The with statement automatically closes the file after use."
      ]
    },
    {
      "cell_type": "code",
      "execution_count": null,
      "metadata": {
        "colab": {
          "base_uri": "https://localhost:8080/"
        },
        "id": "9X80d2HG5lKo",
        "outputId": "61178ea4-bd1a-4621-82f4-71b26c2dcca5"
      },
      "outputs": [
        {
          "output_type": "stream",
          "name": "stdout",
          "text": [
            "Hello, this is a test file.\n",
            "Python is fun!\n",
            " Ankit is a Handsome boy.\n"
          ]
        }
      ],
      "source": [
        "with open(\"example.txt\", \"r\") as file:\n",
        "  content = file.read()\n",
        "  print(content)"
      ]
    },
    {
      "cell_type": "markdown",
      "metadata": {
        "id": "U3qXL5_07yB2"
      },
      "source": [
        "###2️⃣ Exception Handling in Python\n",
        "\n",
        "Exception handling prevents programs from crashing due to errors.\n",
        "\n",
        "####✅ Using `try-except`"
      ]
    },
    {
      "cell_type": "code",
      "execution_count": null,
      "metadata": {
        "colab": {
          "base_uri": "https://localhost:8080/"
        },
        "id": "w4kO2Pwg7jKk",
        "outputId": "48e3c82d-4fe0-49b9-87cf-e21be4951e2a"
      },
      "outputs": [
        {
          "name": "stdout",
          "output_type": "stream",
          "text": [
            "Enter a number: 10\n",
            "Result 1.0\n"
          ]
        }
      ],
      "source": [
        "try:\n",
        "  x = int(input(\"Enter a number: \"))\n",
        "  result = 10 / x\n",
        "  print(\"Result\", result)\n",
        "except ZeroDivisionError:\n",
        "  print(\"Error: Cannot divivde by zero!\")\n",
        "except ValueError:\n",
        "  print(\"Error: Please enter a valid number!\")\n"
      ]
    },
    {
      "cell_type": "markdown",
      "metadata": {
        "id": "fvHzSQ31-ZNS"
      },
      "source": [
        "🔹 Handles errors like division by zero and invalid input."
      ]
    },
    {
      "cell_type": "markdown",
      "metadata": {
        "id": "1xxIuG6l-byF"
      },
      "source": [
        "####✅ Using `finally`\n",
        "\n",
        "The finally block always runs, even if an error occurs."
      ]
    },
    {
      "cell_type": "code",
      "execution_count": null,
      "metadata": {
        "colab": {
          "base_uri": "https://localhost:8080/"
        },
        "id": "UzZJzaY19yO5",
        "outputId": "89dd51d8-c498-4637-ba90-a3862ba6753e"
      },
      "outputs": [
        {
          "name": "stdout",
          "output_type": "stream",
          "text": [
            "Hello, this is a test file.\n",
            "Python is fun!\n",
            " Ankit is a Handsome boy.\n",
            "File closed succcessfully.\n"
          ]
        }
      ],
      "source": [
        "try:\n",
        "  file = open(\"example.txt\", \"r\")\n",
        "  content = file.read()\n",
        "  print(content)\n",
        "finally:\n",
        "  file.close()\n",
        "  print(\"File closed succcessfully.\")"
      ]
    },
    {
      "cell_type": "markdown",
      "source": [
        "###🔹 Practice Task: Read a Text File and Print Its Contents"
      ],
      "metadata": {
        "id": "4hL_CDMpJH5Q"
      }
    },
    {
      "cell_type": "code",
      "source": [
        "try:\n",
        "    with open(\"samples.txt\", \"r\") as file:\n",
        "        content = file.read()\n",
        "        print(\"File Contents:\\n\", content)\n",
        "except FileNotFoundError:\n",
        "    print(\"Error: The file does not exist!\")"
      ],
      "metadata": {
        "colab": {
          "base_uri": "https://localhost:8080/"
        },
        "id": "ZV1BCtq-I-lH",
        "outputId": "bf69c71a-2cc2-40a0-c5a7-3eaf755d422e"
      },
      "execution_count": null,
      "outputs": [
        {
          "output_type": "stream",
          "name": "stdout",
          "text": [
            "Error: The file does not exist!\n"
          ]
        }
      ]
    },
    {
      "cell_type": "markdown",
      "source": [
        "#Day 13: Object-Oriented Programming (OOP) Basics\n",
        "\n",
        "✅ Classes & Objects\n",
        "\n",
        "✅ Attributes & Methods\n",
        "\n",
        "✅ Inheritance & Polymorphism\n",
        "\n",
        "🔹 Practice: Create a Car class with attributes (brand, model, price) and a method to display details."
      ],
      "metadata": {
        "id": "rV7FsgS_I7sf"
      }
    },
    {
      "cell_type": "markdown",
      "source": [
        "OOP is a programming approach that organizes code using classes and objects to make it more reusable and modular.\n",
        "\n",
        "1️⃣ Classes & Objects\n",
        "\n",
        "A class is a blueprint for creating objects.\n",
        "\n",
        "An object is an instance of a class.\n",
        "\n",
        "✅ Creating a Class & Object"
      ],
      "metadata": {
        "id": "ddN40BX3KKKx"
      }
    },
    {
      "cell_type": "code",
      "source": [
        "class Car:\n",
        "  def __init__(self, brand, model, price): # Constructor to initialize attributes\n",
        "    self.brand = brand\n",
        "    self.model = model\n",
        "    self.price = price\n",
        "\n",
        "  def display_details(self): # Method to display car details\n",
        "    print(f\"Car:{self.brand} {self.model}, Price: ${self.price}\")\n",
        "\n",
        "# Creating objects (intances of the Car class)\n",
        "Car1 = Car(\"Maruti\", \"Vitra brezza\", 10000)\n",
        "Car2 = Car(\"Honda\", \"Verna\", 15000)\n",
        "\n",
        "Car1.display_details()\n",
        "Car2.display_details()"
      ],
      "metadata": {
        "colab": {
          "base_uri": "https://localhost:8080/"
        },
        "id": "BMdaNYOzKvJH",
        "outputId": "d12f27ef-9a64-4db9-bbf4-6c8a3f4a45fd"
      },
      "execution_count": null,
      "outputs": [
        {
          "output_type": "stream",
          "name": "stdout",
          "text": [
            "Car:Maruti Vitra brezza, Price: $10000\n",
            "Car:Honda Verna, Price: $15000\n"
          ]
        }
      ]
    },
    {
      "cell_type": "markdown",
      "source": [
        "2️⃣ Attributes & Methods\n",
        "\n",
        "Attributes (variables) store object data.\n",
        "\n",
        "Methods (functions inside a class) define behaviors.\n",
        "\n",
        "**Example: Class with Attributes & Methods**\n",
        "\n",
        "Let's create a **class** `Car` with some **attributes** (like `brand, model, and price`) and a **method** to display the car's details."
      ],
      "metadata": {
        "id": "idhARDpSOdQ2"
      }
    },
    {
      "cell_type": "code",
      "source": [
        "class GermanCar:\n",
        "  # Constructor to initialize attributes\n",
        "  def __init__(self, brand, model, price):\n",
        "      self.brand = brand\n",
        "      self.model = model\n",
        "      self.price = price\n",
        "\n",
        "   # Method to display car details\n",
        "  def display_detials(self):\n",
        "      print(f\"German_Car: {self.brand}, {self.model},  Price: ${self.price}\")\n",
        "\n",
        "# Creating an object of the Car class\n",
        "my_car = GermanCar(\"Toyota\", \"Corolla\", 25000)\n",
        "\n",
        "# Calling the method to display details of the car\n",
        "my_car.display_detials()"
      ],
      "metadata": {
        "colab": {
          "base_uri": "https://localhost:8080/"
        },
        "id": "JQZPbUvtPVij",
        "outputId": "ab4e2a1e-b0fe-4590-ade9-12d52aa40b9f"
      },
      "execution_count": null,
      "outputs": [
        {
          "output_type": "stream",
          "name": "stdout",
          "text": [
            "German_Car: Toyota, Corolla,  Price: $25000\n"
          ]
        }
      ]
    },
    {
      "cell_type": "markdown",
      "source": [
        "####**Explanation:**\n",
        "\n",
        "**Attributes**: `self.brand, self.model`, and `self.price` are used to store information about the car.\n",
        "\n",
        "**Method**: `display_details` is a method inside the class that prints the details of the car object."
      ],
      "metadata": {
        "id": "jj-xJZ22UPZM"
      }
    },
    {
      "cell_type": "markdown",
      "source": [
        "\n",
        "3️⃣ Inheritance in Python\n",
        "\n",
        "**Inheritance** allows a new class (child class) to **inherit properties and methods** from an existing class (parent class).\n",
        "\n",
        "✅ Example: Creating a SportsCar Class from Car\n",
        "\n",
        "We will create a **parent class** `Car` and a **child class** `SportsCar` that inherits from the parent class."
      ],
      "metadata": {
        "id": "-ZO4JpMTPUPT"
      }
    },
    {
      "cell_type": "code",
      "source": [
        "class Car:\n",
        "  def __init__(self, brand, model, price): # Constructor to initialize attributes\n",
        "    self.brand = brand\n",
        "    self.model = model\n",
        "    self.price = price\n",
        "\n",
        "  def display_details(self): # Method to display car details\n",
        "    print(f\"Car:{self.brand} {self.model}, Price: ${self.price}\")\n",
        "#-----------------------------------------------------------\n",
        "class SportsCar(Car): # Inherits from Car class\n",
        "      def __init__(self, brand, model, price, top_speed):\n",
        "        super().__init__(brand, model, price) # Call parent constructor\n",
        "        self.top_speed = top_speed\n",
        "\n",
        "      def display_details(self):\n",
        "          super().display_details() # Call parent method\n",
        "          print(f\"Top Speed: {self.top_speed} km/h\")\n",
        "\n",
        "# Creating objects (instances of the Car and SportsCar classes)\n",
        "my_car = Car(\"Toyota\", \"Corolla\", 25000)\n",
        "my_sports_car = SportsCar(\"Ferrari\", \"488 Spider\", 300000, 330)\n",
        "\n",
        "my_car.display_details()\n",
        "print()\n",
        "my_sports_car.display_details()"
      ],
      "metadata": {
        "colab": {
          "base_uri": "https://localhost:8080/"
        },
        "id": "ikr4nxp4OwK-",
        "outputId": "308abdb0-8e21-4905-dc49-c03f5cc926c3"
      },
      "execution_count": null,
      "outputs": [
        {
          "output_type": "stream",
          "name": "stdout",
          "text": [
            "Car:Toyota Corolla, Price: $25000\n",
            "\n",
            "Car:Ferrari 488 Spider, Price: $300000\n",
            "Top Speed: 330 km/h\n"
          ]
        }
      ]
    },
    {
      "cell_type": "markdown",
      "source": [
        "#Day 14: Working with APIs and Libraries\n",
        "\n",
        "✅ Requests library (`requests.get()`)\n",
        "\n",
        "✅ JSON handling (`json.loads()`)\n",
        "\n",
        "✅ Using APIs like OpenWeather, GitHub API\n",
        "\n",
        "🔹 Practice: Write a program that fetches weather data from an API."
      ],
      "metadata": {
        "id": "7KqWayGxa8xl"
      }
    },
    {
      "cell_type": "markdown",
      "source": [
        "####APIs (`Application Programming Interfaces`) allow us **to fetch and send data over the internet**. In Python, we commonly use the `requests` library to make API calls and the `json` library to process the data.\n",
        "\n",
        "1️⃣ What is an API?\n",
        "\n",
        "An **API** is a way for different applications to communicate with each other.\n",
        "\n",
        "Example: **Weather API** → You send a request with a city name, and the API returns weather data.\n",
        "\n",
        "APIs usually return data in **JSON format** (a lightweight data format similar to dictionaries in Python).\n",
        "\n",
        "2️⃣ Installing the `requests` Library\n",
        "\n",
        "If you haven't installed it yet, run this command in Google Colab or your terminal:"
      ],
      "metadata": {
        "id": "Ap5WCxzvWlTC"
      }
    },
    {
      "cell_type": "code",
      "source": [
        "!pip install requests"
      ],
      "metadata": {
        "colab": {
          "base_uri": "https://localhost:8080/"
        },
        "id": "IO3K4qYtXGrr",
        "outputId": "911b9227-ca8c-46f9-b36e-4a264467cbec"
      },
      "execution_count": null,
      "outputs": [
        {
          "output_type": "stream",
          "name": "stdout",
          "text": [
            "Requirement already satisfied: requests in /usr/local/lib/python3.11/dist-packages (2.32.3)\n",
            "Requirement already satisfied: charset-normalizer<4,>=2 in /usr/local/lib/python3.11/dist-packages (from requests) (3.4.1)\n",
            "Requirement already satisfied: idna<4,>=2.5 in /usr/local/lib/python3.11/dist-packages (from requests) (3.10)\n",
            "Requirement already satisfied: urllib3<3,>=1.21.1 in /usr/local/lib/python3.11/dist-packages (from requests) (2.3.0)\n",
            "Requirement already satisfied: certifi>=2017.4.17 in /usr/local/lib/python3.11/dist-packages (from requests) (2025.1.31)\n"
          ]
        }
      ]
    },
    {
      "cell_type": "markdown",
      "source": [
        "3️⃣ Making a Simple API Request\n",
        "\n",
        "Let's fetch data from an API using `requests.get()`.\n",
        "\n",
        "✅ **Example: Fetching Data from a Public API**"
      ],
      "metadata": {
        "id": "nqOYjO8jXbGi"
      }
    },
    {
      "cell_type": "code",
      "source": [
        "import requests\n",
        "\n",
        "#Making a Get requests to a sample API\n",
        "response = requests.get(\"https://jsonplaceholder.typicode.com/todos/1\")\n",
        "\n",
        "#printing the response data\n",
        "print(response.json())    #convert JSON to a python dictionary"
      ],
      "metadata": {
        "colab": {
          "base_uri": "https://localhost:8080/"
        },
        "id": "QxENlTJ2XO89",
        "outputId": "25ad52a0-2a77-45f4-9323-069624f49d9f"
      },
      "execution_count": null,
      "outputs": [
        {
          "output_type": "stream",
          "name": "stdout",
          "text": [
            "{'userId': 1, 'id': 1, 'title': 'delectus aut autem', 'completed': False}\n"
          ]
        }
      ]
    },
    {
      "cell_type": "markdown",
      "source": [
        "4️⃣**Handling JSON Data in Python**\n",
        "\n",
        "APIs return data in **JSON format**, which we can `convert into Python dictionaries` using the json library.\n",
        "\n",
        "✅ **Example: Parsing JSON Data**"
      ],
      "metadata": {
        "id": "tlwAcSxXZuby"
      }
    },
    {
      "cell_type": "code",
      "source": [
        "import json\n",
        "\n",
        "json_data = '{\"name\": \"Ankit\", \"age\": 25, \"city\": \"New York\"}'  #Sample JSON data(like what an API might return)\n",
        "\n",
        "data = json.loads(json_data) #Convert JSON string to a python dictionary\n",
        "\n",
        "print(data[\"name\"])\n",
        "print(data[\"age\"])\n",
        "print(data[\"city\"])"
      ],
      "metadata": {
        "colab": {
          "base_uri": "https://localhost:8080/"
        },
        "id": "QAR380YJYSJB",
        "outputId": "1381cef4-220a-49b4-a99d-52941ee032a3"
      },
      "execution_count": null,
      "outputs": [
        {
          "output_type": "stream",
          "name": "stdout",
          "text": [
            "Ankit\n",
            "25\n",
            "New York\n"
          ]
        }
      ]
    },
    {
      "cell_type": "markdown",
      "source": [
        "5️⃣ **Fetching Weather Data from an API**\n",
        "\n",
        "Let's use the **OpenWeather API** to fetch real-time weather data.\n",
        "\n",
        "✅ Steps:\n",
        "\n",
        "**Sign up** at [OpenWeatherMap](https://https://openweathermap.org/) and get a free API key.\n",
        "\n",
        "**Use the API endpoint** with your city name and API key.\n",
        "\n",
        "**Fetch data using** `requests.get()` and process it.\n",
        "\n",
        "✅ **Example: Weather API in Python**"
      ],
      "metadata": {
        "id": "IkCtixwibph_"
      }
    },
    {
      "cell_type": "code",
      "source": [
        "import requests\n",
        "\n",
        "API_KEY = \"1946d4d3e05eb6257625ad675474a174\"    #OpenWeather API Key\n",
        "\n",
        "CITY = \"Muzaffarnagar\"    #City for which we need weather data\n",
        "\n",
        "URL = f\"http://api.openweathermap.org/data/2.5/weather?q={CITY}&appid={API_KEY}&units=metric\"   # API Endpoint\n",
        "\n",
        "\n",
        "response = requests.get(URL)           #Making a request to the API\n",
        "weather_data = response.json()         #Converting JSON response to a Python dictionary\n",
        "\n",
        "print(\"Weather in\", CITY)\n",
        "print(\"Temperature:\", weather_data[\"main\"][\"temp\"], \"°C\")\n",
        "print(\"Description:\", weather_data[\"weather\"][0][\"description\"])"
      ],
      "metadata": {
        "colab": {
          "base_uri": "https://localhost:8080/"
        },
        "id": "glsN3rZWcFvW",
        "outputId": "5d03f3fc-646f-4e41-b315-f3837381a117"
      },
      "execution_count": null,
      "outputs": [
        {
          "output_type": "stream",
          "name": "stdout",
          "text": [
            "Weather in Muzaffarnagar\n",
            "Temperature: 33.61 °C\n",
            "Description: clear sky\n"
          ]
        }
      ]
    },
    {
      "cell_type": "markdown",
      "source": [
        "✅ API Key: Your actual OpenWeather API key is included.\n",
        "\n",
        "✅ API Endpoint: The correct URL is used for fetching weather data."
      ],
      "metadata": {
        "id": "OJhCNlYefQy_"
      }
    },
    {
      "cell_type": "markdown",
      "source": [
        "#Day 15: Mini Project\n",
        "\n",
        "💡 Choose one:\n",
        "\n",
        "To-Do List App (store tasks in a file)\n",
        "\n",
        "Simple Calculator\n",
        "\n",
        "Weather App (using API)\n",
        "\n",
        "Quiz Game (multiple-choice questions)"
      ],
      "metadata": {
        "id": "l6Rac4zagPbG"
      }
    },
    {
      "cell_type": "code",
      "source": [],
      "metadata": {
        "id": "xdKNxW1Sdwly"
      },
      "execution_count": null,
      "outputs": []
    }
  ],
  "metadata": {
    "colab": {
      "provenance": [],
      "authorship_tag": "ABX9TyMDcu35UNZdVJU0UmRhEIYa"
    },
    "kernelspec": {
      "display_name": "Python 3",
      "name": "python3"
    },
    "language_info": {
      "name": "python"
    }
  },
  "nbformat": 4,
  "nbformat_minor": 0
}