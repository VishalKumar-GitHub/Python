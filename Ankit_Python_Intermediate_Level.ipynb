{
  "nbformat": 4,
  "nbformat_minor": 0,
  "metadata": {
    "colab": {
      "provenance": [],
      "authorship_tag": "ABX9TyM+m3moyql+RY6vM+Y82oCQ",
      "include_colab_link": true
    },
    "kernelspec": {
      "name": "python3",
      "display_name": "Python 3"
    },
    "language_info": {
      "name": "python"
    }
  },
  "cells": [
    {
      "cell_type": "markdown",
      "metadata": {
        "id": "view-in-github",
        "colab_type": "text"
      },
      "source": [
        "<a href=\"https://colab.research.google.com/github/VishalKumar-GitHub/Python/blob/main/Ankit_Python_Intermediate_Level.ipynb\" target=\"_parent\"><img src=\"https://colab.research.google.com/assets/colab-badge.svg\" alt=\"Open In Colab\"/></a>"
      ]
    },
    {
      "cell_type": "markdown",
      "source": [
        "# 🐍 15-Day Python Intermediate Roadmap\n",
        "\n",
        "---\n",
        "\n",
        "### ✅ Day 1: Advanced Functions\n",
        "- *args, **kwargs\n",
        "- Default vs Keyword arguments\n",
        "- return with multiple values\n",
        "\n",
        "🔹 Practice:\n",
        "- Create a function that adds unlimited numbers\n",
        "- Function that accepts user details using **kwargs"
      ],
      "metadata": {
        "id": "eaW_5WY-ALHr"
      }
    },
    {
      "cell_type": "markdown",
      "source": [
        "## 1️⃣ *args - Variable number of positional arguments\n",
        "- Allows a function to accept multiple values as a tuple"
      ],
      "metadata": {
        "id": "HtQc4o2BCv9C"
      }
    },
    {
      "cell_type": "code",
      "source": [
        "def add_numbers(*args):\n",
        "  total = sum(args)\n",
        "  return total\n",
        "\n",
        "print(add_numbers(10, 20, 30))"
      ],
      "metadata": {
        "colab": {
          "base_uri": "https://localhost:8080/"
        },
        "id": "utDvCNOpAMne",
        "outputId": "0e075491-6599-459c-d41b-b09dc1798268"
      },
      "execution_count": 1,
      "outputs": [
        {
          "output_type": "stream",
          "name": "stdout",
          "text": [
            "60\n"
          ]
        }
      ]
    },
    {
      "cell_type": "markdown",
      "source": [
        "##2️⃣ **kwargs - Variable number of keyword arguments\n",
        "\n",
        "- Accepts named arguments as a dictionary"
      ],
      "metadata": {
        "id": "cVlEGUKTEBHg"
      }
    },
    {
      "cell_type": "code",
      "source": [
        "def user_info(**kwargs):\n",
        "  for key, value in kwargs.items():\n",
        "    print(f\"{key}: {value}\")\n",
        "\n",
        "user_info(name=\"Ankit\", age=25, city= \"Muzzafernagar\")"
      ],
      "metadata": {
        "colab": {
          "base_uri": "https://localhost:8080/"
        },
        "id": "e9RnHiV2AM3Y",
        "outputId": "c20a682b-16ad-41b2-a38a-16d0dc33950e"
      },
      "execution_count": 2,
      "outputs": [
        {
          "output_type": "stream",
          "name": "stdout",
          "text": [
            "name: Ankit\n",
            "age: 25\n",
            "city: Muzzafernagar\n"
          ]
        }
      ]
    },
    {
      "cell_type": "markdown",
      "source": [
        "##3️⃣ Default vs Keyword Arguments\n",
        "\n",
        "\n",
        "✅ **Default Arguments**  \n",
        "You can define default values in a function so that if the caller doesn't provide a value, the default is used.\n",
        "\n",
        "✅ **Keyword Arguments**  \n",
        "You can pass arguments by specifying the parameter name. This improves code clarity and allows you to skip optional/default parameters.\n"
      ],
      "metadata": {
        "id": "Hermx91xFQqU"
      }
    },
    {
      "cell_type": "markdown",
      "source": [
        "--------------------------------------------------------"
      ],
      "metadata": {
        "id": "P4QDgwhfLfGz"
      }
    },
    {
      "cell_type": "code",
      "source": [
        "# Example using default arguments\n",
        "def greet(name=\"Guest\"):\n",
        "    print(f\"Hello, {name}!\")\n",
        "\n",
        "greet()              # Output: Hello, Guest!\n",
        "greet(\"Ankit\")       # Output: Hello, Ankit!"
      ],
      "metadata": {
        "colab": {
          "base_uri": "https://localhost:8080/"
        },
        "id": "pKZwvyKiKdqr",
        "outputId": "57af1390-2991-4bb8-cb46-ff08f801c53b"
      },
      "execution_count": 15,
      "outputs": [
        {
          "output_type": "stream",
          "name": "stdout",
          "text": [
            "Hello, Guest!\n",
            "Hello, Ankit!\n"
          ]
        }
      ]
    },
    {
      "cell_type": "code",
      "source": [
        "# Example using keyword arguments\n",
        "def student_info(name, age, city=\"Unknown\"):\n",
        "  print(f\"Name: {name}, Age: {age}, City: {city}\")"
      ],
      "metadata": {
        "id": "TxoRHNWrKooU"
      },
      "execution_count": 17,
      "outputs": []
    },
    {
      "cell_type": "code",
      "source": [
        "# Using positional arguments\n",
        "student_info(\"Riya\", 22)"
      ],
      "metadata": {
        "colab": {
          "base_uri": "https://localhost:8080/"
        },
        "id": "RRy8RtBkKq13",
        "outputId": "e4feeeef-31ad-444f-bd40-0ce1d8be78ce"
      },
      "execution_count": 22,
      "outputs": [
        {
          "output_type": "stream",
          "name": "stdout",
          "text": [
            "Name: Riya, Age: 22, City: Unknown\n"
          ]
        }
      ]
    },
    {
      "cell_type": "code",
      "source": [
        "# Using keyword arguments\n",
        "student_info(age=25, name=\"Aman\", city=\"Delhi\")"
      ],
      "metadata": {
        "colab": {
          "base_uri": "https://localhost:8080/"
        },
        "id": "OItc1-oLKtdk",
        "outputId": "04989a33-545a-48fb-a79f-f95f7469ec75"
      },
      "execution_count": 25,
      "outputs": [
        {
          "output_type": "stream",
          "name": "stdout",
          "text": [
            "Name: Aman, Age: 25, City: Delhi\n"
          ]
        }
      ]
    },
    {
      "cell_type": "markdown",
      "source": [
        "---------------------------"
      ],
      "metadata": {
        "id": "gR0gXud7LcKz"
      }
    },
    {
      "cell_type": "code",
      "source": [
        "def greet(name, msg=\"Hello!\"):\n",
        "  print(f\"{msg} {name}\")\n",
        "\n",
        "greet(\"Rohit\")\n",
        "greet(\"Rohit\", \"Good Morning\")"
      ],
      "metadata": {
        "colab": {
          "base_uri": "https://localhost:8080/"
        },
        "id": "o3yS7cEEAM63",
        "outputId": "491838fd-c77f-43db-a410-547bc22b32f4"
      },
      "execution_count": 3,
      "outputs": [
        {
          "output_type": "stream",
          "name": "stdout",
          "text": [
            "Hello! Rohit\n",
            "Good Morning Rohit\n"
          ]
        }
      ]
    },
    {
      "cell_type": "markdown",
      "source": [
        "##4️⃣ Returning Multiple Values from a Function"
      ],
      "metadata": {
        "id": "HvylfwWiGGe8"
      }
    },
    {
      "cell_type": "code",
      "source": [
        "def calculate(a, b):\n",
        "  sum = a + b\n",
        "  diff = a - b\n",
        "  mul = a * b\n",
        "  div = a / b\n",
        "  return sum, diff, mul, div\n",
        "\n",
        "result = calculate(10, 5)\n",
        "print(result)"
      ],
      "metadata": {
        "colab": {
          "base_uri": "https://localhost:8080/"
        },
        "id": "Kh5u-NAVAM-x",
        "outputId": "9daa8d98-c60b-4bdd-a906-f59e48c8e6ed"
      },
      "execution_count": 4,
      "outputs": [
        {
          "output_type": "stream",
          "name": "stdout",
          "text": [
            "(15, 5, 50, 2.0)\n"
          ]
        }
      ]
    },
    {
      "cell_type": "markdown",
      "source": [
        "##🔹 Practice Questions:\n",
        "✅ Q1: Create a function `add_all() `that adds unlimited numbers using *args."
      ],
      "metadata": {
        "id": "8fgRrDi4Gp2x"
      }
    },
    {
      "cell_type": "code",
      "source": [
        "def add_all(*args):\n",
        "    # *args collects all positional arguments as a tuple\n",
        "    total = sum(args)  # Adds all the values in the tuple\n",
        "    return total\n",
        "\n",
        "# Testing the function with multiple numbers\n",
        "print(add_all(12, 13, 16, 19, 21))"
      ],
      "metadata": {
        "colab": {
          "base_uri": "https://localhost:8080/"
        },
        "id": "hdt7_eHkHbVN",
        "outputId": "1c25036a-525f-4081-aedd-0e43f4327f8f"
      },
      "execution_count": 5,
      "outputs": [
        {
          "output_type": "stream",
          "name": "stdout",
          "text": [
            "81\n"
          ]
        }
      ]
    },
    {
      "cell_type": "markdown",
      "source": [
        "✅ Q2: Write a function `user_profile()` that takes name, age, city using **kwargs and prints the information."
      ],
      "metadata": {
        "id": "fQL8EZdUITri"
      }
    },
    {
      "cell_type": "code",
      "source": [
        "def user_profile(**kwargs):\n",
        "  for key, value in kwargs.items():\n",
        "    print(f\"{key} : {value}\")\n",
        "\n",
        "user_profile(Name = \"Rajinder\", age = 49, city = \"Saharanpur\")"
      ],
      "metadata": {
        "colab": {
          "base_uri": "https://localhost:8080/"
        },
        "id": "KUZxGUMjANEQ",
        "outputId": "bc247196-e6b0-4852-d891-0da7770230b7"
      },
      "execution_count": 14,
      "outputs": [
        {
          "output_type": "stream",
          "name": "stdout",
          "text": [
            "Name : Rajinder\n",
            "age : 49\n",
            "city : Saharanpur\n"
          ]
        }
      ]
    },
    {
      "cell_type": "markdown",
      "source": [
        "### ✅ Day 2: Lambda, Map, Filter, Reduce\n",
        "- Lambda (anonymous) functions\n",
        "- map( ), filter( ), reduce( )\n",
        "\n",
        "🔹 Practice:\n",
        "- Square a list using map( )\n",
        "- Filter odd numbers using filter( )\n",
        "- Multiply all numbers using reduce( )"
      ],
      "metadata": {
        "id": "9RAvkMpNg6r6"
      }
    },
    {
      "cell_type": "markdown",
      "source": [
        "🔹 What is a **lambda function** ?\n",
        "\n",
        "A lambda function is a small, anonymous function — meaning it doesn’t have a name. It’s mostly used for short, simple functions that you only need temporarily (often inside `map(), filter(), or reduce()`)."
      ],
      "metadata": {
        "id": "zVBIi3HHkIBR"
      }
    },
    {
      "cell_type": "code",
      "source": [
        "square = lambda x: x * x\n",
        "print(square(5))"
      ],
      "metadata": {
        "colab": {
          "base_uri": "https://localhost:8080/"
        },
        "id": "L2dVFQP7k8WE",
        "outputId": "39b7ce3f-7df7-48f1-ceb1-d0bb0762235c"
      },
      "execution_count": 7,
      "outputs": [
        {
          "output_type": "stream",
          "name": "stdout",
          "text": [
            "25\n"
          ]
        }
      ]
    },
    {
      "cell_type": "code",
      "source": [
        "numbers = [1, 2, 3, 4, 5]"
      ],
      "metadata": {
        "id": "r_ohfwfig7bZ"
      },
      "execution_count": 1,
      "outputs": []
    },
    {
      "cell_type": "markdown",
      "source": [
        "###🔹 1. Square a list using `map()`"
      ],
      "metadata": {
        "id": "xLlIXWYhhWYH"
      }
    },
    {
      "cell_type": "code",
      "source": [
        "squared = list(map(lambda x: x**2, numbers))\n",
        "print(squared)"
      ],
      "metadata": {
        "colab": {
          "base_uri": "https://localhost:8080/"
        },
        "id": "piKxrOXDhKxp",
        "outputId": "69ebcbf8-7a6c-4b90-9dc2-b7ed0a8085b2"
      },
      "execution_count": 2,
      "outputs": [
        {
          "output_type": "stream",
          "name": "stdout",
          "text": [
            "[1, 4, 9, 16, 25]\n"
          ]
        }
      ]
    },
    {
      "cell_type": "markdown",
      "source": [
        "###🔹 2. Filter odd numbers using `filter()`"
      ],
      "metadata": {
        "id": "yqa7Cjdph55r"
      }
    },
    {
      "cell_type": "code",
      "source": [
        "odds = list(filter(lambda x: x % 2 != 0, numbers))\n",
        "print(odds)"
      ],
      "metadata": {
        "colab": {
          "base_uri": "https://localhost:8080/"
        },
        "id": "imhIV0k3hK16",
        "outputId": "07533832-069f-4385-d682-225956d159c4"
      },
      "execution_count": 6,
      "outputs": [
        {
          "output_type": "stream",
          "name": "stdout",
          "text": [
            "[1, 3, 5]\n"
          ]
        }
      ]
    },
    {
      "cell_type": "markdown",
      "source": [
        "###🔹 3. Multiply all numbers using `reduce()`\n",
        "\n",
        "You'll need to import reduce from functools:"
      ],
      "metadata": {
        "id": "eJIh8sU_isYW"
      }
    },
    {
      "cell_type": "code",
      "source": [
        "from functools import reduce\n",
        "\n",
        "product = reduce(lambda x, y: x * y, numbers)\n",
        "print(product)"
      ],
      "metadata": {
        "colab": {
          "base_uri": "https://localhost:8080/"
        },
        "id": "RM3y3ZrchLHQ",
        "outputId": "4c666384-8b95-4865-91b4-6010e9cdb79f"
      },
      "execution_count": 4,
      "outputs": [
        {
          "output_type": "stream",
          "name": "stdout",
          "text": [
            "120\n"
          ]
        }
      ]
    },
    {
      "cell_type": "markdown",
      "source": [
        "### ✅ Day 3: File Handling Deep Dive\n",
        "- `with open()` as\n",
        "- Reading/writing .txt, .csv files\n",
        "- File modes: r, w, a, x\n",
        "\n",
        "🔹 Practice:\n",
        "- Create a notepad app\n",
        "- Write user input to a file"
      ],
      "metadata": {
        "id": "kWkeKWzPkVcj"
      }
    },
    {
      "cell_type": "markdown",
      "source": [
        "🔹 File Modes\n",
        "\n",
        "\"r\" – Read (default)\n",
        "\n",
        "\"w\" – Write (overwrites existing content)\n",
        "\n",
        "\"a\" – Append (adds to the end)\n",
        "\n",
        "\"x\" – Create file (fails if file exists)"
      ],
      "metadata": {
        "id": "MrMqeLIJnZmX"
      }
    },
    {
      "cell_type": "markdown",
      "source": [
        "#### 🔹 `with open()` as\n",
        "Using `with open()` is the recommended way to handle files. It automatically closes the file after operations."
      ],
      "metadata": {
        "id": "3y4zq_WOl-lq"
      }
    },
    {
      "cell_type": "code",
      "source": [
        "# Create a file\n",
        "with open(\"example.txt\", \"w\") as file:\n",
        "    file.write(\"Hello, Ankit Rana!\")"
      ],
      "metadata": {
        "id": "gPaXwOySm-Sa"
      },
      "execution_count": 19,
      "outputs": []
    },
    {
      "cell_type": "code",
      "source": [
        "# Reading a file\n",
        "with open(\"example.txt\", \"r\") as file:\n",
        "    content = file.read()\n",
        "    print(content)"
      ],
      "metadata": {
        "colab": {
          "base_uri": "https://localhost:8080/"
        },
        "id": "h5ceyi31kX2_",
        "outputId": "92384fd2-aa47-47eb-c762-9b01ea2fbd53"
      },
      "execution_count": 20,
      "outputs": [
        {
          "output_type": "stream",
          "name": "stdout",
          "text": [
            "Hello, Ankit Rana!\n"
          ]
        }
      ]
    },
    {
      "cell_type": "code",
      "source": [
        "# Appending to a file\n",
        "with open(\"example.txt\", \"a\") as file:\n",
        "    file.write(\"\\nI'm from Muzzafernagar.\")"
      ],
      "metadata": {
        "id": "xjAleptKkYOO"
      },
      "execution_count": 21,
      "outputs": []
    },
    {
      "cell_type": "code",
      "source": [
        "# Reading line by line\n",
        "with open(\"example.txt\", \"r\") as file:\n",
        "  content = file.read()\n",
        "  print(content)\n"
      ],
      "metadata": {
        "colab": {
          "base_uri": "https://localhost:8080/"
        },
        "id": "trru4DZpkYb1",
        "outputId": "373510e6-9b23-4c13-e70c-3b25fedb181d"
      },
      "execution_count": 22,
      "outputs": [
        {
          "output_type": "stream",
          "name": "stdout",
          "text": [
            "Hello, Ankit Rana!\n",
            "I'm from Muzzafernagar.\n"
          ]
        }
      ]
    },
    {
      "cell_type": "code",
      "source": [
        "with open(\"example.txt\", \"r\") as file:\n",
        "    for line in file:\n",
        "        print(line.strip())  # Strip removes newline characters"
      ],
      "metadata": {
        "colab": {
          "base_uri": "https://localhost:8080/"
        },
        "id": "_YoLVRAQkYe_",
        "outputId": "4636c0c1-761e-428c-8c20-0304be008709"
      },
      "execution_count": 23,
      "outputs": [
        {
          "output_type": "stream",
          "name": "stdout",
          "text": [
            "Hello, Ankit Rana!\n",
            "I'm from Muzzafernagar.\n"
          ]
        }
      ]
    },
    {
      "cell_type": "markdown",
      "source": [
        "##🔹 Practice: Notepad App (Write user input to file)"
      ],
      "metadata": {
        "id": "0-v3AmiVpFNr"
      }
    },
    {
      "cell_type": "code",
      "source": [
        "# Simple notepad app\n",
        "with open(\"my_notes.txt\", \"a\") as file:\n",
        "    while True:\n",
        "        note = input(\"Write your note (or type 'exit' to stop): \")\n",
        "        if note.lower() == \"exit\":\n",
        "            break\n",
        "        file.write(note + \"\\n\")\n",
        "print(\"✅ Notes saved successfully!\")"
      ],
      "metadata": {
        "colab": {
          "base_uri": "https://localhost:8080/"
        },
        "id": "lpoFk4kMpYk-",
        "outputId": "1bb82029-452a-42b7-d8b1-9b09c741af38"
      },
      "execution_count": 29,
      "outputs": [
        {
          "output_type": "stream",
          "name": "stdout",
          "text": [
            "Write your note (or type 'exit' to stop): Hi Ankit!\n",
            "Write your note (or type 'exit' to stop): Hello Vishal\n",
            "Write your note (or type 'exit' to stop): What are you doing?\n",
            "Write your note (or type 'exit' to stop): I am teaching you.\n",
            "Write your note (or type 'exit' to stop): okay\n",
            "Write your note (or type 'exit' to stop): exit\n",
            "✅ Notes saved successfully!\n"
          ]
        }
      ]
    },
    {
      "cell_type": "markdown",
      "source": [
        "### ✅ Day 4: Working with JSON & CSV\n",
        "- json.load(), json.dump()\n",
        "- csv.reader(), csv.writer()\n",
        "\n",
        "🔹 Practice:\n",
        "- Save user data in JSON\n",
        "- Read CSV and display as a table"
      ],
      "metadata": {
        "id": "8HofKiNyrNUG"
      }
    },
    {
      "cell_type": "markdown",
      "source": [
        "###📌 JSON (JavaScript Object Notation)\n",
        "\n",
        "- In Python, we use json module.\n",
        "\n",
        "- Used for storing structured data (like Python dictionaries).which means.(store and exchange data).\n",
        "\n",
        "Common methods:\n",
        "\n",
        "`json.dump()` → Write JSON data to a file.\n",
        "\n",
        "`json.load()` → Read JSON data from a file."
      ],
      "metadata": {
        "id": "Dqq85MohP7xF"
      }
    },
    {
      "cell_type": "code",
      "source": [
        "import json\n",
        "\n",
        "user = {\"name\": \"Ankit\", \"age\": 25, \"city\": \"Muzzafernagar\"}      # User data as dictionary\n",
        "\n",
        "with open(\"user.json\", \"w\") as file:              #Save user data as JSON file\n",
        "    json.dump(user, file)\n",
        "\n",
        "with open(\"user.json\", \"r\") as file:             #Read the JSON file\n",
        "    content = json.load(file)\n",
        "    print(content)\n",
        "\n"
      ],
      "metadata": {
        "colab": {
          "base_uri": "https://localhost:8080/"
        },
        "id": "H5TiwPdDrMLA",
        "outputId": "502c5fde-3e3c-4561-b6e7-92c5e457aae9"
      },
      "execution_count": 2,
      "outputs": [
        {
          "output_type": "stream",
          "name": "stdout",
          "text": [
            "{'name': 'Ankit', 'age': 25, 'city': 'Muzzafernagar'}\n"
          ]
        }
      ]
    },
    {
      "cell_type": "markdown",
      "source": [
        "###📗 CSV (Comma-Separated Values)\n",
        "- Used for working with tabular data (like Excel sheets).\n",
        "- We use the `csv` module.\n",
        "\n",
        "- Common methods:\n",
        "\n",
        " -   `csv.writer()` → Write data to a CSV file.\n",
        "\n",
        " -  `csv.reader()` → Read data from a CSV file."
      ],
      "metadata": {
        "id": "3zi6UmDUSw7y"
      }
    },
    {
      "cell_type": "code",
      "source": [
        "import csv\n",
        "\n",
        "data = [[\"Name\", \"Age\", \"City\"], [\"Ankit\", 25, \"Muzzafernagar\"], [\"Riya\", 22, \"Delhi\"]]\n",
        "\n",
        "with open(\"users.csv\", \"w\", newline=\"\") as file:\n",
        "    writer = csv.writer(file)\n",
        "    writer.writerows(data)\n",
        "\n",
        "# ✅ Read and print data from the CSV file\n",
        "with open(\"users.csv\", \"r\") as file:\n",
        "    reader = csv.reader(file)\n",
        "    for row in reader:\n",
        "        print(row)"
      ],
      "metadata": {
        "colab": {
          "base_uri": "https://localhost:8080/"
        },
        "id": "nxK_6AV0rMaL",
        "outputId": "ba840a78-0a6f-442a-c69c-e24416207fc8"
      },
      "execution_count": 22,
      "outputs": [
        {
          "output_type": "stream",
          "name": "stdout",
          "text": [
            "['Name', 'Age', 'City']\n",
            "['Ankit', '25', 'Muzzafernagar']\n",
            "['Riya', '22', 'Delhi']\n"
          ]
        }
      ]
    },
    {
      "cell_type": "code",
      "source": [
        "import csv\n",
        "\n",
        "# ✅ Write data to a CSV file\n",
        "with open(\"students.csv\", \"w\", newline=\"\") as file:\n",
        "    writer = csv.writer(file)\n",
        "    writer.writerow([\"Name\", \"Class\", \"Marks\"])\n",
        "    writer.writerow([\"Amit\", \"10A\", 88])\n",
        "    writer.writerow([\"Priya\", \"10B\", 92])\n",
        "\n",
        "# ✅ Read and print data from the CSV file\n",
        "with open(\"students.csv\", \"r\") as file:\n",
        "    reader = csv.reader(file)\n",
        "    for row in reader:\n",
        "        print(row)"
      ],
      "metadata": {
        "colab": {
          "base_uri": "https://localhost:8080/"
        },
        "id": "0oAjhQbTrMoc",
        "outputId": "0d2b81ab-991b-4d4a-e863-32eaf542e9d2"
      },
      "execution_count": 23,
      "outputs": [
        {
          "output_type": "stream",
          "name": "stdout",
          "text": [
            "['Name', 'Class', 'Marks']\n",
            "['Amit', '10A', '88']\n",
            "['Priya', '10B', '92']\n"
          ]
        }
      ]
    },
    {
      "cell_type": "markdown",
      "source": [
        "### ✅ Day 5: Exception Handling\n",
        "- try, except, finally\n",
        "- Custom exceptions\n",
        "- raise keyword\n",
        "\n",
        "🔹 Practice:\n",
        "- Build calculator with exception handling\n",
        "- Raise error for negative age"
      ],
      "metadata": {
        "id": "dD_DgUF5iBAO"
      }
    },
    {
      "cell_type": "markdown",
      "source": [
        "####✅ What is Exception Handling in Python?\n",
        "\"Exception Handling is a way to manage errors in a Python program without crashing the entire program. It helps us catch and handle runtime errors gracefully using `try, except, else,` and `finally` blocks.\"\n",
        "\n",
        "####🧠 Example Answer (Interview Style):\n",
        "\"Exception handling allows us to manage unexpected errors that occur during execution. Instead of the program crashing, we can catch the error and respond properly. For example, if the user enters text instead of a number, we can catch that error using a try-except block and show a user-friendly message.\""
      ],
      "metadata": {
        "id": "FNCsfTSXu7TG"
      }
    },
    {
      "cell_type": "markdown",
      "source": [
        "###🔍 Concepts Covered:\n",
        "- `try, except, else, finally` for better control flow\n",
        "\n",
        "- Raising built-in and custom exceptions with raise\n",
        "\n",
        "- Defining and using custom exception classes"
      ],
      "metadata": {
        "id": "9eHO9v67iwqa"
      }
    },
    {
      "cell_type": "markdown",
      "source": [
        "🔹 Example 1: Try-Except-Else-Finally"
      ],
      "metadata": {
        "id": "AVdTKmUnjAdM"
      }
    },
    {
      "cell_type": "code",
      "source": [
        "def divide(a, b):\n",
        "  try:\n",
        "    result = a / b\n",
        "  except ZeroDivisionError:\n",
        "    print(\"Cannot divide by zero.\")\n",
        "  else:\n",
        "    print(f\"Divide Successfully: {result}\")\n",
        "  finally:\n",
        "    print(\"Operation Completed\")\n",
        "\n",
        "divide(29, 3)\n",
        "divide(30, 3)"
      ],
      "metadata": {
        "colab": {
          "base_uri": "https://localhost:8080/"
        },
        "id": "K1oudIY8iCIB",
        "outputId": "a83b04c9-492d-4fd1-9017-d458305ab5fd"
      },
      "execution_count": 1,
      "outputs": [
        {
          "output_type": "stream",
          "name": "stdout",
          "text": [
            "Divide succesfully: 9.666666666666666\n",
            "Operation Completed\n",
            "Divide succesfully: 10.0\n",
            "Operation Completed\n"
          ]
        }
      ]
    },
    {
      "cell_type": "markdown",
      "source": [
        "🔹 Example 2: Custom Exception"
      ],
      "metadata": {
        "id": "kw5WCMuJlfsR"
      }
    },
    {
      "cell_type": "code",
      "source": [
        "# Defining a custom exception\n",
        "class NegativeNumberError(Exception):\n",
        "    pass\n",
        "\n",
        "def square_root(num):\n",
        "    if num < 0:\n",
        "        raise NegativeNumberError(\"Negative numbers not allowed for square root.\")\n",
        "    else:\n",
        "        return num ** 0.5\n",
        "\n",
        "try:\n",
        "    n = int(input(\"Enter a number: \"))\n",
        "    result = square_root(n)\n",
        "    print(f\"Square root: {result}\")\n",
        "except NegativeNumberError as e:\n",
        "    print(\"Error:\", e)\n"
      ],
      "metadata": {
        "colab": {
          "base_uri": "https://localhost:8080/"
        },
        "id": "jrkBX3ivnvAB",
        "outputId": "292fced6-b5b2-4ae3-ad37-e9cb2ae86a83"
      },
      "execution_count": 13,
      "outputs": [
        {
          "output_type": "stream",
          "name": "stdout",
          "text": [
            "Enter a number: -25\n",
            "Error: Negative numbers not allowed for square root.\n"
          ]
        }
      ]
    },
    {
      "cell_type": "markdown",
      "source": [
        "🔹 Example 3 : Calculator with Exception Handling"
      ],
      "metadata": {
        "id": "IReVyuvVp1OL"
      }
    },
    {
      "cell_type": "code",
      "source": [
        "try:\n",
        "   num1 = float(input(\"Enter first number:\"))\n",
        "   num2 = float(input(\"Enter second number:\"))\n",
        "   op = input(\"Enter operation (+, -, *, /):\")\n",
        "\n",
        "   if op == \"+\":\n",
        "    result = num1 + num2\n",
        "   elif op == \"-\":\n",
        "    result = num1 - num2\n",
        "   elif op == \"*\":\n",
        "    result = num1 * num2\n",
        "   elif op == \"/\":\n",
        "    result = num1 / num2\n",
        "   else:\n",
        "    raise ValueError(\"Invalid operation\")\n",
        "\n",
        "   print(f\"Result: {result}\")\n",
        "\n",
        "except ZeroDivisionError:\n",
        "  print(\"Cannot divide by zero\")\n",
        "except ValueError as ve:\n",
        "  print(\"ValueErroe\", ve)\n",
        "finally:\n",
        "  print(\"Calculation Fininshed\")\n",
        ""
      ],
      "metadata": {
        "colab": {
          "base_uri": "https://localhost:8080/"
        },
        "id": "mvrFoMiNp5MR",
        "outputId": "33e71e68-8ab5-4512-ec4b-83b41c3d300a"
      },
      "execution_count": 20,
      "outputs": [
        {
          "output_type": "stream",
          "name": "stdout",
          "text": [
            "Enter first number:33\n",
            "Enter second number:3\n",
            "Enter operation (+, -, *, /):*\n",
            "Result: 99.0\n",
            "Calculation Fininshed\n"
          ]
        }
      ]
    },
    {
      "cell_type": "markdown",
      "source": [
        "🔹 Example 4: Raise Error for Negative Age"
      ],
      "metadata": {
        "id": "B_D9jJX7tBfo"
      }
    },
    {
      "cell_type": "code",
      "source": [
        "def check_age(age):\n",
        "  if age < 0:\n",
        "    raise ValueError(\"Age cannot be negative!\")\n",
        "  else:\n",
        "    print(\"Age is valid\", age)\n",
        "\n",
        "try:\n",
        "  age_input = int(input(\"Enter your age:\"))\n",
        "  check_age(age_input)\n",
        "except ValueError as ve:\n",
        "  print(\"Error:\", ve)"
      ],
      "metadata": {
        "colab": {
          "base_uri": "https://localhost:8080/"
        },
        "id": "1DPxxDEUsw45",
        "outputId": "8521b87e-368e-46f4-fd3d-6e54e9ea3fdb"
      },
      "execution_count": 22,
      "outputs": [
        {
          "output_type": "stream",
          "name": "stdout",
          "text": [
            "Enter your age:34\n",
            "Age is valid 34\n"
          ]
        }
      ]
    },
    {
      "cell_type": "markdown",
      "source": [
        "### ✅ Day 6: OOP - Part 1 (Classes & Objects)\n",
        "- Defining classes\n",
        "- __init__ constructor\n",
        "- Attributes and Methods\n",
        "\n",
        "🔹 Practice:\n",
        "- Build a Student class\n",
        "- Create multiple objects"
      ],
      "metadata": {
        "id": "_Gk2F2IEvVp4"
      }
    },
    {
      "cell_type": "markdown",
      "source": [
        "\"OOP, or Object-Oriented Programming, is a programming style based on the concept of objects. These objects can hold data (called **attributes**) and functions (called **methods**) that act on the data.\n",
        "\n",
        "OOP makes code more organized, reusable, and easier to maintain. The main principles of OOP are:\n",
        "\n",
        "- **Encapsulation:** Bundling data and methods together in one unit (a class), and hiding internal details from outside access.\n",
        "\n",
        "- **Inheritance:** A way to create new classes from existing ones, allowing code reuse and extension.\n",
        "\n",
        "- **Polymorphism:** The ability to use the same function name or interface in different ways depending on the context.\n",
        "\n",
        "- **Abstraction:** Hiding complex details and showing only the necessary parts of an object.\n",
        "\n"
      ],
      "metadata": {
        "id": "8fWj63DtvgT7"
      }
    },
    {
      "cell_type": "code",
      "source": [
        "class Student:\n",
        "  def __init__ (self, name, age, grade):\n",
        "    self.name = name\n",
        "    self.age = age\n",
        "    self.grade = grade\n",
        "\n",
        "  def display_info(self):\n",
        "    print(f\"Name: {self.name}, Age: {self.age}, Grade: {self.grade}\")\n",
        "\n",
        "object1 = Student(\"Ankit\", 25, \"A\")\n",
        "object2 = Student(\"Kapil\", 26, \"B\")\n",
        "object3 = Student(\"Ravi\", 22, \"D\")\n",
        "object1.display_info()\n",
        "object2.display_info()\n",
        "object3.display_info()"
      ],
      "metadata": {
        "colab": {
          "base_uri": "https://localhost:8080/"
        },
        "id": "_qthE608vXcp",
        "outputId": "38a2f8a8-147c-496d-bdb7-a405b001353a"
      },
      "execution_count": 5,
      "outputs": [
        {
          "output_type": "stream",
          "name": "stdout",
          "text": [
            "Name: Ankit, Age: 25, Grade: A\n",
            "Name: Kapil, Age: 26, Grade: B\n",
            "Name: Ravi, Age: 22, Grade: D\n"
          ]
        }
      ]
    },
    {
      "cell_type": "markdown",
      "source": [
        "\n",
        "### ✅ Day 7: OOP - Part 2 (Inheritance)\n",
        "- Inheritance\n",
        "- Method Overriding\n",
        "- super() keyword\n",
        "\n",
        "🔹 Practice:\n",
        "- Vehicle class → Car subclass\n",
        "- Override method"
      ],
      "metadata": {
        "id": "_Cq8xDOOySnU"
      }
    },
    {
      "cell_type": "markdown",
      "source": [
        "####🧬 What You’ll Learn:\n",
        "**Inheritance:** When one class (child) gets the properties and methods of another (parent).\n",
        "\n",
        "**Method Overriding:** Changing the behavior of a method in the child class.\n",
        "\n",
        "**super()** keyword: Used to call methods of the parent class.\n",
        "\n",
        "--------\n",
        "\n",
        "🔸 What is Inheritance?\n",
        "\n",
        "Inheritance allows us to define a class that **inherits** all the methods and properties from another class.\n",
        "\n",
        "**Parent class:** The class being inherited from.\n",
        "\n",
        "**Child class:** The class that inherits from the parent.\n",
        "\n"
      ],
      "metadata": {
        "id": "uC4MZbFIyp-K"
      }
    },
    {
      "cell_type": "code",
      "source": [
        "# Parent class\n",
        "class Vehicle:\n",
        "    def __init__(self, brand, model):\n",
        "        self.brand = brand\n",
        "        self.model = model\n",
        "\n",
        "    def display_info(self):\n",
        "        print(f\"Brand: {self.brand}, Model: {self.model}\")\n",
        "\n",
        "# Child class inheriting from Vehicle\n",
        "class Car(Vehicle):\n",
        "    def __init__(self, brand, model, color):\n",
        "        super().__init__(brand, model)  # Call parent constructor\n",
        "        self.color = color\n",
        "\n",
        "# Method overriding\n",
        "    def display_info(self):\n",
        "        super().display_info()  # Call parent method\n",
        "        print(f\"Color: {self.color}\")\n",
        "\n",
        "# Creating objects\n",
        "car1 = Car(\"Toyota\", \"Camry\", \"Red\")\n",
        "car2 = Car(\"Honda\", \"Civic\", \"Blue\")\n",
        "\n",
        "car1.display_info()\n",
        "car2.display_info()"
      ],
      "metadata": {
        "colab": {
          "base_uri": "https://localhost:8080/"
        },
        "id": "fHKQ9R2xyThn",
        "outputId": "0843aebd-3bbb-42bb-f2ee-f39c8b12a2ca"
      },
      "execution_count": 6,
      "outputs": [
        {
          "output_type": "stream",
          "name": "stdout",
          "text": [
            "Brand: Toyota, Model: Camry\n",
            "Color: Red\n",
            "Brand: Honda, Model: Civic\n",
            "Color: Blue\n"
          ]
        }
      ]
    },
    {
      "cell_type": "markdown",
      "source": [
        "### ✅ Day 8: OOP Extras\n",
        "- Encapsulation (_private, __very_private)\n",
        "- Dunder methods: __str__, __repr__   (short for representation)\n",
        "- Class & Static methods\n",
        "\n",
        "🔹 Practice:\n",
        "- Add __str__ to display object\n",
        "- Count how many objects created\n",
        "\n",
        "----------------------------------"
      ],
      "metadata": {
        "id": "ZcVQR1PQ2KyA"
      }
    },
    {
      "cell_type": "markdown",
      "source": [
        "🔹 **Encapsulation:**\n",
        "Encapsulation means hiding internal details of how an object works.\n",
        "\n",
        "We can make variables \"private\" or \"protected\" by using:\n",
        "\n",
        "- _name → protected (just a convention, still accessible)\n",
        "- __name → private (Python changes the name internally to avoid access)\n",
        "\n",
        "🔹 **Dunder Methods:**\n",
        "**Dunder** means **Double Underscore**, like __str__, __repr__.\n",
        "\n",
        "- __str__() → Used when you print an object → gives a **user-friendly** message.\n",
        "- __repr__() → Used by developers for **debugging** → shows object info clearly.\n",
        "\n",
        "🔹 **Class Methods:**\n",
        "- Use `@classmethod` decorator.\n",
        "- First argument is `cls` (not `self`).\n",
        "- It works with **class-level** data, not instance.\n",
        "\n",
        "🔹 **Static Methods:**\n",
        "- Use `@staticmethod` decorator.\n",
        "- Does **not** need self or cls.\n",
        "- Just like a normal function but inside a class.\n"
      ],
      "metadata": {
        "id": "ynnn__hv4k-4"
      }
    },
    {
      "cell_type": "code",
      "source": [
        "#Encapsulation in Python\n",
        "class Student:\n",
        "    def __init__(self, name, age):\n",
        "        self.name = name\n",
        "        self._age = age  # Protected attribute\n",
        "\n",
        "    def display(self):\n",
        "        print(f\"Name: {self.name}, Age: {self._age}\")\n",
        "\n",
        "student1 = Student(\"Ankit\", 25)\n",
        "student1.display()"
      ],
      "metadata": {
        "colab": {
          "base_uri": "https://localhost:8080/"
        },
        "id": "B58D1cRh2LpO",
        "outputId": "044bfaea-50dc-4825-b64f-d7cb74003021"
      },
      "execution_count": 7,
      "outputs": [
        {
          "output_type": "stream",
          "name": "stdout",
          "text": [
            "Name: Ankit, Age: 25\n"
          ]
        }
      ]
    },
    {
      "cell_type": "code",
      "source": [
        "#Dunder Method: __str__\n",
        "class Book:\n",
        "    def __init__(self, title, author):\n",
        "        self.title = title\n",
        "        self.author = author\n",
        "\n",
        "    def __str__(self):\n",
        "        return f\"Book: {self.title} by {self.author}\"\n",
        "\n",
        "book1 = Book(\"1984\", \"George Orwell\")\n",
        "print(book1)"
      ],
      "metadata": {
        "colab": {
          "base_uri": "https://localhost:8080/"
        },
        "id": "_qeuf16f2L0l",
        "outputId": "0935c5e5-688e-4ee1-a38c-00dfff76f4ad"
      },
      "execution_count": 7,
      "outputs": [
        {
          "output_type": "stream",
          "name": "stdout",
          "text": [
            "Book: 1984 by George Orwell\n"
          ]
        }
      ]
    },
    {
      "cell_type": "code",
      "source": [
        "class Person:\n",
        "    def __init__(self, name, age):\n",
        "        self.name = name\n",
        "        self.age = age\n",
        "\n",
        "    def __repr__(self):\n",
        "        return (f\"Person:'{self.name} {self.age}\")\n",
        "\n",
        "p = Person(\"Ankit\", 25)\n",
        "print(p)           # ➡️ Uses __repr__ if __str__ is not defined\n",
        "print(repr(p))     # ➡️ Always uses __repr__"
      ],
      "metadata": {
        "colab": {
          "base_uri": "https://localhost:8080/"
        },
        "id": "OmKXQx82MTy3",
        "outputId": "8c2ae171-fe57-47c9-846f-7647b9c4e124"
      },
      "execution_count": 10,
      "outputs": [
        {
          "output_type": "stream",
          "name": "stdout",
          "text": [
            "Person:'Ankit 25\n",
            "Person:'Ankit 25\n"
          ]
        }
      ]
    },
    {
      "cell_type": "markdown",
      "source": [
        "####🔸 Class Variable & Class Method:\n",
        "Used to share the same variable across all objects."
      ],
      "metadata": {
        "id": "ANfyrIt571Cs"
      }
    },
    {
      "cell_type": "code",
      "source": [
        "class Counter:\n",
        "  count = 0  # Class variable\n",
        "\n",
        "  def __init__(self):\n",
        "    Counter.count += 1  # Increment class variable01:06:50\n",
        "\n",
        "  @classmethod\n",
        "  def get_count(cls):\n",
        "    return cls.count\n",
        "\n",
        "counter1 = Counter()\n",
        "counter2 = Counter()\n",
        "counter3 = Counter()\n",
        "print(Counter.get_count())"
      ],
      "metadata": {
        "colab": {
          "base_uri": "https://localhost:8080/"
        },
        "id": "C3_xnhGX7k7a",
        "outputId": "29b47e79-7550-4b0f-852a-fe0a9bc726c5"
      },
      "execution_count": 1,
      "outputs": [
        {
          "output_type": "stream",
          "name": "stdout",
          "text": [
            "3\n"
          ]
        }
      ]
    },
    {
      "cell_type": "markdown",
      "source": [
        "####🔸 Static Method:\n",
        "A method that doesn’t use `self` or `cls`. Works like a regular function but is inside the class."
      ],
      "metadata": {
        "id": "q7UTkPWd8_sY"
      }
    },
    {
      "cell_type": "code",
      "source": [
        "class MathTool:\n",
        "  @staticmethod\n",
        "  def add(a, b):\n",
        "    return a + b\n",
        "\n",
        "print(MathTool.add(15, 19))"
      ],
      "metadata": {
        "colab": {
          "base_uri": "https://localhost:8080/"
        },
        "id": "OMpkJ50x9Jbn",
        "outputId": "50165ac5-8f76-4a74-fe54-11afc9c4fec4"
      },
      "execution_count": 2,
      "outputs": [
        {
          "output_type": "stream",
          "name": "stdout",
          "text": [
            "34\n"
          ]
        }
      ]
    },
    {
      "cell_type": "code",
      "source": [
        "class Student:\n",
        "    # Class variable to count number of students\n",
        "    student_count = 0\n",
        "\n",
        "    def __init__(self, name, age):\n",
        "        self.name = name            # public attribute\n",
        "        self._age = age             # protected attribute (by convention)\n",
        "        self.__marks = 0            # private attribute (name mangling)\n",
        "        Student.student_count += 1\n",
        "\n",
        "    def set_marks(self, marks):\n",
        "        if marks >= 0:\n",
        "            self.__marks = marks\n",
        "\n",
        "    def get_marks(self):\n",
        "        return self.__marks\n",
        "\n",
        "    def __str__(self):\n",
        "        return f\"Student: {self.name}, Age: {self._age}\"\n",
        "\n",
        "    def __repr__(self):\n",
        "        return f\"Student(name={self.name}, age={self._age})\"\n",
        "\n",
        "    @classmethod\n",
        "    def get_total_students(cls):\n",
        "        return f\"Total students: {cls.student_count}\"\n",
        "\n",
        "    @staticmethod\n",
        "    def school_info():\n",
        "        print(\"Welcome to MPM School!\")\n",
        "\n",
        "# Creating student objects\n",
        "s1 = Student(\"Ankit\", 20)\n",
        "s2 = Student(\"Riya\", 21)\n",
        "\n",
        "s1.set_marks(88)\n",
        "\n",
        "print(s1)                      # __str__ called\n",
        "print(repr(s2))               # __repr__ called\n",
        "print(s1.get_marks())         # Accessing private attribute\n",
        "print(Student.get_total_students())  # Class method\n",
        "Student.school_info()         # Static method\n"
      ],
      "metadata": {
        "colab": {
          "base_uri": "https://localhost:8080/"
        },
        "id": "_-3VL2M0Lmh_",
        "outputId": "f2c3f7fe-6387-4839-ecc1-fc24ac2692a0"
      },
      "execution_count": 12,
      "outputs": [
        {
          "output_type": "stream",
          "name": "stdout",
          "text": [
            "Student: Ankit, Age: 20\n",
            "Student(name=Riya, age=21)\n",
            "88\n",
            "Total students: 2\n",
            "Welcome to MPM School!\n"
          ]
        }
      ]
    },
    {
      "cell_type": "markdown",
      "source": [
        "### ✅ Day 9: Built-in Modules\n",
        "- math, random, datetime, os\n",
        "\n",
        "🔹 Practice:\n",
        "- Random password generator\n",
        "- Print today’s date and weekday"
      ],
      "metadata": {
        "id": "kX_9GLfmQvem"
      }
    },
    {
      "cell_type": "code",
      "source": [
        "from datetime import datetime\n",
        "\n",
        "today = datetime.now()\n",
        "print(\"Today’s date:\", today.date())\n",
        "print(\"Day of week:\", today.strftime(\"%A\"))"
      ],
      "metadata": {
        "colab": {
          "base_uri": "https://localhost:8080/"
        },
        "id": "HbJQ8amtQxNq",
        "outputId": "3517f70b-825e-44d8-82ae-277a950f1604"
      },
      "execution_count": 19,
      "outputs": [
        {
          "output_type": "stream",
          "name": "stdout",
          "text": [
            "Today’s date: 2025-04-13\n",
            "Day of week: Sunday\n"
          ]
        }
      ]
    },
    {
      "cell_type": "code",
      "source": [
        "month = today.strftime(\"%B\")\n",
        "print(\"Month:\", month)"
      ],
      "metadata": {
        "colab": {
          "base_uri": "https://localhost:8080/"
        },
        "id": "mM5Gfdk8QxkT",
        "outputId": "1772d657-a699-4a4e-fd74-73f7849ca703"
      },
      "execution_count": 14,
      "outputs": [
        {
          "output_type": "stream",
          "name": "stdout",
          "text": [
            "Month: April\n"
          ]
        }
      ]
    },
    {
      "cell_type": "code",
      "source": [
        "year = today.strftime(\"%Y\")\n",
        "print(\"Year:\", year)"
      ],
      "metadata": {
        "colab": {
          "base_uri": "https://localhost:8080/"
        },
        "id": "6rPKv8LGRqoE",
        "outputId": "336865cc-35d1-4ba6-e736-82fd92c68e85"
      },
      "execution_count": 15,
      "outputs": [
        {
          "output_type": "stream",
          "name": "stdout",
          "text": [
            "Year: 2025\n"
          ]
        }
      ]
    },
    {
      "cell_type": "markdown",
      "source": [
        "####🔸 Random password generator:"
      ],
      "metadata": {
        "id": "IAAqQpVfSI0C"
      }
    },
    {
      "cell_type": "code",
      "source": [
        "import random\n",
        "import string\n",
        "\n",
        "def generate_password(length=12):\n",
        "    characters = string.ascii_letters + string.digits + string.punctuation\n",
        "    password = ''.join(random.choice(characters) for i in range(length))\n",
        "    return password\n",
        "\n",
        "print(generate_password())"
      ],
      "metadata": {
        "colab": {
          "base_uri": "https://localhost:8080/"
        },
        "id": "D7w_YmtHSPcb",
        "outputId": "174ed15d-5afd-4bb3-da61-6c78cd7fa36c"
      },
      "execution_count": 35,
      "outputs": [
        {
          "output_type": "stream",
          "name": "stdout",
          "text": [
            "l~;9sGct$]L6\n"
          ]
        }
      ]
    },
    {
      "cell_type": "markdown",
      "source": [
        "1. `string.ascii_letters`  \n",
        "✅ It contains all the letters in the alphabet:  \n",
        "`'abcdefghijklmnopqrstuvwxyzABCDEFGHIJKLMNOPQRSTUVWXYZ'`  \n",
        "(All lowercase + uppercase letters)\n",
        "\n",
        "2. `string.digits`  \n",
        "✅ It contains all the digits:  \n",
        "`'0123456789'`\n",
        "\n",
        "3. `string.punctuation`  \n",
        "✅ It contains all common punctuation/special characters:  \n",
        "`'!\"#$%&\\'()*+,-./:;<=>?@[\\\\]^_{|}~'`    \n",
        "\n",
        "🔄 **When we add them together:**  \n",
        "You get a single long string that includes:\n",
        "\n",
        "- All letters (a-z, A-Z)  \n",
        "- All digits (0-9)  \n",
        "- All symbols (like @, #, %, etc.)\n",
        "\n",
        "\n",
        "\n",
        "\n",
        "\n",
        "  **^** is called a caret\n"
      ],
      "metadata": {
        "id": "QT4OBkjzVhcd"
      }
    },
    {
      "cell_type": "markdown",
      "source": [
        "####🔸 Print today’s date and weekday:"
      ],
      "metadata": {
        "id": "dZlu5LKbTdBW"
      }
    },
    {
      "cell_type": "code",
      "source": [
        "from datetime import datetime\n",
        "\n",
        "today = datetime.now()\n",
        "print(\"Date:\", today.strftime(\"%Y-%m-%d\"))\n",
        "print(\"Date:\", today.strftime(\"%d-%m-%Y\"))\n",
        "print(\"Weekday:\", today.strftime(\"%A\"))"
      ],
      "metadata": {
        "colab": {
          "base_uri": "https://localhost:8080/"
        },
        "id": "rl9vsZojTe8p",
        "outputId": "4f5e61d5-33fd-4d66-aeb0-6099bb66a825"
      },
      "execution_count": 43,
      "outputs": [
        {
          "output_type": "stream",
          "name": "stdout",
          "text": [
            "Date: 2025-04-13\n",
            "Date: 13-04-2025\n",
            "Weekday: Sunday\n"
          ]
        }
      ]
    },
    {
      "cell_type": "markdown",
      "source": [
        "### ✅ Day 10: Collections Module\n",
        "- Counter, defaultdict, namedtuple\n",
        "\n",
        "🔹 Practice:\n",
        "- Word frequency counter\n",
        "- Employee record with namedtuple\n"
      ],
      "metadata": {
        "id": "hxRSUzd0WllG"
      }
    },
    {
      "cell_type": "markdown",
      "source": [
        "The `collections` module provides useful alternatives to built-in types.\n",
        "\n",
        "---\n",
        "\n",
        "#### 🔹 Topics Covered:\n",
        "- `Counter`: Counts occurrences of elements.\n",
        "- `defaultdict`: Dictionary with default values.\n",
        "- `namedtuple`: Tuples with named fields.\n",
        "\n",
        "---"
      ],
      "metadata": {
        "id": "GEbV9FauU6Wn"
      }
    },
    {
      "cell_type": "markdown",
      "source": [
        "#### 1️⃣ Counter\n",
        "- A dictionary subclass for counting hashable objects.\n"
      ],
      "metadata": {
        "id": "p4dBaHpjQkLI"
      }
    },
    {
      "cell_type": "code",
      "source": [
        "from collections import Counter\n",
        "\n",
        "text = \"apple banana apple orange banana apple\"\n",
        "word_counts = Counter(text.split())\n",
        "print(word_counts)  # Output: Counter({'apple': 3, 'banana': 2, 'orange': 1})"
      ],
      "metadata": {
        "colab": {
          "base_uri": "https://localhost:8080/"
        },
        "id": "narIjAhtWnj5",
        "outputId": "18a2ca56-bf1a-4dd3-cc94-8d24c7c9814c"
      },
      "execution_count": 1,
      "outputs": [
        {
          "output_type": "stream",
          "name": "stdout",
          "text": [
            "Counter({'apple': 3, 'banana': 2, 'orange': 1})\n"
          ]
        }
      ]
    },
    {
      "cell_type": "markdown",
      "source": [
        "####2️⃣ defaultdict\n",
        "Like a normal dictionary but provides a default value for missing keys."
      ],
      "metadata": {
        "id": "ES_49hlJRqeC"
      }
    },
    {
      "cell_type": "code",
      "source": [
        "from collections import defaultdict\n",
        "\n",
        "d = defaultdict(int)\n",
        "d['a'] += 1\n",
        "d['b'] += 2\n",
        "\n",
        "print(d)"
      ],
      "metadata": {
        "colab": {
          "base_uri": "https://localhost:8080/"
        },
        "id": "87_YBLddWn1W",
        "outputId": "d0e5ed43-4f13-44cc-a957-ad58f606b452"
      },
      "execution_count": 6,
      "outputs": [
        {
          "output_type": "stream",
          "name": "stdout",
          "text": [
            "defaultdict(<class 'int'>, {'a': 1, 'b': 2})\n"
          ]
        }
      ]
    },
    {
      "cell_type": "markdown",
      "source": [
        "####3️⃣ namedtuple\n",
        "Lets you create tuple-like objects with named fields."
      ],
      "metadata": {
        "id": "tHg37vC7S31Y"
      }
    },
    {
      "cell_type": "code",
      "source": [
        "from collections import namedtuple\n",
        "\n",
        "Employee = namedtuple('Employee', ['name', 'age', 'salary'])\n",
        "\n",
        "emp1 = Employee(name='Ankit', age=25, salary=50000)\n",
        "emp2 = Employee(name='Riya', age=28, salary=60000)\n",
        "print(emp1.age)  # Output: Ankit"
      ],
      "metadata": {
        "colab": {
          "base_uri": "https://localhost:8080/"
        },
        "id": "gxUdE-QuS5rH",
        "outputId": "0dd55ee7-c77b-421d-b075-667cb0dc71ff"
      },
      "execution_count": 11,
      "outputs": [
        {
          "output_type": "stream",
          "name": "stdout",
          "text": [
            "25\n"
          ]
        }
      ]
    },
    {
      "cell_type": "markdown",
      "source": [
        "####✅ These tools are great for cleaner and more efficient code when dealing with structured or counted data."
      ],
      "metadata": {
        "id": "n3i63aLrVyYt"
      }
    },
    {
      "cell_type": "markdown",
      "source": [
        "#### 🔹 Practice Ideas:\n",
        "\n",
        "1️⃣ **Word Frequency Counter using Counter**"
      ],
      "metadata": {
        "id": "USZJrzFVUrJj"
      }
    },
    {
      "cell_type": "code",
      "source": [
        "from collections import Counter\n",
        "\n",
        "text = \"python is fun and learning python is easy\"\n",
        "word_list = text.split()\n",
        "word_count = Counter(word_list)\n",
        "print(word_count)"
      ],
      "metadata": {
        "colab": {
          "base_uri": "https://localhost:8080/"
        },
        "id": "Q9qesfVwVbE-",
        "outputId": "6d93789f-a6ad-4378-ab25-0d8b1e959c67"
      },
      "execution_count": 12,
      "outputs": [
        {
          "output_type": "stream",
          "name": "stdout",
          "text": [
            "Counter({'python': 2, 'is': 2, 'fun': 1, 'and': 1, 'learning': 1, 'easy': 1})\n"
          ]
        }
      ]
    },
    {
      "cell_type": "markdown",
      "source": [
        "2️⃣ Employee Record using namedtuple"
      ],
      "metadata": {
        "id": "ypuqs5v6VdzZ"
      }
    },
    {
      "cell_type": "code",
      "source": [
        "from collections import namedtuple\n",
        "\n",
        "Employee = namedtuple(\"Employee\", \"name department salary\")\n",
        "emp1 = Employee(\"Aman\", \"HR\", 45000)\n",
        "emp2 = Employee(\"Riya\", \"IT\", 70000)\n",
        "\n",
        "print(emp1.name, emp1.salary)\n",
        "print(emp2.department)\n"
      ],
      "metadata": {
        "colab": {
          "base_uri": "https://localhost:8080/"
        },
        "id": "E7hHHgELhInL",
        "outputId": "9cedc042-a38d-405c-97d7-f961e24d18da"
      },
      "execution_count": 13,
      "outputs": [
        {
          "output_type": "stream",
          "name": "stdout",
          "text": [
            "Aman 45000\n",
            "IT\n"
          ]
        }
      ]
    },
    {
      "cell_type": "markdown",
      "source": [
        "### ✅ Day 11: Working with APIs\n",
        "- requests module\n",
        "- REST API & JSON\n",
        "\n",
        "🔹 Practice:\n",
        "- Get weather using OpenWeatherMap API\n",
        "- Fetch random joke or quote"
      ],
      "metadata": {
        "id": "UJ6Y08SUWQgj"
      }
    },
    {
      "cell_type": "markdown",
      "source": [
        "#### 🔹 Topics Covered:\n",
        "\n",
        "- `requests` module: Used to send HTTP requests in Python.\n",
        "\n",
        "- REST API: APIs that follow RESTful principles (GET, POST, etc.).\n",
        "\n",
        "- Working with JSON: Parsing JSON responses using `.json()`.\n"
      ],
      "metadata": {
        "id": "aEA_tOt2Wmfg"
      }
    },
    {
      "cell_type": "markdown",
      "source": [
        "2️⃣ Fetch a Random Joke"
      ],
      "metadata": {
        "id": "-mjVXsjjW0Ia"
      }
    },
    {
      "cell_type": "code",
      "source": [
        "import requests\n",
        "\n",
        "url = \"https://official-joke-api.appspot.com/random_joke\"\n",
        "response = requests.get(url)\n",
        "joke = response.json()\n",
        "\n",
        "print(f\"{joke['setup']}\")\n",
        "print(f\"{joke['punchline']}\")"
      ],
      "metadata": {
        "colab": {
          "base_uri": "https://localhost:8080/"
        },
        "id": "PKRiGCVhhIzL",
        "outputId": "1c938971-a11a-44ea-baa4-9847870766ee"
      },
      "execution_count": 14,
      "outputs": [
        {
          "output_type": "stream",
          "name": "stdout",
          "text": [
            "How does a dyslexic poet write?\n",
            "Inverse.\n"
          ]
        }
      ]
    },
    {
      "cell_type": "markdown",
      "source": [
        "### ✅ Day 12: Modules & Packages\n",
        "- import, from module import\n",
        "- Create your own module\n",
        "- __name__ == \"__main__\"\n",
        "\n",
        "🔹 Practice:\n",
        "- Create math_operations.py\n",
        "- Import in another file"
      ],
      "metadata": {
        "id": "E5M7um1wYBRO"
      }
    },
    {
      "cell_type": "markdown",
      "source": [
        "#### 🔹 Topics Covered:\n",
        "\n",
        "- `import module_name`: Import a full module\n",
        "- `from module_name import function`: Import specific parts\n",
        "- Creating your own module (your_module.py)\n",
        "- `if __name__ == \"__main__\"`: To run code only when file is executed directly\n",
        "\n",
        "---\n",
        "\n",
        "#### 🔹 Practice:\n",
        "\n",
        "🧮 Step 1: Create a file called `math_operations.py`\n"
      ],
      "metadata": {
        "id": "rXPMmFPORHza"
      }
    },
    {
      "cell_type": "code",
      "source": [
        "# math_operations.py\n",
        "%%writefile math_operations.py\n",
        "\n",
        "def add(a, b):\n",
        "    return a + b\n",
        "\n",
        "def subtract(a, b):\n",
        "    return a - b\n",
        "\n",
        "def multiply(a, b):\n",
        "    return a * b\n",
        "\n",
        "def divide(a, b):\n",
        "    if b != 0:\n",
        "        return a / b\n",
        "    else:\n",
        "        return \"Cannot divide by zero\"\n",
        "\n",
        "if __name__ == \"__main__\":\n",
        "    print(\"This is a utility module for math operations.\")"
      ],
      "metadata": {
        "colab": {
          "base_uri": "https://localhost:8080/"
        },
        "id": "mfH86LYGg00P",
        "outputId": "a35d367c-5d88-4e99-84bc-a43b3b497cea"
      },
      "execution_count": 6,
      "outputs": [
        {
          "output_type": "stream",
          "name": "stdout",
          "text": [
            "Writing math_operations.py\n"
          ]
        }
      ]
    },
    {
      "cell_type": "markdown",
      "source": [
        "\n",
        "🧪 Step 2: Use this module in another file"
      ],
      "metadata": {
        "id": "AMzNV2ccSY1Q"
      }
    },
    {
      "cell_type": "code",
      "source": [
        "import math_operations as mo\n",
        "\n",
        "print(mo.add(5000, 3))\n",
        "print(mo.subtract(20, 17))\n",
        "print(mo.multiply(4, 6))\n",
        "print(mo.divide(10, 2))"
      ],
      "metadata": {
        "colab": {
          "base_uri": "https://localhost:8080/"
        },
        "id": "NEhs7s4nTXCK",
        "outputId": "93bbd5dc-738a-429a-d882-d8efacbb73be"
      },
      "execution_count": 9,
      "outputs": [
        {
          "output_type": "stream",
          "name": "stdout",
          "text": [
            "5003\n",
            "3\n",
            "24\n",
            "5.0\n"
          ]
        }
      ]
    },
    {
      "cell_type": "markdown",
      "source": [
        "### ✅ Day 13: Virtual Environments & pip\n",
        "- venv: virtual environments\n",
        "- pip install\n",
        "- requirements.txt\n",
        "\n",
        "🔹 Practice:\n",
        "- Create venv, install requests"
      ],
      "metadata": {
        "id": "5Nnq2pVtUJW1"
      }
    },
    {
      "cell_type": "markdown",
      "source": [
        "###🔹 Virtual Environment (venv):\n",
        "\n",
        "A virtual environment is a self-contained directory where your project can have its own dependencies, independent from system-wide Python.\n",
        "\n",
        "✅ Create a virtual environment:"
      ],
      "metadata": {
        "id": "quysApyCUmBM"
      }
    },
    {
      "cell_type": "code",
      "source": [],
      "metadata": {
        "id": "B_lE-5jGUKGT"
      },
      "execution_count": null,
      "outputs": []
    },
    {
      "cell_type": "markdown",
      "source": [
        "###🔹 pip install:\n",
        "\n",
        "pip is the package manager for Python. You use it to install external libraries.\n",
        "\n",
        "✅ Install a package:"
      ],
      "metadata": {
        "id": "556cSv6VVids"
      }
    },
    {
      "cell_type": "code",
      "source": [
        "!pip install requests"
      ],
      "metadata": {
        "colab": {
          "base_uri": "https://localhost:8080/"
        },
        "id": "DTrGEeioVozD",
        "outputId": "6a8d7a99-72fd-466a-a72e-2b69c00b41d0"
      },
      "execution_count": 10,
      "outputs": [
        {
          "output_type": "stream",
          "name": "stdout",
          "text": [
            "Requirement already satisfied: requests in /usr/local/lib/python3.11/dist-packages (2.32.3)\n",
            "Requirement already satisfied: charset-normalizer<4,>=2 in /usr/local/lib/python3.11/dist-packages (from requests) (3.4.1)\n",
            "Requirement already satisfied: idna<4,>=2.5 in /usr/local/lib/python3.11/dist-packages (from requests) (3.10)\n",
            "Requirement already satisfied: urllib3<3,>=1.21.1 in /usr/local/lib/python3.11/dist-packages (from requests) (2.3.0)\n",
            "Requirement already satisfied: certifi>=2017.4.17 in /usr/local/lib/python3.11/dist-packages (from requests) (2025.1.31)\n"
          ]
        }
      ]
    },
    {
      "cell_type": "markdown",
      "source": [
        "✅ Check installed packages:"
      ],
      "metadata": {
        "id": "XToD-1a6V5lV"
      }
    },
    {
      "cell_type": "code",
      "source": [
        "!pip list"
      ],
      "metadata": {
        "colab": {
          "base_uri": "https://localhost:8080/"
        },
        "id": "MzYHi8ayV-TV",
        "outputId": "4fbc4a17-1a81-4f43-8d31-34b668b0ab2b"
      },
      "execution_count": 12,
      "outputs": [
        {
          "output_type": "stream",
          "name": "stdout",
          "text": [
            "Package                               Version\n",
            "------------------------------------- ------------------\n",
            "absl-py                               1.4.0\n",
            "accelerate                            1.5.2\n",
            "aiohappyeyeballs                      2.6.1\n",
            "aiohttp                               3.11.15\n",
            "aiosignal                             1.3.2\n",
            "alabaster                             1.0.0\n",
            "albucore                              0.0.23\n",
            "albumentations                        2.0.5\n",
            "ale-py                                0.10.2\n",
            "altair                                5.5.0\n",
            "annotated-types                       0.7.0\n",
            "anyio                                 4.9.0\n",
            "argon2-cffi                           23.1.0\n",
            "argon2-cffi-bindings                  21.2.0\n",
            "array_record                          0.7.1\n",
            "arviz                                 0.21.0\n",
            "astropy                               7.0.1\n",
            "astropy-iers-data                     0.2025.4.7.0.35.30\n",
            "astunparse                            1.6.3\n",
            "atpublic                              5.1\n",
            "attrs                                 25.3.0\n",
            "audioread                             3.0.1\n",
            "autograd                              1.7.0\n",
            "babel                                 2.17.0\n",
            "backcall                              0.2.0\n",
            "backports.tarfile                     1.2.0\n",
            "beautifulsoup4                        4.13.3\n",
            "betterproto                           2.0.0b6\n",
            "bigframes                             1.42.0\n",
            "bigquery-magics                       0.9.0\n",
            "bleach                                6.2.0\n",
            "blinker                               1.9.0\n",
            "blis                                  1.3.0\n",
            "blosc2                                3.3.0\n",
            "bokeh                                 3.6.3\n",
            "Bottleneck                            1.4.2\n",
            "bqplot                                0.12.44\n",
            "branca                                0.8.1\n",
            "CacheControl                          0.14.2\n",
            "cachetools                            5.5.2\n",
            "catalogue                             2.0.10\n",
            "certifi                               2025.1.31\n",
            "cffi                                  1.17.1\n",
            "chardet                               5.2.0\n",
            "charset-normalizer                    3.4.1\n",
            "chex                                  0.1.89\n",
            "clarabel                              0.10.0\n",
            "click                                 8.1.8\n",
            "cloudpathlib                          0.21.0\n",
            "cloudpickle                           3.1.1\n",
            "cmake                                 3.31.6\n",
            "cmdstanpy                             1.2.5\n",
            "colorcet                              3.1.0\n",
            "colorlover                            0.3.0\n",
            "colour                                0.1.5\n",
            "community                             1.0.0b1\n",
            "confection                            0.1.5\n",
            "cons                                  0.4.6\n",
            "contourpy                             1.3.1\n",
            "cramjam                               2.9.1\n",
            "cryptography                          43.0.3\n",
            "cuda-python                           12.6.2.post1\n",
            "cudf-cu12                             25.2.1\n",
            "cudf-polars-cu12                      25.2.2\n",
            "cufflinks                             0.17.3\n",
            "cuml-cu12                             25.2.1\n",
            "cupy-cuda12x                          13.3.0\n",
            "cuvs-cu12                             25.2.1\n",
            "cvxopt                                1.3.2\n",
            "cvxpy                                 1.6.4\n",
            "cycler                                0.12.1\n",
            "cyipopt                               1.5.0\n",
            "cymem                                 2.0.11\n",
            "Cython                                3.0.12\n",
            "dask                                  2024.12.1\n",
            "dask-cuda                             25.2.0\n",
            "dask-cudf-cu12                        25.2.2\n",
            "dask-expr                             1.1.21\n",
            "datascience                           0.17.6\n",
            "db-dtypes                             1.4.2\n",
            "dbus-python                           1.2.18\n",
            "debugpy                               1.8.0\n",
            "decorator                             4.4.2\n",
            "defusedxml                            0.7.1\n",
            "Deprecated                            1.2.18\n",
            "diffusers                             0.32.2\n",
            "distributed                           2024.12.1\n",
            "distributed-ucxx-cu12                 0.42.0\n",
            "distro                                1.9.0\n",
            "dlib                                  19.24.6\n",
            "dm-tree                               0.1.9\n",
            "docker-pycreds                        0.4.0\n",
            "docstring_parser                      0.16\n",
            "docutils                              0.21.2\n",
            "dopamine_rl                           4.1.2\n",
            "duckdb                                1.2.2\n",
            "earthengine-api                       1.5.9\n",
            "easydict                              1.13\n",
            "editdistance                          0.8.1\n",
            "eerepr                                0.1.1\n",
            "einops                                0.8.1\n",
            "en_core_web_sm                        3.8.0\n",
            "entrypoints                           0.4\n",
            "et_xmlfile                            2.0.0\n",
            "etils                                 1.12.2\n",
            "etuples                               0.3.9\n",
            "Farama-Notifications                  0.0.4\n",
            "fastai                                2.7.19\n",
            "fastcore                              1.7.29\n",
            "fastdownload                          0.0.7\n",
            "fastjsonschema                        2.21.1\n",
            "fastprogress                          1.0.3\n",
            "fastrlock                             0.8.3\n",
            "filelock                              3.18.0\n",
            "firebase-admin                        6.7.0\n",
            "Flask                                 3.1.0\n",
            "flatbuffers                           25.2.10\n",
            "flax                                  0.10.5\n",
            "folium                                0.19.5\n",
            "fonttools                             4.57.0\n",
            "frozendict                            2.4.6\n",
            "frozenlist                            1.5.0\n",
            "fsspec                                2025.3.2\n",
            "future                                1.0.0\n",
            "gast                                  0.6.0\n",
            "gcsfs                                 2025.3.2\n",
            "GDAL                                  3.6.4\n",
            "gdown                                 5.2.0\n",
            "geemap                                0.35.3\n",
            "geocoder                              1.38.1\n",
            "geographiclib                         2.0\n",
            "geopandas                             1.0.1\n",
            "geopy                                 2.4.1\n",
            "gin-config                            0.5.0\n",
            "gitdb                                 4.0.12\n",
            "GitPython                             3.1.44\n",
            "glob2                                 0.7\n",
            "google                                2.0.3\n",
            "google-ai-generativelanguage          0.6.15\n",
            "google-api-core                       2.24.2\n",
            "google-api-python-client              2.164.0\n",
            "google-auth                           2.38.0\n",
            "google-auth-httplib2                  0.2.0\n",
            "google-auth-oauthlib                  1.2.1\n",
            "google-cloud-aiplatform               1.88.0\n",
            "google-cloud-bigquery                 3.31.0\n",
            "google-cloud-bigquery-connection      1.18.2\n",
            "google-cloud-bigquery-storage         2.30.0\n",
            "google-cloud-bigtable                 2.30.0\n",
            "google-cloud-core                     2.4.3\n",
            "google-cloud-dataproc                 5.18.1\n",
            "google-cloud-datastore                2.20.2\n",
            "google-cloud-firestore                2.20.1\n",
            "google-cloud-functions                1.20.2\n",
            "google-cloud-iam                      2.18.3\n",
            "google-cloud-language                 2.17.1\n",
            "google-cloud-pubsub                   2.29.0\n",
            "google-cloud-resource-manager         1.14.2\n",
            "google-cloud-spanner                  3.53.0\n",
            "google-cloud-storage                  2.19.0\n",
            "google-cloud-translate                3.20.2\n",
            "google-colab                          1.0.0\n",
            "google-crc32c                         1.7.1\n",
            "google-genai                          1.10.0\n",
            "google-generativeai                   0.8.4\n",
            "google-pasta                          0.2.0\n",
            "google-resumable-media                2.7.2\n",
            "google-spark-connect                  0.5.2\n",
            "googleapis-common-protos              1.69.2\n",
            "googledrivedownloader                 1.1.0\n",
            "graphviz                              0.20.3\n",
            "greenlet                              3.1.1\n",
            "grpc-google-iam-v1                    0.14.2\n",
            "grpc-interceptor                      0.15.4\n",
            "grpcio                                1.71.0\n",
            "grpcio-status                         1.71.0\n",
            "grpclib                               0.4.7\n",
            "gspread                               6.2.0\n",
            "gspread-dataframe                     4.0.0\n",
            "gym                                   0.25.2\n",
            "gym-notices                           0.0.8\n",
            "gymnasium                             1.1.1\n",
            "h11                                   0.14.0\n",
            "h2                                    4.2.0\n",
            "h5netcdf                              1.6.1\n",
            "h5py                                  3.13.0\n",
            "hdbscan                               0.8.40\n",
            "highspy                               1.9.0\n",
            "holidays                              0.70\n",
            "holoviews                             1.20.2\n",
            "hpack                                 4.1.0\n",
            "html5lib                              1.1\n",
            "httpcore                              1.0.7\n",
            "httpimport                            1.4.1\n",
            "httplib2                              0.22.0\n",
            "httpx                                 0.28.1\n",
            "huggingface-hub                       0.30.2\n",
            "humanize                              4.12.2\n",
            "hyperframe                            6.1.0\n",
            "hyperopt                              0.2.7\n",
            "ibis-framework                        9.5.0\n",
            "idna                                  3.10\n",
            "imageio                               2.37.0\n",
            "imageio-ffmpeg                        0.6.0\n",
            "imagesize                             1.4.1\n",
            "imbalanced-learn                      0.13.0\n",
            "immutabledict                         4.2.1\n",
            "importlib_metadata                    8.6.1\n",
            "importlib_resources                   6.5.2\n",
            "imutils                               0.5.4\n",
            "inflect                               7.5.0\n",
            "iniconfig                             2.1.0\n",
            "intel-cmplr-lib-ur                    2025.1.0\n",
            "intel-openmp                          2025.1.0\n",
            "ipyevents                             2.0.2\n",
            "ipyfilechooser                        0.6.0\n",
            "ipykernel                             6.17.1\n",
            "ipyleaflet                            0.19.2\n",
            "ipyparallel                           8.8.0\n",
            "ipython                               7.34.0\n",
            "ipython-genutils                      0.2.0\n",
            "ipython-sql                           0.5.0\n",
            "ipytree                               0.2.2\n",
            "ipywidgets                            7.7.1\n",
            "itsdangerous                          2.2.0\n",
            "jaraco.classes                        3.4.0\n",
            "jaraco.context                        6.0.1\n",
            "jaraco.functools                      4.1.0\n",
            "jax                                   0.5.2\n",
            "jax-cuda12-pjrt                       0.5.1\n",
            "jax-cuda12-plugin                     0.5.1\n",
            "jaxlib                                0.5.1\n",
            "jeepney                               0.9.0\n",
            "jellyfish                             1.1.0\n",
            "jieba                                 0.42.1\n",
            "Jinja2                                3.1.6\n",
            "jiter                                 0.9.0\n",
            "joblib                                1.4.2\n",
            "jsonpatch                             1.33\n",
            "jsonpickle                            4.0.5\n",
            "jsonpointer                           3.0.0\n",
            "jsonschema                            4.23.0\n",
            "jsonschema-specifications             2024.10.1\n",
            "jupyter-client                        6.1.12\n",
            "jupyter-console                       6.1.0\n",
            "jupyter_core                          5.7.2\n",
            "jupyter-leaflet                       0.19.2\n",
            "jupyter-server                        1.16.0\n",
            "jupyterlab_pygments                   0.3.0\n",
            "jupyterlab_widgets                    3.0.13\n",
            "kaggle                                1.7.4.2\n",
            "kagglehub                             0.3.11\n",
            "keras                                 3.8.0\n",
            "keras-hub                             0.18.1\n",
            "keras-nlp                             0.18.1\n",
            "keyring                               25.6.0\n",
            "keyrings.google-artifactregistry-auth 1.1.2\n",
            "kiwisolver                            1.4.8\n",
            "langchain                             0.3.23\n",
            "langchain-core                        0.3.51\n",
            "langchain-text-splitters              0.3.8\n",
            "langcodes                             3.5.0\n",
            "langsmith                             0.3.28\n",
            "language_data                         1.3.0\n",
            "launchpadlib                          1.10.16\n",
            "lazr.restfulclient                    0.14.4\n",
            "lazr.uri                              1.0.6\n",
            "lazy_loader                           0.4\n",
            "libclang                              18.1.1\n",
            "libcudf-cu12                          25.2.1\n",
            "libcugraph-cu12                       25.2.0\n",
            "libcuml-cu12                          25.2.1\n",
            "libcuvs-cu12                          25.2.1\n",
            "libkvikio-cu12                        25.2.1\n",
            "libraft-cu12                          25.2.0\n",
            "librosa                               0.11.0\n",
            "libucx-cu12                           1.18.0\n",
            "libucxx-cu12                          0.42.0\n",
            "lightgbm                              4.5.0\n",
            "linkify-it-py                         2.0.3\n",
            "llvmlite                              0.43.0\n",
            "locket                                1.0.0\n",
            "logical-unification                   0.4.6\n",
            "lxml                                  5.3.2\n",
            "Mako                                  1.1.3\n",
            "marisa-trie                           1.2.1\n",
            "Markdown                              3.7\n",
            "markdown-it-py                        3.0.0\n",
            "MarkupSafe                            3.0.2\n",
            "matplotlib                            3.10.0\n",
            "matplotlib-inline                     0.1.7\n",
            "matplotlib-venn                       1.1.2\n",
            "mdit-py-plugins                       0.4.2\n",
            "mdurl                                 0.1.2\n",
            "miniKanren                            1.0.3\n",
            "missingno                             0.5.2\n",
            "mistune                               3.1.3\n",
            "mizani                                0.13.2\n",
            "mkl                                   2025.0.1\n",
            "ml-dtypes                             0.4.1\n",
            "mlxtend                               0.23.4\n",
            "more-itertools                        10.6.0\n",
            "moviepy                               1.0.3\n",
            "mpmath                                1.3.0\n",
            "msgpack                               1.1.0\n",
            "multidict                             6.4.2\n",
            "multipledispatch                      1.0.0\n",
            "multitasking                          0.0.11\n",
            "murmurhash                            1.0.12\n",
            "music21                               9.3.0\n",
            "namex                                 0.0.8\n",
            "narwhals                              1.34.1\n",
            "natsort                               8.4.0\n",
            "nbclassic                             1.2.0\n",
            "nbclient                              0.10.2\n",
            "nbconvert                             7.16.6\n",
            "nbformat                              5.10.4\n",
            "ndindex                               1.9.2\n",
            "nest-asyncio                          1.6.0\n",
            "networkx                              3.4.2\n",
            "nibabel                               5.3.2\n",
            "nltk                                  3.9.1\n",
            "notebook                              6.5.7\n",
            "notebook_shim                         0.2.4\n",
            "numba                                 0.60.0\n",
            "numba-cuda                            0.2.0\n",
            "numexpr                               2.10.2\n",
            "numpy                                 2.0.2\n",
            "nvidia-cublas-cu12                    12.5.3.2\n",
            "nvidia-cuda-cupti-cu12                12.5.82\n",
            "nvidia-cuda-nvcc-cu12                 12.5.82\n",
            "nvidia-cuda-nvrtc-cu12                12.5.82\n",
            "nvidia-cuda-runtime-cu12              12.5.82\n",
            "nvidia-cudnn-cu12                     9.3.0.75\n",
            "nvidia-cufft-cu12                     11.2.3.61\n",
            "nvidia-curand-cu12                    10.3.6.82\n",
            "nvidia-cusolver-cu12                  11.6.3.83\n",
            "nvidia-cusparse-cu12                  12.5.1.3\n",
            "nvidia-cusparselt-cu12                0.6.2\n",
            "nvidia-ml-py                          12.570.86\n",
            "nvidia-nccl-cu12                      2.21.5\n",
            "nvidia-nvcomp-cu12                    4.2.0.11\n",
            "nvidia-nvjitlink-cu12                 12.5.82\n",
            "nvidia-nvtx-cu12                      12.4.127\n",
            "nvtx                                  0.2.11\n",
            "nx-cugraph-cu12                       25.2.0\n",
            "oauth2client                          4.1.3\n",
            "oauthlib                              3.2.2\n",
            "openai                                1.72.0\n",
            "opencv-contrib-python                 4.11.0.86\n",
            "opencv-python                         4.11.0.86\n",
            "opencv-python-headless                4.11.0.86\n",
            "openpyxl                              3.1.5\n",
            "opentelemetry-api                     1.31.1\n",
            "opentelemetry-sdk                     1.31.1\n",
            "opentelemetry-semantic-conventions    0.52b1\n",
            "opt_einsum                            3.4.0\n",
            "optax                                 0.2.4\n",
            "optree                                0.15.0\n",
            "orbax-checkpoint                      0.11.12\n",
            "orjson                                3.10.16\n",
            "osqp                                  1.0.3\n",
            "packaging                             24.2\n",
            "pandas                                2.2.2\n",
            "pandas-datareader                     0.10.0\n",
            "pandas-gbq                            0.28.0\n",
            "pandas-stubs                          2.2.2.240909\n",
            "pandocfilters                         1.5.1\n",
            "panel                                 1.6.2\n",
            "param                                 2.2.0\n",
            "parso                                 0.8.4\n",
            "parsy                                 2.1\n",
            "partd                                 1.4.2\n",
            "pathlib                               1.0.1\n",
            "patsy                                 1.0.1\n",
            "peewee                                3.17.9\n",
            "peft                                  0.14.0\n",
            "pexpect                               4.9.0\n",
            "pickleshare                           0.7.5\n",
            "pillow                                11.1.0\n",
            "pip                                   24.1.2\n",
            "platformdirs                          4.3.7\n",
            "plotly                                5.24.1\n",
            "plotnine                              0.14.5\n",
            "pluggy                                1.5.0\n",
            "ply                                   3.11\n",
            "polars                                1.21.0\n",
            "pooch                                 1.8.2\n",
            "portpicker                            1.5.2\n",
            "preshed                               3.0.9\n",
            "prettytable                           3.16.0\n",
            "proglog                               0.1.11\n",
            "progressbar2                          4.5.0\n",
            "prometheus_client                     0.21.1\n",
            "promise                               2.3\n",
            "prompt_toolkit                        3.0.50\n",
            "propcache                             0.3.1\n",
            "prophet                               1.1.6\n",
            "proto-plus                            1.26.1\n",
            "protobuf                              5.29.4\n",
            "psutil                                5.9.5\n",
            "psycopg2                              2.9.10\n",
            "ptyprocess                            0.7.0\n",
            "py-cpuinfo                            9.0.0\n",
            "py4j                                  0.10.9.7\n",
            "pyarrow                               18.1.0\n",
            "pyasn1                                0.6.1\n",
            "pyasn1_modules                        0.4.2\n",
            "pycairo                               1.27.0\n",
            "pycocotools                           2.0.8\n",
            "pycparser                             2.22\n",
            "pydantic                              2.11.3\n",
            "pydantic_core                         2.33.1\n",
            "pydata-google-auth                    1.9.1\n",
            "pydot                                 3.0.4\n",
            "pydotplus                             2.0.2\n",
            "PyDrive                               1.3.1\n",
            "PyDrive2                              1.21.3\n",
            "pyerfa                                2.0.1.5\n",
            "pygame                                2.6.1\n",
            "pygit2                                1.17.0\n",
            "Pygments                              2.18.0\n",
            "PyGObject                             3.42.0\n",
            "PyJWT                                 2.10.1\n",
            "pylibcudf-cu12                        25.2.1\n",
            "pylibcugraph-cu12                     25.2.0\n",
            "pylibraft-cu12                        25.2.0\n",
            "pymc                                  5.21.2\n",
            "pymystem3                             0.2.0\n",
            "pynndescent                           0.5.13\n",
            "pynvjitlink-cu12                      0.5.2\n",
            "pynvml                                12.0.0\n",
            "pyogrio                               0.10.0\n",
            "Pyomo                                 6.8.2\n",
            "PyOpenGL                              3.1.9\n",
            "pyOpenSSL                             24.2.1\n",
            "pyparsing                             3.2.3\n",
            "pyperclip                             1.9.0\n",
            "pyproj                                3.7.1\n",
            "pyshp                                 2.3.1\n",
            "PySocks                               1.7.1\n",
            "pyspark                               3.5.5\n",
            "pytensor                              2.30.3\n",
            "pytest                                8.3.5\n",
            "python-apt                            0.0.0\n",
            "python-box                            7.3.2\n",
            "python-dateutil                       2.8.2\n",
            "python-louvain                        0.16\n",
            "python-slugify                        8.0.4\n",
            "python-snappy                         0.7.3\n",
            "python-utils                          3.9.1\n",
            "pytz                                  2025.2\n",
            "pyviz_comms                           3.0.4\n",
            "PyYAML                                6.0.2\n",
            "pyzmq                                 24.0.1\n",
            "raft-dask-cu12                        25.2.0\n",
            "rapids-dask-dependency                25.2.0\n",
            "ratelim                               0.1.6\n",
            "referencing                           0.36.2\n",
            "regex                                 2024.11.6\n",
            "requests                              2.32.3\n",
            "requests-oauthlib                     2.0.0\n",
            "requests-toolbelt                     1.0.0\n",
            "requirements-parser                   0.9.0\n",
            "rich                                  13.9.4\n",
            "rmm-cu12                              25.2.0\n",
            "roman-numerals-py                     3.1.0\n",
            "rpds-py                               0.24.0\n",
            "rpy2                                  3.5.17\n",
            "rsa                                   4.9\n",
            "safetensors                           0.5.3\n",
            "scikit-image                          0.25.2\n",
            "scikit-learn                          1.6.1\n",
            "scipy                                 1.14.1\n",
            "scooby                                0.10.0\n",
            "scs                                   3.2.7.post2\n",
            "seaborn                               0.13.2\n",
            "SecretStorage                         3.3.3\n",
            "Send2Trash                            1.8.3\n",
            "sentence-transformers                 3.4.1\n",
            "sentencepiece                         0.2.0\n",
            "sentry-sdk                            2.25.1\n",
            "setproctitle                          1.3.5\n",
            "setuptools                            75.2.0\n",
            "shap                                  0.47.1\n",
            "shapely                               2.1.0\n",
            "shellingham                           1.5.4\n",
            "simple-parsing                        0.1.7\n",
            "simplejson                            3.20.1\n",
            "simsimd                               6.2.1\n",
            "six                                   1.17.0\n",
            "sklearn-compat                        0.1.3\n",
            "sklearn-pandas                        2.2.0\n",
            "slicer                                0.0.8\n",
            "smart-open                            7.1.0\n",
            "smmap                                 5.0.2\n",
            "sniffio                               1.3.1\n",
            "snowballstemmer                       2.2.0\n",
            "sortedcontainers                      2.4.0\n",
            "soundfile                             0.13.1\n",
            "soupsieve                             2.6\n",
            "soxr                                  0.5.0.post1\n",
            "spacy                                 3.8.5\n",
            "spacy-legacy                          3.0.12\n",
            "spacy-loggers                         1.0.5\n",
            "spanner-graph-notebook                1.1.6\n",
            "Sphinx                                8.2.3\n",
            "sphinxcontrib-applehelp               2.0.0\n",
            "sphinxcontrib-devhelp                 2.0.0\n",
            "sphinxcontrib-htmlhelp                2.1.0\n",
            "sphinxcontrib-jsmath                  1.0.1\n",
            "sphinxcontrib-qthelp                  2.0.0\n",
            "sphinxcontrib-serializinghtml         2.0.0\n",
            "SQLAlchemy                            2.0.40\n",
            "sqlglot                               25.20.2\n",
            "sqlparse                              0.5.3\n",
            "srsly                                 2.5.1\n",
            "stanio                                0.5.1\n",
            "statsmodels                           0.14.4\n",
            "stringzilla                           3.12.3\n",
            "sympy                                 1.13.1\n",
            "tables                                3.10.2\n",
            "tabulate                              0.9.0\n",
            "tbb                                   2022.1.0\n",
            "tblib                                 3.1.0\n",
            "tcmlib                                1.3.0\n",
            "tenacity                              9.1.2\n",
            "tensorboard                           2.18.0\n",
            "tensorboard-data-server               0.7.2\n",
            "tensorflow                            2.18.0\n",
            "tensorflow-datasets                   4.9.8\n",
            "tensorflow_decision_forests           1.11.0\n",
            "tensorflow-hub                        0.16.1\n",
            "tensorflow-io-gcs-filesystem          0.37.1\n",
            "tensorflow-metadata                   1.17.0\n",
            "tensorflow-probability                0.25.0\n",
            "tensorflow-text                       2.18.1\n",
            "tensorstore                           0.1.73\n",
            "termcolor                             3.0.1\n",
            "terminado                             0.18.1\n",
            "text-unidecode                        1.3\n",
            "textblob                              0.19.0\n",
            "tf_keras                              2.18.0\n",
            "tf-slim                               1.1.0\n",
            "thinc                                 8.3.6\n",
            "threadpoolctl                         3.6.0\n",
            "tifffile                              2025.3.30\n",
            "timm                                  1.0.15\n",
            "tinycss2                              1.4.0\n",
            "tokenizers                            0.21.1\n",
            "toml                                  0.10.2\n",
            "toolz                                 0.12.1\n",
            "torch                                 2.6.0+cu124\n",
            "torchaudio                            2.6.0+cu124\n",
            "torchsummary                          1.5.1\n",
            "torchvision                           0.21.0+cu124\n",
            "tornado                               6.4.2\n",
            "tqdm                                  4.67.1\n",
            "traitlets                             5.7.1\n",
            "traittypes                            0.2.1\n",
            "transformers                          4.51.1\n",
            "treelite                              4.4.1\n",
            "treescope                             0.1.9\n",
            "triton                                3.2.0\n",
            "tweepy                                4.15.0\n",
            "typeguard                             4.4.2\n",
            "typer                                 0.15.2\n",
            "types-pytz                            2025.2.0.20250326\n",
            "types-setuptools                      78.1.0.20250329\n",
            "typing_extensions                     4.13.1\n",
            "typing-inspection                     0.4.0\n",
            "tzdata                                2025.2\n",
            "tzlocal                               5.3.1\n",
            "uc-micro-py                           1.0.3\n",
            "ucx-py-cu12                           0.42.0\n",
            "ucxx-cu12                             0.42.0\n",
            "umap-learn                            0.5.7\n",
            "umf                                   0.10.0\n",
            "uritemplate                           4.1.1\n",
            "urllib3                               2.3.0\n",
            "vega-datasets                         0.9.0\n",
            "wadllib                               1.3.6\n",
            "wandb                                 0.19.9\n",
            "wasabi                                1.1.3\n",
            "wcwidth                               0.2.13\n",
            "weasel                                0.4.1\n",
            "webcolors                             24.11.1\n",
            "webencodings                          0.5.1\n",
            "websocket-client                      1.8.0\n",
            "websockets                            15.0.1\n",
            "Werkzeug                              3.1.3\n",
            "wheel                                 0.45.1\n",
            "widgetsnbextension                    3.6.10\n",
            "wordcloud                             1.9.4\n",
            "wrapt                                 1.17.2\n",
            "wurlitzer                             3.1.1\n",
            "xarray                                2025.1.2\n",
            "xarray-einstats                       0.8.0\n",
            "xgboost                               2.1.4\n",
            "xlrd                                  2.0.1\n",
            "xyzservices                           2025.1.0\n",
            "yarl                                  1.19.0\n",
            "ydf                                   0.11.0\n",
            "yellowbrick                           1.5\n",
            "yfinance                              0.2.55\n",
            "zict                                  3.0.0\n",
            "zipp                                  3.21.0\n",
            "zstandard                             0.23.0\n"
          ]
        }
      ]
    },
    {
      "cell_type": "markdown",
      "source": [
        "###🔹 requirements.txt:\n",
        "A file that lists all packages your project depends on. Useful for sharing or deploying.\n",
        "\n",
        "✅ Create requirements.txt from current environment:"
      ],
      "metadata": {
        "id": "G_wfBUboWSJp"
      }
    },
    {
      "cell_type": "code",
      "source": [
        "!pip freeze > requirements.txt"
      ],
      "metadata": {
        "id": "HlenB-kGWRYT"
      },
      "execution_count": 13,
      "outputs": []
    },
    {
      "cell_type": "markdown",
      "source": [
        "✅ Install all dependencies from requirements.txt:"
      ],
      "metadata": {
        "id": "-SRJLxJlWj-d"
      }
    },
    {
      "cell_type": "code",
      "source": [
        "!pip install -r requirements.txt"
      ],
      "metadata": {
        "colab": {
          "base_uri": "https://localhost:8080/"
        },
        "id": "zntHDGMpWnXt",
        "outputId": "ada57cdc-059c-4ab9-b703-cca8f703d1e0"
      },
      "execution_count": 14,
      "outputs": [
        {
          "output_type": "stream",
          "name": "stdout",
          "text": [
            "Collecting cudf-cu12@ https://pypi.nvidia.com/cudf-cu12/cudf_cu12-25.2.1-cp311-cp311-manylinux_2_24_x86_64.manylinux_2_28_x86_64.whl (from -r requirements.txt (line 63))\n",
            "  Downloading https://pypi.nvidia.com/cudf-cu12/cudf_cu12-25.2.1-cp311-cp311-manylinux_2_24_x86_64.manylinux_2_28_x86_64.whl (2.2 MB)\n",
            "\u001b[2K     \u001b[90m━━━━━━━━━━━━━━━━━━━━━━━━━━━━━━━━━━━━━━━━\u001b[0m \u001b[32m2.2/2.2 MB\u001b[0m \u001b[31m40.8 MB/s\u001b[0m eta \u001b[36m0:00:00\u001b[0m\n",
            "\u001b[?25hCollecting en_core_web_sm@ https://github.com/explosion/spacy-models/releases/download/en_core_web_sm-3.8.0/en_core_web_sm-3.8.0-py3-none-any.whl#sha256=1932429db727d4bff3deed6b34cfc05df17794f4a52eeb26cf8928f7c1a0fb85 (from -r requirements.txt (line 102))\n",
            "  Downloading https://github.com/explosion/spacy-models/releases/download/en_core_web_sm-3.8.0/en_core_web_sm-3.8.0-py3-none-any.whl (12.8 MB)\n",
            "\u001b[2K     \u001b[90m━━━━━━━━━━━━━━━━━━━━━━━━━━━━━━━━━━━━━━━━\u001b[0m \u001b[32m12.8/12.8 MB\u001b[0m \u001b[31m81.3 MB/s\u001b[0m eta \u001b[36m0:00:00\u001b[0m\n",
            "\u001b[?25hProcessing /colabtools/dist/google_colab-1.0.0.tar.gz (from -r requirements.txt (line 162))\n",
            "\u001b[31mERROR: Could not install packages due to an OSError: [Errno 2] No such file or directory: '/colabtools/dist/google_colab-1.0.0.tar.gz'\n",
            "\u001b[0m\u001b[31m\n",
            "\u001b[0m"
          ]
        }
      ]
    },
    {
      "cell_type": "markdown",
      "source": [
        "### ✅ Day 14: Mini Project\n",
        "Choose one:\n",
        "- Weather App using API\n",
        "- Quiz Game with score\n",
        "- Expense Tracker with JSON\n",
        "\n",
        "---\n",
        "\n",
        "### ✅ Day 15: GitHub & Final Wrap-Up\n",
        "- Push code to GitHub\n",
        "- Create README file\n",
        "- Choose next learning path:\n",
        "  - Web Dev (Flask/Django)\n",
        "  - Data Analysis (Pandas/Numpy)\n",
        "  - Automation\n",
        "  - Machine Learning\n",
        "\n",
        "---\n",
        "\n",
        "💡 Bonus Tip:\n",
        "Practice daily on Replit, Google Colab, or local IDE.\n",
        "Use LeetCode, HackerRank, Codewars for coding practice.\n"
      ],
      "metadata": {
        "id": "CJi2qhJp-wAJ"
      }
    }
  ]
}