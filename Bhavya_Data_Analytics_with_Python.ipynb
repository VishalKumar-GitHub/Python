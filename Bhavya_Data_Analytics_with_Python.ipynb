{
  "nbformat": 4,
  "nbformat_minor": 0,
  "metadata": {
    "colab": {
      "provenance": []
    },
    "kernelspec": {
      "name": "python3",
      "display_name": "Python 3"
    },
    "language_info": {
      "name": "python"
    }
  },
  "cells": [
    {
      "cell_type": "markdown",
      "source": [
        "#Python Basics\n",
        "\n",
        "✅ Install Python & Set up an IDE (VS Code, PyCharm, Jupyter Notebook, **Google colab**)\n",
        "\n",
        "✅ Print statements (print())\n",
        "\n",
        "✅ Variables & Data Types (int, float, str, bool)\n",
        "\n",
        "✅ Basic Arithmetic Operations (+, -, *, /, %)\n",
        "\n",
        "✅ Input from users (input())\n",
        "\n",
        "✅ Comments (# single-line, \"\"\" multi-line \"\"\")"
      ],
      "metadata": {
        "id": "WUMdVCAdt-Qo"
      }
    },
    {
      "cell_type": "code",
      "execution_count": 1,
      "metadata": {
        "id": "p8ZU_iuLryi4",
        "colab": {
          "base_uri": "https://localhost:8080/"
        },
        "outputId": "5e52e458-fb4c-4227-8699-bf17d3065794"
      },
      "outputs": [
        {
          "output_type": "stream",
          "name": "stdout",
          "text": [
            "Bhavya\n"
          ]
        }
      ],
      "source": [
        "#Print Statements\n",
        "text = \"Bhavya\"\n",
        "print(text)"
      ]
    },
    {
      "cell_type": "code",
      "source": [
        "#Variables and Data Types(int, float, string, bool)\n",
        "name = \"Bhavya\"  #string\n",
        "age = 26    #integer\n",
        "height = 5.11   #float\n",
        "is_student = True   #boolean\n",
        "\n",
        "print(name, age, height, is_student)"
      ],
      "metadata": {
        "colab": {
          "base_uri": "https://localhost:8080/"
        },
        "id": "uDyPAJAJuwgH",
        "outputId": "4ae7c1e1-0001-4501-bec4-b050bc305cb0"
      },
      "execution_count": 2,
      "outputs": [
        {
          "output_type": "stream",
          "name": "stdout",
          "text": [
            "Bhavya 26 5.11 True\n"
          ]
        }
      ]
    },
    {
      "cell_type": "code",
      "source": [
        "#Basic Arithmetic Operations\n",
        "a = 10\n",
        "b = 4\n",
        "print(a+b) #Addition\n",
        "print(a-b) #substraction\n",
        "print(a*b) #multiplication\n",
        "print(a/b) #division    ....Dividend ÷ Divisor = Quotient (+ Remainder, if any)\n",
        "print(a%b) #(Remainder) modulus"
      ],
      "metadata": {
        "colab": {
          "base_uri": "https://localhost:8080/"
        },
        "id": "IO0HNbYNv3Eh",
        "outputId": "04e47de0-4fcd-4601-c1f2-faadc3f2c526"
      },
      "execution_count": 3,
      "outputs": [
        {
          "output_type": "stream",
          "name": "stdout",
          "text": [
            "14\n",
            "6\n",
            "40\n",
            "2.5\n",
            "2\n"
          ]
        }
      ]
    },
    {
      "cell_type": "code",
      "source": [
        "#User interface / Input\n",
        "name = input(\"Enter your name: \")\n",
        "age = input(\"Enter your age: \")\n",
        "print(\"Hello:\",name,\"Your age:\", age)"
      ],
      "metadata": {
        "colab": {
          "base_uri": "https://localhost:8080/"
        },
        "id": "Q8VkCG15wuut",
        "outputId": "89073848-3ddb-47e0-a6b1-24bb68db6173"
      },
      "execution_count": 14,
      "outputs": [
        {
          "output_type": "stream",
          "name": "stdout",
          "text": [
            "Enter your name: Bhavya\n",
            "Enter your age: 26\n",
            "Hello: Bhavya Your age: 26\n"
          ]
        }
      ]
    },
    {
      "cell_type": "code",
      "source": [
        "\"\"\"This is a multiple comment\"\"\""
      ],
      "metadata": {
        "colab": {
          "base_uri": "https://localhost:8080/",
          "height": 36
        },
        "id": "qm8R8I31xsnf",
        "outputId": "73c24643-028e-4b50-9088-5139dcfce678"
      },
      "execution_count": 93,
      "outputs": [
        {
          "output_type": "execute_result",
          "data": {
            "text/plain": [
              "'This is a multiple comment'"
            ],
            "application/vnd.google.colaboratory.intrinsic+json": {
              "type": "string"
            }
          },
          "metadata": {},
          "execution_count": 93
        }
      ]
    },
    {
      "cell_type": "code",
      "source": [
        "#Conditional Statements & Loops\n",
        "#✅ If-Else conditions (if, elif, else)\n",
        "\n",
        "#✅ Logical Operators (and, or, not)\n",
        "\n",
        "#✅ Loops (for, while)\n",
        "\n",
        "#✅ Loop control statements (break, continue, pass)\n"
      ],
      "metadata": {
        "id": "rra-u75bzZQh"
      },
      "execution_count": null,
      "outputs": []
    },
    {
      "cell_type": "code",
      "source": [
        "#if-Else Conditions\n",
        "\n",
        "age = float(input(\"Enter your age: \"))\n",
        "\n",
        "if age >=18:\n",
        " print(\"You can drive a car\")\n",
        "else:\n",
        "  print(\"You cannot drive a car\")\n"
      ],
      "metadata": {
        "colab": {
          "base_uri": "https://localhost:8080/"
        },
        "id": "v1g7EL_lzyPa",
        "outputId": "69aabe74-4c1c-4c56-aa41-cae7ee7559a2"
      },
      "execution_count": 24,
      "outputs": [
        {
          "output_type": "stream",
          "name": "stdout",
          "text": [
            "Enter your age: 18.1\n",
            "You can drive a car\n"
          ]
        }
      ]
    },
    {
      "cell_type": "code",
      "source": [
        "#Logical Operators (and, or, not)\n",
        "\n",
        "#and\n",
        "x = 10\n",
        "y = 6\n",
        "\n",
        "if x>5 and y<10:\n",
        "  print(\"True\")\n",
        "else:\n",
        "  print(\"False\")"
      ],
      "metadata": {
        "colab": {
          "base_uri": "https://localhost:8080/"
        },
        "id": "zSFd12hx0t7x",
        "outputId": "9f35f398-ed52-4f54-a957-39d5cf904f25"
      },
      "execution_count": 29,
      "outputs": [
        {
          "output_type": "stream",
          "name": "stdout",
          "text": [
            "True\n"
          ]
        }
      ]
    },
    {
      "cell_type": "code",
      "source": [
        "#or\n",
        "x = 10\n",
        "y = 6\n",
        "\n",
        "if x>5 or y<5:\n",
        "  print(\"True\")\n",
        "else:\n",
        "  print(\"False\")"
      ],
      "metadata": {
        "colab": {
          "base_uri": "https://localhost:8080/"
        },
        "id": "62-T3rsd11y_",
        "outputId": "0dc3cd82-0ef7-4439-9bf5-3da7c0a8c2a5"
      },
      "execution_count": 30,
      "outputs": [
        {
          "output_type": "stream",
          "name": "stdout",
          "text": [
            "True\n"
          ]
        }
      ]
    },
    {
      "cell_type": "code",
      "source": [
        "#not\n",
        "\n",
        "are_you_hungry = True\n",
        "\n",
        "if not are_you_hungry:     # When you are not hungry\n",
        "  print(\"You are not hungry\")\n",
        "else:\n",
        "  print(\"You are hungry\")"
      ],
      "metadata": {
        "colab": {
          "base_uri": "https://localhost:8080/"
        },
        "id": "KLdSB2Ek2TNU",
        "outputId": "87ac7c51-4f3a-42d9-a623-eacb72bf6cb2"
      },
      "execution_count": 31,
      "outputs": [
        {
          "output_type": "stream",
          "name": "stdout",
          "text": [
            "You are not hungry\n"
          ]
        }
      ]
    },
    {
      "cell_type": "code",
      "source": [
        "#✅ Loops (for, while)\n",
        "\n",
        "#\"For loop is used when we know how many times we want to repeat a block of code.\"\n",
        "\n",
        "for x in range(1,11):\n",
        " print(x)"
      ],
      "metadata": {
        "colab": {
          "base_uri": "https://localhost:8080/"
        },
        "id": "G1H7B2KF5Hsh",
        "outputId": "69524b28-69ee-4e39-f2e3-1593cc6050f2"
      },
      "execution_count": 49,
      "outputs": [
        {
          "output_type": "stream",
          "name": "stdout",
          "text": [
            "1\n",
            "2\n",
            "3\n",
            "4\n",
            "5\n",
            "6\n",
            "7\n",
            "8\n",
            "9\n",
            "10\n"
          ]
        }
      ]
    },
    {
      "cell_type": "code",
      "source": [
        "#While\n",
        "\n",
        "x = 1 #start from 1\n",
        "\n",
        "while x<=20:  # loop run while x is less than or equal 20\n",
        "  print(x)\n",
        "  x = x+3   #increment x in eachg iteration\n"
      ],
      "metadata": {
        "colab": {
          "base_uri": "https://localhost:8080/"
        },
        "id": "eu0QzwQr6RG6",
        "outputId": "5f23b2e6-5c80-4d18-fa1e-479689dc8859"
      },
      "execution_count": 54,
      "outputs": [
        {
          "output_type": "stream",
          "name": "stdout",
          "text": [
            "1\n",
            "4\n",
            "7\n",
            "10\n",
            "13\n",
            "16\n",
            "19\n"
          ]
        }
      ]
    },
    {
      "cell_type": "code",
      "source": [
        "##✅ Loop control statements (break, continue, pass)\n",
        "\n",
        "#break\n",
        "\n",
        "for a in range(1,100):\n",
        "  if a == 5:\n",
        "    break\n",
        "\n",
        "  print(a)"
      ],
      "metadata": {
        "colab": {
          "base_uri": "https://localhost:8080/"
        },
        "id": "Juch5MMT7SbG",
        "outputId": "4c3672ed-6cd3-4d08-f688-638ffcff1dcf"
      },
      "execution_count": 57,
      "outputs": [
        {
          "output_type": "stream",
          "name": "stdout",
          "text": [
            "1\n",
            "2\n",
            "3\n",
            "4\n"
          ]
        }
      ]
    },
    {
      "cell_type": "code",
      "source": [
        "#continue\n",
        "\n",
        "for a in range(1,20):\n",
        "  if a == 5:\n",
        "    continue\n",
        "\n",
        "  print(a)"
      ],
      "metadata": {
        "colab": {
          "base_uri": "https://localhost:8080/"
        },
        "id": "RttKTZDG8eRt",
        "outputId": "a298cc3d-8250-4132-f987-80d5253b8857"
      },
      "execution_count": 59,
      "outputs": [
        {
          "output_type": "stream",
          "name": "stdout",
          "text": [
            "1\n",
            "2\n",
            "3\n",
            "4\n",
            "6\n",
            "7\n",
            "8\n",
            "9\n",
            "10\n",
            "11\n",
            "12\n",
            "13\n",
            "14\n",
            "15\n",
            "16\n",
            "17\n",
            "18\n",
            "19\n"
          ]
        }
      ]
    },
    {
      "cell_type": "code",
      "source": [
        "#pass\n",
        "\n",
        "for a in range(1, 12):\n",
        "  if a==3:\n",
        "    pass\n",
        "  print(a)"
      ],
      "metadata": {
        "colab": {
          "base_uri": "https://localhost:8080/"
        },
        "id": "T7Y5w4139qdK",
        "outputId": "9170610f-4b8a-4a8e-fd6f-95dd5e49d531"
      },
      "execution_count": 60,
      "outputs": [
        {
          "output_type": "stream",
          "name": "stdout",
          "text": [
            "1\n",
            "2\n",
            "3\n",
            "4\n",
            "5\n",
            "6\n",
            "7\n",
            "8\n",
            "9\n",
            "10\n",
            "11\n"
          ]
        }
      ]
    },
    {
      "cell_type": "markdown",
      "source": [
        "#**Data Structures**\n",
        "\n",
        "#T..Tuples..........( ).......immutable\n",
        "#L...List...........[ ]\n",
        "#S....Sets..........{ }\n",
        "#D...Dictionaries...{ }\n",
        "\n"
      ],
      "metadata": {
        "id": "YxeKP1PS-wwR"
      }
    },
    {
      "cell_type": "code",
      "source": [
        "#Tuple ()\n",
        "\n",
        "#Create a tuple\n",
        "\n",
        "tuples= (12, 14, 15)\n",
        "print(tuples)"
      ],
      "metadata": {
        "colab": {
          "base_uri": "https://localhost:8080/"
        },
        "id": "6xmGlSRw-gIx",
        "outputId": "9bfe1261-7c08-4ae6-ad4f-b3bc95bd2545"
      },
      "execution_count": 61,
      "outputs": [
        {
          "output_type": "stream",
          "name": "stdout",
          "text": [
            "(12, 14, 15)\n"
          ]
        }
      ]
    },
    {
      "cell_type": "code",
      "source": [
        "#List []   ....A list is a collection of items that are ordered, changeable (mutable), and allow duplicates.\n",
        "\n",
        "# Create a list\n",
        "\n",
        "list = [12, 14, 15]\n",
        "print(list)\n"
      ],
      "metadata": {
        "colab": {
          "base_uri": "https://localhost:8080/"
        },
        "id": "ezDGhqBCAWjA",
        "outputId": "377b81ba-6e82-4e43-af6c-1d0f3d7e39b4"
      },
      "execution_count": 79,
      "outputs": [
        {
          "output_type": "stream",
          "name": "stdout",
          "text": [
            "[12, 14, 15]\n"
          ]
        }
      ]
    },
    {
      "cell_type": "code",
      "source": [
        "fruits = [\"Apple\", \"Banana\", \"Kiwi\"]\n",
        "print(fruits)"
      ],
      "metadata": {
        "colab": {
          "base_uri": "https://localhost:8080/"
        },
        "id": "t9JLa16wAs2X",
        "outputId": "92fff709-7143-489b-ce70-ef77233af541"
      },
      "execution_count": 73,
      "outputs": [
        {
          "output_type": "stream",
          "name": "stdout",
          "text": [
            "['Apple', 'Banana', 'Kiwi']\n"
          ]
        }
      ]
    },
    {
      "cell_type": "code",
      "source": [
        "list.append(16)\n",
        "print(list)"
      ],
      "metadata": {
        "colab": {
          "base_uri": "https://localhost:8080/"
        },
        "id": "w2YOZsOYA8uE",
        "outputId": "3837d133-26e6-41cd-deb3-6fd5a0bc0467"
      },
      "execution_count": 80,
      "outputs": [
        {
          "output_type": "stream",
          "name": "stdout",
          "text": [
            "[12, 14, 15, 16]\n"
          ]
        }
      ]
    },
    {
      "cell_type": "code",
      "source": [
        "list.remove(12)\n",
        "print(list)"
      ],
      "metadata": {
        "colab": {
          "base_uri": "https://localhost:8080/"
        },
        "id": "LlBPUm8OBRZR",
        "outputId": "c8e8fa35-eeb9-45b2-8a5d-e5c6b025a254"
      },
      "execution_count": 81,
      "outputs": [
        {
          "output_type": "stream",
          "name": "stdout",
          "text": [
            "[14, 15, 16]\n"
          ]
        }
      ]
    },
    {
      "cell_type": "code",
      "source": [
        "list.pop()\n",
        "print(list)"
      ],
      "metadata": {
        "colab": {
          "base_uri": "https://localhost:8080/"
        },
        "id": "rBD4iT-GBdsf",
        "outputId": "15595b7c-2070-4975-886b-6ad107d498e7"
      },
      "execution_count": 82,
      "outputs": [
        {
          "output_type": "stream",
          "name": "stdout",
          "text": [
            "[14, 15]\n"
          ]
        }
      ]
    },
    {
      "cell_type": "code",
      "source": [
        "#List slicing\n",
        "\n",
        "numbers = [1, 3, 5, 7, 8, 9, 13]\n",
        "print(numbers[1:5])"
      ],
      "metadata": {
        "colab": {
          "base_uri": "https://localhost:8080/"
        },
        "id": "EEGRbGyfBwAY",
        "outputId": "5931e565-2b1f-4af1-ea81-f32861ecddb4"
      },
      "execution_count": 83,
      "outputs": [
        {
          "output_type": "stream",
          "name": "stdout",
          "text": [
            "[3, 5, 7, 8]\n"
          ]
        }
      ]
    },
    {
      "cell_type": "code",
      "source": [
        "#sets......A set is an unordered collection of unique items.\n",
        "\n",
        "#(set( ), add( ), remove( ), union( ), intersection( ))\n",
        "\n",
        "fruits = {\"Apple\", \"Banana\", \"Kiwi\"}\n",
        "print(fruits)\n",
        "\n"
      ],
      "metadata": {
        "colab": {
          "base_uri": "https://localhost:8080/"
        },
        "id": "9i23ST0kCloZ",
        "outputId": "68f62401-49e1-454b-9f66-5fc91770ebff"
      },
      "execution_count": 86,
      "outputs": [
        {
          "output_type": "stream",
          "name": "stdout",
          "text": [
            "{'Kiwi', 'Apple', 'Banana'}\n"
          ]
        }
      ]
    },
    {
      "cell_type": "code",
      "source": [
        "fruits.add(\"Pineapple\")\n",
        "fruits.remove(\"Kiwi\")\n",
        "print(fruits)"
      ],
      "metadata": {
        "colab": {
          "base_uri": "https://localhost:8080/"
        },
        "id": "IstKUNiBDfwj",
        "outputId": "56d7488d-0f41-48aa-ba37-9550d1d21d1a"
      },
      "execution_count": 87,
      "outputs": [
        {
          "output_type": "stream",
          "name": "stdout",
          "text": [
            "{'Pineapple', 'Apple', 'Banana'}\n"
          ]
        }
      ]
    },
    {
      "cell_type": "code",
      "source": [
        "set1 = {1, 2, 3, 4, 5}\n",
        "set2 = {4, 5, 6, 7, 8}\n",
        "\n",
        "print(set1.union(set2))\n",
        "print(set1.intersection(set2))"
      ],
      "metadata": {
        "colab": {
          "base_uri": "https://localhost:8080/"
        },
        "id": "f3-ul3ZaDyDA",
        "outputId": "33ca2252-f5f2-4296-ca6d-36b1b0460a15"
      },
      "execution_count": 88,
      "outputs": [
        {
          "output_type": "stream",
          "name": "stdout",
          "text": [
            "{1, 2, 3, 4, 5, 6, 7, 8}\n",
            "{4, 5}\n"
          ]
        }
      ]
    },
    {
      "cell_type": "code",
      "source": [
        "#Dictionary {}.....A dictionary stores data in key-value pairs.\n",
        "\n",
        "#Each key is unique, and values can be any data type.\n",
        "\n",
        "#Create a Dictionary\n",
        "students = {\"Ankit\": 25, \"Vishal\": 28, \"Bhavya\": 26}\n",
        "print(students)"
      ],
      "metadata": {
        "colab": {
          "base_uri": "https://localhost:8080/"
        },
        "id": "jwXzfgEEEV_P",
        "outputId": "e3dc19eb-3b03-4f09-c2a9-cd95dab6a834"
      },
      "execution_count": 89,
      "outputs": [
        {
          "output_type": "stream",
          "name": "stdout",
          "text": [
            "{'Ankit': 25, 'Vishal': 28, 'Bhavya': 26}\n"
          ]
        }
      ]
    },
    {
      "cell_type": "code",
      "source": [
        "print(students.get(\"Vishal\"))"
      ],
      "metadata": {
        "colab": {
          "base_uri": "https://localhost:8080/"
        },
        "id": "B5dF0_B1Fmff",
        "outputId": "c101e6c8-50aa-453f-9d4f-04a602737ed5"
      },
      "execution_count": 90,
      "outputs": [
        {
          "output_type": "stream",
          "name": "stdout",
          "text": [
            "28\n"
          ]
        }
      ]
    },
    {
      "cell_type": "code",
      "source": [
        "print(students.keys())"
      ],
      "metadata": {
        "colab": {
          "base_uri": "https://localhost:8080/"
        },
        "id": "LFve2JqsF7rL",
        "outputId": "55b5996b-7106-4e8c-ac9d-f0eb0ed2c6ef"
      },
      "execution_count": 91,
      "outputs": [
        {
          "output_type": "stream",
          "name": "stdout",
          "text": [
            "dict_keys(['Ankit', 'Vishal', 'Bhavya'])\n"
          ]
        }
      ]
    },
    {
      "cell_type": "code",
      "source": [
        "print(students.values())"
      ],
      "metadata": {
        "colab": {
          "base_uri": "https://localhost:8080/"
        },
        "id": "88IHOW6oGEDd",
        "outputId": "20c83e30-eb0f-415d-b0b8-3a0ed1362909"
      },
      "execution_count": 92,
      "outputs": [
        {
          "output_type": "stream",
          "name": "stdout",
          "text": [
            "dict_values([25, 28, 26])\n"
          ]
        }
      ]
    },
    {
      "cell_type": "code",
      "source": [],
      "metadata": {
        "id": "Srcyyi0TGGdy"
      },
      "execution_count": null,
      "outputs": []
    }
  ]
}