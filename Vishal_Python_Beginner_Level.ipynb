{
  "cells": [
    {
      "cell_type": "markdown",
      "metadata": {
        "id": "view-in-github",
        "colab_type": "text"
      },
      "source": [
        "<a href=\"https://colab.research.google.com/github/VishalKumar-GitHub/Python/blob/main/Vishal_Python_Beginner_Level.ipynb\" target=\"_parent\"><img src=\"https://colab.research.google.com/assets/colab-badge.svg\" alt=\"Open In Colab\"/></a>"
      ]
    },
    {
      "cell_type": "markdown",
      "source": [
        "Day 1-2: Python Basics\n",
        "\n",
        "✅ Print statements (print())\n",
        "\n",
        "✅ Variables & Data Types (int, float, str, bool)\n",
        "\n",
        "✅ Basic Arithmetic Operations (+, -, *, /, %)\n",
        "\n",
        "✅ Input from users (input())\n",
        "\n",
        "✅ Comments (# single-line, \"\"\" multi-line \"\"\")"
      ],
      "metadata": {
        "id": "BaYsZM4Ndz7Y"
      }
    },
    {
      "cell_type": "markdown",
      "source": [
        "1️⃣ Print Statements (print())\n",
        "\n",
        "Q1: Write a Python program to print:\n",
        "\n",
        "`Hello, World!`"
      ],
      "metadata": {
        "id": "Qa9INulpekQW"
      }
    },
    {
      "cell_type": "code",
      "source": [
        "text = 'Hello, World!'\n",
        "print(text)"
      ],
      "metadata": {
        "colab": {
          "base_uri": "https://localhost:8080/"
        },
        "id": "OJfYW0KFU6tf",
        "outputId": "084d7b17-bcb2-4351-f85a-9c74d58d6c69"
      },
      "execution_count": 1,
      "outputs": [
        {
          "output_type": "stream",
          "name": "stdout",
          "text": [
            "Hello, World!\n"
          ]
        }
      ]
    },
    {
      "cell_type": "markdown",
      "source": [
        "\n",
        "Q2: Print your name and favorite hobby in two separate lines.\n",
        "\n"
      ],
      "metadata": {
        "id": "phiGqpYQSHS4"
      }
    },
    {
      "cell_type": "code",
      "source": [
        "Text = \"Ankit,\\n Reading\"    #The backslash (\\) itself is known as an escape character.\n",
        "print(Text)"
      ],
      "metadata": {
        "colab": {
          "base_uri": "https://localhost:8080/"
        },
        "id": "_DywMpSKezwd",
        "outputId": "a1f64179-43e6-4962-a0fe-594cdf69b837"
      },
      "execution_count": 2,
      "outputs": [
        {
          "output_type": "stream",
          "name": "stdout",
          "text": [
            "Ankit,\n",
            " Reading\n"
          ]
        }
      ]
    },
    {
      "cell_type": "markdown",
      "source": [
        "**\\n** represents a new line (line break).\n",
        "\n",
        "**\\t** represents a tab space.\n",
        "\n",
        "**\\\\** represents a literal backslash (\\)."
      ],
      "metadata": {
        "id": "f4YhlTGLSkrH"
      }
    },
    {
      "cell_type": "markdown",
      "source": [
        "2️⃣ Variables & Data Types (`int, float, str, bool`)\n",
        "\n",
        "Q3: Create and print variables for:\n",
        "\n",
        "Your name (string)\n",
        "\n",
        "Your age (integer)\n",
        "\n",
        "Your height (float)\n",
        "\n",
        "Whether you love coding (boolean)"
      ],
      "metadata": {
        "id": "eiX48-uxfYbS"
      }
    },
    {
      "cell_type": "code",
      "source": [
        "name = \"Ankit\"\n",
        "age = 25\n",
        "height = 5.8\n",
        "love_coding = True\n",
        "\n",
        "print(name, age, height, love_coding)"
      ],
      "metadata": {
        "colab": {
          "base_uri": "https://localhost:8080/"
        },
        "id": "-qe13WUufEAv",
        "outputId": "11461bbc-740f-4440-e71f-e34221c3bc14"
      },
      "execution_count": 3,
      "outputs": [
        {
          "output_type": "stream",
          "name": "stdout",
          "text": [
            "Ankit 25 5.8 True\n"
          ]
        }
      ]
    },
    {
      "cell_type": "markdown",
      "source": [
        "3️⃣ Basic Arithmetic Operations (`+, -, *, /, %`)\n",
        "\n",
        "Q4: Write a program that calculates:\n",
        "\n",
        "The sum of 10 and 20\n",
        "\n",
        "The difference between 50 and 15\n",
        "\n",
        "The product of 7 and 8\n",
        "\n",
        "The division of 100 by 5\n",
        "\n",
        "The remainder when 17 is divided by 3"
      ],
      "metadata": {
        "id": "P2mcPrRFhJ4f"
      }
    },
    {
      "cell_type": "code",
      "source": [
        "a = 10 + 20\n",
        "b = 50 - 15\n",
        "c = 7  * 8\n",
        "d = 100 / 5\n",
        "e = 17 % 5\n",
        "\n",
        "print(a, b, c, d, e)"
      ],
      "metadata": {
        "colab": {
          "base_uri": "https://localhost:8080/"
        },
        "id": "BmF6zRuzha6g",
        "outputId": "98a515db-1383-450c-c62a-c5e0e5b6b522"
      },
      "execution_count": 4,
      "outputs": [
        {
          "output_type": "stream",
          "name": "stdout",
          "text": [
            "30 35 56 20.0 2\n"
          ]
        }
      ]
    },
    {
      "cell_type": "markdown",
      "source": [
        "4️⃣ Taking User Input (`input()`)\n",
        "\n",
        "Q5: Ask the user to enter their name and age, then print:\n",
        "\n",
        "`Hello [name]! You are [age] years old.`"
      ],
      "metadata": {
        "id": "jBZlkcOciYcn"
      }
    },
    {
      "cell_type": "code",
      "source": [
        "name = input(\"Enter your name: \")\n",
        "age = input(\"Enter your age:\")\n",
        "\n",
        "print(f\"Hello: {name}, Your age: {age} year old\" )"
      ],
      "metadata": {
        "colab": {
          "base_uri": "https://localhost:8080/"
        },
        "id": "dcSdumf1iCES",
        "outputId": "c35636e9-89ee-4347-963a-617e79c5d7e6"
      },
      "execution_count": 5,
      "outputs": [
        {
          "output_type": "stream",
          "name": "stdout",
          "text": [
            "Enter your name: Ankit\n",
            "Enter your age:Rana\n",
            "Hello: Ankit, Your age: Rana year old\n"
          ]
        }
      ]
    },
    {
      "cell_type": "markdown",
      "source": [
        "Q6: Ask the user to input two numbers and print their sum."
      ],
      "metadata": {
        "id": "qp7iOwN5TC4n"
      }
    },
    {
      "cell_type": "code",
      "source": [
        "Num1 = int(input(\"Enter first number: \"))\n",
        "Num2 = int(input(\"Enter second number: \"))\n",
        "\n",
        "sum = Num1 + Num2\n",
        "\n",
        "print(sum)"
      ],
      "metadata": {
        "colab": {
          "base_uri": "https://localhost:8080/"
        },
        "id": "I6BbSOAXj90P",
        "outputId": "e47614f2-1fdb-40f8-fc53-083a563cac06"
      },
      "execution_count": 6,
      "outputs": [
        {
          "output_type": "stream",
          "name": "stdout",
          "text": [
            "Enter first number: 24\n",
            "Enter second number: 34\n",
            "58\n"
          ]
        }
      ]
    },
    {
      "cell_type": "markdown",
      "source": [
        "Q8: Write a program that calculates the area of a rectangle (**length × width**) and add a **multi-line comment** explaining the formula.\n",
        "\n"
      ],
      "metadata": {
        "id": "Z9Y_gUqZlrL-"
      }
    },
    {
      "cell_type": "code",
      "source": [
        "length = 4   #\"\"\"This is a length of rectangle\"\"\"\n",
        "width = 3    #\"\"\"This is a width of rectangle\"\"\"\n",
        "\n",
        "area = 0.5 * 4 * 3    #\"\"\"This is a area of rectangle\"\"\"\n",
        "\n",
        "print(area)   #\"\"\"This is a print statemanet\"\"\""
      ],
      "metadata": {
        "colab": {
          "base_uri": "https://localhost:8080/"
        },
        "id": "a0ViOiRAlJan",
        "outputId": "ad2443cb-49f0-4e8a-cc83-98ed23e3ea14"
      },
      "execution_count": 7,
      "outputs": [
        {
          "output_type": "stream",
          "name": "stdout",
          "text": [
            "6.0\n"
          ]
        }
      ]
    },
    {
      "cell_type": "code",
      "source": [
        "\"\"\"\n",
        "This program calculates the area of a rectangle.\n",
        "\n",
        "Formula:\n",
        "    Area = Length × Width\n",
        "Where:\n",
        "    - Length is the longer side of the rectangle.\n",
        "    - Width is the shorter side of the rectangle.\n",
        "\"\"\"\n",
        "\n",
        "# Taking user input for length and width\n",
        "length = float(input(\"Enter the length of the rectangle: \"))\n",
        "width = float(input(\"Enter the width of the rectangle: \"))\n",
        "\n",
        "# Calculating the area\n",
        "area = length * width\n",
        "\n",
        "# Printing the result\n",
        "print(\"The area of the rectangle is:\", area)\n"
      ],
      "metadata": {
        "colab": {
          "base_uri": "https://localhost:8080/"
        },
        "id": "FRW8Sb-xma4W",
        "outputId": "73586d75-efc0-4927-823a-e1f53c26604b"
      },
      "execution_count": 8,
      "outputs": [
        {
          "output_type": "stream",
          "name": "stdout",
          "text": [
            "Enter the length of the rectangle: 44\n",
            "Enter the width of the rectangle: 43\n",
            "The area of the rectangle is: 1892.0\n"
          ]
        }
      ]
    },
    {
      "cell_type": "markdown",
      "source": [
        "Day 3-4: Conditional Statements & Loops\n",
        "\n",
        "✅ If-Else conditions (if, elif, else)\n",
        "\n",
        "✅ Logical Operators (and, or, not)\n",
        "\n",
        "✅ Loops (for, while)\n",
        "\n",
        "✅ Loop control statements (break, continue, pass)\n",
        "\n",
        "🔹 Practice: Write a program that prints numbers from 1 to 20 but skips multiples of 3"
      ],
      "metadata": {
        "id": "GjNxXQRjoFgw"
      }
    },
    {
      "cell_type": "markdown",
      "source": [
        "1️⃣ **If-Else Conditions** (`if, elif, else`)\n",
        "\n",
        "Q1: Write a program that asks the user to enter a number and checks if it is **positive, negative, or zero**."
      ],
      "metadata": {
        "id": "PUQs2nWuoYNq"
      }
    },
    {
      "cell_type": "code",
      "source": [
        "number = int(input(\"Enter a number: \"))\n",
        "\n",
        "if number > 0:\n",
        "    print(\"Positive\")\n",
        "elif number == 0:\n",
        "    print(\"Zero\")\n",
        "else:\n",
        "    print(\"Negative\")\n"
      ],
      "metadata": {
        "colab": {
          "base_uri": "https://localhost:8080/"
        },
        "id": "hvKp4gkAroeU",
        "outputId": "a50807e1-bd44-44e3-c044-7762e5b7a3aa"
      },
      "execution_count": 9,
      "outputs": [
        {
          "output_type": "stream",
          "name": "stdout",
          "text": [
            "Enter a number: -4\n",
            "Negative\n"
          ]
        }
      ]
    },
    {
      "cell_type": "markdown",
      "source": [
        "Q2: Write a program that asks for a person's **age** and prints:\n",
        "\n",
        "\"Child\" if age is **less than 12**\n",
        "\n",
        "\"Teenager\" if age is `between 12 and 18`\n",
        "\n",
        "\"Adult\" if age is **above 18**"
      ],
      "metadata": {
        "id": "EqN9Y_WnTIxC"
      }
    },
    {
      "cell_type": "code",
      "source": [
        "age = int(input(\"Enter your age: \"))\n",
        "\n",
        "if age < 12:\n",
        "  print(\"Child\")\n",
        "elif age >= 12 and age <= 18:\n",
        " print(\"Teenager\")\n",
        "else :\n",
        "  print(\"Adult\")"
      ],
      "metadata": {
        "colab": {
          "base_uri": "https://localhost:8080/"
        },
        "id": "t_2EKCbWr9xW",
        "outputId": "2481c767-046c-4e6b-918e-451f6a3f991a"
      },
      "execution_count": 10,
      "outputs": [
        {
          "output_type": "stream",
          "name": "stdout",
          "text": [
            "Enter your age: 21\n",
            "Adult\n"
          ]
        }
      ]
    },
    {
      "cell_type": "markdown",
      "source": [
        "2️⃣ Logical Operators (`and, or, not`)\n",
        "\n",
        "Q3: Write a program that checks if a number is **between 10 and 50** using the **and** operator.\n"
      ],
      "metadata": {
        "id": "uNzJn98PtrW0"
      }
    },
    {
      "cell_type": "code",
      "source": [
        "# Taking user input\n",
        "x = int(input(\"Enter a number: \"))\n",
        "\n",
        "# Checking if the number is between 10 and 50\n",
        "if x >= 10 and x <= 50:\n",
        "    print(\"The number is between 10 and 50.\")\n",
        "else:\n",
        "    print(\"The number is NOT between 10 and 50.\")\n"
      ],
      "metadata": {
        "colab": {
          "base_uri": "https://localhost:8080/"
        },
        "id": "JdNtI2zI_BHV",
        "outputId": "a02e9eb9-ab62-4724-8b50-5aec68785bd4"
      },
      "execution_count": 11,
      "outputs": [
        {
          "output_type": "stream",
          "name": "stdout",
          "text": [
            "Enter a number: 23\n",
            "The number is between 10 and 50.\n"
          ]
        }
      ]
    },
    {
      "cell_type": "markdown",
      "source": [
        "Q4: Write a program that asks the user for a letter and checks if it is a **vowel (a, e, i, o, u)** using the **or** operator."
      ],
      "metadata": {
        "id": "Ac5MrbZVTUFY"
      }
    },
    {
      "cell_type": "code",
      "source": [
        "letter = input(\"Enter a letter:\").lower()\n",
        "\n",
        "if letter == \"a\" or letter == \"e\" or letter == \"i\" or letter == \"o\" or letter == \"u\":\n",
        "  print(\"letter is vowel\")\n",
        "else:\n",
        "  print(\"letter is not vowel\")"
      ],
      "metadata": {
        "colab": {
          "base_uri": "https://localhost:8080/"
        },
        "id": "0YwFElN18DHE",
        "outputId": "2b39b054-c87d-41d3-bdb3-8dbf504b1c6d"
      },
      "execution_count": 12,
      "outputs": [
        {
          "output_type": "stream",
          "name": "stdout",
          "text": [
            "Enter a letter:w\n",
            "letter is not vowel\n"
          ]
        }
      ]
    },
    {
      "cell_type": "markdown",
      "source": [
        "Q5: Use the **not** operator to check if a number **is not equal to 100**."
      ],
      "metadata": {
        "id": "sRiCkLOxTQGT"
      }
    },
    {
      "cell_type": "code",
      "source": [
        "number = int(input(\"Enter a number: \"))\n",
        "\n",
        "if not number == 100:\n",
        "  print(\"This is not equal\")\n",
        "else:\n",
        "  print(\"This is equal\")\n",
        "\n"
      ],
      "metadata": {
        "colab": {
          "base_uri": "https://localhost:8080/"
        },
        "id": "nuQ9zbqP-eCp",
        "outputId": "2479c33c-60eb-4cf0-9436-c36f3ff37cd7"
      },
      "execution_count": 13,
      "outputs": [
        {
          "output_type": "stream",
          "name": "stdout",
          "text": [
            "Enter a number: 21\n",
            "This is not equal\n"
          ]
        }
      ]
    },
    {
      "cell_type": "markdown",
      "source": [
        "3️⃣ Loops (`for, while`)\n",
        "\n",
        "Q6: Write a program that prints numbers from **1 to 10** using a `for` loop.\n"
      ],
      "metadata": {
        "id": "X7CzbsW3AS4l"
      }
    },
    {
      "cell_type": "code",
      "source": [
        "for i in range (1, 10):\n",
        "  print(i)"
      ],
      "metadata": {
        "colab": {
          "base_uri": "https://localhost:8080/"
        },
        "id": "mN8oaADtDfOz",
        "outputId": "19a52d8e-ad4b-478f-b2c4-8ab7c14f9aa1"
      },
      "execution_count": 14,
      "outputs": [
        {
          "output_type": "stream",
          "name": "stdout",
          "text": [
            "1\n",
            "2\n",
            "3\n",
            "4\n",
            "5\n",
            "6\n",
            "7\n",
            "8\n",
            "9\n"
          ]
        }
      ]
    },
    {
      "cell_type": "markdown",
      "source": [
        "Q7: Write a program that prints numbers from **1 to 10** using a `while` loop."
      ],
      "metadata": {
        "id": "4eX8_BzeGF71"
      }
    },
    {
      "cell_type": "code",
      "source": [
        "i = 1 # Start from 1\n",
        "\n",
        "while i <= 10:\n",
        "  print(i)\n",
        "  i += 1"
      ],
      "metadata": {
        "colab": {
          "base_uri": "https://localhost:8080/"
        },
        "id": "EgGE1v73DrKQ",
        "outputId": "40f7b0b0-b1e3-41ea-bd0e-8fa6e0b8b065"
      },
      "execution_count": 15,
      "outputs": [
        {
          "output_type": "stream",
          "name": "stdout",
          "text": [
            "1\n",
            "2\n",
            "3\n",
            "4\n",
            "5\n",
            "6\n",
            "7\n",
            "8\n",
            "9\n",
            "10\n"
          ]
        }
      ]
    },
    {
      "cell_type": "markdown",
      "source": [
        "Q8: Write a program that asks the user for a number and prints its **multiplication table (1 to 10)** using a `for` loop."
      ],
      "metadata": {
        "id": "xrJvGBgXGNwY"
      }
    },
    {
      "cell_type": "code",
      "source": [
        "# Taking user input\n",
        "num = int(input(\"Enter a number: \"))\n",
        "\n",
        "# Printing the multiplication table using a for loop\n",
        "print(f\"\\n Multiplication Table of {num}:\")\n",
        "for i in range(1, 11):  # Loop from 1 to 10\n",
        "    print(f\"{num} × {i} = {num * i}\")"
      ],
      "metadata": {
        "colab": {
          "base_uri": "https://localhost:8080/"
        },
        "id": "dxYMGrtpE3bH",
        "outputId": "d5536e14-b568-400c-abe9-019a3d6fd22c"
      },
      "execution_count": 16,
      "outputs": [
        {
          "output_type": "stream",
          "name": "stdout",
          "text": [
            "Enter a number: 3\n",
            "\n",
            " Multiplication Table of 3:\n",
            "3 × 1 = 3\n",
            "3 × 2 = 6\n",
            "3 × 3 = 9\n",
            "3 × 4 = 12\n",
            "3 × 5 = 15\n",
            "3 × 6 = 18\n",
            "3 × 7 = 21\n",
            "3 × 8 = 24\n",
            "3 × 9 = 27\n",
            "3 × 10 = 30\n"
          ]
        }
      ]
    },
    {
      "cell_type": "markdown",
      "source": [
        "4️⃣ Loop Control Statements (`break, continue, pass`)\n",
        "\n",
        "Q9: Write a program that prints numbers from **1 to 10**, but skips **5** using `continue`."
      ],
      "metadata": {
        "id": "IjpdsCdEF-R_"
      }
    },
    {
      "cell_type": "code",
      "source": [
        "for i in range (1, 11):\n",
        "  if i == 5:\n",
        "    continue\n",
        "  print(i)"
      ],
      "metadata": {
        "colab": {
          "base_uri": "https://localhost:8080/"
        },
        "id": "6tVK46WdH8DN",
        "outputId": "1b3b704d-c317-492c-992e-66837e0f7a83"
      },
      "execution_count": 17,
      "outputs": [
        {
          "output_type": "stream",
          "name": "stdout",
          "text": [
            "1\n",
            "2\n",
            "3\n",
            "4\n",
            "6\n",
            "7\n",
            "8\n",
            "9\n",
            "10\n"
          ]
        }
      ]
    },
    {
      "cell_type": "markdown",
      "source": [
        "Q10: Write a program that prints numbers from **1 to 10**, but stops at **7** using `break`."
      ],
      "metadata": {
        "id": "asUXwIXZBDl5"
      }
    },
    {
      "cell_type": "code",
      "source": [
        "for i in range (1, 11):\n",
        "  if i == 7:\n",
        "    break\n",
        "  print(i)"
      ],
      "metadata": {
        "colab": {
          "base_uri": "https://localhost:8080/"
        },
        "id": "qQvN-J5pA4vz",
        "outputId": "db61c445-8386-40bc-a4b1-a4f351c90687"
      },
      "execution_count": 18,
      "outputs": [
        {
          "output_type": "stream",
          "name": "stdout",
          "text": [
            "1\n",
            "2\n",
            "3\n",
            "4\n",
            "5\n",
            "6\n"
          ]
        }
      ]
    },
    {
      "cell_type": "markdown",
      "source": [
        "Q11: Write a program with a loop that contains the `pass` statement and explain why it is used."
      ],
      "metadata": {
        "id": "_OeACFByBeVM"
      }
    },
    {
      "cell_type": "code",
      "source": [
        "for i in range (1, 11):\n",
        "  if i == 4:\n",
        "    pass\n",
        "  print(i)"
      ],
      "metadata": {
        "colab": {
          "base_uri": "https://localhost:8080/"
        },
        "id": "QEAr2t5MBUnp",
        "outputId": "b036cdb9-a422-4594-c963-adb29c53f32a"
      },
      "execution_count": 19,
      "outputs": [
        {
          "output_type": "stream",
          "name": "stdout",
          "text": [
            "1\n",
            "2\n",
            "3\n",
            "4\n",
            "5\n",
            "6\n",
            "7\n",
            "8\n",
            "9\n",
            "10\n"
          ]
        }
      ]
    },
    {
      "cell_type": "markdown",
      "source": [
        "Day 5-6: Data Structures - Lists & Tuples\n",
        "\n",
        "✅ Lists ([], append(), remove(), pop())\n",
        "\n",
        "✅ List slicing & iteration\n",
        "\n",
        "✅ Tuples (()) - Immutable lists\n",
        "\n",
        "✅ List comprehension\n"
      ],
      "metadata": {
        "id": "kUm_X37HCbIA"
      }
    },
    {
      "cell_type": "markdown",
      "source": [
        "1️⃣ Lists ([ ], append( ), remove( ), pop( ))\n",
        "\n",
        "Q1: Create a list of 5 fruits and print the list."
      ],
      "metadata": {
        "id": "avP8iGr-CnzM"
      }
    },
    {
      "cell_type": "code",
      "source": [
        "fruits = [\"Apple\", \"Banana\", \"Guava\", \"Graps\", \"Cherry\"]\n",
        "print(fruits)"
      ],
      "metadata": {
        "colab": {
          "base_uri": "https://localhost:8080/"
        },
        "id": "689iqmSkCnbF",
        "outputId": "e49efd7b-0ca0-487b-e357-155f01da2974"
      },
      "execution_count": 20,
      "outputs": [
        {
          "output_type": "stream",
          "name": "stdout",
          "text": [
            "['Apple', 'Banana', 'Guava', 'Graps', 'Cherry']\n"
          ]
        }
      ]
    },
    {
      "cell_type": "markdown",
      "source": [
        "Q2: Add **\"Mango\"** to the list using `append()`, then print the updated list."
      ],
      "metadata": {
        "id": "-B7tgHGlCr3Y"
      }
    },
    {
      "cell_type": "code",
      "source": [
        "fruits.append(\"Mango\")\n",
        "print(fruits)"
      ],
      "metadata": {
        "colab": {
          "base_uri": "https://localhost:8080/"
        },
        "id": "SiyWNn39Cvpb",
        "outputId": "85581846-4b15-490e-f127-ae229e7955c9"
      },
      "execution_count": 21,
      "outputs": [
        {
          "output_type": "stream",
          "name": "stdout",
          "text": [
            "['Apple', 'Banana', 'Guava', 'Graps', 'Cherry', 'Mango']\n"
          ]
        }
      ]
    },
    {
      "cell_type": "markdown",
      "source": [
        "Q3: Remove the second item from the list using `remove()` or `pop()` and print the updated list."
      ],
      "metadata": {
        "id": "TzXrIZEKCwBt"
      }
    },
    {
      "cell_type": "code",
      "source": [
        "fruits.remove(\"Guava\")\n",
        "print(fruits)"
      ],
      "metadata": {
        "colab": {
          "base_uri": "https://localhost:8080/"
        },
        "id": "mrEhqDNOBtbx",
        "outputId": "e8f1507d-e3f1-4f00-ab4b-e45d0b52d41a"
      },
      "execution_count": 22,
      "outputs": [
        {
          "output_type": "stream",
          "name": "stdout",
          "text": [
            "['Apple', 'Banana', 'Graps', 'Cherry', 'Mango']\n"
          ]
        }
      ]
    },
    {
      "cell_type": "code",
      "source": [
        "fruits.pop()\n",
        "print(fruits)"
      ],
      "metadata": {
        "colab": {
          "base_uri": "https://localhost:8080/"
        },
        "id": "-K48GjuyEwLP",
        "outputId": "c93f1d8b-a975-4a0e-e321-b17583c07f35"
      },
      "execution_count": 23,
      "outputs": [
        {
          "output_type": "stream",
          "name": "stdout",
          "text": [
            "['Apple', 'Banana', 'Graps', 'Cherry']\n"
          ]
        }
      ]
    },
    {
      "cell_type": "markdown",
      "source": [
        "2️⃣ List Slicing & Iteration\n",
        "\n",
        "Q4: Create a list of 10 numbers and print only the **first 5 numbers** using slicing."
      ],
      "metadata": {
        "id": "6Ohfz5laFWJs"
      }
    },
    {
      "cell_type": "code",
      "source": [
        "Number = [2, 4, 6, 8, 10, 12, 14, 16, 18, 21]\n",
        "print(Number[:5])"
      ],
      "metadata": {
        "colab": {
          "base_uri": "https://localhost:8080/"
        },
        "id": "kauxpuSUFvAe",
        "outputId": "83811627-1139-423a-dd43-d30b1dfb7eb7"
      },
      "execution_count": 24,
      "outputs": [
        {
          "output_type": "stream",
          "name": "stdout",
          "text": [
            "[2, 4, 6, 8, 10]\n"
          ]
        }
      ]
    },
    {
      "cell_type": "markdown",
      "source": [
        "Q5: Print only the **last 3 numbers** from the list using slicing."
      ],
      "metadata": {
        "id": "eiVmrwhjFtbj"
      }
    },
    {
      "cell_type": "code",
      "source": [
        "print(Number[-3:])"
      ],
      "metadata": {
        "colab": {
          "base_uri": "https://localhost:8080/"
        },
        "id": "veeapuUkGjQB",
        "outputId": "093cc94d-1531-4d7e-efa2-038ac9caa5e7"
      },
      "execution_count": 25,
      "outputs": [
        {
          "output_type": "stream",
          "name": "stdout",
          "text": [
            "[16, 18, 21]\n"
          ]
        }
      ]
    },
    {
      "cell_type": "markdown",
      "source": [
        "Q6: Use a **for** loop to print each item in a list of colors."
      ],
      "metadata": {
        "id": "TQ6QEgUwFq0U"
      }
    },
    {
      "cell_type": "code",
      "source": [
        "colors = [\"Red\", \"Yellow\", \"Black\", \"Blue\", \"White\"]\n",
        "print(colors)"
      ],
      "metadata": {
        "colab": {
          "base_uri": "https://localhost:8080/"
        },
        "id": "t7JEwbsEE5_h",
        "outputId": "17c72f18-d445-4fef-c08d-8133444a921e"
      },
      "execution_count": 26,
      "outputs": [
        {
          "output_type": "stream",
          "name": "stdout",
          "text": [
            "['Red', 'Yellow', 'Black', 'Blue', 'White']\n"
          ]
        }
      ]
    },
    {
      "cell_type": "code",
      "source": [
        "for color in colors:\n",
        "  print(color)"
      ],
      "metadata": {
        "colab": {
          "base_uri": "https://localhost:8080/"
        },
        "id": "DX86BG2-IDi_",
        "outputId": "cadca13d-3500-45b1-d9b8-56607f5f8a75"
      },
      "execution_count": 27,
      "outputs": [
        {
          "output_type": "stream",
          "name": "stdout",
          "text": [
            "Red\n",
            "Yellow\n",
            "Black\n",
            "Blue\n",
            "White\n"
          ]
        }
      ]
    },
    {
      "cell_type": "markdown",
      "source": [
        "3️⃣ **Tuples (( ))** - Immutable Lists\n",
        "\n",
        "Q7: Create a tuple with 3 country names and print it."
      ],
      "metadata": {
        "id": "FAJ1B36AInuP"
      }
    },
    {
      "cell_type": "code",
      "source": [
        "country = (\"USA\", \"UK\", \"Germany\")\n",
        "print(country)"
      ],
      "metadata": {
        "colab": {
          "base_uri": "https://localhost:8080/"
        },
        "id": "gkTtaCUGI9hX",
        "outputId": "ec16f66b-8f21-43a2-9683-c3bc3a2713d5"
      },
      "execution_count": 28,
      "outputs": [
        {
          "output_type": "stream",
          "name": "stdout",
          "text": [
            "('USA', 'UK', 'Germany')\n"
          ]
        }
      ]
    },
    {
      "cell_type": "markdown",
      "source": [
        "Q8: Try modifying a value in the tuple and observe the error."
      ],
      "metadata": {
        "id": "U1p9v_idIzrZ"
      }
    },
    {
      "cell_type": "code",
      "source": [
        "country[0] = \"INDIA\"\n",
        "print(country)"
      ],
      "metadata": {
        "id": "sa4y-9ESJck6"
      },
      "execution_count": null,
      "outputs": []
    },
    {
      "cell_type": "code",
      "source": [
        "country.append(\"INDIA\")\n",
        "print(country)"
      ],
      "metadata": {
        "id": "Ii0So3LsJwMm"
      },
      "execution_count": null,
      "outputs": []
    },
    {
      "cell_type": "markdown",
      "source": [
        "Q9: Convert a tuple into a list, modify it, and convert it back into a tuple."
      ],
      "metadata": {
        "id": "BkjG6cggIwFL"
      }
    },
    {
      "cell_type": "code",
      "source": [
        "list_country = list(country)\n",
        "print(list_country)"
      ],
      "metadata": {
        "colab": {
          "base_uri": "https://localhost:8080/"
        },
        "id": "o7X6QDdOJvFa",
        "outputId": "e1f47a24-e909-47fb-faf2-48eda3e39a52"
      },
      "execution_count": 31,
      "outputs": [
        {
          "output_type": "stream",
          "name": "stdout",
          "text": [
            "['USA', 'UK', 'Germany']\n"
          ]
        }
      ]
    },
    {
      "cell_type": "code",
      "source": [
        "list_country.append(\"India\")\n",
        "print(list_country)"
      ],
      "metadata": {
        "colab": {
          "base_uri": "https://localhost:8080/"
        },
        "id": "M2Og_IFKKv4U",
        "outputId": "dd53c402-7e89-43dd-8226-670692ca4fee"
      },
      "execution_count": 32,
      "outputs": [
        {
          "output_type": "stream",
          "name": "stdout",
          "text": [
            "['USA', 'UK', 'Germany', 'India']\n"
          ]
        }
      ]
    },
    {
      "cell_type": "code",
      "source": [
        "new_tuple = tuple(list_country)\n",
        "print(new_tuple)"
      ],
      "metadata": {
        "colab": {
          "base_uri": "https://localhost:8080/"
        },
        "id": "tlwHTmDiK84n",
        "outputId": "92c45cbc-aa83-415d-e9ed-cc786f10012b"
      },
      "execution_count": 33,
      "outputs": [
        {
          "output_type": "stream",
          "name": "stdout",
          "text": [
            "('USA', 'UK', 'Germany', 'India')\n"
          ]
        }
      ]
    },
    {
      "cell_type": "markdown",
      "source": [
        "4️⃣ List Comprehension\n",
        "\n",
        "Q10: Create a list of **squares** of numbers from 1 to 10 using list comprehension."
      ],
      "metadata": {
        "id": "Gjae9a9kIqJ9"
      }
    },
    {
      "cell_type": "code",
      "source": [
        "for x in range(1, 11):\n",
        "  print(x**2)      #Output = (Printed Line by Line)"
      ],
      "metadata": {
        "colab": {
          "base_uri": "https://localhost:8080/"
        },
        "id": "ZcM_pcZHLlcZ",
        "outputId": "022abd0d-6c33-4d2e-ff85-95f20bc9860a"
      },
      "execution_count": 34,
      "outputs": [
        {
          "output_type": "stream",
          "name": "stdout",
          "text": [
            "1\n",
            "4\n",
            "9\n",
            "16\n",
            "25\n",
            "36\n",
            "49\n",
            "64\n",
            "81\n",
            "100\n"
          ]
        }
      ]
    },
    {
      "cell_type": "markdown",
      "source": [
        "✅ Each number is printed on a new line."
      ],
      "metadata": {
        "id": "Vu1HbeMLNRLy"
      }
    },
    {
      "cell_type": "code",
      "source": [
        "square = [x**2 for x in range(1, 11)]\n",
        "print(square)"
      ],
      "metadata": {
        "colab": {
          "base_uri": "https://localhost:8080/"
        },
        "id": "z8gjrqIWL7A-",
        "outputId": "6e7339e2-753a-4ca2-891f-5cdbfb2bc772"
      },
      "execution_count": 35,
      "outputs": [
        {
          "output_type": "stream",
          "name": "stdout",
          "text": [
            "[1, 4, 9, 16, 25, 36, 49, 64, 81, 100]\n"
          ]
        }
      ]
    },
    {
      "cell_type": "markdown",
      "source": [
        "✅ The output is stored as a list and printed in list format."
      ],
      "metadata": {
        "id": "j05XSuDwNX3v"
      }
    },
    {
      "cell_type": "markdown",
      "source": [
        "Q11: Create a list of even numbers from 1 to 20 using list comprehension."
      ],
      "metadata": {
        "id": "ouzQ_NRbLZmV"
      }
    },
    {
      "cell_type": "code",
      "source": [
        "num = [x for x in range(1, 21) if x % 2 == 0]\n",
        "print(num)"
      ],
      "metadata": {
        "colab": {
          "base_uri": "https://localhost:8080/"
        },
        "id": "p2mD5ijONc7r",
        "outputId": "d1e42495-4995-4794-de56-ddd42e118d20"
      },
      "execution_count": 36,
      "outputs": [
        {
          "output_type": "stream",
          "name": "stdout",
          "text": [
            "[2, 4, 6, 8, 10, 12, 14, 16, 18, 20]\n"
          ]
        }
      ]
    },
    {
      "cell_type": "markdown",
      "source": [
        "\n",
        "\n",
        "Q12: Take a list of names and create a new list containing only names that start with \"A\" using list comprehension."
      ],
      "metadata": {
        "id": "hw-6VyMrLdUV"
      }
    },
    {
      "cell_type": "code",
      "source": [
        "names = [\"Ankit\", \"Rohit\", \"Ajay\", \"Vijay\", \"Vikas\"]\n",
        "name_A = [name for name in names if name.startswith(\"A\")]\n",
        "print(name_A)"
      ],
      "metadata": {
        "colab": {
          "base_uri": "https://localhost:8080/"
        },
        "id": "ZrE8nBIsIbvT",
        "outputId": "0afa5bb6-745d-4be4-b7d0-646d21919e00"
      },
      "execution_count": 37,
      "outputs": [
        {
          "output_type": "stream",
          "name": "stdout",
          "text": [
            "['Ankit', 'Ajay']\n"
          ]
        }
      ]
    },
    {
      "cell_type": "code",
      "source": [
        "names = [\"Ankit\", \"Rohit\", \"Ajay\", \"Vijay\", \"Vikas\"]\n",
        "name_A = [name for name in names if name.endswith(\"s\")]\n",
        "print(name_A)"
      ],
      "metadata": {
        "colab": {
          "base_uri": "https://localhost:8080/"
        },
        "id": "gLm0armHO7ON",
        "outputId": "f34d7946-bb4e-4fc8-f0a9-2ab621308132"
      },
      "execution_count": 38,
      "outputs": [
        {
          "output_type": "stream",
          "name": "stdout",
          "text": [
            "['Vikas']\n"
          ]
        }
      ]
    },
    {
      "cell_type": "code",
      "source": [
        "names = [\n",
        "    \"Olivia\", \"James\", \"Sophia\", \"Daniel\", \"Emma\", \"Benjamin\", \"Charlotte\", \"Ethan\", \"Amelia\", \"Michael\",\n",
        "    \"Mia\", \"Alexander\", \"Harper\", \"William\", \"Evelyn\", \"Henry\", \"Abigail\", \"Lucas\", \"Ella\", \"Mason\",\n",
        "    \"Scarlett\", \"Logan\", \"Grace\", \"Jack\", \"Victoria\", \"Liam\", \"Avery\", \"Samuel\", \"Madison\", \"Sebastian\",\n",
        "    \"Luna\", \"Matthew\", \"Chloe\", \"David\", \"Nora\", \"Elijah\", \"Hannah\", \"Gabriel\", \"Aiden\", \"Lily\",\n",
        "    \"Christopher\", \"Zoe\", \"Joseph\", \"Natalie\", \"Andrew\", \"Penelope\", \"Ryan\", \"Camila\", \"Joshua\", \"Leah\",\n",
        "    \"Julian\", \"Savannah\", \"Nathan\", \"Brooklyn\", \"Dylan\", \"Stella\", \"Caleb\", \"Skylar\", \"Isaac\", \"Paisley\",\n",
        "    \"Leo\", \"Eliana\", \"Hunter\", \"Aria\", \"Wyatt\", \"Aurora\", \"Jonathan\", \"Hazel\", \"Luke\", \"Violet\",\n",
        "    \"Isaiah\", \"Ellie\", \"John\", \"Lucy\", \"Anthony\", \"Mila\", \"Theodore\", \"Ruby\", \"Charles\", \"Alice\",\n",
        "    \"Eli\", \"Sarah\", \"Landon\", \"Bella\", \"Connor\", \"Claire\", \"Adrian\", \"Autumn\", \"Christian\", \"Kennedy\",\n",
        "    \"Hudson\", \"Genesis\", \"Robert\", \"Jade\", \"Thomas\", \"Delilah\", \"Jordan\", \"Valentina\", \"Dominic\", \"Ariana\",\n",
        "    \"Easton\", \"Caroline\", \"Jaxon\", \"Brielle\", \"Adam\", \"Everly\", \"Ian\", \"Sadie\", \"Austin\", \"Madeline\",\n",
        "    \"Jace\", \"Piper\", \"Nolan\", \"Nevaeh\", \"Aaron\", \"Melanie\", \"Lincoln\", \"Rylee\", \"Jeremiah\", \"Isla\",\n",
        "    \"Ezekiel\", \"Athena\", \"Greyson\", \"Julia\", \"Jose\", \"Kinsley\", \"Nicholas\", \"Hadley\", \"Angel\", \"Emilia\",\n",
        "    \"Brayden\", \"Vivian\", \"Everett\", \"Clara\", \"Miles\", \"Josephine\", \"Micah\", \"Ivy\", \"Sawyer\", \"Peyton\",\n",
        "    \"Jason\", \"Adeline\", \"Roman\", \"Lyric\", \"Xavier\", \"Noelle\", \"Maxwell\", \"Cora\", \"Carlos\", \"Quinn\",\n",
        "    \"Jasper\", \"Maeve\", \"Kingston\", \"Rose\", \"Kaiden\", \"Naomi\", \"Maddox\", \"Willow\", \"Diego\", \"June\",\n",
        "    \"Max\", \"Elise\", \"Asher\", \"Sienna\", \"Mateo\", \"Allison\", \"Grayson\", \"Andrea\", \"Zachary\", \"Rachel\",\n",
        "    \"Finn\", \"Eliza\", \"Weston\", \"Angela\", \"Tucker\", \"Reagan\", \"Blake\", \"Lyla\", \"Tyler\", \"Faith\",\n",
        "    \"Emmett\", \"Trinity\", \"Oscar\", \"Jasmine\", \"Alex\", \"Tessa\", \"Gavin\", \"Lillian\", \"Bentley\", \"Makayla\",\n",
        "    \"Calvin\", \"Brynlee\", \"Jonah\", \"Juliette\", \"Malachi\", \"Ryleigh\", \"Ryder\", \"Gracie\", \"Hayden\", \"Margaret\",\n",
        "    \"Jude\", \"Alaina\", \"Beau\", \"Lola\", \"Amari\", \"Camille\", \"Jake\", \"Brianna\", \"Zane\", \"Jocelyn\"\n",
        "]\n",
        "\n",
        "name_H = [name for name in names if name.startswith(\"H\")]\n",
        "print(name_H)"
      ],
      "metadata": {
        "colab": {
          "base_uri": "https://localhost:8080/"
        },
        "id": "uoVTRWJVQBZf",
        "outputId": "d0b60cc1-b183-420b-b321-c5059c083d4e"
      },
      "execution_count": 39,
      "outputs": [
        {
          "output_type": "stream",
          "name": "stdout",
          "text": [
            "['Harper', 'Henry', 'Hannah', 'Hunter', 'Hazel', 'Hudson', 'Hadley', 'Hayden']\n"
          ]
        }
      ]
    },
    {
      "cell_type": "markdown",
      "source": [
        "Day 7-8: Data Structures - Dictionaries & Sets\n",
        "\n",
        "✅ Dictionaries (`{key: value}`, .`get(), .keys(), .values()`)\n",
        "\n",
        "✅ Sets (`set(), add(), remove(), union(), intersection()`)\n"
      ],
      "metadata": {
        "id": "F8u4tONpR9UF"
      }
    },
    {
      "cell_type": "markdown",
      "source": [
        "1️⃣ Dictionaries ({key: value}, .get(), .keys(), .values())\n",
        "\n",
        "Q1: Create a dictionary to store the names and ages of three people. Print the dictionary."
      ],
      "metadata": {
        "id": "aeceNoQfM7sr"
      }
    },
    {
      "cell_type": "code",
      "source": [
        "names = {\"Ankit\": 25, \"Rohit\": 20, \"Vijay\": 37}\n",
        "print(names)"
      ],
      "metadata": {
        "colab": {
          "base_uri": "https://localhost:8080/"
        },
        "id": "1didg3kcNoL0",
        "outputId": "0cbdd3a1-a48a-4ced-9013-65f8cefe2e14"
      },
      "execution_count": 40,
      "outputs": [
        {
          "output_type": "stream",
          "name": "stdout",
          "text": [
            "{'Ankit': 25, 'Rohit': 20, 'Vijay': 37}\n"
          ]
        }
      ]
    },
    {
      "cell_type": "markdown",
      "source": [
        "Q2: Given the dictionary below, print only the keys and then only the values."
      ],
      "metadata": {
        "id": "qiv2i09cNBXb"
      }
    },
    {
      "cell_type": "code",
      "source": [
        "print(names.keys())\n",
        "print(names.values())"
      ],
      "metadata": {
        "colab": {
          "base_uri": "https://localhost:8080/"
        },
        "id": "pdR680SvORRI",
        "outputId": "8ff4326a-5cef-4384-d9ae-32776a7ecdab"
      },
      "execution_count": 41,
      "outputs": [
        {
          "output_type": "stream",
          "name": "stdout",
          "text": [
            "dict_keys(['Ankit', 'Rohit', 'Vijay'])\n",
            "dict_values([25, 20, 37])\n"
          ]
        }
      ]
    },
    {
      "cell_type": "markdown",
      "source": [
        "Q3: Write a program that asks the user for a country name and prints its capital using the dictionary below. If the country is not found, print `\"Country not in the list.\"`"
      ],
      "metadata": {
        "id": "Rt6KZcy0NFLT"
      }
    },
    {
      "cell_type": "code",
      "source": [
        "country_capitals = {\n",
        "    \"France\": \"Paris\",\n",
        "    \"Germany\": \"Berlin\",\n",
        "    \"Italy\": \"Rome\",\n",
        "    \"Spain\": \"Madrid\",}\n",
        "\n",
        "\n",
        "country = input(\"Enter a country name: \")\n",
        "capital = country_capitals.get(country, \"Country not in the list.\")\n",
        "print(capital)"
      ],
      "metadata": {
        "colab": {
          "base_uri": "https://localhost:8080/"
        },
        "id": "TF4KNlrmPPbg",
        "outputId": "3de44d02-30f2-4254-cda2-93a0ace79350"
      },
      "execution_count": 42,
      "outputs": [
        {
          "output_type": "stream",
          "name": "stdout",
          "text": [
            "Enter a country name: Germany\n",
            "Berlin\n"
          ]
        }
      ]
    },
    {
      "cell_type": "markdown",
      "source": [
        "Q4: Use the `.get()` method to retrieve the value of the key `\"age\" `from the dictionary below. If the key is not found, print `\"Key not found\"` instead."
      ],
      "metadata": {
        "id": "vWodf5JiNUCq"
      }
    },
    {
      "cell_type": "code",
      "source": [
        "names_ages = input(\"Enter a name: \")\n",
        "ages = names.get(names_ages, \"Key not found\")\n",
        "print(ages)"
      ],
      "metadata": {
        "colab": {
          "base_uri": "https://localhost:8080/"
        },
        "id": "zVKAOJo5R2Eg",
        "outputId": "a811e462-601c-4c0c-d465-b718c68e25e0"
      },
      "execution_count": 43,
      "outputs": [
        {
          "output_type": "stream",
          "name": "stdout",
          "text": [
            "Enter a name: Ankit\n",
            "25\n"
          ]
        }
      ]
    },
    {
      "cell_type": "markdown",
      "source": [
        "Q5: Add a new key `\"email\"` with the value `\"john@example.com\"` to the dictionary below and print the updated dictionary."
      ],
      "metadata": {
        "id": "Edhq-qn7Ni7E"
      }
    },
    {
      "cell_type": "code",
      "source": [
        "names[\"email\"] = \"ankit@123.com\"\n",
        "print(names)"
      ],
      "metadata": {
        "colab": {
          "base_uri": "https://localhost:8080/"
        },
        "id": "Lk1OU-STRgRY",
        "outputId": "3638a59a-6ff6-4454-8b39-441d219ff779"
      },
      "execution_count": 44,
      "outputs": [
        {
          "output_type": "stream",
          "name": "stdout",
          "text": [
            "{'Ankit': 25, 'Rohit': 20, 'Vijay': 37, 'email': 'ankit@123.com'}\n"
          ]
        }
      ]
    },
    {
      "cell_type": "markdown",
      "source": [
        "2️⃣ Sets (`set(), add(), remove(), union(), intersection()`)\n",
        "\n",
        "Q6: Create a set with five unique fruit names and print it."
      ],
      "metadata": {
        "id": "LqSvHsyIU-PV"
      }
    },
    {
      "cell_type": "code",
      "source": [
        "fruits = {\"Apple\", \"Banana\", \"Guava\", \"Graps\", \"Cherry\"}\n",
        "print(fruits)"
      ],
      "metadata": {
        "colab": {
          "base_uri": "https://localhost:8080/"
        },
        "id": "vkRHPpOXVaUC",
        "outputId": "028424cb-888f-40e0-918a-3f78a504dd2c"
      },
      "execution_count": 45,
      "outputs": [
        {
          "output_type": "stream",
          "name": "stdout",
          "text": [
            "{'Apple', 'Graps', 'Guava', 'Cherry', 'Banana'}\n"
          ]
        }
      ]
    },
    {
      "cell_type": "markdown",
      "source": [
        "Q7: Add `\"Mango\"` to the set below and print the updated set."
      ],
      "metadata": {
        "id": "Zm6ZMuYqVBM7"
      }
    },
    {
      "cell_type": "code",
      "source": [
        "fruits.add(\"Mango\")\n",
        "print(fruits)"
      ],
      "metadata": {
        "colab": {
          "base_uri": "https://localhost:8080/"
        },
        "id": "NsSm3cJeVmS-",
        "outputId": "bedc81d4-c078-4e85-f082-94c7c8cc3673"
      },
      "execution_count": 46,
      "outputs": [
        {
          "output_type": "stream",
          "name": "stdout",
          "text": [
            "{'Apple', 'Graps', 'Mango', 'Guava', 'Cherry', 'Banana'}\n"
          ]
        }
      ]
    },
    {
      "cell_type": "markdown",
      "source": [
        "Q8: Remove `\"Banana\"` from the set below and print the updated set."
      ],
      "metadata": {
        "id": "8CyxYnkoVEIQ"
      }
    },
    {
      "cell_type": "code",
      "source": [
        "fruits.remove(\"Banana\")\n",
        "print(fruits)"
      ],
      "metadata": {
        "colab": {
          "base_uri": "https://localhost:8080/"
        },
        "id": "3aODXJagVx9g",
        "outputId": "532636e2-d425-49c4-daff-69207f20f104"
      },
      "execution_count": 47,
      "outputs": [
        {
          "output_type": "stream",
          "name": "stdout",
          "text": [
            "{'Apple', 'Graps', 'Mango', 'Guava', 'Cherry'}\n"
          ]
        }
      ]
    },
    {
      "cell_type": "markdown",
      "source": [
        "Q9: Find the union of the two sets below and print the result."
      ],
      "metadata": {
        "id": "5od5a6xZVGya"
      }
    },
    {
      "cell_type": "code",
      "source": [
        "set1 = {1, 6, 7, 9}\n",
        "set2 = {2, 10, 6, 9}\n",
        "Final_union = set1.union(set2)\n",
        "print(Final_union)"
      ],
      "metadata": {
        "colab": {
          "base_uri": "https://localhost:8080/"
        },
        "id": "IZTih4YlV6ik",
        "outputId": "cd82948d-83e3-4319-cc38-da987ea50372"
      },
      "execution_count": 48,
      "outputs": [
        {
          "output_type": "stream",
          "name": "stdout",
          "text": [
            "{1, 2, 6, 7, 9, 10}\n"
          ]
        }
      ]
    },
    {
      "cell_type": "markdown",
      "source": [
        "Q10: Find the intersection of the two sets below and print the result."
      ],
      "metadata": {
        "id": "Um0gklRrVJH2"
      }
    },
    {
      "cell_type": "code",
      "source": [
        "Final_intersection = set1.intersection(set2)\n",
        "print(Final_intersection)"
      ],
      "metadata": {
        "colab": {
          "base_uri": "https://localhost:8080/"
        },
        "id": "cmAKTiS6Ts4m",
        "outputId": "54313582-1153-4153-e96b-dd935a6e7310"
      },
      "execution_count": 49,
      "outputs": [
        {
          "output_type": "stream",
          "name": "stdout",
          "text": [
            "{9, 6}\n"
          ]
        }
      ]
    },
    {
      "cell_type": "markdown",
      "source": [
        "Day 9-10: Functions & Modules\n",
        "\n",
        "✅ Defining functions (def function_name():)\n",
        "\n",
        "✅ Function arguments & return values\n",
        "\n",
        "✅ Importing & using Python modules (math, random, datetime\n",
        "\n",
        "✅ Writing your own modules"
      ],
      "metadata": {
        "id": "-0txY4n4XRkK"
      }
    },
    {
      "cell_type": "markdown",
      "source": [
        "1️⃣ Defining Functions (`def function_name():`)\n",
        "\n",
        "Q1: Write a function named `greet()` that prints `\"Hello, welcome to Python!\"`. Call the function."
      ],
      "metadata": {
        "id": "aJmYI8rceoIK"
      }
    },
    {
      "cell_type": "code",
      "source": [
        "def greet():\n",
        " print(\"Hello, welcone to Python\")\n",
        "greet()"
      ],
      "metadata": {
        "colab": {
          "base_uri": "https://localhost:8080/"
        },
        "id": "-eJXqfmAfC2Q",
        "outputId": "b449b1b2-b992-4cb6-f272-ec546ee4799e"
      },
      "execution_count": 50,
      "outputs": [
        {
          "output_type": "stream",
          "name": "stdout",
          "text": [
            "Hello, welcone to Python\n"
          ]
        }
      ]
    },
    {
      "cell_type": "markdown",
      "source": [
        "Q2: Create a function `print_square()` that takes a number as an argument and prints its square."
      ],
      "metadata": {
        "id": "q1km9fEDexEU"
      }
    },
    {
      "cell_type": "code",
      "source": [
        "def print_square():\n",
        " num = int(input(\"Enter a number: \"))\n",
        " print(num**2)\n",
        "print_square()"
      ],
      "metadata": {
        "colab": {
          "base_uri": "https://localhost:8080/"
        },
        "id": "JIwVCHfjfkRx",
        "outputId": "cca3f477-6a0c-45a5-b776-343b8628706c"
      },
      "execution_count": 51,
      "outputs": [
        {
          "output_type": "stream",
          "name": "stdout",
          "text": [
            "Enter a number: 36\n",
            "1296\n"
          ]
        }
      ]
    },
    {
      "cell_type": "markdown",
      "source": [
        "Q3: Define a function `welcome_user() `that asks for the user's name and then prints` \"Hello, [name]!\"`."
      ],
      "metadata": {
        "id": "rwO_-e7Ue3Xv"
      }
    },
    {
      "cell_type": "code",
      "source": [
        "def welcome_user():\n",
        "  name = input(\"Enter your name: \")\n",
        "  print(f\"Hello, {name}!\")\n",
        "welcome_user()"
      ],
      "metadata": {
        "id": "OT29gtHn4NPG",
        "colab": {
          "base_uri": "https://localhost:8080/"
        },
        "outputId": "c89098c2-a1e9-4cd1-e7c4-9304d69f110b"
      },
      "execution_count": 52,
      "outputs": [
        {
          "output_type": "stream",
          "name": "stdout",
          "text": [
            "Enter your name: Vishal\n",
            "Hello, Vishal!\n"
          ]
        }
      ]
    },
    {
      "cell_type": "markdown",
      "source": [
        "2️⃣ Function Arguments & Return Values\n",
        "\n",
        "Q4: Write a function `add_numbers(a, b)` that takes two numbers and returns their sum."
      ],
      "metadata": {
        "id": "g0iuBDTiiRSs"
      }
    },
    {
      "cell_type": "code",
      "source": [
        "def add_numbers(a, b):\n",
        "  sum = a + b\n",
        "  return sum\n",
        "add_numbers(44, 44)"
      ],
      "metadata": {
        "colab": {
          "base_uri": "https://localhost:8080/"
        },
        "id": "1CSs__msk4xf",
        "outputId": "402ca8bd-4f82-413c-bca7-414176a154f9"
      },
      "execution_count": 53,
      "outputs": [
        {
          "output_type": "execute_result",
          "data": {
            "text/plain": [
              "88"
            ]
          },
          "metadata": {},
          "execution_count": 53
        }
      ]
    },
    {
      "cell_type": "code",
      "source": [
        "def add_numbers():\n",
        "  Num1 = int(input(\"Enter first number: \"))\n",
        "  Num2 = int(input(\"Enter second number: \"))\n",
        "\n",
        "  sum = Num1 + Num2\n",
        "  print(sum)\n",
        "\n",
        "add_numbers()"
      ],
      "metadata": {
        "colab": {
          "base_uri": "https://localhost:8080/"
        },
        "id": "CiUG_ukPipv1",
        "outputId": "abfe04d0-49c1-41a2-effa-718a91b527a8"
      },
      "execution_count": 54,
      "outputs": [
        {
          "output_type": "stream",
          "name": "stdout",
          "text": [
            "Enter first number: 33\n",
            "Enter second number: 23\n",
            "56\n"
          ]
        }
      ]
    },
    {
      "cell_type": "markdown",
      "source": [
        "\n",
        "Q5: Create a function `multiply_numbers(x, y)` that multiplies two numbers and prints the result."
      ],
      "metadata": {
        "id": "Ija1BPBHiZJ_"
      }
    },
    {
      "cell_type": "code",
      "source": [
        "def multiply_numbers(x, y):\n",
        "  multiply = x*y\n",
        "  print(multiply)\n",
        "multiply_numbers(4, 4)"
      ],
      "metadata": {
        "colab": {
          "base_uri": "https://localhost:8080/"
        },
        "id": "kvOsx2Vgk0vC",
        "outputId": "6aa17f3d-42b9-4d04-b588-bcfb7081c676"
      },
      "execution_count": 55,
      "outputs": [
        {
          "output_type": "stream",
          "name": "stdout",
          "text": [
            "16\n"
          ]
        }
      ]
    },
    {
      "cell_type": "markdown",
      "source": [
        "Q6: Define a function `is_even(n)` that returns True if a number is even and False otherwise."
      ],
      "metadata": {
        "id": "kHeNSiQWihkP"
      }
    },
    {
      "cell_type": "code",
      "source": [
        "def is_even(n):\n",
        "  if n % 2 == 0:\n",
        "   return True\n",
        "  else:\n",
        "    return False\n",
        "is_even(9)\n"
      ],
      "metadata": {
        "colab": {
          "base_uri": "https://localhost:8080/"
        },
        "id": "1NP9VKbXl-SS",
        "outputId": "ebb6934c-2c73-4546-cbf1-af37d9155aa5"
      },
      "execution_count": 56,
      "outputs": [
        {
          "output_type": "execute_result",
          "data": {
            "text/plain": [
              "False"
            ]
          },
          "metadata": {},
          "execution_count": 56
        }
      ]
    },
    {
      "cell_type": "markdown",
      "source": [
        "\n",
        "Q7: Write a function `calculate_area(length, width)` that takes two arguments (length and width) and returns the area of a rectangle."
      ],
      "metadata": {
        "id": "QSvYTYUJikuO"
      }
    },
    {
      "cell_type": "code",
      "source": [
        "def calculate_area(length, width):\n",
        "  area = length * width\n",
        "  return area\n",
        "calculate_area(4, 3)"
      ],
      "metadata": {
        "colab": {
          "base_uri": "https://localhost:8080/"
        },
        "id": "WmCZt6MDogOJ",
        "outputId": "44d6dab7-e02a-431b-a149-80a1cc97f86e"
      },
      "execution_count": 57,
      "outputs": [
        {
          "output_type": "execute_result",
          "data": {
            "text/plain": [
              "12"
            ]
          },
          "metadata": {},
          "execution_count": 57
        }
      ]
    },
    {
      "cell_type": "markdown",
      "source": [
        "3️⃣ Importing & Using Python Modules\n",
        "\n",
        "Q8: Import the `math` module and use `math.sqrt()` to find the square root of 64."
      ],
      "metadata": {
        "id": "PYES-Qqfih5O"
      }
    },
    {
      "cell_type": "code",
      "source": [
        "import math\n",
        "math.sqrt(64)"
      ],
      "metadata": {
        "colab": {
          "base_uri": "https://localhost:8080/"
        },
        "id": "wczlrsweqEVP",
        "outputId": "535f4442-0357-4b80-8ae5-44a0082f82e4"
      },
      "execution_count": 58,
      "outputs": [
        {
          "output_type": "execute_result",
          "data": {
            "text/plain": [
              "8.0"
            ]
          },
          "metadata": {},
          "execution_count": 58
        }
      ]
    },
    {
      "cell_type": "markdown",
      "source": [
        "\n",
        "Q9: Use the `random` module to generate and print a random number between 1 and 10.\n"
      ],
      "metadata": {
        "id": "Utfjd6MMqAqP"
      }
    },
    {
      "cell_type": "code",
      "source": [
        "import random\n",
        "random.randint(1, 10)"
      ],
      "metadata": {
        "colab": {
          "base_uri": "https://localhost:8080/"
        },
        "id": "KMP76gVAqe5U",
        "outputId": "c0bbd797-985e-40eb-880b-e145819c7555"
      },
      "execution_count": 59,
      "outputs": [
        {
          "output_type": "execute_result",
          "data": {
            "text/plain": [
              "4"
            ]
          },
          "metadata": {},
          "execution_count": 59
        }
      ]
    },
    {
      "cell_type": "markdown",
      "source": [
        "Q10: Import the `datetime` module and print the current date and time."
      ],
      "metadata": {
        "id": "6J-Ospb1qC7F"
      }
    },
    {
      "cell_type": "code",
      "source": [
        "import datetime\n",
        "\n",
        "now = datetime.datetime.now()\n",
        "print(now)"
      ],
      "metadata": {
        "colab": {
          "base_uri": "https://localhost:8080/"
        },
        "id": "m3U7QpzcquCy",
        "outputId": "6c9ae5c1-8233-4d2a-850a-2e30723139e2"
      },
      "execution_count": 60,
      "outputs": [
        {
          "output_type": "stream",
          "name": "stdout",
          "text": [
            "2025-04-10 17:43:30.259476\n"
          ]
        }
      ]
    },
    {
      "cell_type": "markdown",
      "source": [
        "4️⃣ Writing Your Own Modules\n",
        "\n",
        "Q11: Create a new Python file `(my_module.py`) and define a function `say_hello()` that prints `\"Hello from my module!\"`. Then, import this module in another Python script and call the function.\n"
      ],
      "metadata": {
        "id": "ahPC2UhGrEVJ"
      }
    },
    {
      "cell_type": "code",
      "source": [
        "def say_hello():\n",
        "  print(\"Hello from my module!\")\n",
        "say_hello()"
      ],
      "metadata": {
        "colab": {
          "base_uri": "https://localhost:8080/"
        },
        "id": "APdu9carrcjH",
        "outputId": "3090ca9e-58ba-4704-a153-5ec2f1004e97"
      },
      "execution_count": 61,
      "outputs": [
        {
          "output_type": "stream",
          "name": "stdout",
          "text": [
            "Hello from my module!\n"
          ]
        }
      ]
    },
    {
      "cell_type": "markdown",
      "source": [
        "Q12: Write a Python module named `math_operations.py` with a function `subtract(a, b)` that returns the difference of two numbers. Import this module and call `subtract(10, 3)`.\n"
      ],
      "metadata": {
        "id": "XFQsnmg2raRy"
      }
    },
    {
      "cell_type": "markdown",
      "source": [
        "First method"
      ],
      "metadata": {
        "id": "dt5FkQ_0t4kZ"
      }
    },
    {
      "cell_type": "code",
      "source": [
        "def subtract(a, b):\n",
        "  subtract = a - b\n",
        "  return subtract\n",
        "subtract(100, 43)"
      ],
      "metadata": {
        "colab": {
          "base_uri": "https://localhost:8080/"
        },
        "id": "6LD8ERQAhpTW",
        "outputId": "befaaa3f-7ffe-46cb-a880-7637b65fe73a"
      },
      "execution_count": 62,
      "outputs": [
        {
          "output_type": "execute_result",
          "data": {
            "text/plain": [
              "57"
            ]
          },
          "metadata": {},
          "execution_count": 62
        }
      ]
    },
    {
      "cell_type": "markdown",
      "source": [
        "Second Method"
      ],
      "metadata": {
        "id": "-lJZMFNst8Kk"
      }
    },
    {
      "cell_type": "code",
      "source": [
        "%%writefile math_operations.py\n",
        "\n",
        "def subtract(a, b):\n",
        "    \"\"\"Returns the difference between two numbers.\"\"\"\n",
        "    return a - b\n"
      ],
      "metadata": {
        "colab": {
          "base_uri": "https://localhost:8080/"
        },
        "id": "ARg-lADrtnn8",
        "outputId": "8190bd41-d443-4d01-c808-bc98ff8cda59"
      },
      "execution_count": 63,
      "outputs": [
        {
          "output_type": "stream",
          "name": "stdout",
          "text": [
            "Writing math_operations.py\n"
          ]
        }
      ]
    },
    {
      "cell_type": "code",
      "source": [
        "# Importing the custom module\n",
        "import math_operations\n",
        "\n",
        "# Calling the function from the module\n",
        "result = math_operations.subtract(100, 43)\n",
        "\n",
        "# Printing the result\n",
        "print(\"Difference:\", result)"
      ],
      "metadata": {
        "colab": {
          "base_uri": "https://localhost:8080/"
        },
        "id": "O0-FhxLvsxO2",
        "outputId": "a6f0ab78-dbb1-4c71-e63a-8e470c80e07e"
      },
      "execution_count": 64,
      "outputs": [
        {
          "output_type": "stream",
          "name": "stdout",
          "text": [
            "Difference: 57\n"
          ]
        }
      ]
    },
    {
      "cell_type": "markdown",
      "source": [
        "Day 11-12: File Handling & Exception Handling\n",
        "\n",
        "✅ Read & write files (`open(), read(), write(), close()`)\n",
        "\n",
        "✅ Exception Handling (`try, except, finally`)"
      ],
      "metadata": {
        "id": "liLpYJ4-um_5"
      }
    },
    {
      "cell_type": "markdown",
      "source": [
        "1️⃣ **File Handling (Reading & Writing Files)**\n",
        "\n",
        "Q1: Create a text file named **sample.txt** and write `\"Hello, this is a test file!\"` into it using Python."
      ],
      "metadata": {
        "id": "Wh5EWEEyzpUC"
      }
    },
    {
      "cell_type": "code",
      "source": [
        "file = open(\"sample.txt\", \"w\")\n",
        "file.write(\"Hello, this is a test file!\")\n",
        "file.close()"
      ],
      "metadata": {
        "id": "5HjG2J_H1mJ1"
      },
      "execution_count": 65,
      "outputs": []
    },
    {
      "cell_type": "markdown",
      "source": [
        "Q2: Write a program to read and print the contents of `sample.txt` that you\n",
        "\n",
        "created in Q1.\n"
      ],
      "metadata": {
        "id": "HpRKTF4WzxiB"
      }
    },
    {
      "cell_type": "code",
      "source": [
        "file = open(\"sample.txt\", \"r\")\n",
        "contents = file.read()\n",
        "print(contents)\n",
        "file.close()"
      ],
      "metadata": {
        "colab": {
          "base_uri": "https://localhost:8080/"
        },
        "id": "yiz4OonW2kJb",
        "outputId": "921146c3-304b-4145-c829-7d0216dcc47b"
      },
      "execution_count": 66,
      "outputs": [
        {
          "output_type": "stream",
          "name": "stdout",
          "text": [
            "Hello, this is a test file!\n"
          ]
        }
      ]
    },
    {
      "cell_type": "markdown",
      "source": [
        "Q3: Append the line` \"This is a new line added to the file.\"` to `sample.txt` and then display the updated contents."
      ],
      "metadata": {
        "id": "eQCH-tYaz-ze"
      }
    },
    {
      "cell_type": "code",
      "source": [
        "file = open (\"smaple.txt\", \"w\")\n",
        "file.write(\"\\n This is a new line added to the file.\")\n",
        "file.close()"
      ],
      "metadata": {
        "id": "qlxNL0A126Lz"
      },
      "execution_count": 67,
      "outputs": []
    },
    {
      "cell_type": "code",
      "source": [
        "file = open (\"smaple.txt\", \"r\")\n",
        "contents = file.read()\n",
        "print(contents)\n",
        "file.close()"
      ],
      "metadata": {
        "colab": {
          "base_uri": "https://localhost:8080/"
        },
        "id": "VexIlVRE4TeJ",
        "outputId": "ac591344-76bf-4f03-f52e-666fb91ecdb3"
      },
      "execution_count": 68,
      "outputs": [
        {
          "output_type": "stream",
          "name": "stdout",
          "text": [
            "\n",
            " This is a new line added to the file.\n"
          ]
        }
      ]
    },
    {
      "cell_type": "markdown",
      "source": [
        "Q4: Write a program that writes **5 user-inputted lines into** a file and then reads & prints them.\n"
      ],
      "metadata": {
        "id": "oHUIF6680ZUB"
      }
    },
    {
      "cell_type": "code",
      "source": [
        "with open(\"user_text.txt\", \"w\") as file:\n",
        "  for i in range(1, 6):\n",
        "    line = input(f\"Enter line {i}: \")\n",
        "    file.write(line + \",\")\n",
        "    print(f\"Line {i} written to the file.\")\n",
        "\n",
        "with open(\"user_text.txt\", \"r\") as file:\n",
        "  contents = file.readlines()\n",
        "  print(contents)"
      ],
      "metadata": {
        "colab": {
          "base_uri": "https://localhost:8080/"
        },
        "id": "jhmCgbr_4wCq",
        "outputId": "ef28b489-ab0b-4397-d7db-b2f2d18d601a"
      },
      "execution_count": 69,
      "outputs": [
        {
          "output_type": "stream",
          "name": "stdout",
          "text": [
            "Enter line 1: My name is Vishal\n",
            "Line 1 written to the file.\n",
            "Enter line 2: I am from India\n",
            "Line 2 written to the file.\n",
            "Enter line 3: I am living in Berlin city.\n",
            "Line 3 written to the file.\n",
            "Enter line 4: Which is located in Germany.\n",
            "Line 4 written to the file.\n",
            "Enter line 5: That's enough!\n",
            "Line 5 written to the file.\n",
            "[\"My name is Vishal,I am from India,I am living in Berlin city.,Which is located in Germany.,That's enough!,\"]\n"
          ]
        }
      ]
    },
    {
      "cell_type": "markdown",
      "source": [
        "\n",
        "Q5: Count the number of words in a file called `user_text.txt` and print the result."
      ],
      "metadata": {
        "id": "PoyBHRLj0iA7"
      }
    },
    {
      "cell_type": "code",
      "source": [
        "number_of_words = 0\n",
        "with open(\"user_text.txt\", \"r\") as file:\n",
        "  contents = file.read()\n",
        "  words = contents.split()\n",
        "  number_of_words = len(words)\n",
        "  print(number_of_words)"
      ],
      "metadata": {
        "id": "DEL-9C63tZFR",
        "colab": {
          "base_uri": "https://localhost:8080/"
        },
        "outputId": "19a1fe89-5d1c-452b-81c0-fdf4cd2a72f0"
      },
      "execution_count": 71,
      "outputs": [
        {
          "output_type": "stream",
          "name": "stdout",
          "text": [
            "17\n"
          ]
        }
      ]
    },
    {
      "cell_type": "markdown",
      "source": [
        "2️⃣ **Exception Handling (try, except, finally)**\n",
        "\n",
        "Q6: Write a program that takes a number as input and prints its reciprocal `(1/number`). Handle the case when the user enters `0` to avoid a **division error**.\n"
      ],
      "metadata": {
        "id": "u7Y6oCtf9UdS"
      }
    },
    {
      "cell_type": "code",
      "source": [
        "number = int(input(\"Enter a number: \"))\n",
        "try:\n",
        "  reciprocal = 1 / number\n",
        "  print(reciprocal)\n",
        "except ZeroDivisionError:\n",
        "  print(\"Cannot divide by zero.\")"
      ],
      "metadata": {
        "colab": {
          "base_uri": "https://localhost:8080/"
        },
        "id": "AJo50MVi-BJr",
        "outputId": "47539bee-dc29-45e0-ec04-0fc71254b776"
      },
      "execution_count": 74,
      "outputs": [
        {
          "output_type": "stream",
          "name": "stdout",
          "text": [
            "Enter a number: 111\n",
            "0.009009009009009009\n"
          ]
        }
      ]
    },
    {
      "cell_type": "markdown",
      "source": [
        "Q7: Write a program that asks for a filename and tries to open it. If the file does not exist, print `\"File not found!\"` instead of crashing."
      ],
      "metadata": {
        "id": "0rRjgYAB9ke8"
      }
    },
    {
      "cell_type": "code",
      "source": [
        "filename = input(\"Enter a filename: \")\n",
        "try:\n",
        "  file = open(filename, \"r\")\n",
        "  contents = file.read()\n",
        "  file.close()\n",
        "except FileNotFoundError:\n",
        "  print(\"File not found error.\")\n"
      ],
      "metadata": {
        "id": "Fv-ZvX0e_wOs"
      },
      "execution_count": null,
      "outputs": []
    },
    {
      "cell_type": "markdown",
      "source": [
        "Q8: Create a program that asks the user for a number, converts it to an integer, and prints its square. If the user enters a non-numeric value, display an error message.\n"
      ],
      "metadata": {
        "id": "uzz61SdA9pFp"
      }
    },
    {
      "cell_type": "code",
      "source": [
        "number = input(\"Enter a number: \")\n",
        "try:\n",
        "  number = int(number)\n",
        "  square = number ** 2\n",
        "  print(square)\n",
        "except ValueError:\n",
        "  print(\"non-numeric value.\")\n"
      ],
      "metadata": {
        "colab": {
          "base_uri": "https://localhost:8080/"
        },
        "id": "hWtstxLSBTes",
        "outputId": "820b4e5d-687b-46d2-fbd0-19b0b82f3e02"
      },
      "execution_count": 75,
      "outputs": [
        {
          "output_type": "stream",
          "name": "stdout",
          "text": [
            "Enter a number: 36\n",
            "1296\n"
          ]
        }
      ]
    },
    {
      "cell_type": "markdown",
      "source": [
        "Q9: Use `try-finally` to open a file, write some text, and ensure that the file gets closed properly even if an error occurs.\n"
      ],
      "metadata": {
        "id": "mJzJVosw9tzM"
      }
    },
    {
      "cell_type": "code",
      "source": [
        "text = input(\"Enter a text:\")\n",
        "try:\n",
        "  file = open(\"text.txt\", \"w\")\n",
        "  file.write(text)\n",
        "finally:\n",
        "  file.close()\n",
        "  print(\"File close Successfully!\")\n"
      ],
      "metadata": {
        "colab": {
          "base_uri": "https://localhost:8080/"
        },
        "id": "f4ERKF3WCaXp",
        "outputId": "631b56ac-dfcf-451d-e64b-405ece30bde8"
      },
      "execution_count": 76,
      "outputs": [
        {
          "output_type": "stream",
          "name": "stdout",
          "text": [
            "Enter a text:Hello\n",
            "File close Successfully!\n"
          ]
        }
      ]
    },
    {
      "cell_type": "markdown",
      "source": [
        "\n",
        "Q10: Create a simple calculator program that asks for two numbers and an operation (+, -, *, /). Handle cases where the user enters invalid numbers or tries to divide by zero."
      ],
      "metadata": {
        "id": "TU_sUZde9xIE"
      }
    },
    {
      "cell_type": "code",
      "source": [
        "def calculator():\n",
        "    try:\n",
        "        # Taking user input for numbers\n",
        "        num1 = float(input(\"Enter first number: \"))\n",
        "        num2 = float(input(\"Enter second number: \"))\n",
        "\n",
        "        # Taking user input for operation\n",
        "        operation = input(\"Enter operation (+, -, *, /): \")\n",
        "\n",
        "        # Performing calculation based on user input\n",
        "        if operation == \"+\":\n",
        "            result = num1 + num2\n",
        "        elif operation == \"-\":\n",
        "            result = num1 - num2\n",
        "        elif operation == \"*\":\n",
        "            result = num1 * num2\n",
        "        elif operation == \"/\":\n",
        "            if num2 == 0:\n",
        "                raise ZeroDivisionError(\"❌ Cannot divide by zero!\")\n",
        "            result = num1 / num2\n",
        "        else:\n",
        "            raise ValueError(\"❌ Invalid operation! Please enter +, -, *, or /.\")\n",
        "\n",
        "        # Displaying result\n",
        "        print(f\"\\n✅ Result: {num1} {operation} {num2} = {result}\")\n",
        "\n",
        "    except ValueError:\n",
        "        print(\"❌ Invalid input! Please enter a valid number.\")\n",
        "    except ZeroDivisionError as e:\n",
        "        print(e)\n",
        "    except Exception as e:\n",
        "        print(f\"❌ An unexpected error occurred: {e}\")\n",
        "\n",
        "# Run the calculator function\n",
        "calculator()"
      ],
      "metadata": {
        "colab": {
          "base_uri": "https://localhost:8080/"
        },
        "id": "83vbqk1bDiXV",
        "outputId": "423f983c-5bf5-4f0f-e782-6bf967121014"
      },
      "execution_count": 77,
      "outputs": [
        {
          "output_type": "stream",
          "name": "stdout",
          "text": [
            "Enter first number: 34\n",
            "Enter second number: 32\n",
            "Enter operation (+, -, *, /): +\n",
            "\n",
            "✅ Result: 34.0 + 32.0 = 66.0\n"
          ]
        }
      ]
    },
    {
      "cell_type": "markdown",
      "source": [
        "Day 13: Object-Oriented Programming (OOP) Basics\n",
        "\n",
        "✅ Classes & Objects\n",
        "\n",
        "✅ Attributes & Methods\n",
        "\n",
        "✅ Inheritance & Polymorphism"
      ],
      "metadata": {
        "id": "qzM-sxg7GqCJ"
      }
    },
    {
      "cell_type": "markdown",
      "source": [
        "1️⃣ Classes & Objects\n",
        "\n",
        "🔹 Q1: Create a class `Person` with attributes `name` and `age`. Then, create an object and print its details.\n"
      ],
      "metadata": {
        "id": "hHFU_5Qi7DDB"
      }
    },
    {
      "cell_type": "code",
      "source": [
        "class Persion:\n",
        "  def __init__(self, name, age):\n",
        "    self.name = name\n",
        "    self.age = age\n",
        "\n",
        "  def display_info(self):\n",
        "    print(f\"Name: {self.name}, Age: {self.age}\")\n",
        "\n",
        "persion = Persion(\"Ankit\", 25)\n",
        "print(persion.name)\n",
        "print(persion.age)"
      ],
      "metadata": {
        "colab": {
          "base_uri": "https://localhost:8080/"
        },
        "id": "ZO4z2kwO7MuI",
        "outputId": "dc037798-9cc7-46b3-bb1c-8f42b12f1107"
      },
      "execution_count": 78,
      "outputs": [
        {
          "output_type": "stream",
          "name": "stdout",
          "text": [
            "Ankit\n",
            "25\n"
          ]
        }
      ]
    },
    {
      "cell_type": "markdown",
      "source": [
        "`class Persion:  `\n",
        "\n",
        "✅ Defines a class named Persion (⚠️ Typo: It should be Person instead of Persion).\n",
        "\n",
        "✅ A class is a blueprint for creating objects.\n",
        "\n",
        "\n",
        "  `def __init__(self, name, age):`\n",
        "\n",
        "✅ This is the constructor method (__init__).\n",
        "\n",
        "\n",
        "✅ It initializes the object with two attributes: name and age.\n",
        "\n",
        "✅ self represents the instance of the class (i.e., the object being created).\n",
        "\n",
        "\n",
        "    `self.name = name`  \n",
        "    `self.age = age`  \n",
        "\n",
        "✅ Assigns the provided values (name, age) to the instance attributes self.name and self.age.\n",
        "\n",
        "✅ Each object of this class will have its own name and age.\n",
        "\n",
        "\n",
        " ` def display_info(self):`\n",
        "\n",
        "`    print(f\"Name: {self.name}, Age: {self.age}\")`\n",
        "\n",
        "✅ Instance method display_info() prints the person's name and age.\n",
        "\n",
        "✅ Uses f-strings for formatted output.\n",
        "\n",
        "\n",
        "`persion = Persion(\"Ankit\", 25)`\n",
        "\n",
        "✅ Creates an object of the Persion class.\n",
        "\n",
        "✅ The constructor (__init__) runs automatically, setting:\n",
        "\n",
        "\n",
        "`print(persion.name)  # Output: Ankit`\n",
        "\n",
        "`print(persion.age)   # Output: 25`\n",
        "\n",
        "✅ Accesses and prints the attributes of the persion object.\n",
        "\n"
      ],
      "metadata": {
        "id": "PIR-jknO-H6q"
      }
    },
    {
      "cell_type": "markdown",
      "source": [
        "\n",
        "🔹 Q2: Define a class `Animal` with an attribute `species`. Create two objects (`dog, cat`) and set their species names. Print them.\n"
      ],
      "metadata": {
        "id": "Iv8Llj3Y7NOC"
      }
    },
    {
      "cell_type": "code",
      "source": [
        "class Animal:\n",
        "  def __init__(self, species):\n",
        "    self.species = species\n",
        "\n",
        "  def display_species(self):\n",
        "    print(f\"Species: {self.species}\")\n",
        "\n",
        "dog = Animal(\"Dog\")\n",
        "cat = Animal(\"Cat\")\n",
        "\n",
        "print(dog.species)\n",
        "print(cat.species)"
      ],
      "metadata": {
        "colab": {
          "base_uri": "https://localhost:8080/"
        },
        "id": "SMkyDaf17VRg",
        "outputId": "e470dff6-8c2a-43b0-af81-89fbc0a48400"
      },
      "execution_count": 79,
      "outputs": [
        {
          "output_type": "stream",
          "name": "stdout",
          "text": [
            "Dog\n",
            "Cat\n"
          ]
        }
      ]
    },
    {
      "cell_type": "markdown",
      "source": [
        "\n",
        "🔹 Q3: Write a class `Car` with attributes `brand` and `model`, and a method `display_info()` that prints them."
      ],
      "metadata": {
        "id": "cvh7k47C7Vph"
      }
    },
    {
      "cell_type": "code",
      "source": [
        "class car:\n",
        "  def __init__(self, brand, model):\n",
        "    self.brand = brand\n",
        "    self.model = model\n",
        "\n",
        "  def display_info(self):\n",
        "    print(f\"Brand: {self.brand}, Model: {self.model}\")\n",
        "\n",
        "Car = car(\"BMW\", 2022)\n",
        "Car.display_info()\n"
      ],
      "metadata": {
        "colab": {
          "base_uri": "https://localhost:8080/"
        },
        "id": "R9Q2qXPwAuFk",
        "outputId": "836748f8-25f6-45b9-82e1-d9b9c3e47b28"
      },
      "execution_count": 80,
      "outputs": [
        {
          "output_type": "stream",
          "name": "stdout",
          "text": [
            "Brand: BMW, Model: 2022\n"
          ]
        }
      ]
    },
    {
      "cell_type": "markdown",
      "source": [
        "2️⃣ Attributes & Methods\n",
        "\n",
        "🔹 Q4: Create a class `Rectangle` with attributes `length` and `width`. Add a `method area()` to calculate and return the area.\n",
        "\n"
      ],
      "metadata": {
        "id": "v3IVVymECaGD"
      }
    },
    {
      "cell_type": "code",
      "source": [
        "class Rectangle:\n",
        "  def __init__(self, length, width):\n",
        "    self.length = length\n",
        "    self.width = width\n",
        "    self.area = length * width\n",
        "\n",
        "  def display_area(self):\n",
        "    print(f\"Area: {self.area}\")\n",
        "\n",
        "rectangle = Rectangle(4, 3)\n",
        "rectangle.display_area()"
      ],
      "metadata": {
        "colab": {
          "base_uri": "https://localhost:8080/"
        },
        "id": "folAeZ-NDFLV",
        "outputId": "5dc0ba79-4d6d-4543-d9ab-a2889c355608"
      },
      "execution_count": 81,
      "outputs": [
        {
          "output_type": "stream",
          "name": "stdout",
          "text": [
            "Area: 12\n"
          ]
        }
      ]
    },
    {
      "cell_type": "markdown",
      "source": [
        "\n",
        "🔹 Q5: Write a class `BankAccount` with attributes `account_holder` and `balance`. Add methods `deposit(amount)` and `withdraw(amount).`\n"
      ],
      "metadata": {
        "id": "cXgFbhInCsMs"
      }
    },
    {
      "cell_type": "code",
      "source": [
        "class BankAccount:\n",
        "  def __init__(self, account_holder, balance, deposit, withdraw ):\n",
        "    self.account_holder = account_holder\n",
        "    self.balance = balance\n",
        "    self.deposit = balance + deposit\n",
        "    self.withdraw = balance - withdraw\n",
        "\n",
        "  def display_balance(self):\n",
        "    print(f\"Account Holder: {self.account_holder}, Balance: {self.balance}\")\n",
        "    print(f\"Deposit: {self.deposit}, Withdraw: {self.withdraw}\")\n",
        "\n",
        "BankAccount1 = BankAccount(\"Ankit\", 10000, 9000, 600)\n",
        "BankAccount1.display_balance()"
      ],
      "metadata": {
        "colab": {
          "base_uri": "https://localhost:8080/"
        },
        "id": "XPUTYZpXD_lA",
        "outputId": "d6db9975-00e5-4795-9dfd-6a50f8ecd95d"
      },
      "execution_count": 82,
      "outputs": [
        {
          "output_type": "stream",
          "name": "stdout",
          "text": [
            "Account Holder: Ankit, Balance: 10000\n",
            "Deposit: 19000, Withdraw: 9400\n"
          ]
        }
      ]
    },
    {
      "cell_type": "markdown",
      "source": [
        "🔹 Q6: Create a `Student` class with attributes `name` and `marks`. Add a method `check_pass()` that prints `\"Pass\"` if marks >= 40, else `\"Fail\"`."
      ],
      "metadata": {
        "id": "vcs3KSorC38R"
      }
    },
    {
      "cell_type": "code",
      "source": [
        "class Student:\n",
        "  def __init__(self, name, marks):\n",
        "    self.name = name\n",
        "    self.marks = marks\n",
        "    if marks >= 40:\n",
        "      self.check_pass = \"Pass\"\n",
        "    else:\n",
        "      self.check_pass = \"Fail\"\n",
        "\n",
        "\n",
        "  def display_check_pass(self):\n",
        "    print(f\"Name: {self.name}, Marks: {self.marks}, Check Pass: {self.check_pass}\")\n",
        "\n",
        "Student1 = Student(\"Ankit\", 90)\n",
        "Student2 = Student(\"Rohit\", 39)\n",
        "Student1.display_check_pass()\n",
        "Student2.display_check_pass()"
      ],
      "metadata": {
        "colab": {
          "base_uri": "https://localhost:8080/"
        },
        "id": "ZkOIY0uCGybf",
        "outputId": "ff9d2bb0-16bf-452d-8a0f-d8a2c519a040"
      },
      "execution_count": 83,
      "outputs": [
        {
          "output_type": "stream",
          "name": "stdout",
          "text": [
            "Name: Ankit, Marks: 90, Check Pass: Pass\n",
            "Name: Rohit, Marks: 39, Check Pass: Fail\n"
          ]
        }
      ]
    },
    {
      "cell_type": "code",
      "source": [
        "class Student:\n",
        "    def __init__(self, name, marks):  # ✅ Fixed typo in __init__\n",
        "        self.name = name  # ✅ Initializing name attribute\n",
        "        self.marks = marks  # ✅ Initializing marks attribute\n",
        "\n",
        "    def check_pass(self):  # ✅ Method to check pass/fail\n",
        "        print(f\"Name: {self.name}, Marks: {self.marks}\")\n",
        "        if self.marks >= 40:\n",
        "            print(\"🎉 Pass\")\n",
        "        else:\n",
        "            print(\"❌ Fail\")\n",
        "\n",
        "# ✅ Creating objects\n",
        "student1 = Student(\"Rohit\", 90)\n",
        "student2 = Student(\"Ankit\", 39)\n",
        "\n",
        "# ✅ Calling the method\n",
        "student1.check_pass()\n",
        "student2.check_pass()  # ✅ Fixed variable name (small 's')\n"
      ],
      "metadata": {
        "colab": {
          "base_uri": "https://localhost:8080/"
        },
        "id": "H6ZWx9ODCDin",
        "outputId": "33084f8b-9b8e-4fdb-f5e1-861276b9ac9f"
      },
      "execution_count": 84,
      "outputs": [
        {
          "output_type": "stream",
          "name": "stdout",
          "text": [
            "Name: Rohit, Marks: 90\n",
            "🎉 Pass\n",
            "Name: Ankit, Marks: 39\n",
            "❌ Fail\n"
          ]
        }
      ]
    },
    {
      "cell_type": "markdown",
      "source": [
        "3️⃣ **Inheritance**\n",
        "\n",
        "🔹 Q7: Create a `Vehicle` class with an attribute `brand`. Then, create a `Car` class that inherits from `Vehicle` and adds a new attribute `model`.\n"
      ],
      "metadata": {
        "id": "_O9aBwH9JJqH"
      }
    },
    {
      "cell_type": "code",
      "source": [
        "class Vehicle:\n",
        "  def __init__(self, brand):\n",
        "    self.brand = brand\n",
        "\n",
        "class Car(Vehicle):\n",
        "  def __init__(self, brand, model):\n",
        "    super().__init__(brand)\n",
        "    self.model = model\n",
        "\n",
        "car = Car(\"BMW\", 2022)\n",
        "print(car.brand)\n",
        "print(car.model)"
      ],
      "metadata": {
        "colab": {
          "base_uri": "https://localhost:8080/"
        },
        "id": "S0mWjy9OJ5gY",
        "outputId": "24c34fb4-104f-45ba-d9b6-91f209aca779"
      },
      "execution_count": 85,
      "outputs": [
        {
          "output_type": "stream",
          "name": "stdout",
          "text": [
            "BMW\n",
            "2022\n"
          ]
        }
      ]
    },
    {
      "cell_type": "markdown",
      "source": [
        "\n",
        "🔹 Q8: Write a `Animal` class with a method `make_sound()`. Create a `Dog` class that inherits `Animal` and overrides `make_sound()` to print `\"Bark!\"`."
      ],
      "metadata": {
        "id": "U2hSDv34Jbd9"
      }
    },
    {
      "cell_type": "code",
      "source": [
        "class Animal:\n",
        "  def make_sound(self):\n",
        "    print(\"Animal Sound\")\n",
        "\n",
        "class Dog(Animal):\n",
        "  def make_sound(self):\n",
        "    print(\"Bark!\")\n",
        "\n",
        "dog = Dog()\n",
        "dog.make_sound()"
      ],
      "metadata": {
        "id": "C9VUxMOpXndY",
        "colab": {
          "base_uri": "https://localhost:8080/"
        },
        "outputId": "1865d3c9-f7c8-4d3e-bcfe-889c83effeb3"
      },
      "execution_count": 86,
      "outputs": [
        {
          "output_type": "stream",
          "name": "stdout",
          "text": [
            "Bark!\n"
          ]
        }
      ]
    },
    {
      "cell_type": "markdown",
      "source": [
        "🔹 Q9: Define a `Parent` class with a method `show_message()`. Create a `Child` class that inherits from `Parent` and `calls the method`."
      ],
      "metadata": {
        "id": "Pg9LGGnYJtZY"
      }
    },
    {
      "cell_type": "code",
      "source": [
        "# ✅ OOP Example in Hindi-English: विरासत (Inheritance)\n",
        "\n",
        "# Parent class बनाते हैं\n",
        "class Parent:\n",
        "    def show_message(self):\n",
        "        print(\"👨‍👧 यह message Parent class से आया है।\")\n",
        "\n",
        "# Child class जो Parent class को inherit करती है\n",
        "class Child(Parent):\n",
        "    def call_parent_method(self):\n",
        "        # Parent class का method call कर रहे हैं\n",
        "        self.show_message()\n",
        "\n",
        "# Child class का object बनाते हैं\n",
        "child = Child()\n",
        "\n",
        "# Child का method call करते हैं, जो Parent का method use करता है\n",
        "child.call_parent_method()\n",
        "\n"
      ],
      "metadata": {
        "colab": {
          "base_uri": "https://localhost:8080/"
        },
        "id": "7GJyFg0ZpoOR",
        "outputId": "4885f92c-0b02-4577-9ad3-de41e3fd1e3a"
      },
      "execution_count": 87,
      "outputs": [
        {
          "output_type": "stream",
          "name": "stdout",
          "text": [
            "👨‍👧 यह message Parent class से आया है।\n"
          ]
        }
      ]
    },
    {
      "cell_type": "markdown",
      "source": [
        "🔍 आसान explanation:\n",
        "\n",
        "`class`- Python में blueprint होता है किसी object को बनाने के लिए।\n",
        "\n",
        "`Parent class` – एक base class है जिसमें method है show_message()\n",
        "\n",
        "`Child class` – Parent से inherit करती है (यानि उसे उसकी चीजें मिलती हैं)\n",
        "\n",
        "`self` – current object को represent करता है\n",
        "\n",
        "`object` – class का एक real-world useable version\n",
        "\n"
      ],
      "metadata": {
        "id": "9xBez-XP0U7q"
      }
    },
    {
      "cell_type": "markdown",
      "source": [
        "4️⃣ Polymorphism (Method Overriding & Overloading)\n",
        "\n",
        "🔹 Q10: Create a `Shape` class with a `method area()`. Then, create `Circle` and `Square classes` that override `area()` with their own formulas."
      ],
      "metadata": {
        "id": "8FDIppX5qmau"
      }
    },
    {
      "cell_type": "code",
      "source": [
        "class Shape:\n",
        "  def method_area(self):\n",
        "    print(\"Shape Area\")\n",
        "\n",
        "class Circle(Shape):\n",
        "  def method_area(self, radius):\n",
        "    self.radius = radius\n",
        "    self.area = 3.14 * radius * radius\n",
        "    print(f\"Circle Area: {self.area}\")\n",
        "\n",
        "class Square(Shape):\n",
        "  def method_area(self, side):\n",
        "    self.side = side\n",
        "    self.area = side * side\n",
        "    print(f\"Square Area: {self.area}\")\n",
        "\n",
        "circle = Circle()\n",
        "circle.method_area(5)\n",
        "\n",
        "square = Square()\n",
        "square.method_area(4)"
      ],
      "metadata": {
        "colab": {
          "base_uri": "https://localhost:8080/"
        },
        "id": "DD2KhF-lqtEq",
        "outputId": "8b7f6a23-4ef4-4f6e-8679-0d856d80fa58"
      },
      "execution_count": 88,
      "outputs": [
        {
          "output_type": "stream",
          "name": "stdout",
          "text": [
            "Circle Area: 78.5\n",
            "Square Area: 16\n"
          ]
        }
      ]
    },
    {
      "cell_type": "markdown",
      "source": [
        "🔹 Q11: Define a `MathOperations` class with two methods `add()`. One method should take two numbers, and the other should take three numbers."
      ],
      "metadata": {
        "id": "d5eFOBtSqrOj"
      }
    },
    {
      "cell_type": "code",
      "source": [
        "class MathOperations:\n",
        "  def add(self, num1, num2):\n",
        "    self.num1 = num1\n",
        "    self.num2 = num2\n",
        "    self.add = num1 + num2\n",
        "    print(f\"Add: {self.add}\")\n",
        "\n",
        "  def add(self, num1, num2, num3):\n",
        "    self.num1 = num1\n",
        "    self.num2 = num2\n",
        "    self.num3 = num3\n",
        "    self.add = num1 + num2 + num3\n",
        "    print(f\"Add: {self.add}\")\n",
        "\n",
        "math_operations = MathOperations()\n",
        "math_operations.add(2, 3, 4)"
      ],
      "metadata": {
        "colab": {
          "base_uri": "https://localhost:8080/"
        },
        "id": "1Z8M5XtSqt0M",
        "outputId": "bb79b649-e343-4cff-d3c1-38fff0222a9f"
      },
      "execution_count": 89,
      "outputs": [
        {
          "output_type": "stream",
          "name": "stdout",
          "text": [
            "Add: 9\n"
          ]
        }
      ]
    },
    {
      "cell_type": "markdown",
      "source": [
        "🔹 Q12: Write a `Bird` class with a `method fly()`. Create `Parrot` and `Penguin` classes that override `fly()` (`Parrot flies, Penguin does not`).\n",
        "\n"
      ],
      "metadata": {
        "id": "Erbvz5WqLi5U"
      }
    },
    {
      "cell_type": "code",
      "source": [
        "class Bird:\n",
        "  def method_fly(self):\n",
        "    print(f\"Can Fly or Not\")\n",
        "\n",
        "class Parrot(Bird):\n",
        "  def method_fly(self, can_fly):\n",
        "    self.can_fly = can_fly\n",
        "    if can_fly == True:\n",
        "      print(f\"Parrot can fly\")\n",
        "    else:\n",
        "      print(f\"Parrot can not fly\")\n",
        "\n",
        "class Penguin(Bird):\n",
        "  def method_fly(self, can_fly):\n",
        "    self.can_fly = can_fly\n",
        "    if can_fly == True:\n",
        "      print(f\"Penguin can fly\")\n",
        "    else:\n",
        "      print(f\"Penguin can not fly\")\n",
        "\n",
        "parrot = Parrot()\n",
        "parrot.method_fly(True)\n",
        "\n",
        "penguin = Penguin()\n",
        "penguin.method_fly(False)"
      ],
      "metadata": {
        "id": "JAOphNFIIl89",
        "colab": {
          "base_uri": "https://localhost:8080/"
        },
        "outputId": "7a4cedc2-ece5-4a3c-c486-70e758d5c073"
      },
      "execution_count": 90,
      "outputs": [
        {
          "output_type": "stream",
          "name": "stdout",
          "text": [
            "Parrot can fly\n",
            "Penguin can not fly\n"
          ]
        }
      ]
    },
    {
      "cell_type": "markdown",
      "source": [
        "###Day 14: Working with APIs & Libraries\n",
        "\n",
        "✅ Requests library (`requests.get(`))\n"
      ],
      "metadata": {
        "id": "bs-eJt1yxAFm"
      }
    },
    {
      "cell_type": "code",
      "source": [],
      "metadata": {
        "id": "EvcivmhYxGHe"
      },
      "execution_count": null,
      "outputs": []
    },
    {
      "cell_type": "markdown",
      "source": [
        "✅ JSON handling (`json.loads()`)\n"
      ],
      "metadata": {
        "id": "tzZbE2HcxHPt"
      }
    },
    {
      "cell_type": "code",
      "source": [],
      "metadata": {
        "id": "a2nP9VXNuwyw"
      },
      "execution_count": null,
      "outputs": []
    },
    {
      "cell_type": "markdown",
      "source": [
        "✅ Using APIs like OpenWeather, GitHub API"
      ],
      "metadata": {
        "id": "jAtiZC-ixLYi"
      }
    },
    {
      "cell_type": "code",
      "source": [],
      "metadata": {
        "id": "KlfvvDOvxMej"
      },
      "execution_count": null,
      "outputs": []
    },
    {
      "cell_type": "markdown",
      "source": [
        "###Day 15: Mini Project"
      ],
      "metadata": {
        "id": "LaMPkGOo2YJ5"
      }
    },
    {
      "cell_type": "markdown",
      "source": [
        "### Project 1\n",
        "\n",
        "🏷️ Project Name:\n",
        "\n",
        "**\"Shop Name Generator\"**\n",
        "\n",
        "----\n",
        "\n",
        "🎯 Why I Made It (Project Purpose):\n",
        "\n",
        "✅ To practice how to take `user input` in Python.\n",
        "\n",
        "✅ To learn how `to combine strings` and use `f-strings` for formatted output.\n",
        "\n",
        "✅ To simulate a real-world idea: **Creating a unique shop name based on personal details.**"
      ],
      "metadata": {
        "id": "xoU9zUmh43Wc"
      }
    },
    {
      "cell_type": "code",
      "source": [
        "name = input(\"What is your name?\\n\")\n",
        "village = input(\"Which village did you grow up?\\n\")\n",
        "print(f\"My shop name:\" + name + \" \" + village)"
      ],
      "metadata": {
        "colab": {
          "base_uri": "https://localhost:8080/"
        },
        "id": "c2vB-uwo25c6",
        "outputId": "e64d1295-7986-42cf-b1a1-f3b4f79aa2d7"
      },
      "execution_count": 91,
      "outputs": [
        {
          "output_type": "stream",
          "name": "stdout",
          "text": [
            "What is your name?\n",
            "Ankit\n",
            "Which village did you grow up?\n",
            "Nagla Ptithora Wale\n",
            "My shop name:Ankit Nagla Ptithora Wale\n"
          ]
        }
      ]
    },
    {
      "cell_type": "markdown",
      "source": [
        "###Project 2\n",
        "\n",
        "Welcome to Tip calculator!\n",
        "\n",
        "What is the total bill? 200$\n",
        "\n",
        "How much tip would you like to give? 14, 20, or 22? 20"
      ],
      "metadata": {
        "id": "55DhG_kT4_m_"
      }
    },
    {
      "cell_type": "code",
      "source": [
        "bill = float(input(\"What is the total bill? \"))\n",
        "tip = float(input(\"How much percent tip would you like to give? 14, 20, or 22? \"))\n",
        "people = int(input(\"How many people to split the bill? \"))\n",
        "tip_as_percent = tip / 100\n",
        "total_tip_amount = bill * tip_as_percent\n",
        "total_bill = bill + total_tip_amount\n",
        "bill_per_person = total_bill / people\n",
        "final_amount = round(bill_per_person, 2)\n",
        "print(f\"Each person should pay: ${final_amount}\")"
      ],
      "metadata": {
        "colab": {
          "base_uri": "https://localhost:8080/"
        },
        "id": "oUHybCLU6uyZ",
        "outputId": "c2db7834-6644-4304-99cc-d30a79efe7bb"
      },
      "execution_count": 92,
      "outputs": [
        {
          "output_type": "stream",
          "name": "stdout",
          "text": [
            "What is the total bill? 222\n",
            "How much percent tip would you like to give? 14, 20, or 22? 20\n",
            "How many people to split the bill? 4\n",
            "Each person should pay: $66.6\n"
          ]
        }
      ]
    },
    {
      "cell_type": "markdown",
      "source": [
        "`final_amount = round(bill_per_person, 2)`\n",
        "\n",
        "इस लाइन का मकसद है कि हर व्यक्ति को कितना पैसा देना है, उस amount को 2 decimal places (जैसे ₹12.35) तक round करना।"
      ],
      "metadata": {
        "id": "1T5czDrG9aSM"
      }
    },
    {
      "cell_type": "markdown",
      "source": [
        "### Project 3"
      ],
      "metadata": {
        "id": "Njm1zZ789ngR"
      }
    }
  ],
  "metadata": {
    "kernelspec": {
      "display_name": "Python 3",
      "language": "python",
      "name": "python3"
    },
    "language_info": {
      "codemirror_mode": {
        "name": "ipython",
        "version": 3
      },
      "file_extension": ".py",
      "mimetype": "text/x-python",
      "name": "python",
      "nbconvert_exporter": "python",
      "pygments_lexer": "ipython3",
      "version": "3.12.3"
    },
    "colab": {
      "provenance": [],
      "include_colab_link": true
    }
  },
  "nbformat": 4,
  "nbformat_minor": 0
}