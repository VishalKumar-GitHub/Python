{
  "nbformat": 4,
  "nbformat_minor": 0,
  "metadata": {
    "colab": {
      "provenance": [],
      "gpuType": "V28",
      "authorship_tag": "ABX9TyPeANXCFLDxdvsmtyGGnX1y",
      "include_colab_link": true
    },
    "kernelspec": {
      "name": "python3",
      "display_name": "Python 3"
    },
    "language_info": {
      "name": "python"
    },
    "accelerator": "TPU"
  },
  "cells": [
    {
      "cell_type": "markdown",
      "metadata": {
        "id": "view-in-github",
        "colab_type": "text"
      },
      "source": [
        "<a href=\"https://colab.research.google.com/github/VishalKumar-GitHub/Python/blob/main/Vishal_Python_Advance_Level.ipynb\" target=\"_parent\"><img src=\"https://colab.research.google.com/assets/colab-badge.svg\" alt=\"Open In Colab\"/></a>"
      ]
    },
    {
      "cell_type": "markdown",
      "source": [
        "## ✅ Python Advanced Level - 15 Days Roadmap\n",
        "\n",
        "### 🔹 Day 1: Advanced Iterators and Generators\n",
        "- Iterators vs Generators\n",
        "- `yield`, `next()`, `iter()`\n",
        "- Generator expressions\n",
        "\n",
        "Practice:\n",
        "- Create a custom iterator class\n",
        "- Build a generator for Fibonacci series"
      ],
      "metadata": {
        "id": "YnR2wrh3o7Ri"
      }
    },
    {
      "cell_type": "markdown",
      "source": [
        "##### ✅ Topics to Learn:\n",
        "- **Iterators vs Generators**:\n",
        "  - Iterator: An object with `__iter__()` and `__next__()` methods.\n",
        "  - Generator: A simpler way to create iterators using the `yield` keyword.\n",
        "\n",
        "- **`yield`**:\n",
        "  - Used in functions to return a generator object.\n",
        "  - Suspends the function’s state, which can be resumed later.\n",
        "\n",
        "- **`next()` & `iter()`**:\n",
        "  - `next(iterator)` → Gets the next item from an iterator.\n",
        "  - `iter(iterable)` → Returns an iterator from an iterable.\n",
        "\n",
        "- **Generator Expressions**:\n",
        "  - Like list comprehensions but with `()` instead of `[]`.\n",
        "  - Lazy evaluation (values generated on the fly).\n",
        "\n",
        "---"
      ],
      "metadata": {
        "id": "BoK416P0pdPt"
      }
    },
    {
      "cell_type": "markdown",
      "source": [
        "✅ 1. Custom Iterator:"
      ],
      "metadata": {
        "id": "PvkQHMf2t8j9"
      }
    },
    {
      "cell_type": "code",
      "source": [
        "# Create a custom iterator class\n",
        "\n",
        "# Define a class to generate even numbers up to a given maximum\n",
        "class EvenNumbers:\n",
        "    def __init__(self, max):\n",
        "        # Start number is initialized to 0\n",
        "        self.num = 0\n",
        "        # Maximum number up to which even numbers will be generated\n",
        "        self.max = max\n",
        "\n",
        "    def __iter__(self):\n",
        "        # Returns the iterator object itself\n",
        "        return self\n",
        "\n",
        "    def __next__(self):\n",
        "        # Stop iteration if the current number exceeds the maximum\n",
        "        if self.num > self.max:\n",
        "            raise StopIteration\n",
        "        # Store current number to return\n",
        "        current = self.num\n",
        "        # Increment by 2 to get the next even number\n",
        "        self.num += 2\n",
        "        return current\n",
        "\n",
        "# Create an instance of the EvenNumbers class with a max of 10\n",
        "evens = EvenNumbers(10)\n",
        "\n",
        "# Iterate over the custom iterator and print even numbers\n",
        "for n in evens:\n",
        "    print(n)"
      ],
      "metadata": {
        "colab": {
          "base_uri": "https://localhost:8080/"
        },
        "id": "caot_s2mo-k_",
        "outputId": "96755023-20bb-4424-ffa6-ff8dee99d7a3"
      },
      "execution_count": 1,
      "outputs": [
        {
          "output_type": "stream",
          "name": "stdout",
          "text": [
            "0\n",
            "2\n",
            "4\n",
            "6\n",
            "8\n",
            "10\n"
          ]
        }
      ]
    },
    {
      "cell_type": "markdown",
      "source": [
        "✅ 2. Fibonacci Generator:"
      ],
      "metadata": {
        "id": "f8HXJ48gt55H"
      }
    },
    {
      "cell_type": "code",
      "source": [
        "def fibonacci(limit):\n",
        "    a, b = 0, 1\n",
        "    while a < limit:\n",
        "        yield a\n",
        "        a, b = b, a + b\n",
        "\n",
        "for i in fibonacci(50):\n",
        "    print(i)"
      ],
      "metadata": {
        "colab": {
          "base_uri": "https://localhost:8080/"
        },
        "id": "ChcGNN8Fo-xt",
        "outputId": "fb39ee6f-d87f-4aff-a925-41e827dc66a4"
      },
      "execution_count": 2,
      "outputs": [
        {
          "output_type": "stream",
          "name": "stdout",
          "text": [
            "0\n",
            "1\n",
            "1\n",
            "2\n",
            "3\n",
            "5\n",
            "8\n",
            "13\n",
            "21\n",
            "34\n"
          ]
        }
      ]
    },
    {
      "cell_type": "markdown",
      "source": [
        "✅ 3. Generator Expression:"
      ],
      "metadata": {
        "id": "ZEq4-uDCvrb5"
      }
    },
    {
      "cell_type": "code",
      "source": [
        "squares = (x*x for x in range(1, 7))\n",
        "for s in squares:\n",
        "    print(s)"
      ],
      "metadata": {
        "colab": {
          "base_uri": "https://localhost:8080/"
        },
        "id": "Xx2UojF9vveM",
        "outputId": "a1ad26e0-34d5-41b7-d55f-cab878f12a6d"
      },
      "execution_count": 3,
      "outputs": [
        {
          "output_type": "stream",
          "name": "stdout",
          "text": [
            "1\n",
            "4\n",
            "9\n",
            "16\n",
            "25\n",
            "36\n"
          ]
        }
      ]
    },
    {
      "cell_type": "markdown",
      "source": [
        "### 🔹 Day 2: Decorators\n",
        "- Function decorators\n",
        "- `@wraps` from `functools`\n",
        "- Chaining decorators\n",
        "\n",
        "Practice:\n",
        "- Timer decorator\n",
        "- Logging decorator\n"
      ],
      "metadata": {
        "id": "gxnCEhqOw8aT"
      }
    },
    {
      "cell_type": "markdown",
      "source": [
        "---\n",
        "🔹 What are Decorators?\n",
        "- Decorators are functions that **modify the behavior** of other functions without changing their code.\n",
        "\n",
        "- They're commonly used for **logging, access control, timing, memoization**, etc."
      ],
      "metadata": {
        "id": "_zy4cGHrt0PP"
      }
    },
    {
      "cell_type": "markdown",
      "source": [
        "🔹 Function Decorators\n",
        "- A decorator is a function that **takes another function** as input and returns a function that **modifies** the behavior of the original function."
      ],
      "metadata": {
        "id": "PkmD6NkguWdb"
      }
    },
    {
      "cell_type": "code",
      "source": [
        "def greet_decorator(func):\n",
        "  def wrapper():\n",
        "    print(\"Before the function call\")\n",
        "    func()\n",
        "    print(\"After the function call\")\n",
        "  return wrapper\n",
        "\n",
        "@greet_decorator\n",
        "def say_hi():\n",
        "  print(\"Hi Ankit\")\n",
        "\n",
        "say_hi()"
      ],
      "metadata": {
        "colab": {
          "base_uri": "https://localhost:8080/"
        },
        "id": "6sYwdyV1w9Hg",
        "outputId": "103d02a4-ca89-4ba7-da4c-c3a5e20d9ab0"
      },
      "execution_count": 4,
      "outputs": [
        {
          "output_type": "stream",
          "name": "stdout",
          "text": [
            "Before the function call\n",
            "Hi Ankit\n",
            "After the function call\n"
          ]
        }
      ]
    },
    {
      "cell_type": "markdown",
      "source": [
        "🔹 Using `@wraps` from `functools`\n",
        "- When you decorate a function, the **original function's metadata** (name, docstring, etc.) gets replaced by the decorator. To preserve the original function’s properties, we use `@wraps` from the `functools` module."
      ],
      "metadata": {
        "id": "_thg28C1v8H2"
      }
    },
    {
      "cell_type": "code",
      "source": [
        "from functools import wraps\n",
        "\n",
        "def greet_decorator(func):\n",
        "  @wraps(func)\n",
        "  def wrapper():\n",
        "    print(\"Before the function call\")\n",
        "    func()\n",
        "    print(\"After the function call\")\n",
        "  return wrapper\n",
        "\n",
        "@greet_decorator\n",
        "def say_hi():\n",
        "    \"\"\"Says hi.\"\"\"\n",
        "    print(\"Hi Ankt\")\n",
        "\n",
        "print(say_hi.__name__)  # Output: say_hi\n",
        "print(say_hi.__doc__)   # Output: Says hi."
      ],
      "metadata": {
        "colab": {
          "base_uri": "https://localhost:8080/"
        },
        "id": "5hTLPV5Sw9c5",
        "outputId": "f9ad436c-6b07-4ac0-c88b-c48f9f74d944"
      },
      "execution_count": 5,
      "outputs": [
        {
          "output_type": "stream",
          "name": "stdout",
          "text": [
            "say_hi\n",
            "Says hi.\n"
          ]
        }
      ]
    },
    {
      "cell_type": "code",
      "source": [
        "def decorator(func):\n",
        "  @wraps(func)\n",
        "  def wrapper(*args, **kwargs):\n",
        "    print(\"Before the function call\")\n",
        "    result = func(*args, **kwargs)\n",
        "    print(\"After the function call\")\n",
        "\n",
        "    return result\n",
        "  return wrapper\n",
        "\n",
        "@decorator\n",
        "def add(a, b):\n",
        "  return a + b\n",
        "\n",
        "print(add(30, 48))"
      ],
      "metadata": {
        "colab": {
          "base_uri": "https://localhost:8080/"
        },
        "id": "TzDFXDfLw-d3",
        "outputId": "a73ed9ab-3bcc-4361-e61c-3a62b0bd3a48"
      },
      "execution_count": 6,
      "outputs": [
        {
          "output_type": "stream",
          "name": "stdout",
          "text": [
            "Before the function call\n",
            "After the function call\n",
            "78\n"
          ]
        }
      ]
    },
    {
      "cell_type": "markdown",
      "source": [
        "🔹Practice: Chaining Multiple Decorators\n",
        "- Multiple decorators can be stacked on a function. The decorators are applied **from bottom to top** (meaning the decorator closest to the function is applied first)."
      ],
      "metadata": {
        "id": "ODZtE2TXyQKg"
      }
    },
    {
      "cell_type": "code",
      "source": [
        "def ankit(func):\n",
        "    def wrapper():\n",
        "        return \"<b>\" + func() + \"</b>\"\n",
        "    return wrapper\n",
        "\n",
        "def vishal(func):\n",
        "    def wrapper():\n",
        "        return \"<i>\" + func() + \"</i>\"\n",
        "    return wrapper\n",
        "\n",
        "@ankit\n",
        "@vishal\n",
        "def get_text():\n",
        "    return \"Hindi\"\n",
        "\n",
        "print(get_text())  # Output: <b><i>Python</i></b>"
      ],
      "metadata": {
        "colab": {
          "base_uri": "https://localhost:8080/"
        },
        "id": "ivbAA-MUyU8H",
        "outputId": "609a4e92-dbbc-477f-a7af-ffd1818beb99"
      },
      "execution_count": 7,
      "outputs": [
        {
          "output_type": "stream",
          "name": "stdout",
          "text": [
            "<b><i>Hindi</i></b>\n"
          ]
        }
      ]
    },
    {
      "cell_type": "markdown",
      "source": [
        "🔹 Practice: Timer Decorator and Logging Decorator\n",
        "\n",
        "**Timer Decorator**\n",
        "\n",
        "A **Timer decorator** is used to measure how long a function takes to execute."
      ],
      "metadata": {
        "id": "BC9qO43m11Sa"
      }
    },
    {
      "cell_type": "code",
      "source": [
        "import time\n",
        "from functools import wraps  # ✅ Needed to preserve function metadata\n",
        "\n",
        "# ✅ Timer decorator to measure function execution time\n",
        "def timer(func):\n",
        "    @wraps(func)  # ✅ Keeps original function name, docstring, etc.\n",
        "    def wrapper(*args, **kwargs):\n",
        "        start_time = time.time()  # ✅ Start the timer\n",
        "        result = func(*args, **kwargs)  # ✅ Call the actual function\n",
        "        end_time = time.time()  # ✅ End the timer\n",
        "        print(f\"Function {func.__name__} took {end_time - start_time:.2f} seconds to execute.\")\n",
        "        return result\n",
        "    return wrapper\n",
        "\n",
        "# ✅ Apply the decorator to a slow function\n",
        "@timer\n",
        "def slow_funtion():\n",
        "    time.sleep(2)  # ⏲️ Simulate slow task (2 seconds)\n",
        "    print(\"Slow function finished!\")\n",
        "\n",
        "# ✅ Call the decorated function\n",
        "slow_funtion()"
      ],
      "metadata": {
        "colab": {
          "base_uri": "https://localhost:8080/"
        },
        "id": "V21TpJ6b4sOX",
        "outputId": "f333969c-2715-4622-e379-68f535b4b079"
      },
      "execution_count": 8,
      "outputs": [
        {
          "output_type": "stream",
          "name": "stdout",
          "text": [
            "Slow function finished!\n",
            "Function slow_funtion took 2.00 seconds to execute.\n"
          ]
        }
      ]
    },
    {
      "cell_type": "markdown",
      "source": [
        "### 🔹 Day 3: Context Managers\n",
        "- `with` statement\n",
        "- Creating custom context managers using `__enter__` & `__exit__`\n",
        "- `contextlib` module\n",
        "\n",
        "Practice:\n",
        "- File handler with context manager\n",
        "- Custom database connection manager"
      ],
      "metadata": {
        "id": "jemTQBMw5s4C"
      }
    },
    {
      "cell_type": "markdown",
      "source": [
        "🔹 What is a Context Manager?\n",
        "- A context manager is used to **manage resources** like `files, connections,` etc.\n",
        "It ensures setup and cleanup actions are handled automatically.\n",
        "\n",
        "🔹 `with` Statement\n",
        "\n",
        "Instead of:"
      ],
      "metadata": {
        "id": "q122Azk6GCAV"
      }
    },
    {
      "cell_type": "code",
      "source": [
        "file = open(\"data.txt\", \"w\")\n",
        "content = file.write(\"My name is Ankit\")\n",
        "file.close()"
      ],
      "metadata": {
        "id": "iBoj8jO2GqpC"
      },
      "execution_count": 9,
      "outputs": []
    },
    {
      "cell_type": "code",
      "source": [
        "file = open(\"data.txt\", \"r\")\n",
        "content = file.read()\n",
        "file.close()"
      ],
      "metadata": {
        "id": "lBXaT5wb5vIO"
      },
      "execution_count": 10,
      "outputs": []
    },
    {
      "cell_type": "markdown",
      "source": [
        "Use:"
      ],
      "metadata": {
        "id": "OM1xdk8ZG8ML"
      }
    },
    {
      "cell_type": "code",
      "source": [
        "with open(\"data.txt\", \"w\") as file:\n",
        "    content = file.write(\"My name is Ankit\")"
      ],
      "metadata": {
        "id": "mfr-xYmD5vLU"
      },
      "execution_count": 11,
      "outputs": []
    },
    {
      "cell_type": "markdown",
      "source": [
        "✅  Creating custom context managers using `__enter__` and `__exit__`"
      ],
      "metadata": {
        "id": "FPqC6PbMHZAM"
      }
    },
    {
      "cell_type": "code",
      "source": [
        "class Mycontext:\n",
        "  def __enter__(self):  # This method runs when entering the 'with' block\n",
        "    print(\"Entering content...\")\n",
        "    return \"Resource Ready\"  # This value is assigned to the variable 'resource'\n",
        "\n",
        "  def __exit__(self, exc_type, exc_val, exc_tb):  # This method runs when exiting the 'with' block\n",
        "      print(\"Exiting content...\")\n",
        "\n",
        "with Mycontext() as resource:  # Enters the context using __enter__()\n",
        "  print(resource)  # Prints the value returned by __enter__() → \"Resource Ready\""
      ],
      "metadata": {
        "colab": {
          "base_uri": "https://localhost:8080/"
        },
        "id": "FM6PtEuyHdAT",
        "outputId": "023df971-c948-4d73-c778-2adda8000448"
      },
      "execution_count": 12,
      "outputs": [
        {
          "output_type": "stream",
          "name": "stdout",
          "text": [
            "Entering content...\n",
            "Resource Ready\n",
            "Exiting content...\n"
          ]
        }
      ]
    },
    {
      "cell_type": "markdown",
      "source": [
        "✅ Using `contextlib` Module"
      ],
      "metadata": {
        "id": "d8K-TmgCK11k"
      }
    },
    {
      "cell_type": "code",
      "source": [
        "from contextlib import contextmanager\n",
        "\n",
        "@contextmanager\n",
        "def my_context():\n",
        "    print(\"Entering content...\")\n",
        "    yield \"Resource Ready\"\n",
        "    print(\"Exiting content...\")\n",
        "\n",
        "with my_context() as resource:\n",
        "    print(resource)"
      ],
      "metadata": {
        "colab": {
          "base_uri": "https://localhost:8080/"
        },
        "id": "2b8JWshfK5Ec",
        "outputId": "d36b2cf2-1757-4c51-ef8b-dda40ac5404a"
      },
      "execution_count": 13,
      "outputs": [
        {
          "output_type": "stream",
          "name": "stdout",
          "text": [
            "Entering content...\n",
            "Resource Ready\n",
            "Exiting content...\n"
          ]
        }
      ]
    },
    {
      "cell_type": "markdown",
      "source": [
        "🔹 Practice:\n",
        "\n",
        "1. File Handler with Context Manager"
      ],
      "metadata": {
        "id": "6wdDEJArLxrQ"
      }
    },
    {
      "cell_type": "code",
      "source": [
        "with open(\"data.txt\", \"w\") as file:\n",
        "    file.write(\"My name is Ankit\")\n",
        "    print(\"File written successfully!\")"
      ],
      "metadata": {
        "colab": {
          "base_uri": "https://localhost:8080/"
        },
        "id": "b4vL3AbSL0ps",
        "outputId": "0f34aae1-e62d-4a34-c5ec-dc70557447e9"
      },
      "execution_count": 14,
      "outputs": [
        {
          "output_type": "stream",
          "name": "stdout",
          "text": [
            "File written successfully!\n"
          ]
        }
      ]
    },
    {
      "cell_type": "markdown",
      "source": [
        "2. Custom Database Connection Manager (Simulated)"
      ],
      "metadata": {
        "id": "0vGa2OAaMTW5"
      }
    },
    {
      "cell_type": "code",
      "source": [
        "class Dbconnection:\n",
        "  def __enter__(self):\n",
        "    print(\"Connecting to database...\")\n",
        "    return \"Database Connection\"\n",
        "\n",
        "  def __exit__(self, exc_type, exc_val, exc_tb):\n",
        "    print(\"Closing database connection...\")\n",
        "\n",
        "with Dbconnection() as db:\n",
        "  print(db)"
      ],
      "metadata": {
        "colab": {
          "base_uri": "https://localhost:8080/"
        },
        "id": "a7We1X0nMYxw",
        "outputId": "53da2962-a998-40e0-a354-fa90e323cbf4"
      },
      "execution_count": 15,
      "outputs": [
        {
          "output_type": "stream",
          "name": "stdout",
          "text": [
            "Connecting to database...\n",
            "Database Connection\n",
            "Closing database connection...\n"
          ]
        }
      ]
    },
    {
      "cell_type": "markdown",
      "source": [
        "### 🔹 Day 4: Closures & Scopes\n",
        "- Local vs Global scope\n",
        "- Enclosing function scope\n",
        "- Closures\n",
        "\n",
        "Practice:\n",
        "- Closure for caching (memoization)\n",
        "- Variable shadowing exercise"
      ],
      "metadata": {
        "id": "_kBQzsYoM7jJ"
      }
    },
    {
      "cell_type": "markdown",
      "source": [
        "✅ Local vs Global Scope:\n",
        "- **Local scope**: Variables declared inside a function. Only accessible there.\n",
        "- **Global scope**: Variables declared outside functions. Accessible throughout the script unless shadowed.\n",
        "\n",
        "✅ Enclosing Function Scope (LEGB Rule):\n",
        "- When a function is inside another function, the inner function has access to variables in the outer function.\n",
        "- Python follows the **LEGB** rule to resolve names: **Local > Enclosing > Global > Built-in**.\n",
        "\n",
        "✅ Closures:\n",
        "- A closure is a function object that remembers values in enclosing scopes even if they are not in memory anymore.\n",
        "- Occurs when an inner function is returned by an outer function and uses its variables.\n",
        "\n",
        "🔹 Practice:"
      ],
      "metadata": {
        "id": "DAM7VUEI6Ng_"
      }
    },
    {
      "cell_type": "code",
      "source": [
        "def outer_function(msg):\n",
        "  def inner_funtion():\n",
        "    print(f\"Message: {msg}\")\n",
        "  return inner_funtion\n",
        "\n",
        "my_func = outer_function(\"Hello, Vishal\")\n",
        "my_func()"
      ],
      "metadata": {
        "id": "HyWveHZhMZAs",
        "colab": {
          "base_uri": "https://localhost:8080/"
        },
        "outputId": "976e273f-85aa-4d9f-f9f2-d633de1e0e21"
      },
      "execution_count": 16,
      "outputs": [
        {
          "output_type": "stream",
          "name": "stdout",
          "text": [
            "Message: Hello, Vishal\n"
          ]
        }
      ]
    },
    {
      "cell_type": "code",
      "source": [
        "#fib(0) = 0\n",
        "#fib(1) = 1\n",
        "#fib(2) = fib(1) + fib(0) = 1\n",
        "#fib(3) = fib(2) + fib(1) = 2\n",
        "#fib(4) = fib(3) + fib(2) = 3\n",
        "#...\n",
        "#fib(n) = fib(n-1) + fib(n-2)"
      ],
      "metadata": {
        "id": "TZvawizEAob4"
      },
      "execution_count": 17,
      "outputs": []
    },
    {
      "cell_type": "code",
      "source": [
        "# Closure for caching (memoization)\n",
        "def fibonacci():\n",
        "    cache = {}  # This dictionary will store previously calculated Fibonacci numbers\n",
        "\n",
        "    def fib(n):\n",
        "        if n in cache:\n",
        "            return cache[n]  # Return cached result if already calculated\n",
        "\n",
        "        if n <= 1:\n",
        "            result = n       # Base cases: fib(0) = 0, fib(1) = 1\n",
        "        else:\n",
        "            result = fib(n-1) + fib(n-2)  # Recursive call\n",
        "\n",
        "        cache[n] = result   # Save result to cache\n",
        "        return result\n",
        "\n",
        "    return fib\n",
        "\n",
        "fib = fibonacci()\n",
        "print(fib(10))\n"
      ],
      "metadata": {
        "colab": {
          "base_uri": "https://localhost:8080/"
        },
        "id": "2dPcogVk71Ye",
        "outputId": "a82617b6-4c2e-483e-9262-da2ebca43b9b"
      },
      "execution_count": 18,
      "outputs": [
        {
          "output_type": "stream",
          "name": "stdout",
          "text": [
            "55\n"
          ]
        }
      ]
    },
    {
      "cell_type": "code",
      "source": [
        "#Variable shadowing exercise\n",
        "x = 10   #This defines a global variable x with value 10.\n",
        "\n",
        "def outer():\n",
        "  x = 20    #Inside outer(), a local variable x is created with value 20.\n",
        "  print(\"Outer x:\", x)    #It shadows the global x\n",
        "\n",
        "  def inner():\n",
        "    x = 30    #Inside inner(), another local variable x is defined with value 30.\n",
        "    print(\"Inner x:\", x)   #It shadows the x from outer() during this function call.\n",
        "\n",
        "  inner()\n",
        "  print(\"Outer x after inner call:\", x)\n",
        "\n",
        "outer()\n",
        "print(\"Global x:\", x)"
      ],
      "metadata": {
        "colab": {
          "base_uri": "https://localhost:8080/"
        },
        "id": "lpmJwFJ2CJiI",
        "outputId": "09b2bdfe-4e89-4f59-b004-a3fcac4a8e35"
      },
      "execution_count": 19,
      "outputs": [
        {
          "output_type": "stream",
          "name": "stdout",
          "text": [
            "Outer x: 20\n",
            "Inner x: 30\n",
            "Outer x after inner call: 20\n",
            "Global x: 10\n"
          ]
        }
      ]
    },
    {
      "cell_type": "markdown",
      "source": [
        "### 🔍 Variable Scope Explanation\n",
        "\n",
        "Each `x` exists in a separate scope:\n",
        "\n",
        "- **Global `x` = 10** → Defined at the top of the script.\n",
        "- **Outer function `x` = 20** → Defined inside the `outer()` function. Shadows the global `x` within this function.\n",
        "- **Inner function `x` = 30** → Defined inside the `inner()` function. Shadows the `x` from the enclosing `outer()` function.\n",
        "\n",
        "✅ None of them overwrite each other because they are all **local to their respective scopes**.\n",
        "\n",
        "Python follows the **LEGB rule** when resolving variables:\n",
        "\n",
        "**L**ocal → **E**nclosing → **G**lobal → **B**uilt-in\n"
      ],
      "metadata": {
        "id": "TN-37EPWEYEb"
      }
    },
    {
      "cell_type": "markdown",
      "source": [
        "### 🔹 Day 5: Advanced OOP - Part 1\n",
        "- Class vs Instance vs Static methods\n",
        "- Properties using `@property`\n",
        "- Magic/Dunder methods (`__str__`, `__repr__`, `__eq__`, etc.)\n",
        "\n",
        "#### 🔹 Practice:\n",
        "\n",
        "✅ Create a **BankAccount** class that tracks balance and transaction history.  \n",
        "✅ Use `@property` to safely expose balance.  \n",
        "✅ Overload `+` operator to combine two accounts.  \n",
        "✅ Implement `__str__()` to print account details clearly."
      ],
      "metadata": {
        "id": "XzAW7fyPFBN6"
      }
    },
    {
      "cell_type": "markdown",
      "source": [
        "**Instance Method** (default):\n",
        "\n",
        "- Takes `self` as the first argument. Can access and modify object attributes.\n",
        "\n",
        "Example:"
      ],
      "metadata": {
        "id": "onRt4t6lJ_jW"
      }
    },
    {
      "cell_type": "code",
      "source": [
        "class Ankit:\n",
        "  def greet(self):\n",
        "    print(\"Hello!\")"
      ],
      "metadata": {
        "id": "9fG_TcmqFB2d"
      },
      "execution_count": 20,
      "outputs": []
    },
    {
      "cell_type": "markdown",
      "source": [
        "**Class Method**:\n",
        "- Takes `cls` as the first argument. Used to work with the class itself, not instances.\n",
        "\n",
        "- Decorated with `@classmethod`."
      ],
      "metadata": {
        "id": "zfaz8X0IKvkT"
      }
    },
    {
      "cell_type": "code",
      "source": [
        "class Ankit:\n",
        "  count = 0  # Class attribute\n",
        "\n",
        "  @classmethod\n",
        "  def how_many(cls):\n",
        "      return cls.count"
      ],
      "metadata": {
        "id": "aewjUUTtFB6O"
      },
      "execution_count": 21,
      "outputs": []
    },
    {
      "cell_type": "markdown",
      "source": [
        "**Static Method**:\n",
        "- Does not take `self` or `cls`. Behaves like a regular function but lives inside the class.\n",
        "\n",
        "- Decorated with `@staticmethod`."
      ],
      "metadata": {
        "id": "w_DoqMX4MDdD"
      }
    },
    {
      "cell_type": "code",
      "source": [
        "class MathUtils:\n",
        "  @staticmethod\n",
        "  def add(a, b):\n",
        "      return a + b"
      ],
      "metadata": {
        "id": "frrcHRf_L_AG"
      },
      "execution_count": 22,
      "outputs": []
    },
    {
      "cell_type": "markdown",
      "source": [
        " 2. `@property` **Decorator**\n",
        "\n",
        "- Allows you to **access a method like an attribute**.\n",
        "\n",
        "- Commonly used for **read-only access** or calculated values."
      ],
      "metadata": {
        "id": "dRwXlRhNM0YR"
      }
    },
    {
      "cell_type": "code",
      "source": [
        "class circle:\n",
        "  def __init__(self, radius):\n",
        "    self.radius = radius\n",
        "\n",
        "  @property\n",
        "  def area(self):\n",
        "    return 3.14 * self.radius ** 2\n",
        "\n",
        "c = circle(5)\n",
        "print(c.area)"
      ],
      "metadata": {
        "colab": {
          "base_uri": "https://localhost:8080/"
        },
        "id": "YqC2B6HHM0xR",
        "outputId": "bbd13b56-aa26-42f3-c2b4-6c09bcba916a"
      },
      "execution_count": 23,
      "outputs": [
        {
          "output_type": "stream",
          "name": "stdout",
          "text": [
            "78.5\n"
          ]
        }
      ]
    },
    {
      "cell_type": "markdown",
      "source": [
        "**🔹 3. Magic/Dunder Methods**\n",
        "\n",
        "**Dunder = Double Underscore**, e.g., `__str__`, `__repr__`, `__eq__`\n",
        "\n",
        "\n",
        "- `__str__`: Returns a readable string for the user (print() output)\n",
        "\n",
        "- `__repr__`: Returns a developer-friendly string (used in debugging)\n",
        "\n",
        "- `__eq__`: Defines what makes two objects equal (==)\n",
        "\n",
        "Example:"
      ],
      "metadata": {
        "id": "riWrPmBEOgd_"
      }
    },
    {
      "cell_type": "code",
      "source": [
        "class Book:\n",
        "  def __init__(self, title):\n",
        "    self.title = title\n",
        "\n",
        "  def __str__(self):\n",
        "    return f\"Book: {self.title}\"\n",
        "\n",
        "  def __eq__(self, other):\n",
        "    return self.title == other.title\n"
      ],
      "metadata": {
        "id": "eyYbXISbPGtk"
      },
      "execution_count": 24,
      "outputs": []
    },
    {
      "cell_type": "markdown",
      "source": [
        "🔹 Practice: Bank Account Class"
      ],
      "metadata": {
        "id": "-WaMcQg3RGYG"
      }
    },
    {
      "cell_type": "code",
      "source": [
        "class BankAccount:\n",
        "    def __init__(self, name):\n",
        "        self._balance = 0\n",
        "        self.transactions = []\n",
        "        self.name = name\n",
        "\n",
        "    def deposit(self, amount):\n",
        "        self._balance += amount\n",
        "        self.transactions.append(f\"Deposited: ${amount}\")\n",
        "\n",
        "    def withdraw(self, amount):\n",
        "        if amount <= self._balance:\n",
        "            self._balance -= amount\n",
        "            self.transactions.append(f\"Withdrew: ${amount}\")\n",
        "        else:\n",
        "            print(\"Insufficient funds!\")\n",
        "\n",
        "    @property\n",
        "    def balance(self):\n",
        "        return self._balance\n",
        "\n",
        "    def __str__(self):\n",
        "        return f\"Account: {self.name}, Balance: ${self._balance}\"\n",
        "\n",
        "    def __add__(self, other):\n",
        "        new_account = BankAccount(f\"{self.name}&{other.name}\")\n",
        "        new_account._balance = self._balance + other._balance\n",
        "        new_account.transactions = self.transactions + other.transactions\n",
        "        return new_account\n",
        "\n",
        "\n",
        "# Example usage:\n",
        "acc1 = BankAccount(\"Alice\")\n",
        "acc1.deposit(200)\n",
        "acc1.withdraw(50)\n",
        "\n",
        "acc2 = BankAccount(\"Bob\")\n",
        "acc2.deposit(300)\n",
        "\n",
        "merged_acc = acc1 + acc2\n",
        "\n",
        "print(acc1)\n",
        "print(acc2)\n",
        "print(merged_acc)\n",
        "\n",
        "print(\"Merged Transaction History:\")\n",
        "for t in merged_acc.transactions:\n",
        "    print(\"-\", t)\n"
      ],
      "metadata": {
        "colab": {
          "base_uri": "https://localhost:8080/"
        },
        "id": "QnBiaqGzRB4Z",
        "outputId": "f47d119e-a0e7-4002-e758-7288972590c0"
      },
      "execution_count": 25,
      "outputs": [
        {
          "output_type": "stream",
          "name": "stdout",
          "text": [
            "Account: Alice, Balance: $150\n",
            "Account: Bob, Balance: $300\n",
            "Account: Alice&Bob, Balance: $450\n",
            "Merged Transaction History:\n",
            "- Deposited: $200\n",
            "- Withdrew: $50\n",
            "- Deposited: $300\n"
          ]
        }
      ]
    },
    {
      "cell_type": "markdown",
      "source": [
        "### 🔹 Day 6: Advanced OOP - Part 2\n",
        "- Abstract Classes (`abc` module)\n",
        "- Interfaces\n",
        "- Multiple Inheritance\n",
        "- Mixins\n",
        "\n",
        "Practice:\n",
        "- Shape hierarchy using abstract classes\n",
        "- Create mixin to add JSON serialization"
      ],
      "metadata": {
        "id": "XBdrF6mHR1yi"
      }
    },
    {
      "cell_type": "markdown",
      "source": [
        "🔹 **Abstract Classes**  \n",
        "- Defined using `abc` module (`from abc import ABC, abstractmethod`)\n",
        "- You cannot create an object directly from an abstract class\n",
        "- It enforces that derived classes must implement certain methods"
      ],
      "metadata": {
        "id": "4e0pEv4MpglP"
      }
    },
    {
      "cell_type": "code",
      "source": [
        "from abc import ABC, abstractmethod\n",
        "\n",
        "class Animal(ABC):\n",
        "    @abstractmethod\n",
        "    def sound(self):\n",
        "        pass    # Abstract method has no implementation here\n",
        "\n",
        "class Dog(Animal):\n",
        "    def sound(self):\n",
        "        return \"Bark\""
      ],
      "metadata": {
        "id": "0PobK7PXR2_s"
      },
      "execution_count": 26,
      "outputs": []
    },
    {
      "cell_type": "markdown",
      "source": [
        "**🔹 Interfaces (via Abstract Base Classes)**\n",
        "\n",
        "- Python doesn't have true interfaces like Java or C#, but ABCs can be used similarly\n",
        "\n",
        "- Just define an abstract class with only abstract methods\n",
        "\n",
        "- Any class inheriting from it must implement all of them"
      ],
      "metadata": {
        "id": "v8g8cj7Hpl4U"
      }
    },
    {
      "cell_type": "code",
      "source": [
        "class Printable(ABC):\n",
        "    @abstractmethod\n",
        "    def print_data(self):\n",
        "        pass"
      ],
      "metadata": {
        "id": "LtWLY-UZpsD5"
      },
      "execution_count": 27,
      "outputs": []
    },
    {
      "cell_type": "markdown",
      "source": [
        "**🔹 Multiple Inheritance**\n",
        "\n",
        "- A class can inherit from more than one class\n",
        "\n",
        "- Python handles method conflicts using Method Resolution Order (MRO)"
      ],
      "metadata": {
        "id": "ZKpQZOs-pvph"
      }
    },
    {
      "cell_type": "code",
      "source": [
        "class A:\n",
        "    def greet(self):\n",
        "        print(\"Hello from A\")\n",
        "\n",
        "class B:\n",
        "    def greet(self):\n",
        "        print(\"Hello from B\")\n",
        "\n",
        "class C(A, B):\n",
        "    pass\n",
        "\n",
        "c = C()\n",
        "c.greet()"
      ],
      "metadata": {
        "colab": {
          "base_uri": "https://localhost:8080/"
        },
        "id": "MJgPfk1wpzbh",
        "outputId": "4450ce33-8d54-4a24-fb00-7bb6cea2df6e"
      },
      "execution_count": 28,
      "outputs": [
        {
          "output_type": "stream",
          "name": "stdout",
          "text": [
            "Hello from A\n"
          ]
        }
      ]
    },
    {
      "cell_type": "markdown",
      "source": [
        "🔹 Mixins\n",
        "\n",
        "- A Mixin is a small class with limited functionality\n",
        "\n",
        "- It is not meant to be instantiated directly\n",
        "\n",
        "- Used to “mix in” extra methods to a class"
      ],
      "metadata": {
        "id": "wsPUTJsdp2cm"
      }
    },
    {
      "cell_type": "code",
      "source": [
        "class JsonMixin:\n",
        "    def to_json(self):\n",
        "        import json\n",
        "        return json.dumps(self.__dict__)\n",
        "\n",
        "class User(JsonMixin):\n",
        "    def __init__(self, name, age):\n",
        "        self.name = name\n",
        "        self.age = age\n",
        "\n",
        "u = User(\"Alice\", 30)\n",
        "print(u.to_json())  # Outputs user info as JSON"
      ],
      "metadata": {
        "colab": {
          "base_uri": "https://localhost:8080/"
        },
        "id": "WPfvYxktqlZh",
        "outputId": "7a3f685a-d9cb-490c-d817-e7c2f78077b3"
      },
      "execution_count": 29,
      "outputs": [
        {
          "output_type": "stream",
          "name": "stdout",
          "text": [
            "{\"name\": \"Alice\", \"age\": 30}\n"
          ]
        }
      ]
    },
    {
      "cell_type": "markdown",
      "source": [
        "\n",
        "Practice:\n",
        "- Shape hierarchy using abstract classes\n",
        "- Create mixin to add JSON serialization"
      ],
      "metadata": {
        "id": "XYZU7pKMrWpJ"
      }
    },
    {
      "cell_type": "code",
      "source": [
        "from abc import ABC, abstractmethod\n",
        "import json\n",
        "\n",
        "# Abstract Shape class\n",
        "class Shape(ABC):\n",
        "    @abstractmethod\n",
        "    def area(self):\n",
        "        pass\n",
        "\n",
        "# Mixin for JSON\n",
        "class JsonMixin:\n",
        "    def to_json(self):\n",
        "        return json.dumps(self.__dict__)\n",
        "\n",
        "# Concrete class with mixin\n",
        "class Rectangle(Shape, JsonMixin):\n",
        "    def __init__(self, width, height):\n",
        "        self.width = width\n",
        "        self.height = height\n",
        "\n",
        "    def area(self):\n",
        "        return self.width * self.height\n",
        "\n",
        "# Usage\n",
        "rect = Rectangle(10, 5)\n",
        "print(\"Area:\", rect.area())\n",
        "print(\"As JSON:\", rect.to_json())\n"
      ],
      "metadata": {
        "colab": {
          "base_uri": "https://localhost:8080/"
        },
        "id": "SlbNi-pgrGL0",
        "outputId": "ea80e776-e1a1-4268-f16f-065915951e87"
      },
      "execution_count": 30,
      "outputs": [
        {
          "output_type": "stream",
          "name": "stdout",
          "text": [
            "Area: 50\n",
            "As JSON: {\"width\": 10, \"height\": 5}\n"
          ]
        }
      ]
    },
    {
      "cell_type": "markdown",
      "source": [
        "### 🔹 Day 7: Type Hinting & Annotations\n",
        "- Static typing with `typing` module\n",
        "- `List`, `Dict`, `Optional`, `Union`, `Any`, `Tuple`\n",
        "- Enforce types with tools like `mypy`\n",
        "\n",
        "Practice:\n",
        "- Refactor codebase using type hints\n",
        "- Validate with `mypy`\n",
        "\n",
        "---"
      ],
      "metadata": {
        "id": "t13hncvgs3UG"
      }
    },
    {
      "cell_type": "code",
      "source": [
        "### 🔹 Simple Example of Type Hinting\n",
        "\n",
        "#Type hinting helps us define what type of value a function expects and returns.\n",
        "\n",
        "def add_numbers(a: int, b: int) -> int:\n",
        "    return a + b\n",
        "\n",
        "def greet_user(name: str) -> str:\n",
        "    return f\"Hello, {name}!\"\n",
        "\n",
        "# Using the functions\n",
        "print(add_numbers(5, 3))\n",
        "print(greet_user(\"Ankit\"))"
      ],
      "metadata": {
        "colab": {
          "base_uri": "https://localhost:8080/"
        },
        "id": "CehkG6v6Pxp5",
        "outputId": "b55b72b9-3e48-48ba-9636-6079a03d3d76"
      },
      "execution_count": 31,
      "outputs": [
        {
          "output_type": "stream",
          "name": "stdout",
          "text": [
            "8\n",
            "Hello, Ankit!\n"
          ]
        }
      ]
    },
    {
      "cell_type": "markdown",
      "source": [
        "✅ Topics Covered:\n",
        "- Static typing with the `typing` module\n",
        "- Common types: `List`, `Dict`, `Tuple`, `Optional`, `Union`, `Any`\n",
        "- Enforcing types using tools like `mypy`\n"
      ],
      "metadata": {
        "id": "BONNAuzfMReR"
      }
    },
    {
      "cell_type": "code",
      "source": [
        "from typing import List, Dict, Optional, Union, Any, Tuple\n",
        "\n",
        "#funtion with a string argument and return type\n",
        "def greet(name: str) -> str:\n",
        "    return f\"Hello, {name}!\"\n",
        "\n",
        "#function with a list of integers as argument and return type\n",
        "def sum_list(numbers: List[int]) -> int:\n",
        "    return sum(numbers)\n",
        "\n",
        "# Using the functions\n",
        "print(sum_list([2, 3, 4]))\n",
        "print(greet(\"Ankit\"))"
      ],
      "metadata": {
        "colab": {
          "base_uri": "https://localhost:8080/"
        },
        "id": "W-PBsy78s36J",
        "outputId": "b8d1bcfd-a8e3-440b-b3ad-da208c75499a"
      },
      "execution_count": 32,
      "outputs": [
        {
          "output_type": "stream",
          "name": "stdout",
          "text": [
            "9\n",
            "Hello, Ankit!\n"
          ]
        }
      ]
    },
    {
      "cell_type": "markdown",
      "source": [
        "🧠 Explanation:\n",
        "- `List[int]` means the function expects a list of integers.\n",
        "\n",
        "- `-> int` means it returns an integer.\n",
        "\n",
        "- Function calls must use parentheses (), not square brackets."
      ],
      "metadata": {
        "id": "5LX1iq2yRLUu"
      }
    },
    {
      "cell_type": "markdown",
      "source": [
        "###Practice:"
      ],
      "metadata": {
        "id": "B8XnyQdET5O6"
      }
    },
    {
      "cell_type": "code",
      "source": [
        "from typing import List, Dict, Union, Optional\n",
        "\n",
        "def greet(name: str) -> str:\n",
        "    return f\"Hello, {name}\"\n",
        "\n",
        "def get_scores() -> List[int]:\n",
        "    return [85, 90, 78]\n",
        "\n",
        "def user_profile(user_id: int, name: Optional[str] = None) -> Dict[str, Union[int, str, None]]:\n",
        "    return {\"id\": user_id, \"name\": name}\n",
        "\n",
        "# 🔸 Calling the functions with sample values\n",
        "print(greet(\"Ankit\"))                          # Output: Hello, Ankit\n",
        "print(get_scores())                            # Output: [85, 90, 78]\n",
        "print(user_profile(101, \"Ravi\"))               # Output: {'id': 101, 'name': 'Ravi'}\n",
        "print(user_profile(102))                       # Output: {'id': 102, 'name': None}\n"
      ],
      "metadata": {
        "colab": {
          "base_uri": "https://localhost:8080/"
        },
        "id": "HsSenxoHNwrM",
        "outputId": "69e3848f-975b-45ac-f474-88935b6594e4"
      },
      "execution_count": 33,
      "outputs": [
        {
          "output_type": "stream",
          "name": "stdout",
          "text": [
            "Hello, Ankit\n",
            "[85, 90, 78]\n",
            "{'id': 101, 'name': 'Ravi'}\n",
            "{'id': 102, 'name': None}\n"
          ]
        }
      ]
    },
    {
      "cell_type": "markdown",
      "source": [
        "🧠 Explanation:\n",
        "- `greet(\"Ankit\")` returns a greeting.\n",
        "\n",
        "- `get_scores()` returns a list of integers (simulating exam scores).\n",
        "\n",
        "- `user_profile()` returns a dictionary. If name is not provided, it defaults to None."
      ],
      "metadata": {
        "id": "Y5cawDnxUs9F"
      }
    },
    {
      "cell_type": "markdown",
      "source": [
        "### 🔹 Day 8: Working with Databases\n",
        "- Connect to SQLite / PostgreSQL using `sqlite3` or `psycopg2`\n",
        "- CRUD operations\n",
        "- ORM introduction (SQLAlchemy)\n",
        "\n",
        "Practice:\n",
        "- Build a TODO app with SQLite\n",
        "- Model users and tasks"
      ],
      "metadata": {
        "id": "pX7sXhImU7J7"
      }
    },
    {
      "cell_type": "code",
      "source": [],
      "metadata": {
        "id": "17XNTU2PNw8f"
      },
      "execution_count": 33,
      "outputs": []
    },
    {
      "cell_type": "markdown",
      "source": [
        "### 🔹 Day 9: Multithreading & Multiprocessing\n",
        "- `threading` vs `multiprocessing`\n",
        "- GIL explanation\n",
        "- Thread-safe queues, Pools\n",
        "\n",
        "Practice:\n",
        "- Multithreaded web scraper\n",
        "- Parallel file downloader\n"
      ],
      "metadata": {
        "id": "Mq-imlzhwZi4"
      }
    },
    {
      "cell_type": "markdown",
      "source": [
        "#### 🔹 Concepts:\n",
        "\n",
        "**1. `threading` vs `multiprocessing`**  \n",
        "- `threading`: Multiple threads run within the same process (shared memory). Lightweight, but limited by GIL.  \n",
        "- `multiprocessing`: Each process has its own memory space. Better for CPU-bound tasks.\n",
        "\n",
        "**2. GIL (Global Interpreter Lock):**  \n",
        "- A mutex that allows only one thread to execute Python bytecode at a time.  \n",
        "- Affects multi-threaded performance in CPU-bound tasks (but not I/O-bound ones).\n",
        "\n",
        "**3. Thread-safe Queues:**  \n",
        "- `queue.Queue` is safe to use between threads.  \n",
        "- Useful for producer-consumer patterns.\n",
        "\n",
        "**4. Pools:**  \n",
        "- `multiprocessing.Pool` allows you to manage a pool of worker processes.  \n",
        "- Good for distributing tasks across multiple CPU cores.\n"
      ],
      "metadata": {
        "id": "_ZfJRUXuyH5j"
      }
    },
    {
      "cell_type": "markdown",
      "source": [
        "**🔹 Practice:**\n",
        "\n",
        "**✅ Multithreading Example** (simulating download):"
      ],
      "metadata": {
        "id": "Vi08eufIzniy"
      }
    },
    {
      "cell_type": "code",
      "source": [
        "import threading\n",
        "import time\n",
        "\n",
        "def download_file(filename):\n",
        "    print(f\"Downloading {filename}...\")\n",
        "    time.sleep(2)  # Simulate download time\n",
        "\n",
        "    print(f\"{filename} downloaded!\")\n",
        "\n",
        "files = [\"file1.txt\", \"file2.jpg\", \"file3.pdf\"]\n",
        "\n",
        "threads = []\n",
        "for file in files:\n",
        "    t = threading.Thread(target=download_file, args=(file,))\n",
        "    threads.append(t)\n",
        "    t.start()\n",
        "\n",
        "for t in threads:\n",
        "    t.join()\n",
        "\n",
        "print(\"All downloads complete!\")"
      ],
      "metadata": {
        "colab": {
          "base_uri": "https://localhost:8080/"
        },
        "id": "Ftt4xrGDwabJ",
        "outputId": "5d451de6-1eee-42af-a701-b6dd5cac171d"
      },
      "execution_count": 34,
      "outputs": [
        {
          "output_type": "stream",
          "name": "stdout",
          "text": [
            "Downloading file1.txt...\n",
            "Downloading file2.jpg...\n",
            "Downloading file3.pdf...\n",
            "file1.txt downloaded!\n",
            "file2.jpg downloaded!\n",
            "file3.pdf downloaded!\n",
            "All downloads complete!\n"
          ]
        }
      ]
    },
    {
      "cell_type": "markdown",
      "source": [
        "**✅ Multiprocessing Example** (calculate square):"
      ],
      "metadata": {
        "id": "ZQsqePWn10se"
      }
    },
    {
      "cell_type": "code",
      "source": [
        "import multiprocessing\n",
        "\n",
        "def square(n):\n",
        "    return n * n\n",
        "\n",
        "if __name__ == '__main__':\n",
        "    nums = [13, 42, 43, 74, 85]\n",
        "    with multiprocessing.Pool() as pool:\n",
        "        results = pool.map(square, nums)\n",
        "    print(\"Squares:\", results)"
      ],
      "metadata": {
        "colab": {
          "base_uri": "https://localhost:8080/"
        },
        "id": "yn1utlGz125d",
        "outputId": "fd7dbd35-c7d4-4acd-8c7c-401e13dd7f92"
      },
      "execution_count": 35,
      "outputs": [
        {
          "output_type": "stream",
          "name": "stdout",
          "text": [
            "Squares: [169, 1764, 1849, 5476, 7225]\n"
          ]
        }
      ]
    },
    {
      "cell_type": "markdown",
      "source": [
        "#### 🔹 Practice Tasks:\n",
        "\n",
        "**1. Multithreaded Web Scraper**  \n",
        "- Use the `threading` module  \n",
        "- Fetch multiple web pages concurrently  \n",
        "- Measure time to see performance gain over single-threaded scraping  \n",
        "- Use `requests` or `httpx` for HTTP requests  \n",
        "- Use `queue.Queue` to manage task distribution\n",
        "\n",
        "**2. Parallel File Downloader**  \n",
        "- Use `multiprocessing.Pool` for downloading files in parallel  \n",
        "- Simulate downloading from multiple URLs  \n",
        "- Use `urllib.request.urlretrieve()` or `requests.get()`  \n",
        "- Ensure each process handles its own file saving"
      ],
      "metadata": {
        "id": "Wq9imD353wDP"
      }
    },
    {
      "cell_type": "markdown",
      "source": [
        "### 🔹 Day 10: Async Programming\n",
        "- `async` / `await` keywords\n",
        "- `asyncio` module\n",
        "- Event loop\n",
        "\n",
        "Practice:\n",
        "- Async API calls\n",
        "- Async timer app"
      ],
      "metadata": {
        "id": "O2URivS94cmI"
      }
    },
    {
      "cell_type": "markdown",
      "source": [
        "✅ Concepts:\n",
        "\n",
        "**async / await**  \n",
        "Used to define and wait for asynchronous functions that run without blocking the main thread.\n",
        "\n",
        "**asyncio module**  \n",
        "Built-in Python module for writing concurrent code using the async/await syntax.\n",
        "\n",
        "**Event Loop**  \n",
        "Controls the execution of asynchronous tasks. It schedules and runs them efficiently.\n",
        "\n",
        "---\n",
        "\n",
        "✅ Practice Ideas:\n",
        "\n",
        "- Simulate async web requests  \n",
        "- Fetch data concurrently using `asyncio.gather()`  \n",
        "- Delay execution using `await asyncio.sleep(seconds)`\n"
      ],
      "metadata": {
        "id": "PWrkOT2H5A0q"
      }
    },
    {
      "cell_type": "code",
      "source": [
        "import asyncio\n",
        "\n",
        "async def say_hello():\n",
        "    await asyncio.sleep(1)\n",
        "    print(\"Hello\")\n",
        "\n",
        "async def say_world():\n",
        "    await asyncio.sleep(1)\n",
        "    print(\"World\")\n",
        "\n",
        "# Run using this method in Jupyter or Colab\n",
        "await asyncio.gather(say_hello(), say_world())\n"
      ],
      "metadata": {
        "colab": {
          "base_uri": "https://localhost:8080/"
        },
        "id": "Amv-PcaE7qR8",
        "outputId": "d65b8e21-2149-4146-db20-f04e3da6a88d"
      },
      "execution_count": 36,
      "outputs": [
        {
          "output_type": "stream",
          "name": "stdout",
          "text": [
            "Hello\n",
            "World\n"
          ]
        },
        {
          "output_type": "execute_result",
          "data": {
            "text/plain": [
              "[None, None]"
            ]
          },
          "metadata": {},
          "execution_count": 36
        }
      ]
    },
    {
      "cell_type": "markdown",
      "source": [
        "### 🔹 Day 11: Regular Expressions (Regex)\n",
        "- `re` module\n",
        "- Search, match, findall, sub\n",
        "- Pattern syntax\n",
        "\n",
        "Practice:\n",
        "- Email & phone number extractor\n",
        "- Simple data validator\n"
      ],
      "metadata": {
        "id": "v07XboCu8SoJ"
      }
    },
    {
      "cell_type": "markdown",
      "source": [
        "### 🔹 Concepts:\n",
        "\n",
        "- **`re` module**: Built-in Python module for regular expressions.\n",
        "\n",
        "---\n",
        "\n",
        "### 🔹 Common Functions:\n",
        "\n",
        "- `re.search()` → Search for pattern anywhere in the string.\n",
        "- `re.match()` → Match pattern from the beginning of the string.\n",
        "- `re.findall()` → Find all occurrences of the pattern.\n",
        "- `re.sub()` → Substitute/replace matching patterns in a string.\n",
        "\n",
        "---\n",
        "\n",
        "### 🔹 Pattern Syntax:\n",
        "\n",
        "- `\\d` → digit (0–9)    \n",
        "- `\\w` → word (letters, digits, underscore)  \n",
        "- `\\s` → whitespace (spaces, tabs, newlines)  \n",
        "- `.` → any character except newline  \n",
        "- `^` → start of string  \n",
        "- `$` → end of string  \n",
        "- `+` → one or more  \n",
        "- `*` → zero or more  \n",
        "- `?` → zero or one  \n"
      ],
      "metadata": {
        "id": "UsWmOnldBEV5"
      }
    },
    {
      "cell_type": "markdown",
      "source": [
        "🔹 **Practice Ideas:**\n",
        "\n",
        "1. Email Extractor:"
      ],
      "metadata": {
        "id": "MGe5YubWFCgA"
      }
    },
    {
      "cell_type": "code",
      "source": [
        "import re\n",
        "text = \"Contact us at support@example.com or admin@domain.org\"\n",
        "emails = re.findall(r'\\b[\\w.-]+@[\\w.-]+\\.\\w+\\b', text)\n",
        "print(emails)"
      ],
      "metadata": {
        "colab": {
          "base_uri": "https://localhost:8080/"
        },
        "id": "iXrUqeT18VUI",
        "outputId": "e213b1f4-f0c7-4d29-d087-e3fc5f2cf229"
      },
      "execution_count": 37,
      "outputs": [
        {
          "output_type": "stream",
          "name": "stdout",
          "text": [
            "['support@example.com', 'admin@domain.org']\n"
          ]
        }
      ]
    },
    {
      "cell_type": "markdown",
      "source": [
        "2. Phone Number Extractor:"
      ],
      "metadata": {
        "id": "R6d8WVtQGpKn"
      }
    },
    {
      "cell_type": "code",
      "source": [
        "text = \"Call me at 987-654-3210 or 1234567890\"\n",
        "phones = re.findall(r'\\b\\d{3}[-.]?\\d{3}[-.]?\\d{4}\\b', text)\n",
        "print(phones)"
      ],
      "metadata": {
        "colab": {
          "base_uri": "https://localhost:8080/"
        },
        "id": "aah6kDcDFP-p",
        "outputId": "4acca9ce-54c3-4128-b2bd-936c8880bc05"
      },
      "execution_count": 38,
      "outputs": [
        {
          "output_type": "stream",
          "name": "stdout",
          "text": [
            "['987-654-3210', '1234567890']\n"
          ]
        }
      ]
    },
    {
      "cell_type": "markdown",
      "source": [
        "3. Simple Validator:"
      ],
      "metadata": {
        "id": "DQrUUPQdHPpG"
      }
    },
    {
      "cell_type": "code",
      "source": [
        "def is_valid_username(name):\n",
        "    return bool(re.fullmatch(r'[A-Za-z0-9_]{4,15}', name))\n",
        "\n",
        "print(is_valid_username(\"User_123\"))\n",
        "print(is_valid_username(\"ab!\"))"
      ],
      "metadata": {
        "colab": {
          "base_uri": "https://localhost:8080/"
        },
        "id": "KEn337yhG2dJ",
        "outputId": "62bc14c9-7143-48a6-f267-c7ca2b6a120b"
      },
      "execution_count": 39,
      "outputs": [
        {
          "output_type": "stream",
          "name": "stdout",
          "text": [
            "True\n",
            "False\n"
          ]
        }
      ]
    },
    {
      "cell_type": "markdown",
      "source": [
        "### 🔹 Day 12: File I/O and Advanced JSON/CSV/XML\n",
        "- Read/write files in different formats\n",
        "- `json`, `csv`, `xml.etree`\n",
        "\n",
        "Practice:\n",
        "- Export data to CSV and JSON\n",
        "- Parse an XML config file"
      ],
      "metadata": {
        "id": "thVtY_PLIe8F"
      }
    },
    {
      "cell_type": "markdown",
      "source": [
        "**✅ Concepts:**\n",
        "\n",
        "**Reading / Writing Files:**\n",
        "\n",
        "Use `open(), .read(), .write(), .close(),` or `with open(...)` context manager for safer file handling.\n",
        "\n",
        "**JSON (`json` module):**   ......   (#JavaScript Object Notation)\n",
        "\n",
        "`json.dump()` → Write dictionary to a JSON file.\n",
        "\n",
        "`json.load()` → Read JSON file into a dictionary.\n",
        "\n",
        "**CSV (`csv` module):**\n",
        "\n",
        "`csv.writer()` → Write rows to a CSV file.\n",
        "\n",
        "`csv.reader()` → Read rows from a CSV file.\n",
        "\n",
        "**XML** (`xml.etree.ElementTree`):\n",
        "\n",
        "Parse and extract structured data from XML documents.\n",
        "\n",
        "✅ Practice Ideas:\n",
        "\n",
        "Export a dictionary of student scores to both **CSV** and **JSON**.\n",
        "\n",
        "Parse an **XML configuration file** and print the key settings."
      ],
      "metadata": {
        "id": "SZL2jwbHLZBO"
      }
    },
    {
      "cell_type": "markdown",
      "source": [
        "---\n",
        "✅ JSON & CSV Export + XML Parsing – Example Code\n",
        "---"
      ],
      "metadata": {
        "id": "cI7Az5cXORs7"
      }
    },
    {
      "cell_type": "code",
      "source": [
        "import json\n",
        "import csv\n",
        "import xml.etree.ElementTree as ET\n",
        "\n",
        "# Sample data: student scores\n",
        "students = {\n",
        "    \"Alice\": 85,\n",
        "    \"Bob\": 90,\n",
        "    \"Charlie\": 78\n",
        "}\n",
        "\n",
        "# ✅ Export to JSON\n",
        "with open(\"students.json\", \"w\") as json_file:\n",
        "    json.dump(students, json_file)\n",
        "print(\"✅ JSON file written: students.json\")\n",
        "\n",
        "# ✅ Export to CSV\n",
        "with open(\"students.csv\", \"w\", newline='') as csv_file:\n",
        "    writer = csv.writer(csv_file)\n",
        "    writer.writerow([\"Name\", \"Score\"])\n",
        "    for name, score in students.items():\n",
        "        writer.writerow([name, score])\n",
        "print(\"✅ CSV file written: students.csv\")\n",
        "\n",
        "# ✅ Parse XML config\n",
        "xml_data = '''\n",
        "<config>\n",
        "    <setting name=\"theme\">dark</setting>\n",
        "    <setting name=\"language\">en</setting>\n",
        "</config>\n",
        "'''\n",
        "\n",
        "# Write XML to file\n",
        "with open(\"config.xml\", \"w\") as xml_file:\n",
        "    xml_file.write(xml_data)\n",
        "\n",
        "# Parse the XML\n",
        "tree = ET.parse(\"config.xml\")\n",
        "root = tree.getroot()\n",
        "\n",
        "print(\"\\n🔍 XML Config Settings:\")\n",
        "for setting in root.findall(\"setting\"):\n",
        "    name = setting.get(\"name\")\n",
        "    value = setting.text\n",
        "    print(f\"{name}: {value}\")"
      ],
      "metadata": {
        "colab": {
          "base_uri": "https://localhost:8080/"
        },
        "id": "TcVnyHl4Ig03",
        "outputId": "79059e6c-aef0-4479-e338-41abfdd8721e"
      },
      "execution_count": 40,
      "outputs": [
        {
          "output_type": "stream",
          "name": "stdout",
          "text": [
            "✅ JSON file written: students.json\n",
            "✅ CSV file written: students.csv\n",
            "\n",
            "🔍 XML Config Settings:\n",
            "theme: dark\n",
            "language: en\n"
          ]
        }
      ]
    },
    {
      "cell_type": "markdown",
      "source": [
        "\n",
        "**📂 Files Created:**\n",
        "- `students.json `→ JSON file of student scores\n",
        "\n",
        "- `students.csv` → CSV file with name and score\n",
        "\n",
        "- `config.xml` → Sample XML file parsed using ElementTree"
      ],
      "metadata": {
        "id": "hpXYLcWSTFUE"
      }
    },
    {
      "cell_type": "markdown",
      "source": [
        "### 🔹 Day 13: Unit Testing and Debugging\n",
        "- `unittest`, `pytest`\n",
        "- `assert`, test cases, fixtures\n",
        "- Logging, breakpoints, `pdb`\n",
        "\n",
        "📌 Practice:\n",
        "- Write test cases for calculator app\n",
        "- Debug using Python shell"
      ],
      "metadata": {
        "id": "0e8rDOyKSlMS"
      }
    },
    {
      "cell_type": "markdown",
      "source": [
        "**✅ Concepts:**\n",
        "\n",
        "1. `unittest` and `pytest`:\n",
        "\n",
        "- Python's built-in frameworks for testing your code.\n",
        "\n",
        "- You write test cases to verify your code works as expected.\n",
        "\n",
        "2. `assert` Statement:\n",
        "\n",
        "- Used to check if a condition is `True`.\n",
        "\n",
        "- If `False`, the program throws an **AssertionError**.\n",
        "\n",
        "3. **Test Cases**:\n",
        "\n",
        "- Use classes/methods to organize multiple tests.\n",
        "\n",
        "- `setUp()` method runs before each test — useful for preparation.\n",
        "\n",
        "4. **Fixtures**:\n",
        "\n",
        "- Reusable setup code for tests, especially in `pytest`.\n",
        "\n",
        "5. **Logging**:\n",
        "\n",
        "- Use the **logging** module to print helpful debug/info messages.\n",
        "\n",
        "- More flexible than **print()** statements and supports log levels.\n",
        "\n",
        "6. **Breakpoints** and **pdb**:\n",
        "\n",
        "- Use `import pdb; pdb.set_trace()` to pause your program.\n",
        "\n",
        "- Inspect variables and step through code line-by-line manually.\n",
        "\n",
        "**📌 Practice Ideas:**\n",
        "\n",
        "- Write unit tests for a simple calculator class `(add, subtract, multiply, divide`).\n",
        "\n",
        "- Introduce a bug and use pdb to debug it.\n",
        "\n",
        "- Replace `print()` with `logging.debug()` or `logging.info()` to track the flow of execution."
      ],
      "metadata": {
        "id": "c4qP8giEUAjx"
      }
    },
    {
      "cell_type": "code",
      "source": [
        "# calculator.py (Logic in the same cell for Colab)\n",
        "\n",
        "import logging\n",
        "\n",
        "# Set up logging\n",
        "logging.basicConfig(level=logging.INFO)\n",
        "\n",
        "class Calculator:\n",
        "    def add(self, a, b):\n",
        "        logging.info(f\"Adding {a} + {b}\")\n",
        "        return a + b\n",
        "\n",
        "    def subtract(self, a, b):\n",
        "        logging.info(f\"Subtracting {a} - {b}\")\n",
        "        return a - b\n",
        "\n",
        "    def divide(self, a, b):\n",
        "        logging.info(f\"Dividing {a} / {b}\")\n",
        "        if b == 0:\n",
        "            raise ValueError(\"Cannot divide by zero.\")\n",
        "        return a / b\n",
        "\n",
        "\n",
        "# Test the Calculator\n",
        "a = 10\n",
        "b = 34\n",
        "\n",
        "calc = Calculator()\n",
        "print(\"Result:\", calc.divide(a, b))"
      ],
      "metadata": {
        "colab": {
          "base_uri": "https://localhost:8080/"
        },
        "id": "WSfSsH8EWZ10",
        "outputId": "24c3a5d5-5a14-4792-a3c2-72cd7be852eb"
      },
      "execution_count": 41,
      "outputs": [
        {
          "output_type": "stream",
          "name": "stdout",
          "text": [
            "Result: 0.29411764705882354\n"
          ]
        }
      ]
    },
    {
      "cell_type": "markdown",
      "source": [
        "### 🔹 Day 14: Packaging and Publishing\n",
        "- `setup.py`, `__init__.py`\n",
        "- Installing your own packages\n",
        "- Uploading to PyPI\n",
        "\n",
        "Practice:\n",
        "- Create and install your custom utility module\n",
        "- Package and prepare for PyPI\n"
      ],
      "metadata": {
        "id": "V8Rjs7q3MhSh"
      }
    },
    {
      "cell_type": "markdown",
      "source": [
        "✅ **Concepts**\n",
        "\n",
        "- **`setup.py`**: Defines your package metadata and dependencies.\n",
        "- **`__init__.py`**: Marks a directory as a Python package.\n",
        "- **Installing your own packages**: Use `pip install .` or `pip install -e .` for local development.\n",
        "- **Uploading to PyPI**: Use `twine` to upload your package to [https://pypi.org](https://pypi.org)\n",
        "\n",
        "---\n",
        "\n",
        "✅ **Practice Ideas**\n",
        "\n",
        "- ✅ Create a custom utility module (e.g., math_tools)\n",
        "- ✅ Write a `setup.py` and install it locally using `pip install .`\n",
        "- ✅ Package your code and prepare for publishing to PyPI\n",
        "\n",
        "---\n",
        "\n",
        "🛠️ **Basic Example Folder Structure:**\n",
        "\n"
      ],
      "metadata": {
        "id": "u8BQ7Ew0Mz-4"
      }
    },
    {
      "cell_type": "markdown",
      "source": [
        "✅ Folder Structure (create these files):\n",
        "\n",
        "- my_package/\n",
        "- ├── my_module/\n",
        "- │   ├── __init__.py\n",
        "- │   └── calculator.py\n",
        "- ├── setup.py\n",
        "- ├── README.md\n",
        "- └── LICENSE\n"
      ],
      "metadata": {
        "id": "BL3o03-JNifv"
      }
    },
    {
      "cell_type": "markdown",
      "source": [
        "📁 `my_module/calculator.py`"
      ],
      "metadata": {
        "id": "bD1gznhsNm22"
      }
    },
    {
      "cell_type": "code",
      "source": [
        "def add(a, b):\n",
        "    return a + b\n",
        "\n",
        "def subtract(a, b):\n",
        "    return a - b\n"
      ],
      "metadata": {
        "id": "Acyz33HTOjb_"
      },
      "execution_count": 42,
      "outputs": []
    },
    {
      "cell_type": "markdown",
      "source": [
        "##📁 `my_module/__init__.py`"
      ],
      "metadata": {
        "id": "3MxH8MR8O2mS"
      }
    },
    {
      "cell_type": "code",
      "source": [
        "\"from .calculator import add, subtract\""
      ],
      "metadata": {
        "colab": {
          "base_uri": "https://localhost:8080/",
          "height": 36
        },
        "id": "v8214s9AO8fV",
        "outputId": "917fdcdb-762b-46e0-eece-150d7c5aba97"
      },
      "execution_count": 43,
      "outputs": [
        {
          "output_type": "execute_result",
          "data": {
            "text/plain": [
              "'from .calculator import add, subtract'"
            ],
            "application/vnd.google.colaboratory.intrinsic+json": {
              "type": "string"
            }
          },
          "metadata": {},
          "execution_count": 43
        }
      ]
    },
    {
      "cell_type": "markdown",
      "source": [
        "📄 `setup.py`"
      ],
      "metadata": {
        "id": "4rxh1GJYPLxh"
      }
    },
    {
      "cell_type": "code",
      "source": [
        "from setuptools import setup, find_packages\n",
        "\n",
        "\"\"\"setup(\n",
        "    name='my_module',\n",
        "    version='0.1',\n",
        "    packages=find_packages(),\n",
        "    description='A simple calculator module',\n",
        "    author='Your Name',\n",
        "    author_email='you@example.com',\n",
        "    url='https://github.com/yourusername/my_module',\n",
        "    classifiers=[\n",
        "        'Programming Language :: Python :: 3',\n",
        "        'License :: OSI Approved :: MIT License',\n",
        "    ],\n",
        "    python_requires='>=3.6',\n",
        ")\"\"\"\n"
      ],
      "metadata": {
        "id": "rVbFlDOeNuI3",
        "colab": {
          "base_uri": "https://localhost:8080/",
          "height": 70
        },
        "outputId": "07e34b03-9059-4822-b9f7-276b3560c0b3"
      },
      "execution_count": 44,
      "outputs": [
        {
          "output_type": "execute_result",
          "data": {
            "text/plain": [
              "\"setup(\\n    name='my_module',\\n    version='0.1',\\n    packages=find_packages(),\\n    description='A simple calculator module',\\n    author='Your Name',\\n    author_email='you@example.com',\\n    url='https://github.com/yourusername/my_module',\\n    classifiers=[\\n        'Programming Language :: Python :: 3',\\n        'License :: OSI Approved :: MIT License',\\n    ],\\n    python_requires='>=3.6',\\n)\""
            ],
            "application/vnd.google.colaboratory.intrinsic+json": {
              "type": "string"
            }
          },
          "metadata": {},
          "execution_count": 44
        }
      ]
    },
    {
      "cell_type": "markdown",
      "source": [
        "📄 `README.md`"
      ],
      "metadata": {
        "id": "6DLtRKOQP7oH"
      }
    },
    {
      "cell_type": "code",
      "source": [
        "# my_module\n",
        "\n",
        "\"A simple calculator module with `add` and `subtract` functions.\"\n"
      ],
      "metadata": {
        "colab": {
          "base_uri": "https://localhost:8080/",
          "height": 36
        },
        "id": "b_gE5NkgP9wJ",
        "outputId": "a1c64a93-8cb9-44c6-d74d-2036941c2281"
      },
      "execution_count": 45,
      "outputs": [
        {
          "output_type": "execute_result",
          "data": {
            "text/plain": [
              "'A simple calculator module with `add` and `subtract` functions.'"
            ],
            "application/vnd.google.colaboratory.intrinsic+json": {
              "type": "string"
            }
          },
          "metadata": {},
          "execution_count": 45
        }
      ]
    },
    {
      "cell_type": "markdown",
      "source": [
        "📄 `LICENSE`\n",
        "- For example, use MIT License (or any license you prefer). Example:"
      ],
      "metadata": {
        "id": "D5c_mBVRQQCj"
      }
    },
    {
      "cell_type": "code",
      "source": [
        "\"\"\"MIT License\n",
        "Copyright (c) 2024 Your Name\n",
        "...\"\"\"\n"
      ],
      "metadata": {
        "colab": {
          "base_uri": "https://localhost:8080/",
          "height": 36
        },
        "id": "167eiPz4QUJg",
        "outputId": "4628e178-2e58-4095-c4ff-cd46e9043f63"
      },
      "execution_count": 46,
      "outputs": [
        {
          "output_type": "execute_result",
          "data": {
            "text/plain": [
              "'MIT License\\nCopyright (c) 2024 Your Name\\n...'"
            ],
            "application/vnd.google.colaboratory.intrinsic+json": {
              "type": "string"
            }
          },
          "metadata": {},
          "execution_count": 46
        }
      ]
    },
    {
      "cell_type": "markdown",
      "source": [
        "### 🔹 Day 15: Final Project\n",
        "✅ Combine all skills into one capstone project (choose one):\n",
        "\n",
        "- Blog API using FastAPI\n",
        "- Inventory Management System\n",
        "- Portfolio Tracker CLI app\n",
        "- ChatBot with asyncio and OpenAI API\n",
        "\n",
        "---\n",
        "\n"
      ],
      "metadata": {
        "id": "LgB9SgTtoLyk"
      }
    },
    {
      "cell_type": "code",
      "source": [],
      "metadata": {
        "id": "G1J4-NEmT9dL"
      },
      "execution_count": 46,
      "outputs": []
    }
  ]
}