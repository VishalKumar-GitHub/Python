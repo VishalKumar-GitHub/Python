{
  "nbformat": 4,
  "nbformat_minor": 0,
  "metadata": {
    "colab": {
      "provenance": [],
      "gpuType": "V28",
      "authorship_tag": "ABX9TyMmwSNN/e445vwLnX3Arslf",
      "include_colab_link": true
    },
    "kernelspec": {
      "name": "python3",
      "display_name": "Python 3"
    },
    "language_info": {
      "name": "python"
    },
    "accelerator": "TPU"
  },
  "cells": [
    {
      "cell_type": "markdown",
      "metadata": {
        "id": "view-in-github",
        "colab_type": "text"
      },
      "source": [
        "<a href=\"https://colab.research.google.com/github/VishalKumar-GitHub/Python/blob/main/Vishal_Python_Advance_Level.ipynb\" target=\"_parent\"><img src=\"https://colab.research.google.com/assets/colab-badge.svg\" alt=\"Open In Colab\"/></a>"
      ]
    },
    {
      "cell_type": "markdown",
      "source": [
        "## ✅ Python Advanced Level - 15 Days Roadmap\n",
        "\n",
        "### 🔹 Day 1: Advanced Iterators and Generators\n",
        "- Iterators vs Generators\n",
        "- `yield`, `next()`, `iter()`\n",
        "- Generator expressions\n",
        "\n",
        "Practice:\n",
        "- Create a custom iterator class\n",
        "- Build a generator for Fibonacci series"
      ],
      "metadata": {
        "id": "YnR2wrh3o7Ri"
      }
    },
    {
      "cell_type": "markdown",
      "source": [
        "##### ✅ Topics to Learn:\n",
        "- **Iterators vs Generators**:\n",
        "  - Iterator: An object with `__iter__()` and `__next__()` methods.\n",
        "  - Generator: A simpler way to create iterators using the `yield` keyword.\n",
        "\n",
        "- **`yield`**:\n",
        "  - Used in functions to return a generator object.\n",
        "  - Suspends the function’s state, which can be resumed later.\n",
        "\n",
        "- **`next()` & `iter()`**:\n",
        "  - `next(iterator)` → Gets the next item from an iterator.\n",
        "  - `iter(iterable)` → Returns an iterator from an iterable.\n",
        "\n",
        "- **Generator Expressions**:\n",
        "  - Like list comprehensions but with `()` instead of `[]`.\n",
        "  - Lazy evaluation (values generated on the fly).\n",
        "\n",
        "---"
      ],
      "metadata": {
        "id": "BoK416P0pdPt"
      }
    },
    {
      "cell_type": "markdown",
      "source": [
        "✅ 1. Custom Iterator:"
      ],
      "metadata": {
        "id": "PvkQHMf2t8j9"
      }
    },
    {
      "cell_type": "code",
      "source": [
        "# Create a custom iterator class\n",
        "\n",
        "# Define a class to generate even numbers up to a given maximum\n",
        "class EvenNumbers:\n",
        "    def __init__(self, max):\n",
        "        # Start number is initialized to 0\n",
        "        self.num = 0\n",
        "        # Maximum number up to which even numbers will be generated\n",
        "        self.max = max\n",
        "\n",
        "    def __iter__(self):\n",
        "        # Returns the iterator object itself\n",
        "        return self\n",
        "\n",
        "    def __next__(self):\n",
        "        # Stop iteration if the current number exceeds the maximum\n",
        "        if self.num > self.max:\n",
        "            raise StopIteration\n",
        "        # Store current number to return\n",
        "        current = self.num\n",
        "        # Increment by 2 to get the next even number\n",
        "        self.num += 2\n",
        "        return current\n",
        "\n",
        "# Create an instance of the EvenNumbers class with a max of 10\n",
        "evens = EvenNumbers(10)\n",
        "\n",
        "# Iterate over the custom iterator and print even numbers\n",
        "for n in evens:\n",
        "    print(n)"
      ],
      "metadata": {
        "colab": {
          "base_uri": "https://localhost:8080/"
        },
        "id": "caot_s2mo-k_",
        "outputId": "96755023-20bb-4424-ffa6-ff8dee99d7a3"
      },
      "execution_count": null,
      "outputs": [
        {
          "output_type": "stream",
          "name": "stdout",
          "text": [
            "0\n",
            "2\n",
            "4\n",
            "6\n",
            "8\n",
            "10\n"
          ]
        }
      ]
    },
    {
      "cell_type": "markdown",
      "source": [
        "✅ 2. Fibonacci Generator:"
      ],
      "metadata": {
        "id": "f8HXJ48gt55H"
      }
    },
    {
      "cell_type": "code",
      "source": [
        "def fibonacci(limit):\n",
        "    a, b = 0, 1\n",
        "    while a < limit:\n",
        "        yield a\n",
        "        a, b = b, a + b\n",
        "\n",
        "for i in fibonacci(50):\n",
        "    print(i)"
      ],
      "metadata": {
        "colab": {
          "base_uri": "https://localhost:8080/"
        },
        "id": "ChcGNN8Fo-xt",
        "outputId": "fb39ee6f-d87f-4aff-a925-41e827dc66a4"
      },
      "execution_count": null,
      "outputs": [
        {
          "output_type": "stream",
          "name": "stdout",
          "text": [
            "0\n",
            "1\n",
            "1\n",
            "2\n",
            "3\n",
            "5\n",
            "8\n",
            "13\n",
            "21\n",
            "34\n"
          ]
        }
      ]
    },
    {
      "cell_type": "markdown",
      "source": [
        "✅ 3. Generator Expression:"
      ],
      "metadata": {
        "id": "ZEq4-uDCvrb5"
      }
    },
    {
      "cell_type": "code",
      "source": [
        "squares = (x*x for x in range(1, 7))\n",
        "for s in squares:\n",
        "    print(s)"
      ],
      "metadata": {
        "colab": {
          "base_uri": "https://localhost:8080/"
        },
        "id": "Xx2UojF9vveM",
        "outputId": "a1ad26e0-34d5-41b7-d55f-cab878f12a6d"
      },
      "execution_count": null,
      "outputs": [
        {
          "output_type": "stream",
          "name": "stdout",
          "text": [
            "1\n",
            "4\n",
            "9\n",
            "16\n",
            "25\n",
            "36\n"
          ]
        }
      ]
    },
    {
      "cell_type": "markdown",
      "source": [
        "### 🔹 Day 2: Decorators\n",
        "- Function decorators\n",
        "- `@wraps` from `functools`\n",
        "- Chaining decorators\n",
        "\n",
        "Practice:\n",
        "- Timer decorator\n",
        "- Logging decorator\n"
      ],
      "metadata": {
        "id": "gxnCEhqOw8aT"
      }
    },
    {
      "cell_type": "markdown",
      "source": [
        "---\n",
        "🔹 What are Decorators?\n",
        "- Decorators are functions that **modify the behavior** of other functions without changing their code.\n",
        "\n",
        "- They're commonly used for **logging, access control, timing, memoization**, etc."
      ],
      "metadata": {
        "id": "_zy4cGHrt0PP"
      }
    },
    {
      "cell_type": "markdown",
      "source": [
        "🔹 Function Decorators\n",
        "- A decorator is a function that **takes another function** as input and returns a function that **modifies** the behavior of the original function."
      ],
      "metadata": {
        "id": "PkmD6NkguWdb"
      }
    },
    {
      "cell_type": "code",
      "source": [
        "def greet_decorator(func):\n",
        "  def wrapper():\n",
        "    print(\"Before the function call\")\n",
        "    func()\n",
        "    print(\"After the function call\")\n",
        "  return wrapper\n",
        "\n",
        "@greet_decorator\n",
        "def say_hi():\n",
        "  print(\"Hi Ankit\")\n",
        "\n",
        "say_hi()"
      ],
      "metadata": {
        "colab": {
          "base_uri": "https://localhost:8080/"
        },
        "id": "6sYwdyV1w9Hg",
        "outputId": "103d02a4-ca89-4ba7-da4c-c3a5e20d9ab0"
      },
      "execution_count": null,
      "outputs": [
        {
          "output_type": "stream",
          "name": "stdout",
          "text": [
            "Before the function call\n",
            "Hi Ankit\n",
            "After the function call\n"
          ]
        }
      ]
    },
    {
      "cell_type": "markdown",
      "source": [
        "🔹 Using `@wraps` from `functools`\n",
        "- When you decorate a function, the **original function's metadata** (name, docstring, etc.) gets replaced by the decorator. To preserve the original function’s properties, we use `@wraps` from the `functools` module."
      ],
      "metadata": {
        "id": "_thg28C1v8H2"
      }
    },
    {
      "cell_type": "code",
      "source": [
        "from functools import wraps\n",
        "\n",
        "def greet_decorator(func):\n",
        "  @wraps(func)\n",
        "  def wrapper():\n",
        "    print(\"Before the function call\")\n",
        "    func()\n",
        "    print(\"After the function call\")\n",
        "  return wrapper\n",
        "\n",
        "@greet_decorator\n",
        "def say_hi():\n",
        "    \"\"\"Says hi.\"\"\"\n",
        "    print(\"Hi Ankt\")\n",
        "\n",
        "print(say_hi.__name__)  # Output: say_hi\n",
        "print(say_hi.__doc__)   # Output: Says hi."
      ],
      "metadata": {
        "colab": {
          "base_uri": "https://localhost:8080/"
        },
        "id": "5hTLPV5Sw9c5",
        "outputId": "f9ad436c-6b07-4ac0-c88b-c48f9f74d944"
      },
      "execution_count": null,
      "outputs": [
        {
          "output_type": "stream",
          "name": "stdout",
          "text": [
            "say_hi\n",
            "Says hi.\n"
          ]
        }
      ]
    },
    {
      "cell_type": "code",
      "source": [
        "def decorator(func):\n",
        "  @wraps(func)\n",
        "  def wrapper(*args, **kwargs):\n",
        "    print(\"Before the function call\")\n",
        "    result = func(*args, **kwargs)\n",
        "    print(\"After the function call\")\n",
        "\n",
        "    return result\n",
        "  return wrapper\n",
        "\n",
        "@decorator\n",
        "def add(a, b):\n",
        "  return a + b\n",
        "\n",
        "print(add(30, 48))"
      ],
      "metadata": {
        "colab": {
          "base_uri": "https://localhost:8080/"
        },
        "id": "TzDFXDfLw-d3",
        "outputId": "a73ed9ab-3bcc-4361-e61c-3a62b0bd3a48"
      },
      "execution_count": null,
      "outputs": [
        {
          "output_type": "stream",
          "name": "stdout",
          "text": [
            "Before the function call\n",
            "After the function call\n",
            "78\n"
          ]
        }
      ]
    },
    {
      "cell_type": "markdown",
      "source": [
        "🔹Practice: Chaining Multiple Decorators\n",
        "- Multiple decorators can be stacked on a function. The decorators are applied **from bottom to top** (meaning the decorator closest to the function is applied first)."
      ],
      "metadata": {
        "id": "ODZtE2TXyQKg"
      }
    },
    {
      "cell_type": "code",
      "source": [
        "def ankit(func):\n",
        "    def wrapper():\n",
        "        return \"<b>\" + func() + \"</b>\"\n",
        "    return wrapper\n",
        "\n",
        "def vishal(func):\n",
        "    def wrapper():\n",
        "        return \"<i>\" + func() + \"</i>\"\n",
        "    return wrapper\n",
        "\n",
        "@ankit\n",
        "@vishal\n",
        "def get_text():\n",
        "    return \"Hindi\"\n",
        "\n",
        "print(get_text())  # Output: <b><i>Python</i></b>"
      ],
      "metadata": {
        "colab": {
          "base_uri": "https://localhost:8080/"
        },
        "id": "ivbAA-MUyU8H",
        "outputId": "609a4e92-dbbc-477f-a7af-ffd1818beb99"
      },
      "execution_count": null,
      "outputs": [
        {
          "output_type": "stream",
          "name": "stdout",
          "text": [
            "<b><i>Hindi</i></b>\n"
          ]
        }
      ]
    },
    {
      "cell_type": "markdown",
      "source": [
        "🔹 Practice: Timer Decorator and Logging Decorator\n",
        "\n",
        "**Timer Decorator**\n",
        "\n",
        "A **Timer decorator** is used to measure how long a function takes to execute."
      ],
      "metadata": {
        "id": "BC9qO43m11Sa"
      }
    },
    {
      "cell_type": "code",
      "source": [
        "import time\n",
        "from functools import wraps  # ✅ Needed to preserve function metadata\n",
        "\n",
        "# ✅ Timer decorator to measure function execution time\n",
        "def timer(func):\n",
        "    @wraps(func)  # ✅ Keeps original function name, docstring, etc.\n",
        "    def wrapper(*args, **kwargs):\n",
        "        start_time = time.time()  # ✅ Start the timer\n",
        "        result = func(*args, **kwargs)  # ✅ Call the actual function\n",
        "        end_time = time.time()  # ✅ End the timer\n",
        "        print(f\"Function {func.__name__} took {end_time - start_time:.2f} seconds to execute.\")\n",
        "        return result\n",
        "    return wrapper\n",
        "\n",
        "# ✅ Apply the decorator to a slow function\n",
        "@timer\n",
        "def slow_funtion():\n",
        "    time.sleep(2)  # ⏲️ Simulate slow task (2 seconds)\n",
        "    print(\"Slow function finished!\")\n",
        "\n",
        "# ✅ Call the decorated function\n",
        "slow_funtion()"
      ],
      "metadata": {
        "colab": {
          "base_uri": "https://localhost:8080/"
        },
        "id": "V21TpJ6b4sOX",
        "outputId": "f333969c-2715-4622-e379-68f535b4b079"
      },
      "execution_count": null,
      "outputs": [
        {
          "output_type": "stream",
          "name": "stdout",
          "text": [
            "Slow function finished!\n",
            "Function slow_funtion took 2.00 seconds to execute.\n"
          ]
        }
      ]
    },
    {
      "cell_type": "markdown",
      "source": [
        "### 🔹 Day 3: Context Managers\n",
        "- `with` statement\n",
        "- Creating custom context managers using `__enter__` & `__exit__`\n",
        "- `contextlib` module\n",
        "\n",
        "Practice:\n",
        "- File handler with context manager\n",
        "- Custom database connection manager"
      ],
      "metadata": {
        "id": "jemTQBMw5s4C"
      }
    },
    {
      "cell_type": "markdown",
      "source": [
        "🔹 What is a Context Manager?\n",
        "- A context manager is used to **manage resources** like `files, connections,` etc.\n",
        "It ensures setup and cleanup actions are handled automatically.\n",
        "\n",
        "🔹 `with` Statement\n",
        "\n",
        "Instead of:"
      ],
      "metadata": {
        "id": "q122Azk6GCAV"
      }
    },
    {
      "cell_type": "code",
      "source": [
        "file = open(\"data.txt\", \"w\")\n",
        "content = file.write(\"My name is Ankit\")\n",
        "file.close()"
      ],
      "metadata": {
        "id": "iBoj8jO2GqpC"
      },
      "execution_count": null,
      "outputs": []
    },
    {
      "cell_type": "code",
      "source": [
        "file = open(\"data.txt\", \"r\")\n",
        "content = file.read()\n",
        "file.close()"
      ],
      "metadata": {
        "id": "lBXaT5wb5vIO"
      },
      "execution_count": null,
      "outputs": []
    },
    {
      "cell_type": "markdown",
      "source": [
        "Use:"
      ],
      "metadata": {
        "id": "OM1xdk8ZG8ML"
      }
    },
    {
      "cell_type": "code",
      "source": [
        "with open(\"data.txt\", \"w\") as file:\n",
        "    content = file.write(\"My name is Ankit\")"
      ],
      "metadata": {
        "id": "mfr-xYmD5vLU"
      },
      "execution_count": null,
      "outputs": []
    },
    {
      "cell_type": "markdown",
      "source": [
        "✅  Creating custom context managers using `__enter__` and `__exit__`"
      ],
      "metadata": {
        "id": "FPqC6PbMHZAM"
      }
    },
    {
      "cell_type": "code",
      "source": [
        "class Mycontext:\n",
        "  def __enter__(self):  # This method runs when entering the 'with' block\n",
        "    print(\"Entering content...\")\n",
        "    return \"Resource Ready\"  # This value is assigned to the variable 'resource'\n",
        "\n",
        "  def __exit__(self, exc_type, exc_val, exc_tb):  # This method runs when exiting the 'with' block\n",
        "      print(\"Exiting content...\")\n",
        "\n",
        "with Mycontext() as resource:  # Enters the context using __enter__()\n",
        "  print(resource)  # Prints the value returned by __enter__() → \"Resource Ready\""
      ],
      "metadata": {
        "colab": {
          "base_uri": "https://localhost:8080/"
        },
        "id": "FM6PtEuyHdAT",
        "outputId": "023df971-c948-4d73-c778-2adda8000448"
      },
      "execution_count": null,
      "outputs": [
        {
          "output_type": "stream",
          "name": "stdout",
          "text": [
            "Entering content...\n",
            "Resource Ready\n",
            "Exiting content...\n"
          ]
        }
      ]
    },
    {
      "cell_type": "markdown",
      "source": [
        "✅ Using `contextlib` Module"
      ],
      "metadata": {
        "id": "d8K-TmgCK11k"
      }
    },
    {
      "cell_type": "code",
      "source": [
        "from contextlib import contextmanager\n",
        "\n",
        "@contextmanager\n",
        "def my_context():\n",
        "    print(\"Entering content...\")\n",
        "    yield \"Resource Ready\"\n",
        "    print(\"Exiting content...\")\n",
        "\n",
        "with my_context() as resource:\n",
        "    print(resource)"
      ],
      "metadata": {
        "colab": {
          "base_uri": "https://localhost:8080/"
        },
        "id": "2b8JWshfK5Ec",
        "outputId": "d36b2cf2-1757-4c51-ef8b-dda40ac5404a"
      },
      "execution_count": null,
      "outputs": [
        {
          "output_type": "stream",
          "name": "stdout",
          "text": [
            "Entering content...\n",
            "Resource Ready\n",
            "Exiting content...\n"
          ]
        }
      ]
    },
    {
      "cell_type": "markdown",
      "source": [
        "🔹 Practice:\n",
        "\n",
        "1. File Handler with Context Manager"
      ],
      "metadata": {
        "id": "6wdDEJArLxrQ"
      }
    },
    {
      "cell_type": "code",
      "source": [
        "with open(\"data.txt\", \"w\") as file:\n",
        "    file.write(\"My name is Ankit\")\n",
        "    print(\"File written successfully!\")"
      ],
      "metadata": {
        "colab": {
          "base_uri": "https://localhost:8080/"
        },
        "id": "b4vL3AbSL0ps",
        "outputId": "0f34aae1-e62d-4a34-c5ec-dc70557447e9"
      },
      "execution_count": null,
      "outputs": [
        {
          "output_type": "stream",
          "name": "stdout",
          "text": [
            "File written successfully!\n"
          ]
        }
      ]
    },
    {
      "cell_type": "markdown",
      "source": [
        "2. Custom Database Connection Manager (Simulated)"
      ],
      "metadata": {
        "id": "0vGa2OAaMTW5"
      }
    },
    {
      "cell_type": "code",
      "source": [
        "class Dbconnection:\n",
        "  def __enter__(self):\n",
        "    print(\"Connecting to database...\")\n",
        "    return \"Database Connection\"\n",
        "\n",
        "  def __exit__(self, exc_type, exc_val, exc_tb):\n",
        "    print(\"Closing database connection...\")\n",
        "\n",
        "with Dbconnection() as db:\n",
        "  print(db)"
      ],
      "metadata": {
        "colab": {
          "base_uri": "https://localhost:8080/"
        },
        "id": "a7We1X0nMYxw",
        "outputId": "53da2962-a998-40e0-a354-fa90e323cbf4"
      },
      "execution_count": null,
      "outputs": [
        {
          "output_type": "stream",
          "name": "stdout",
          "text": [
            "Connecting to database...\n",
            "Database Connection\n",
            "Closing database connection...\n"
          ]
        }
      ]
    },
    {
      "cell_type": "markdown",
      "source": [
        "### 🔹 Day 4: Closures & Scopes\n",
        "- Local vs Global scope\n",
        "- Enclosing function scope\n",
        "- Closures\n",
        "\n",
        "Practice:\n",
        "- Closure for caching (memoization)\n",
        "- Variable shadowing exercise"
      ],
      "metadata": {
        "id": "_kBQzsYoM7jJ"
      }
    },
    {
      "cell_type": "markdown",
      "source": [
        "✅ Local vs Global Scope:\n",
        "- **Local scope**: Variables declared inside a function. Only accessible there.\n",
        "- **Global scope**: Variables declared outside functions. Accessible throughout the script unless shadowed.\n",
        "\n",
        "✅ Enclosing Function Scope (LEGB Rule):\n",
        "- When a function is inside another function, the inner function has access to variables in the outer function.\n",
        "- Python follows the **LEGB** rule to resolve names: **Local > Enclosing > Global > Built-in**.\n",
        "\n",
        "✅ Closures:\n",
        "- A closure is a function object that remembers values in enclosing scopes even if they are not in memory anymore.\n",
        "- Occurs when an inner function is returned by an outer function and uses its variables.\n",
        "\n",
        "🔹 Practice:"
      ],
      "metadata": {
        "id": "DAM7VUEI6Ng_"
      }
    },
    {
      "cell_type": "code",
      "source": [
        "def outer_function(msg):\n",
        "  def inner_funtion():\n",
        "    print(f\"Message: {msg}\")\n",
        "  return inner_funtion\n",
        "\n",
        "my_func = outer_function(\"Hello, Vishal\")\n",
        "my_func()"
      ],
      "metadata": {
        "id": "HyWveHZhMZAs",
        "colab": {
          "base_uri": "https://localhost:8080/"
        },
        "outputId": "976e273f-85aa-4d9f-f9f2-d633de1e0e21"
      },
      "execution_count": null,
      "outputs": [
        {
          "output_type": "stream",
          "name": "stdout",
          "text": [
            "Message: Hello, Vishal\n"
          ]
        }
      ]
    },
    {
      "cell_type": "code",
      "source": [
        "#fib(0) = 0\n",
        "#fib(1) = 1\n",
        "#fib(2) = fib(1) + fib(0) = 1\n",
        "#fib(3) = fib(2) + fib(1) = 2\n",
        "#fib(4) = fib(3) + fib(2) = 3\n",
        "#...\n",
        "#fib(n) = fib(n-1) + fib(n-2)"
      ],
      "metadata": {
        "id": "TZvawizEAob4"
      },
      "execution_count": null,
      "outputs": []
    },
    {
      "cell_type": "code",
      "source": [
        "# Closure for caching (memoization)\n",
        "def fibonacci():\n",
        "    cache = {}  # This dictionary will store previously calculated Fibonacci numbers\n",
        "\n",
        "    def fib(n):\n",
        "        if n in cache:\n",
        "            return cache[n]  # Return cached result if already calculated\n",
        "\n",
        "        if n <= 1:\n",
        "            result = n       # Base cases: fib(0) = 0, fib(1) = 1\n",
        "        else:\n",
        "            result = fib(n-1) + fib(n-2)  # Recursive call\n",
        "\n",
        "        cache[n] = result   # Save result to cache\n",
        "        return result\n",
        "\n",
        "    return fib\n",
        "\n",
        "fib = fibonacci()\n",
        "print(fib(10))\n"
      ],
      "metadata": {
        "colab": {
          "base_uri": "https://localhost:8080/"
        },
        "id": "2dPcogVk71Ye",
        "outputId": "a82617b6-4c2e-483e-9262-da2ebca43b9b"
      },
      "execution_count": null,
      "outputs": [
        {
          "output_type": "stream",
          "name": "stdout",
          "text": [
            "55\n"
          ]
        }
      ]
    },
    {
      "cell_type": "code",
      "source": [
        "#Variable shadowing exercise\n",
        "x = 10   #This defines a global variable x with value 10.\n",
        "\n",
        "def outer():\n",
        "  x = 20    #Inside outer(), a local variable x is created with value 20.\n",
        "  print(\"Outer x:\", x)    #It shadows the global x\n",
        "\n",
        "  def inner():\n",
        "    x = 30    #Inside inner(), another local variable x is defined with value 30.\n",
        "    print(\"Inner x:\", x)   #It shadows the x from outer() during this function call.\n",
        "\n",
        "  inner()\n",
        "  print(\"Outer x after inner call:\", x)\n",
        "\n",
        "outer()\n",
        "print(\"Global x:\", x)"
      ],
      "metadata": {
        "colab": {
          "base_uri": "https://localhost:8080/"
        },
        "id": "lpmJwFJ2CJiI",
        "outputId": "09b2bdfe-4e89-4f59-b004-a3fcac4a8e35"
      },
      "execution_count": null,
      "outputs": [
        {
          "output_type": "stream",
          "name": "stdout",
          "text": [
            "Outer x: 20\n",
            "Inner x: 30\n",
            "Outer x after inner call: 20\n",
            "Global x: 10\n"
          ]
        }
      ]
    },
    {
      "cell_type": "markdown",
      "source": [
        "### 🔍 Variable Scope Explanation\n",
        "\n",
        "Each `x` exists in a separate scope:\n",
        "\n",
        "- **Global `x` = 10** → Defined at the top of the script.\n",
        "- **Outer function `x` = 20** → Defined inside the `outer()` function. Shadows the global `x` within this function.\n",
        "- **Inner function `x` = 30** → Defined inside the `inner()` function. Shadows the `x` from the enclosing `outer()` function.\n",
        "\n",
        "✅ None of them overwrite each other because they are all **local to their respective scopes**.\n",
        "\n",
        "Python follows the **LEGB rule** when resolving variables:\n",
        "\n",
        "**L**ocal → **E**nclosing → **G**lobal → **B**uilt-in\n"
      ],
      "metadata": {
        "id": "TN-37EPWEYEb"
      }
    },
    {
      "cell_type": "markdown",
      "source": [
        "### 🔹 Day 5: Advanced OOP - Part 1\n",
        "- Class vs Instance vs Static methods\n",
        "- Properties using `@property`\n",
        "- Magic/Dunder methods (`__str__`, `__repr__`, `__eq__`, etc.)\n",
        "\n",
        "#### 🔹 Practice:\n",
        "\n",
        "✅ Create a **BankAccount** class that tracks balance and transaction history.  \n",
        "✅ Use `@property` to safely expose balance.  \n",
        "✅ Overload `+` operator to combine two accounts.  \n",
        "✅ Implement `__str__()` to print account details clearly."
      ],
      "metadata": {
        "id": "XzAW7fyPFBN6"
      }
    },
    {
      "cell_type": "markdown",
      "source": [
        "**Instance Method** (default):\n",
        "\n",
        "- Takes `self` as the first argument. Can access and modify object attributes.\n",
        "\n",
        "Example:"
      ],
      "metadata": {
        "id": "onRt4t6lJ_jW"
      }
    },
    {
      "cell_type": "code",
      "source": [
        "class Ankit:\n",
        "  def greet(self):\n",
        "    print(\"Hello!\")"
      ],
      "metadata": {
        "id": "9fG_TcmqFB2d"
      },
      "execution_count": null,
      "outputs": []
    },
    {
      "cell_type": "markdown",
      "source": [
        "**Class Method**:\n",
        "- Takes `cls` as the first argument. Used to work with the class itself, not instances.\n",
        "\n",
        "- Decorated with `@classmethod`."
      ],
      "metadata": {
        "id": "zfaz8X0IKvkT"
      }
    },
    {
      "cell_type": "code",
      "source": [
        "class Ankit:\n",
        "  count = 0  # Class attribute\n",
        "\n",
        "  @classmethod\n",
        "  def how_many(cls):\n",
        "      return cls.count"
      ],
      "metadata": {
        "id": "aewjUUTtFB6O"
      },
      "execution_count": null,
      "outputs": []
    },
    {
      "cell_type": "markdown",
      "source": [
        "**Static Method**:\n",
        "- Does not take `self` or `cls`. Behaves like a regular function but lives inside the class.\n",
        "\n",
        "- Decorated with `@staticmethod`."
      ],
      "metadata": {
        "id": "w_DoqMX4MDdD"
      }
    },
    {
      "cell_type": "code",
      "source": [
        "class MathUtils:\n",
        "  @staticmethod\n",
        "  def add(a, b):\n",
        "      return a + b"
      ],
      "metadata": {
        "id": "frrcHRf_L_AG"
      },
      "execution_count": null,
      "outputs": []
    },
    {
      "cell_type": "markdown",
      "source": [
        " 2. `@property` **Decorator**\n",
        "\n",
        "- Allows you to **access a method like an attribute**.\n",
        "\n",
        "- Commonly used for **read-only access** or calculated values."
      ],
      "metadata": {
        "id": "dRwXlRhNM0YR"
      }
    },
    {
      "cell_type": "code",
      "source": [
        "class circle:\n",
        "  def __init__(self, radius):\n",
        "    self.radius = radius\n",
        "\n",
        "  @property\n",
        "  def area(self):\n",
        "    return 3.14 * self.radius ** 2\n",
        "\n",
        "c = circle(5)\n",
        "print(c.area)"
      ],
      "metadata": {
        "colab": {
          "base_uri": "https://localhost:8080/"
        },
        "id": "YqC2B6HHM0xR",
        "outputId": "bbd13b56-aa26-42f3-c2b4-6c09bcba916a"
      },
      "execution_count": null,
      "outputs": [
        {
          "output_type": "stream",
          "name": "stdout",
          "text": [
            "78.5\n"
          ]
        }
      ]
    },
    {
      "cell_type": "markdown",
      "source": [
        "**🔹 3. Magic/Dunder Methods**\n",
        "\n",
        "**Dunder = Double Underscore**, e.g., `__str__`, `__repr__`, `__eq__`\n",
        "\n",
        "\n",
        "- `__str__`: Returns a readable string for the user (print() output)\n",
        "\n",
        "- `__repr__`: Returns a developer-friendly string (used in debugging)\n",
        "\n",
        "- `__eq__`: Defines what makes two objects equal (==)\n",
        "\n",
        "Example:"
      ],
      "metadata": {
        "id": "riWrPmBEOgd_"
      }
    },
    {
      "cell_type": "code",
      "source": [
        "class Book:\n",
        "  def __init__(self, title):\n",
        "    self.title = title\n",
        "\n",
        "  def __str__(self):\n",
        "    return f\"Book: {self.title}\"\n",
        "\n",
        "  def __eq__(self, other):\n",
        "    return self.title == other.title\n"
      ],
      "metadata": {
        "id": "eyYbXISbPGtk"
      },
      "execution_count": null,
      "outputs": []
    },
    {
      "cell_type": "markdown",
      "source": [
        "🔹 Practice: Bank Account Class"
      ],
      "metadata": {
        "id": "-WaMcQg3RGYG"
      }
    },
    {
      "cell_type": "code",
      "source": [
        "class BankAccount:\n",
        "    def __init__(self, name):\n",
        "        self._balance = 0\n",
        "        self.transactions = []\n",
        "        self.name = name\n",
        "\n",
        "    def deposit(self, amount):\n",
        "        self._balance += amount\n",
        "        self.transactions.append(f\"Deposited: ${amount}\")\n",
        "\n",
        "    def withdraw(self, amount):\n",
        "        if amount <= self._balance:\n",
        "            self._balance -= amount\n",
        "            self.transactions.append(f\"Withdrew: ${amount}\")\n",
        "        else:\n",
        "            print(\"Insufficient funds!\")\n",
        "\n",
        "    @property\n",
        "    def balance(self):\n",
        "        return self._balance\n",
        "\n",
        "    def __str__(self):\n",
        "        return f\"Account: {self.name}, Balance: ${self._balance}\"\n",
        "\n",
        "    def __add__(self, other):\n",
        "        new_account = BankAccount(f\"{self.name}&{other.name}\")\n",
        "        new_account._balance = self._balance + other._balance\n",
        "        new_account.transactions = self.transactions + other.transactions\n",
        "        return new_account\n",
        "\n",
        "\n",
        "# Example usage:\n",
        "acc1 = BankAccount(\"Alice\")\n",
        "acc1.deposit(200)\n",
        "acc1.withdraw(50)\n",
        "\n",
        "acc2 = BankAccount(\"Bob\")\n",
        "acc2.deposit(300)\n",
        "\n",
        "merged_acc = acc1 + acc2\n",
        "\n",
        "print(acc1)\n",
        "print(acc2)\n",
        "print(merged_acc)\n",
        "\n",
        "print(\"Merged Transaction History:\")\n",
        "for t in merged_acc.transactions:\n",
        "    print(\"-\", t)\n"
      ],
      "metadata": {
        "colab": {
          "base_uri": "https://localhost:8080/"
        },
        "id": "QnBiaqGzRB4Z",
        "outputId": "f47d119e-a0e7-4002-e758-7288972590c0"
      },
      "execution_count": null,
      "outputs": [
        {
          "output_type": "stream",
          "name": "stdout",
          "text": [
            "Account: Alice, Balance: $150\n",
            "Account: Bob, Balance: $300\n",
            "Account: Alice&Bob, Balance: $450\n",
            "Merged Transaction History:\n",
            "- Deposited: $200\n",
            "- Withdrew: $50\n",
            "- Deposited: $300\n"
          ]
        }
      ]
    },
    {
      "cell_type": "markdown",
      "source": [
        "### 🔹 Day 6: Advanced OOP - Part 2\n",
        "- Abstract Classes (`abc` module)\n",
        "- Interfaces\n",
        "- Multiple Inheritance\n",
        "- Mixins\n",
        "\n",
        "Practice:\n",
        "- Shape hierarchy using abstract classes\n",
        "- Create mixin to add JSON serialization"
      ],
      "metadata": {
        "id": "XBdrF6mHR1yi"
      }
    },
    {
      "cell_type": "markdown",
      "source": [
        "🔹 **Abstract Classes**  \n",
        "- Defined using `abc` module (`from abc import ABC, abstractmethod`)\n",
        "- You cannot create an object directly from an abstract class\n",
        "- It enforces that derived classes must implement certain methods"
      ],
      "metadata": {
        "id": "4e0pEv4MpglP"
      }
    },
    {
      "cell_type": "code",
      "source": [
        "from abc import ABC, abstractmethod\n",
        "\n",
        "class Animal(ABC):\n",
        "    @abstractmethod\n",
        "    def sound(self):\n",
        "        pass    # Abstract method has no implementation here\n",
        "\n",
        "class Dog(Animal):\n",
        "    def sound(self):\n",
        "        return \"Bark\""
      ],
      "metadata": {
        "id": "0PobK7PXR2_s"
      },
      "execution_count": null,
      "outputs": []
    },
    {
      "cell_type": "markdown",
      "source": [
        "**🔹 Interfaces (via Abstract Base Classes)**\n",
        "\n",
        "- Python doesn't have true interfaces like Java or C#, but ABCs can be used similarly\n",
        "\n",
        "- Just define an abstract class with only abstract methods\n",
        "\n",
        "- Any class inheriting from it must implement all of them"
      ],
      "metadata": {
        "id": "v8g8cj7Hpl4U"
      }
    },
    {
      "cell_type": "code",
      "source": [
        "class Printable(ABC):\n",
        "    @abstractmethod\n",
        "    def print_data(self):\n",
        "        pass"
      ],
      "metadata": {
        "id": "LtWLY-UZpsD5"
      },
      "execution_count": null,
      "outputs": []
    },
    {
      "cell_type": "markdown",
      "source": [
        "**🔹 Multiple Inheritance**\n",
        "\n",
        "- A class can inherit from more than one class\n",
        "\n",
        "- Python handles method conflicts using Method Resolution Order (MRO)"
      ],
      "metadata": {
        "id": "ZKpQZOs-pvph"
      }
    },
    {
      "cell_type": "code",
      "source": [
        "class A:\n",
        "    def greet(self):\n",
        "        print(\"Hello from A\")\n",
        "\n",
        "class B:\n",
        "    def greet(self):\n",
        "        print(\"Hello from B\")\n",
        "\n",
        "class C(A, B):\n",
        "    pass\n",
        "\n",
        "c = C()\n",
        "c.greet()"
      ],
      "metadata": {
        "colab": {
          "base_uri": "https://localhost:8080/"
        },
        "id": "MJgPfk1wpzbh",
        "outputId": "4450ce33-8d54-4a24-fb00-7bb6cea2df6e"
      },
      "execution_count": null,
      "outputs": [
        {
          "output_type": "stream",
          "name": "stdout",
          "text": [
            "Hello from A\n"
          ]
        }
      ]
    },
    {
      "cell_type": "markdown",
      "source": [
        "🔹 Mixins\n",
        "\n",
        "- A Mixin is a small class with limited functionality\n",
        "\n",
        "- It is not meant to be instantiated directly\n",
        "\n",
        "- Used to “mix in” extra methods to a class"
      ],
      "metadata": {
        "id": "wsPUTJsdp2cm"
      }
    },
    {
      "cell_type": "code",
      "source": [
        "class JsonMixin:\n",
        "    def to_json(self):\n",
        "        import json\n",
        "        return json.dumps(self.__dict__)\n",
        "\n",
        "class User(JsonMixin):\n",
        "    def __init__(self, name, age):\n",
        "        self.name = name\n",
        "        self.age = age\n",
        "\n",
        "u = User(\"Alice\", 30)\n",
        "print(u.to_json())  # Outputs user info as JSON"
      ],
      "metadata": {
        "colab": {
          "base_uri": "https://localhost:8080/"
        },
        "id": "WPfvYxktqlZh",
        "outputId": "7a3f685a-d9cb-490c-d817-e7c2f78077b3"
      },
      "execution_count": null,
      "outputs": [
        {
          "output_type": "stream",
          "name": "stdout",
          "text": [
            "{\"name\": \"Alice\", \"age\": 30}\n"
          ]
        }
      ]
    },
    {
      "cell_type": "markdown",
      "source": [
        "\n",
        "Practice:\n",
        "- Shape hierarchy using abstract classes\n",
        "- Create mixin to add JSON serialization"
      ],
      "metadata": {
        "id": "XYZU7pKMrWpJ"
      }
    },
    {
      "cell_type": "code",
      "source": [
        "from abc import ABC, abstractmethod\n",
        "import json\n",
        "\n",
        "# Abstract Shape class\n",
        "class Shape(ABC):\n",
        "    @abstractmethod\n",
        "    def area(self):\n",
        "        pass\n",
        "\n",
        "# Mixin for JSON\n",
        "class JsonMixin:\n",
        "    def to_json(self):\n",
        "        return json.dumps(self.__dict__)\n",
        "\n",
        "# Concrete class with mixin\n",
        "class Rectangle(Shape, JsonMixin):\n",
        "    def __init__(self, width, height):\n",
        "        self.width = width\n",
        "        self.height = height\n",
        "\n",
        "    def area(self):\n",
        "        return self.width * self.height\n",
        "\n",
        "# Usage\n",
        "rect = Rectangle(10, 5)\n",
        "print(\"Area:\", rect.area())\n",
        "print(\"As JSON:\", rect.to_json())\n"
      ],
      "metadata": {
        "colab": {
          "base_uri": "https://localhost:8080/"
        },
        "id": "SlbNi-pgrGL0",
        "outputId": "ea80e776-e1a1-4268-f16f-065915951e87"
      },
      "execution_count": null,
      "outputs": [
        {
          "output_type": "stream",
          "name": "stdout",
          "text": [
            "Area: 50\n",
            "As JSON: {\"width\": 10, \"height\": 5}\n"
          ]
        }
      ]
    },
    {
      "cell_type": "markdown",
      "source": [
        "### 🔹 Day 7: Type Hinting & Annotations\n",
        "- Static typing with `typing` module\n",
        "- `List`, `Dict`, `Optional`, `Union`, `Any`, `Tuple`\n",
        "- Enforce types with tools like `mypy`\n",
        "\n",
        "Practice:\n",
        "- Refactor codebase using type hints\n",
        "- Validate with `mypy`\n",
        "\n",
        "---"
      ],
      "metadata": {
        "id": "t13hncvgs3UG"
      }
    },
    {
      "cell_type": "code",
      "source": [
        "### 🔹 Simple Example of Type Hinting\n",
        "\n",
        "#Type hinting helps us define what type of value a function expects and returns.\n",
        "\n",
        "def add_numbers(a: int, b: int) -> int:\n",
        "    return a + b\n",
        "\n",
        "def greet_user(name: str) -> str:\n",
        "    return f\"Hello, {name}!\"\n",
        "\n",
        "# Using the functions\n",
        "print(add_numbers(5, 3))\n",
        "print(greet_user(\"Ankit\"))"
      ],
      "metadata": {
        "colab": {
          "base_uri": "https://localhost:8080/"
        },
        "id": "CehkG6v6Pxp5",
        "outputId": "b55b72b9-3e48-48ba-9636-6079a03d3d76"
      },
      "execution_count": null,
      "outputs": [
        {
          "output_type": "stream",
          "name": "stdout",
          "text": [
            "8\n",
            "Hello, Ankit!\n"
          ]
        }
      ]
    },
    {
      "cell_type": "markdown",
      "source": [
        "✅ Topics Covered:\n",
        "- Static typing with the `typing` module\n",
        "- Common types: `List`, `Dict`, `Tuple`, `Optional`, `Union`, `Any`\n",
        "- Enforcing types using tools like `mypy`\n"
      ],
      "metadata": {
        "id": "BONNAuzfMReR"
      }
    },
    {
      "cell_type": "code",
      "source": [
        "from typing import List, Dict, Optional, Union, Any, Tuple\n",
        "\n",
        "#funtion with a string argument and return type\n",
        "def greet(name: str) -> str:\n",
        "    return f\"Hello, {name}!\"\n",
        "\n",
        "#function with a list of integers as argument and return type\n",
        "def sum_list(numbers: List[int]) -> int:\n",
        "    return sum(numbers)\n",
        "\n",
        "# Using the functions\n",
        "print(sum_list([2, 3, 4]))\n",
        "print(greet(\"Ankit\"))"
      ],
      "metadata": {
        "colab": {
          "base_uri": "https://localhost:8080/"
        },
        "id": "W-PBsy78s36J",
        "outputId": "b8d1bcfd-a8e3-440b-b3ad-da208c75499a"
      },
      "execution_count": null,
      "outputs": [
        {
          "output_type": "stream",
          "name": "stdout",
          "text": [
            "9\n",
            "Hello, Ankit!\n"
          ]
        }
      ]
    },
    {
      "cell_type": "markdown",
      "source": [
        "🧠 Explanation:\n",
        "- `List[int]` means the function expects a list of integers.\n",
        "\n",
        "- `-> int` means it returns an integer.\n",
        "\n",
        "- Function calls must use parentheses (), not square brackets."
      ],
      "metadata": {
        "id": "5LX1iq2yRLUu"
      }
    },
    {
      "cell_type": "markdown",
      "source": [
        "###Practice:"
      ],
      "metadata": {
        "id": "B8XnyQdET5O6"
      }
    },
    {
      "cell_type": "code",
      "source": [
        "from typing import List, Dict, Union, Optional\n",
        "\n",
        "def greet(name: str) -> str:\n",
        "    return f\"Hello, {name}\"\n",
        "\n",
        "def get_scores() -> List[int]:\n",
        "    return [85, 90, 78]\n",
        "\n",
        "def user_profile(user_id: int, name: Optional[str] = None) -> Dict[str, Union[int, str, None]]:\n",
        "    return {\"id\": user_id, \"name\": name}\n",
        "\n",
        "# 🔸 Calling the functions with sample values\n",
        "print(greet(\"Ankit\"))                          # Output: Hello, Ankit\n",
        "print(get_scores())                            # Output: [85, 90, 78]\n",
        "print(user_profile(101, \"Ravi\"))               # Output: {'id': 101, 'name': 'Ravi'}\n",
        "print(user_profile(102))                       # Output: {'id': 102, 'name': None}\n"
      ],
      "metadata": {
        "colab": {
          "base_uri": "https://localhost:8080/"
        },
        "id": "HsSenxoHNwrM",
        "outputId": "69e3848f-975b-45ac-f474-88935b6594e4"
      },
      "execution_count": null,
      "outputs": [
        {
          "output_type": "stream",
          "name": "stdout",
          "text": [
            "Hello, Ankit\n",
            "[85, 90, 78]\n",
            "{'id': 101, 'name': 'Ravi'}\n",
            "{'id': 102, 'name': None}\n"
          ]
        }
      ]
    },
    {
      "cell_type": "markdown",
      "source": [
        "🧠 Explanation:\n",
        "- `greet(\"Ankit\")` returns a greeting.\n",
        "\n",
        "- `get_scores()` returns a list of integers (simulating exam scores).\n",
        "\n",
        "- `user_profile()` returns a dictionary. If name is not provided, it defaults to None."
      ],
      "metadata": {
        "id": "Y5cawDnxUs9F"
      }
    },
    {
      "cell_type": "markdown",
      "source": [
        "### 🔹 Day 8: Working with Databases\n",
        "- Connect to SQLite / PostgreSQL using `sqlite3` or `psycopg2`\n",
        "- CRUD operations\n",
        "- ORM introduction (SQLAlchemy)\n",
        "\n",
        "Practice:\n",
        "- Build a TODO app with SQLite\n",
        "- Model users and tasks"
      ],
      "metadata": {
        "id": "pX7sXhImU7J7"
      }
    },
    {
      "cell_type": "code",
      "source": [],
      "metadata": {
        "id": "17XNTU2PNw8f"
      },
      "execution_count": null,
      "outputs": []
    },
    {
      "cell_type": "markdown",
      "source": [
        "### 🔹 Day 9: Multithreading & Multiprocessing\n",
        "- `threading` vs `multiprocessing`\n",
        "- GIL explanation\n",
        "- Thread-safe queues, Pools\n",
        "\n",
        "Practice:\n",
        "- Multithreaded web scraper\n",
        "- Parallel file downloader\n"
      ],
      "metadata": {
        "id": "Mq-imlzhwZi4"
      }
    },
    {
      "cell_type": "markdown",
      "source": [
        "#### 🔹 Concepts:\n",
        "\n",
        "**1. `threading` vs `multiprocessing`**  \n",
        "- `threading`: Multiple threads run within the same process (shared memory). Lightweight, but limited by GIL.  \n",
        "- `multiprocessing`: Each process has its own memory space. Better for CPU-bound tasks.\n",
        "\n",
        "**2. GIL (Global Interpreter Lock):**  \n",
        "- A mutex that allows only one thread to execute Python bytecode at a time.  \n",
        "- Affects multi-threaded performance in CPU-bound tasks (but not I/O-bound ones).\n",
        "\n",
        "**3. Thread-safe Queues:**  \n",
        "- `queue.Queue` is safe to use between threads.  \n",
        "- Useful for producer-consumer patterns.\n",
        "\n",
        "**4. Pools:**  \n",
        "- `multiprocessing.Pool` allows you to manage a pool of worker processes.  \n",
        "- Good for distributing tasks across multiple CPU cores.\n"
      ],
      "metadata": {
        "id": "_ZfJRUXuyH5j"
      }
    },
    {
      "cell_type": "markdown",
      "source": [
        "**🔹 Practice:**\n",
        "\n",
        "**✅ Multithreading Example** (simulating download):"
      ],
      "metadata": {
        "id": "Vi08eufIzniy"
      }
    },
    {
      "cell_type": "code",
      "source": [
        "import threading\n",
        "import time\n",
        "\n",
        "def download_file(filename):\n",
        "    print(f\"Downloading {filename}...\")\n",
        "    time.sleep(2)  # Simulate download time\n",
        "\n",
        "    print(f\"{filename} downloaded!\")\n",
        "\n",
        "files = [\"file1.txt\", \"file2.jpg\", \"file3.pdf\"]\n",
        "\n",
        "threads = []\n",
        "for file in files:\n",
        "    t = threading.Thread(target=download_file, args=(file,))\n",
        "    threads.append(t)\n",
        "    t.start()\n",
        "\n",
        "for t in threads:\n",
        "    t.join()\n",
        "\n",
        "print(\"All downloads complete!\")"
      ],
      "metadata": {
        "colab": {
          "base_uri": "https://localhost:8080/"
        },
        "id": "Ftt4xrGDwabJ",
        "outputId": "5d451de6-1eee-42af-a701-b6dd5cac171d"
      },
      "execution_count": null,
      "outputs": [
        {
          "output_type": "stream",
          "name": "stdout",
          "text": [
            "Downloading file1.txt...\n",
            "Downloading file2.jpg...\n",
            "Downloading file3.pdf...\n",
            "file1.txt downloaded!\n",
            "file2.jpg downloaded!\n",
            "file3.pdf downloaded!\n",
            "All downloads complete!\n"
          ]
        }
      ]
    },
    {
      "cell_type": "markdown",
      "source": [
        "**✅ Multiprocessing Example** (calculate square):"
      ],
      "metadata": {
        "id": "ZQsqePWn10se"
      }
    },
    {
      "cell_type": "code",
      "source": [
        "import multiprocessing\n",
        "\n",
        "def square(n):\n",
        "    return n * n\n",
        "\n",
        "if __name__ == '__main__':\n",
        "    nums = [13, 42, 43, 74, 85]\n",
        "    with multiprocessing.Pool() as pool:\n",
        "        results = pool.map(square, nums)\n",
        "    print(\"Squares:\", results)"
      ],
      "metadata": {
        "colab": {
          "base_uri": "https://localhost:8080/"
        },
        "id": "yn1utlGz125d",
        "outputId": "fd7dbd35-c7d4-4acd-8c7c-401e13dd7f92"
      },
      "execution_count": null,
      "outputs": [
        {
          "output_type": "stream",
          "name": "stdout",
          "text": [
            "Squares: [169, 1764, 1849, 5476, 7225]\n"
          ]
        }
      ]
    },
    {
      "cell_type": "markdown",
      "source": [
        "#### 🔹 Practice Tasks:\n",
        "\n",
        "**1. Multithreaded Web Scraper**  \n",
        "- Use the `threading` module  \n",
        "- Fetch multiple web pages concurrently  \n",
        "- Measure time to see performance gain over single-threaded scraping  \n",
        "- Use `requests` or `httpx` for HTTP requests  \n",
        "- Use `queue.Queue` to manage task distribution\n",
        "\n",
        "**2. Parallel File Downloader**  \n",
        "- Use `multiprocessing.Pool` for downloading files in parallel  \n",
        "- Simulate downloading from multiple URLs  \n",
        "- Use `urllib.request.urlretrieve()` or `requests.get()`  \n",
        "- Ensure each process handles its own file saving"
      ],
      "metadata": {
        "id": "Wq9imD353wDP"
      }
    },
    {
      "cell_type": "markdown",
      "source": [
        "### 🔹 Day 10: Async Programming\n",
        "- `async` / `await` keywords\n",
        "- `asyncio` module\n",
        "- Event loop\n",
        "\n",
        "Practice:\n",
        "- Async API calls\n",
        "- Async timer app"
      ],
      "metadata": {
        "id": "O2URivS94cmI"
      }
    },
    {
      "cell_type": "markdown",
      "source": [
        "✅ Concepts:\n",
        "\n",
        "**async / await**  \n",
        "Used to define and wait for asynchronous functions that run without blocking the main thread.\n",
        "\n",
        "**asyncio module**  \n",
        "Built-in Python module for writing concurrent code using the async/await syntax.\n",
        "\n",
        "**Event Loop**  \n",
        "Controls the execution of asynchronous tasks. It schedules and runs them efficiently.\n",
        "\n",
        "---\n",
        "\n",
        "✅ Practice Ideas:\n",
        "\n",
        "- Simulate async web requests  \n",
        "- Fetch data concurrently using `asyncio.gather()`  \n",
        "- Delay execution using `await asyncio.sleep(seconds)`\n"
      ],
      "metadata": {
        "id": "PWrkOT2H5A0q"
      }
    },
    {
      "cell_type": "code",
      "source": [
        "import asyncio\n",
        "\n",
        "async def say_hello():\n",
        "    await asyncio.sleep(1)\n",
        "    print(\"Hello\")\n",
        "\n",
        "async def say_world():\n",
        "    await asyncio.sleep(1)\n",
        "    print(\"World\")\n",
        "\n",
        "# Run using this method in Jupyter or Colab\n",
        "await asyncio.gather(say_hello(), say_world())\n"
      ],
      "metadata": {
        "colab": {
          "base_uri": "https://localhost:8080/"
        },
        "id": "Amv-PcaE7qR8",
        "outputId": "d65b8e21-2149-4146-db20-f04e3da6a88d"
      },
      "execution_count": null,
      "outputs": [
        {
          "output_type": "stream",
          "name": "stdout",
          "text": [
            "Hello\n",
            "World\n"
          ]
        },
        {
          "output_type": "execute_result",
          "data": {
            "text/plain": [
              "[None, None]"
            ]
          },
          "metadata": {},
          "execution_count": 36
        }
      ]
    },
    {
      "cell_type": "markdown",
      "source": [
        "### 🔹 Day 11: Regular Expressions (Regex)\n",
        "- `re` module\n",
        "- Search, match, findall, sub\n",
        "- Pattern syntax\n",
        "\n",
        "Practice:\n",
        "- Email & phone number extractor\n",
        "- Simple data validator\n"
      ],
      "metadata": {
        "id": "v07XboCu8SoJ"
      }
    },
    {
      "cell_type": "markdown",
      "source": [
        "### 🔹 Concepts:\n",
        "\n",
        "- **`re` module**: Built-in Python module for regular expressions.\n",
        "\n",
        "---\n",
        "\n",
        "### 🔹 Common Functions:\n",
        "\n",
        "- `re.search()` → Search for pattern anywhere in the string.\n",
        "- `re.match()` → Match pattern from the beginning of the string.\n",
        "- `re.findall()` → Find all occurrences of the pattern.\n",
        "- `re.sub()` → Substitute/replace matching patterns in a string.\n",
        "\n",
        "---\n",
        "\n",
        "### 🔹 Pattern Syntax:\n",
        "\n",
        "- `\\d` → digit (0–9)    \n",
        "- `\\w` → word (letters, digits, underscore)  \n",
        "- `\\s` → whitespace (spaces, tabs, newlines)  \n",
        "- `.` → any character except newline  \n",
        "- `^` → start of string  \n",
        "- `$` → end of string  \n",
        "- `+` → one or more  \n",
        "- `*` → zero or more  \n",
        "- `?` → zero or one  \n"
      ],
      "metadata": {
        "id": "UsWmOnldBEV5"
      }
    },
    {
      "cell_type": "markdown",
      "source": [
        "🔹 **Practice Ideas:**\n",
        "\n",
        "1. Email Extractor:"
      ],
      "metadata": {
        "id": "MGe5YubWFCgA"
      }
    },
    {
      "cell_type": "code",
      "source": [
        "import re\n",
        "text = \"Contact us at support@example.com or admin@domain.org\"\n",
        "emails = re.findall(r'\\b[\\w.-]+@[\\w.-]+\\.\\w+\\b', text)\n",
        "print(emails)"
      ],
      "metadata": {
        "colab": {
          "base_uri": "https://localhost:8080/"
        },
        "id": "iXrUqeT18VUI",
        "outputId": "e213b1f4-f0c7-4d29-d087-e3fc5f2cf229"
      },
      "execution_count": null,
      "outputs": [
        {
          "output_type": "stream",
          "name": "stdout",
          "text": [
            "['support@example.com', 'admin@domain.org']\n"
          ]
        }
      ]
    },
    {
      "cell_type": "markdown",
      "source": [
        "2. Phone Number Extractor:"
      ],
      "metadata": {
        "id": "R6d8WVtQGpKn"
      }
    },
    {
      "cell_type": "code",
      "source": [
        "text = \"Call me at 987-654-3210 or 1234567890\"\n",
        "phones = re.findall(r'\\b\\d{3}[-.]?\\d{3}[-.]?\\d{4}\\b', text)\n",
        "print(phones)"
      ],
      "metadata": {
        "colab": {
          "base_uri": "https://localhost:8080/"
        },
        "id": "aah6kDcDFP-p",
        "outputId": "4acca9ce-54c3-4128-b2bd-936c8880bc05"
      },
      "execution_count": null,
      "outputs": [
        {
          "output_type": "stream",
          "name": "stdout",
          "text": [
            "['987-654-3210', '1234567890']\n"
          ]
        }
      ]
    },
    {
      "cell_type": "markdown",
      "source": [
        "3. Simple Validator:"
      ],
      "metadata": {
        "id": "DQrUUPQdHPpG"
      }
    },
    {
      "cell_type": "code",
      "source": [
        "def is_valid_username(name):\n",
        "    return bool(re.fullmatch(r'[A-Za-z0-9_]{4,15}', name))\n",
        "\n",
        "print(is_valid_username(\"User_123\"))\n",
        "print(is_valid_username(\"ab!\"))"
      ],
      "metadata": {
        "colab": {
          "base_uri": "https://localhost:8080/"
        },
        "id": "KEn337yhG2dJ",
        "outputId": "62bc14c9-7143-48a6-f267-c7ca2b6a120b"
      },
      "execution_count": null,
      "outputs": [
        {
          "output_type": "stream",
          "name": "stdout",
          "text": [
            "True\n",
            "False\n"
          ]
        }
      ]
    },
    {
      "cell_type": "markdown",
      "source": [
        "### 🔹 Day 12: File I/O and Advanced JSON/CSV/XML\n",
        "- Read/write files in different formats\n",
        "- `json`, `csv`, `xml.etree`\n",
        "\n",
        "Practice:\n",
        "- Export data to CSV and JSON\n",
        "- Parse an XML config file"
      ],
      "metadata": {
        "id": "thVtY_PLIe8F"
      }
    },
    {
      "cell_type": "markdown",
      "source": [
        "**✅ Concepts:**\n",
        "\n",
        "**Reading / Writing Files:**\n",
        "\n",
        "Use `open(), .read(), .write(), .close(),` or `with open(...)` context manager for safer file handling.\n",
        "\n",
        "**JSON (`json` module):**   ......   (#JavaScript Object Notation)\n",
        "\n",
        "`json.dump()` → Write dictionary to a JSON file.\n",
        "\n",
        "`json.load()` → Read JSON file into a dictionary.\n",
        "\n",
        "**CSV (`csv` module):**\n",
        "\n",
        "`csv.writer()` → Write rows to a CSV file.\n",
        "\n",
        "`csv.reader()` → Read rows from a CSV file.\n",
        "\n",
        "**XML** (`xml.etree.ElementTree`):\n",
        "\n",
        "Parse and extract structured data from XML documents.\n",
        "\n",
        "✅ Practice Ideas:\n",
        "\n",
        "Export a dictionary of student scores to both **CSV** and **JSON**.\n",
        "\n",
        "Parse an **XML configuration file** and print the key settings."
      ],
      "metadata": {
        "id": "SZL2jwbHLZBO"
      }
    },
    {
      "cell_type": "markdown",
      "source": [
        "---\n",
        "✅ JSON & CSV Export + XML Parsing – Example Code\n",
        "---"
      ],
      "metadata": {
        "id": "cI7Az5cXORs7"
      }
    },
    {
      "cell_type": "code",
      "source": [
        "import json\n",
        "import csv\n",
        "import xml.etree.ElementTree as ET\n",
        "\n",
        "# Sample data: student scores\n",
        "students = {\n",
        "    \"Alice\": 85,\n",
        "    \"Bob\": 90,\n",
        "    \"Charlie\": 78\n",
        "}\n",
        "\n",
        "# ✅ Export to JSON\n",
        "with open(\"students.json\", \"w\") as json_file:\n",
        "    json.dump(students, json_file)\n",
        "print(\"✅ JSON file written: students.json\")\n",
        "\n",
        "# ✅ Export to CSV\n",
        "with open(\"students.csv\", \"w\", newline='') as csv_file:\n",
        "    writer = csv.writer(csv_file)\n",
        "    writer.writerow([\"Name\", \"Score\"])\n",
        "    for name, score in students.items():\n",
        "        writer.writerow([name, score])\n",
        "print(\"✅ CSV file written: students.csv\")\n",
        "\n",
        "# ✅ Parse XML config\n",
        "xml_data = '''\n",
        "<config>\n",
        "    <setting name=\"theme\">dark</setting>\n",
        "    <setting name=\"language\">en</setting>\n",
        "</config>\n",
        "'''\n",
        "\n",
        "# Write XML to file\n",
        "with open(\"config.xml\", \"w\") as xml_file:\n",
        "    xml_file.write(xml_data)\n",
        "\n",
        "# Parse the XML\n",
        "tree = ET.parse(\"config.xml\")\n",
        "root = tree.getroot()\n",
        "\n",
        "print(\"\\n🔍 XML Config Settings:\")\n",
        "for setting in root.findall(\"setting\"):\n",
        "    name = setting.get(\"name\")\n",
        "    value = setting.text\n",
        "    print(f\"{name}: {value}\")"
      ],
      "metadata": {
        "colab": {
          "base_uri": "https://localhost:8080/"
        },
        "id": "TcVnyHl4Ig03",
        "outputId": "79059e6c-aef0-4479-e338-41abfdd8721e"
      },
      "execution_count": null,
      "outputs": [
        {
          "output_type": "stream",
          "name": "stdout",
          "text": [
            "✅ JSON file written: students.json\n",
            "✅ CSV file written: students.csv\n",
            "\n",
            "🔍 XML Config Settings:\n",
            "theme: dark\n",
            "language: en\n"
          ]
        }
      ]
    },
    {
      "cell_type": "markdown",
      "source": [
        "\n",
        "**📂 Files Created:**\n",
        "- `students.json `→ JSON file of student scores\n",
        "\n",
        "- `students.csv` → CSV file with name and score\n",
        "\n",
        "- `config.xml` → Sample XML file parsed using ElementTree"
      ],
      "metadata": {
        "id": "hpXYLcWSTFUE"
      }
    },
    {
      "cell_type": "markdown",
      "source": [
        "### 🔹 Day 13: Unit Testing and Debugging\n",
        "- `unittest`, `pytest`\n",
        "- `assert`, test cases, fixtures\n",
        "- Logging, breakpoints, `pdb`\n",
        "\n",
        "📌 Practice:\n",
        "- Write test cases for calculator app\n",
        "- Debug using Python shell"
      ],
      "metadata": {
        "id": "0e8rDOyKSlMS"
      }
    },
    {
      "cell_type": "markdown",
      "source": [
        "**✅ Concepts:**\n",
        "\n",
        "1. `unittest` and `pytest`:\n",
        "\n",
        "- Python's built-in frameworks for testing your code.\n",
        "\n",
        "- You write test cases to verify your code works as expected.\n",
        "\n",
        "2. `assert` Statement:\n",
        "\n",
        "- Used to check if a condition is `True`.\n",
        "\n",
        "- If `False`, the program throws an **AssertionError**.\n",
        "\n",
        "3. **Test Cases**:\n",
        "\n",
        "- Use classes/methods to organize multiple tests.\n",
        "\n",
        "- `setUp()` method runs before each test — useful for preparation.\n",
        "\n",
        "4. **Fixtures**:\n",
        "\n",
        "- Reusable setup code for tests, especially in `pytest`.\n",
        "\n",
        "5. **Logging**:\n",
        "\n",
        "- Use the **logging** module to print helpful debug/info messages.\n",
        "\n",
        "- More flexible than **print()** statements and supports log levels.\n",
        "\n",
        "6. **Breakpoints** and **pdb**:\n",
        "\n",
        "- Use `import pdb; pdb.set_trace()` to pause your program.\n",
        "\n",
        "- Inspect variables and step through code line-by-line manually.\n",
        "\n",
        "**📌 Practice Ideas:**\n",
        "\n",
        "- Write unit tests for a simple calculator class `(add, subtract, multiply, divide`).\n",
        "\n",
        "- Introduce a bug and use pdb to debug it.\n",
        "\n",
        "- Replace `print()` with `logging.debug()` or `logging.info()` to track the flow of execution."
      ],
      "metadata": {
        "id": "c4qP8giEUAjx"
      }
    },
    {
      "cell_type": "code",
      "source": [
        "# calculator.py (Logic in the same cell for Colab)\n",
        "\n",
        "import logging\n",
        "\n",
        "# Set up logging\n",
        "logging.basicConfig(level=logging.INFO)\n",
        "\n",
        "class Calculator:\n",
        "    def add(self, a, b):\n",
        "        logging.info(f\"Adding {a} + {b}\")\n",
        "        return a + b\n",
        "\n",
        "    def subtract(self, a, b):\n",
        "        logging.info(f\"Subtracting {a} - {b}\")\n",
        "        return a - b\n",
        "\n",
        "    def divide(self, a, b):\n",
        "        logging.info(f\"Dividing {a} / {b}\")\n",
        "        if b == 0:\n",
        "            raise ValueError(\"Cannot divide by zero.\")\n",
        "        return a / b\n",
        "\n",
        "\n",
        "# Test the Calculator\n",
        "a = 10\n",
        "b = 34\n",
        "\n",
        "calc = Calculator()\n",
        "print(\"Result:\", calc.divide(a, b))"
      ],
      "metadata": {
        "colab": {
          "base_uri": "https://localhost:8080/"
        },
        "id": "WSfSsH8EWZ10",
        "outputId": "24c3a5d5-5a14-4792-a3c2-72cd7be852eb"
      },
      "execution_count": null,
      "outputs": [
        {
          "output_type": "stream",
          "name": "stdout",
          "text": [
            "Result: 0.29411764705882354\n"
          ]
        }
      ]
    },
    {
      "cell_type": "markdown",
      "source": [
        "### 🔹 Day 14: Packaging and Publishing\n",
        "- `setup.py`, `__init__.py`\n",
        "- Installing your own packages\n",
        "- Uploading to PyPI\n",
        "\n",
        "Practice:\n",
        "- Create and install your custom utility module\n",
        "- Package and prepare for PyPI\n"
      ],
      "metadata": {
        "id": "V8Rjs7q3MhSh"
      }
    },
    {
      "cell_type": "markdown",
      "source": [
        "✅ **Concepts**\n",
        "\n",
        "- **`setup.py`**: Defines your package metadata and dependencies.\n",
        "- **`__init__.py`**: Marks a directory as a Python package.\n",
        "- **Installing your own packages**: Use `pip install .` or `pip install -e .` for local development.\n",
        "- **Uploading to PyPI**: Use `twine` to upload your package to [https://pypi.org](https://pypi.org)\n",
        "\n",
        "---\n",
        "\n",
        "✅ **Practice Ideas**\n",
        "\n",
        "- ✅ Create a custom utility module (e.g., math_tools)\n",
        "- ✅ Write a `setup.py` and install it locally using `pip install .`\n",
        "- ✅ Package your code and prepare for publishing to PyPI\n",
        "\n",
        "---\n",
        "\n",
        "🛠️ **Basic Example Folder Structure:**\n",
        "\n"
      ],
      "metadata": {
        "id": "u8BQ7Ew0Mz-4"
      }
    },
    {
      "cell_type": "markdown",
      "source": [
        "✅ Folder Structure (create these files):\n",
        "\n",
        "- my_package/\n",
        "- ├── my_module/\n",
        "- │   ├── __init__.py\n",
        "- │   └── calculator.py\n",
        "- ├── setup.py\n",
        "- ├── README.md\n",
        "- └── LICENSE\n"
      ],
      "metadata": {
        "id": "BL3o03-JNifv"
      }
    },
    {
      "cell_type": "markdown",
      "source": [
        "📁 `my_module/calculator.py`"
      ],
      "metadata": {
        "id": "bD1gznhsNm22"
      }
    },
    {
      "cell_type": "code",
      "source": [
        "def add(a, b):\n",
        "    return a + b\n",
        "\n",
        "def subtract(a, b):\n",
        "    return a - b\n"
      ],
      "metadata": {
        "id": "Acyz33HTOjb_"
      },
      "execution_count": null,
      "outputs": []
    },
    {
      "cell_type": "markdown",
      "source": [
        "##📁 `my_module/__init__.py`"
      ],
      "metadata": {
        "id": "3MxH8MR8O2mS"
      }
    },
    {
      "cell_type": "code",
      "source": [
        "\"from .calculator import add, subtract\""
      ],
      "metadata": {
        "colab": {
          "base_uri": "https://localhost:8080/",
          "height": 36
        },
        "id": "v8214s9AO8fV",
        "outputId": "917fdcdb-762b-46e0-eece-150d7c5aba97"
      },
      "execution_count": null,
      "outputs": [
        {
          "output_type": "execute_result",
          "data": {
            "text/plain": [
              "'from .calculator import add, subtract'"
            ],
            "application/vnd.google.colaboratory.intrinsic+json": {
              "type": "string"
            }
          },
          "metadata": {},
          "execution_count": 43
        }
      ]
    },
    {
      "cell_type": "markdown",
      "source": [
        "📄 `setup.py`"
      ],
      "metadata": {
        "id": "4rxh1GJYPLxh"
      }
    },
    {
      "cell_type": "code",
      "source": [
        "from setuptools import setup, find_packages\n",
        "\n",
        "\"\"\"setup(\n",
        "    name='my_module',\n",
        "    version='0.1',\n",
        "    packages=find_packages(),\n",
        "    description='A simple calculator module',\n",
        "    author='Your Name',\n",
        "    author_email='you@example.com',\n",
        "    url='https://github.com/yourusername/my_module',\n",
        "    classifiers=[\n",
        "        'Programming Language :: Python :: 3',\n",
        "        'License :: OSI Approved :: MIT License',\n",
        "    ],\n",
        "    python_requires='>=3.6',\n",
        ")\"\"\"\n"
      ],
      "metadata": {
        "id": "rVbFlDOeNuI3",
        "colab": {
          "base_uri": "https://localhost:8080/",
          "height": 70
        },
        "outputId": "07e34b03-9059-4822-b9f7-276b3560c0b3"
      },
      "execution_count": null,
      "outputs": [
        {
          "output_type": "execute_result",
          "data": {
            "text/plain": [
              "\"setup(\\n    name='my_module',\\n    version='0.1',\\n    packages=find_packages(),\\n    description='A simple calculator module',\\n    author='Your Name',\\n    author_email='you@example.com',\\n    url='https://github.com/yourusername/my_module',\\n    classifiers=[\\n        'Programming Language :: Python :: 3',\\n        'License :: OSI Approved :: MIT License',\\n    ],\\n    python_requires='>=3.6',\\n)\""
            ],
            "application/vnd.google.colaboratory.intrinsic+json": {
              "type": "string"
            }
          },
          "metadata": {},
          "execution_count": 44
        }
      ]
    },
    {
      "cell_type": "markdown",
      "source": [
        "📄 `README.md`"
      ],
      "metadata": {
        "id": "6DLtRKOQP7oH"
      }
    },
    {
      "cell_type": "code",
      "source": [
        "# my_module\n",
        "\n",
        "\"A simple calculator module with `add` and `subtract` functions.\"\n"
      ],
      "metadata": {
        "colab": {
          "base_uri": "https://localhost:8080/",
          "height": 36
        },
        "id": "b_gE5NkgP9wJ",
        "outputId": "a1c64a93-8cb9-44c6-d74d-2036941c2281"
      },
      "execution_count": null,
      "outputs": [
        {
          "output_type": "execute_result",
          "data": {
            "text/plain": [
              "'A simple calculator module with `add` and `subtract` functions.'"
            ],
            "application/vnd.google.colaboratory.intrinsic+json": {
              "type": "string"
            }
          },
          "metadata": {},
          "execution_count": 45
        }
      ]
    },
    {
      "cell_type": "markdown",
      "source": [
        "📄 `LICENSE`\n",
        "- For example, use MIT License (or any license you prefer). Example:"
      ],
      "metadata": {
        "id": "D5c_mBVRQQCj"
      }
    },
    {
      "cell_type": "code",
      "source": [
        "\"\"\"MIT License\n",
        "Copyright (c) 2024 Your Name\n",
        "...\"\"\"\n"
      ],
      "metadata": {
        "colab": {
          "base_uri": "https://localhost:8080/",
          "height": 36
        },
        "id": "167eiPz4QUJg",
        "outputId": "4628e178-2e58-4095-c4ff-cd46e9043f63"
      },
      "execution_count": null,
      "outputs": [
        {
          "output_type": "execute_result",
          "data": {
            "text/plain": [
              "'MIT License\\nCopyright (c) 2024 Your Name\\n...'"
            ],
            "application/vnd.google.colaboratory.intrinsic+json": {
              "type": "string"
            }
          },
          "metadata": {},
          "execution_count": 46
        }
      ]
    },
    {
      "cell_type": "markdown",
      "source": [
        "### 🔹 Day 15: Final Project\n",
        "✅ Combine all skills into one capstone project (choose one):\n",
        "\n",
        "- Blog API using FastAPI\n",
        "- Inventory Management System\n",
        "- Portfolio Tracker CLI app\n",
        "- ChatBot with asyncio and OpenAI API\n",
        "\n",
        "---\n",
        "\n"
      ],
      "metadata": {
        "id": "LgB9SgTtoLyk"
      }
    },
    {
      "cell_type": "code",
      "source": [],
      "metadata": {
        "id": "jZmfaL05WFNr"
      },
      "execution_count": null,
      "outputs": []
    },
    {
      "cell_type": "markdown",
      "source": [
        "![image.png](data:image/png;base64,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)"
      ],
      "metadata": {
        "id": "e6t-dUlCVDVG"
      }
    }
  ]
}